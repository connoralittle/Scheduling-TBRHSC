{
 "metadata": {
  "language_info": {
   "codemirror_mode": {
    "name": "ipython",
    "version": 3
   },
   "file_extension": ".py",
   "mimetype": "text/x-python",
   "name": "python",
   "nbconvert_exporter": "python",
   "pygments_lexer": "ipython3",
   "version": "3.8.8"
  },
  "orig_nbformat": 2,
  "kernelspec": {
   "name": "python388jvsc74a57bd0af367eaf69fbdf1eb30afcd013da6fe8c1bbee17759328f4b7aa5bcf4ed7dbc3",
   "display_name": "Python 3.8.8 64-bit ('new_env': conda)"
  }
 },
 "nbformat": 4,
 "nbformat_minor": 2,
 "cells": [
  {
   "source": [
    "# Imports"
   ],
   "cell_type": "markdown",
   "metadata": {}
  },
  {
   "cell_type": "code",
   "execution_count": 1,
   "metadata": {},
   "outputs": [],
   "source": [
    "from ortools.sat.python import cp_model\n",
    "from calendar import monthrange\n",
    "\n",
    "from scheduling_funtions import *\n",
    "from itertools import permutations"
   ]
  },
  {
   "source": [
    "# Creating Data"
   ],
   "cell_type": "markdown",
   "metadata": {}
  },
  {
   "cell_type": "code",
   "execution_count": 2,
   "metadata": {},
   "outputs": [],
   "source": [
    "staff_list = ['Olivia', 'Emma', 'Ava', 'Charlotte', 'Sophia', 'Amelia', 'Isabella', \n",
    "        'Mia', 'Evelyn', 'Harper', 'Camila', 'Gianna','Abigail', 'Luna', 'Ella',\n",
    "        'Elizabeth', 'Sofia', 'Emily', 'Avery', 'Mila']\n",
    "\n",
    "ft_only = [0,0,0,0,0,0,0,0,0,0,0,0,0,0,0,0,0,0,0,0]\n",
    "midnight_only = [0,0,0,0,0,0,0,0,0,0,0,0,0,0,0,0,0,0,0,0]\n",
    "first_six_month_only = [0,0,0,0,0,0,0,0,0,0,0,0,0,0,0,0,0,0,0,0]\n",
    "\n",
    "staff = range(len(staff_list))\n",
    "midnight_staff = list(filter(lambda x: midnight_only[x] == 1, staff))\n",
    "six_month_new_staff = list(filter(lambda x: first_six_month_only[x] == 1, staff))\n",
    "ft_staff = list(filter(lambda x: ft_only[x] == 1, staff))\n",
    "\n",
    "def not_staff(staff_list):\n",
    "    return staff if staff_list == [] else list(set(staff) - set(staff_list))"
   ]
  },
  {
   "cell_type": "code",
   "execution_count": 3,
   "metadata": {},
   "outputs": [],
   "source": [
    "shift_list = ['0700 - 1500',\n",
    "          '0730 - 1530 (FT)',\n",
    "          '0930 - 1730',\n",
    "          '1200 - 2000',\n",
    "          '1400 - 2200',\n",
    "          '1530 - 2330 (FT)',\n",
    "          '1600 - 2400',\n",
    "          '1800 - 0200',\n",
    "          '2000 - 0400',\n",
    "          '2200 - 0400',\n",
    "          '2359 - 0700']\n",
    "\n",
    "shifts = range(len(shift_list))\n",
    "midnight_shifts = [10]\n",
    "late_shifts = shifts[7:10]\n",
    "day_shifts = shifts[:3]\n",
    "afternoon_shifts = shifts[3:7]\n",
    "ft_shifts = [2, 5]\n",
    "\n",
    "def not_shifts(shift_list):\n",
    "    return shifts if shift_list == [] else list(set(shifts) - set(shift_list))"
   ]
  },
  {
   "cell_type": "code",
   "execution_count": 4,
   "metadata": {},
   "outputs": [],
   "source": [
    "planning_period = monthrange(2021, 5)\n",
    "days = range(planning_period[1])"
   ]
  },
  {
   "source": [
    "# Creating the model"
   ],
   "cell_type": "markdown",
   "metadata": {}
  },
  {
   "cell_type": "code",
   "execution_count": 5,
   "metadata": {},
   "outputs": [],
   "source": [
    "model = cp_model.CpModel()"
   ]
  },
  {
   "cell_type": "code",
   "execution_count": 6,
   "metadata": {},
   "outputs": [],
   "source": [
    "#decision variables\n",
    "#staff 'm' works shift 's' on day 'd'\n",
    "works = {(m, d, s) : \\\n",
    "    model.NewBoolVar('works_s%id%is%i' % (m, d, s)) \\\n",
    "    for m in staff \\\n",
    "    for d in days \\\n",
    "    for s in shifts}"
   ]
  },
  {
   "cell_type": "code",
   "execution_count": 7,
   "metadata": {},
   "outputs": [],
   "source": [
    "#intermediate variables\n",
    "#staff 'm' works on day 'd'\n",
    "\n",
    "#This enforces the constraint\n",
    "#No two shifts same day\n",
    "days_assigned = {(m, d) : \\\n",
    "    model.NewBoolVar('days_works_s%id%i' % (m, d)) \\\n",
    "    for m in staff \\\n",
    "    for d in days}\n",
    "\n",
    "for m in staff:\n",
    "  for d in days:\n",
    "    model.Add(days_assigned[(m,d)] == sum(works[(m,d,s)] for s in shifts))"
   ]
  },
  {
   "cell_type": "code",
   "execution_count": 8,
   "metadata": {},
   "outputs": [],
   "source": [
    "#intermediate variables\n",
    "#staff 'm' works on day 'd' on midnight shift 's'\n",
    "midnight_shifts_assigned = {(m, d) : \\\n",
    "    model.NewBoolVar('midnight_s%id%i' % (m, d)) \\\n",
    "    for m in staff \\\n",
    "    for d in days}\n",
    "\n",
    "for m in staff:\n",
    "  for d in days:\n",
    "    model.Add(midnight_shifts_assigned[(m,d)] == sum(works[(m,d,s)] for s in midnight_shifts))"
   ]
  },
  {
   "cell_type": "code",
   "execution_count": 9,
   "metadata": {},
   "outputs": [],
   "source": [
    "#I need to implement XNOR\n",
    "for m in staff:\n",
    "    for d in days[1:]:\n",
    "        model.AddBoolXOr([midnight_shifts_assigned[(m,d)], days_assigned[(m,d)]]).OnlyEnforceIf(midnight_shifts_assigned[(m,d-1)])\n"
   ]
  },
  {
   "cell_type": "code",
   "execution_count": 10,
   "metadata": {},
   "outputs": [],
   "source": [
    "#intermediate variables\n",
    "#staff 'm' works on day 'd' on ft shift 's'\n",
    "ft_shifts_assigned = {(m, d) : \\\n",
    "    model.NewBoolVar('ft_s%id%i' % (m, d)) \\\n",
    "    for m in staff \\\n",
    "    for d in days}\n",
    "\n",
    "for m in staff:\n",
    "  for d in days:\n",
    "    model.Add(ft_shifts_assigned[(m,d)] == sum(works[(m,d,s)] for s in ft_shifts))"
   ]
  },
  {
   "cell_type": "code",
   "execution_count": 11,
   "metadata": {},
   "outputs": [],
   "source": [
    "#intermediate variables\n",
    "#staff 'm' works on day 'd' on late shift 's'\n",
    "late_shifts_assigned = {(m, d) : \\\n",
    "    model.NewBoolVar('late_s%id%i' % (m, d)) \\\n",
    "    for m in staff \\\n",
    "    for d in days}\n",
    "\n",
    "for m in staff:\n",
    "  for d in days:\n",
    "    model.Add(late_shifts_assigned[(m,d)] == sum(works[(m,d,s)] for s in late_shifts))"
   ]
  },
  {
   "cell_type": "code",
   "execution_count": 12,
   "metadata": {},
   "outputs": [],
   "source": [
    "#intermediate variables\n",
    "#staff 'm' works on day 'd' on late shift 's'\n",
    "day_shifts_assigned = {(m, d) : \\\n",
    "    model.NewBoolVar('day_s%id%i' % (m, d)) \\\n",
    "    for m in staff \\\n",
    "    for d in days}\n",
    "\n",
    "for m in staff:\n",
    "  for d in days:\n",
    "    model.Add(day_shifts_assigned[(m,d)] == sum(works[(m,d,s)] for s in day_shifts))"
   ]
  },
  {
   "cell_type": "code",
   "execution_count": 13,
   "metadata": {},
   "outputs": [],
   "source": [
    " obj_int_vars = []\n",
    " obj_int_coeffs = []\n",
    " obj_bool_vars = []\n",
    " obj_bool_coeffs = []"
   ]
  },
  {
   "source": [
    "# Constraints"
   ],
   "cell_type": "markdown",
   "metadata": {}
  },
  {
   "cell_type": "code",
   "execution_count": 14,
   "metadata": {},
   "outputs": [],
   "source": [
    "def all_shifts_taken():\n",
    "  # All shifts should be taken by doctors\n",
    "  # No two doctors in the same shift on the same day\n",
    "  for d in days:\n",
    "      for s in shifts:\n",
    "        constraint = [works[(m,d,s)] \\\n",
    "                      for m in staff]\n",
    "        model.Add(sum(constraint) == 1)\n",
    "\n",
    "def max_days_worked():\n",
    "    # Maximum work 7 consecutive days\n",
    "    # SOFT Work maximum of 5 days in a row\n",
    "    for m in staff:\n",
    "      variables, coeffs = add_soft_sequence_max_constraint(\n",
    "          model = model,\n",
    "          shifts = list(map(lambda x: x.Not(), [days_assigned[m, d] for d in days])),\n",
    "          soft_max = 5,\n",
    "          hard_max = 7,\n",
    "          max_cost = 4,\n",
    "          prefix = \"max_days_in_a_row\"\n",
    "      )\n",
    "      obj_bool_vars.extend(variables)\n",
    "      obj_bool_coeffs.extend(coeffs)\n",
    "\n",
    "def days_off_after_midnight():\n",
    "  # 2 days off after last midnight (except on call shift).\n",
    "  # SOFT 3 days off after midnight. 4 even better\n",
    "\n",
    "  for m in staff:\n",
    "      shifts = [midnight_shifts_assigned2[(m, d)] for d in days]\n",
    "      hard_min = 2\n",
    "      soft_min = 3\n",
    "      min_cost = 2\n",
    "      prefix = \"days_off_after_midnight_shift\"\n",
    "      prior = [1]\n",
    "      prior_shifts = [midnight_shifts_assigned[(m, d)] for d in days]\n",
    "      post = []\n",
    "      post_shifts = []\n",
    "      \n",
    "      for length in range(1, hard_min):\n",
    "          window_size = len(shifts) - length - len(prior) - len(post) + 1\n",
    "          for start in range(window_size):\n",
    "              pred = predicates(start, length, prior,\n",
    "                                prior_shifts, post, post_shifts)\n",
    "              span = bounded_span(shifts[1], start + len(prior),\n",
    "                                  length, prior == [], False)\n",
    "              print(pred)\n",
    "              print(span)\n",
    "              print()\n",
    "              model.Add(sum(span1 + span2) == 2).OnlyEnforceIf(pred)\n",
    "              # model.AddBoolOr(span).OnlyEnforceIf(pred)\n",
    "      \n",
    "      # for d in days[1:]:\n",
    "      #   model.AddBoolAnd([days_assigned[(m,d)], midnight_shifts_assigned[(m,d)]]).OnlyEnforceIf(midnight_shifts_assigned[(m,d-1)])\n",
    "\n",
    "      # variables, coeffs = add_soft_sequence_min_constraint(\n",
    "      #     model = model,\n",
    "      #     shifts = [[midnight_shifts_assigned[(m, d)] for d in days], [days_assigned[(m,d)] for d in days]],\n",
    "      #     hard_min = 2,\n",
    "      #     soft_min = 3,\n",
    "      #     min_cost = 2,\n",
    "      #     prefix = \"days_off_after_midnight_shift\",\n",
    "      #     prior = [1],\n",
    "      #     prior_shifts = [midnight_shifts_assigned[(m, d)] for d in days],\n",
    "      #     division = 1\n",
    "      # )\n",
    "\n",
    "      # obj_bool_vars.extend(variables)\n",
    "      # obj_bool_coeffs.extend(coeffs)\n",
    "      \n",
    "\n",
    "def midnight_physicians():\n",
    "  # Certain physicians work only Midnight shifts\n",
    "  for m in midnight_staff:\n",
    "      constraint = [works[(m,d,s)] \\\n",
    "                  for d in days \\\n",
    "                  for s in not_shifts(midnight_shifts)]\n",
    "\n",
    "      model.Add(sum(constraint) == 0)\n",
    "\n",
    "def no_midnights_within_six_months():\n",
    "  # Certain physicians work only Midnight shifts\n",
    "  for m in midnight_staff:\n",
    "      constraint = [works[(m,d,s)] \\\n",
    "                  for d in days \\\n",
    "                  for s in not_shifts(midnight_shifts)]\n",
    "\n",
    "      model.Add(sum(constraint) == 0)\n",
    "\n",
    "def max_midnights_in_a_row():\n",
    "  # Maximum 2 midnights in a row (except for several physicians who only work midnights)\n",
    "  # SOFT Max 1 midnight in a row\n",
    "  for m in not_staff(midnight_staff):\n",
    "      variables, coeffs = add_soft_sequence_max_constraint(\n",
    "          model = model,\n",
    "          shifts = list(map(lambda x: x.Not(), [midnight_shifts_assigned[m, d] for d in days])),\n",
    "          soft_max = 1,\n",
    "          hard_max = 2,\n",
    "          max_cost = 3,\n",
    "          prefix = \"max_midnight_shifts_in_a_row\"\n",
    "      )\n",
    "      obj_bool_vars.extend(variables)\n",
    "      obj_bool_coeffs.extend(coeffs)\n",
    "\n",
    "def on_call_shift_day_after():\n",
    "  # On call shift - day after rules\n",
    "  return\n",
    "\n",
    "def ft_physicians():\n",
    "  # Certain physicians work only FT shift (0730,1530 shift)\n",
    "  for m in ft_staff:\n",
    "    constraint = [works[(m,d,s)] \\\n",
    "                  for d in days \\\n",
    "                  for s in not_shifts(ft_shifts)]\n",
    "\n",
    "    model.Add(sum(constraint)== 0)\n",
    "\n",
    "def no_late_shift_before_time_off():\n",
    "  # No 2000, 2200, or midnight shift prior to day requested off\n",
    "  return\n",
    "\n",
    "def no_early_shifts_before_on_call():\n",
    "  # Physicians can work the 0930 shifts or earlier prior to working on call. They can work starting no earlier than 11 the day after on call.\n",
    "  return\n",
    "\n",
    "def days_off_after_consecutive_shifts():\n",
    "  # 2 days off after 3 to 7 days of work in a row\n",
    "  for m in staff:\n",
    "      variables, coeffs = add_soft_sequence_constraint(\n",
    "          model = model,\n",
    "          shifts = [days_assigned[m, d] for d in days],\n",
    "          hard_min = 2,\n",
    "          soft_min = 2,\n",
    "          min_cost = 0,\n",
    "          soft_max = 7,\n",
    "          hard_max = 7,\n",
    "          max_cost = 0,\n",
    "          prefix = \"days_off_after_consecutive_shifts\",\n",
    "          prior = [1,1,1]\n",
    "      )\n",
    "      obj_bool_vars.extend(variables)\n",
    "      obj_bool_coeffs.extend(coeffs)"
   ]
  },
  {
   "source": [
    "# Soft Constraints"
   ],
   "cell_type": "markdown",
   "metadata": {}
  },
  {
   "cell_type": "code",
   "execution_count": 15,
   "metadata": {
    "tags": []
   },
   "outputs": [],
   "source": [
    "def transitions_constraints():\n",
    "    # General principle avoid shift times changing too much day to day\n",
    "    # Shifts should have same start time to 2.5 hours later compared to previous shift (the 2 hours later can be relaxed to 3,4 perhaps)\n",
    "    # No shifts that start more than 1.5 hours earlier than the shift on the previous day\n",
    "    penalized_transitions = []\n",
    "\n",
    "    for shift in list(permutations(shift_list, 2)):\n",
    "        t1 = float(shift[0][0:2] + '.' + shift[0][2:4])\n",
    "        t2 = float(shift[1][0:2] + '.' + shift[1][2:4])\n",
    "        if t2 - t1 > 2.5:\n",
    "            penalized_transitions.append(((shift_list.index(shift[0]), shift_list.index(shift[1])), 1))\n",
    "        elif t2 - t1 < -1.5:\n",
    "            penalized_transitions.append(((shift_list.index(shift[0]), shift_list.index(shift[1])), 3))\n",
    "\n",
    "    for (previous_shift, next_shift), cost in penalized_transitions:\n",
    "        for m in staff:\n",
    "            for d in days[:-1]:\n",
    "                transition = [\n",
    "                    works[m, d, previous_shift].Not(), works[m, d + 1, next_shift].Not()\n",
    "                ]\n",
    "                if cost != 0:\n",
    "                    trans_var = model.NewBoolVar(\n",
    "                        'transition (employee=%i, day=%i)' % (m, d))\n",
    "                    transition.append(trans_var)\n",
    "                    model.AddBoolOr(transition)\n",
    "                    obj_bool_vars.append(trans_var)\n",
    "                    obj_bool_coeffs.append(cost)\n",
    "\n",
    "def days_off_between_late_and_day_shifts():\n",
    "    # 3 days off when transitioning from late shift to day shift \n",
    "    for m in staff:\n",
    "        forbid_min(model = model,\n",
    "        shifts = [days_assigned[(m, d)] for d in days],\n",
    "        hard_min = 4,\n",
    "        prior = [1],\n",
    "        post = [1],\n",
    "        prior_shifts = [late_shifts_assigned[(m, d)] for d in days],\n",
    "        post_shifts = [day_shifts_assigned[(m, d)] for d in days])\n",
    "\n",
    "def days_off_between_late_and_afternoon_shifts():\n",
    "    # 2 days off when transitioning from late shift to afternoon shift (although this transition should be avoided) \n",
    "    return\n",
    "\n",
    "def late_shifts_in_a_row():\n",
    "    # 3 late shifts in a row maximum - late shifts are 1800, 2000, 2200. The ability to set what a late shift is would be great. LIkely better to set them  \n",
    "    # as 2000 and 2200. Midnight shift should also be included.\t\t\t\t\t\t\t\t\n",
    "    for m in staff:\n",
    "        variables, coeffs = add_soft_sequence_max_constraint(\n",
    "            model = model,\n",
    "            shifts = [late_shifts_assigned[m, d] for d in days],\n",
    "            soft_max = 3,\n",
    "            hard_max = 3,\n",
    "            max_cost = 3,\n",
    "            prefix = \"max_late_shifts_in_a_row\"\n",
    "        )\n",
    "        obj_bool_vars.extend(variables)\n",
    "        obj_bool_coeffs.extend(coeffs)\n",
    "\n",
    "def late_shifts_in_weeks():\n",
    "    #  5 late shifts in two weeks maximum\n",
    "    for m in staff:\n",
    "        for w in range(days[-1] // 7):\n",
    "            variables, coeffs = add_soft_sum_constraint(\n",
    "                model = model,\n",
    "                shifts = [late_shifts_assigned[m, d + w * 7] for d in range(7)],\n",
    "                hard_min = 0,\n",
    "                soft_min = 0,\n",
    "                min_cost = 0,\n",
    "                soft_max = 3,\n",
    "                hard_max = 3,\n",
    "                max_cost = 3,\n",
    "                prefix=\"max_late_shifts_in_two_weeks\")\n",
    "            obj_int_vars.extend(variables)\n",
    "            obj_int_coeffs.extend(coeffs)\n",
    "\n",
    "def avoid_consecutive_ft_shifts():\n",
    "    # Avoid FT shifts (0730,1530) on consecutive days\n",
    "    for m in not_staff(ft_staff):\n",
    "        variables, coeffs = add_soft_sequence_max_constraint(\n",
    "            model = model,\n",
    "            shifts = [ft_shifts_assigned[(m, d)] for d in days],\n",
    "            soft_max=1,\n",
    "            hard_max=2,\n",
    "            max_cost=1,\n",
    "            prefix=\"avoid_consecutive_shifts\")\n",
    "        obj_int_vars.extend(variables)\n",
    "        obj_int_coeffs.extend(coeffs)"
   ]
  },
  {
   "source": [
    "# Solving the Model"
   ],
   "cell_type": "markdown",
   "metadata": {}
  },
  {
   "cell_type": "code",
   "execution_count": 16,
   "metadata": {},
   "outputs": [
    {
     "output_type": "stream",
     "name": "stdout",
     "text": [
      "[days_works_s0d0(0..1), days_works_s0d1(0..1), days_works_s0d2(0..1)]\n[days_works_s0d3(0..1), <ortools.sat.python.cp_model._NotBooleanVariable object at 0x000001DB3863AD60>]\n\n[days_works_s0d1(0..1), days_works_s0d2(0..1), days_works_s0d3(0..1)]\n[days_works_s0d4(0..1), <ortools.sat.python.cp_model._NotBooleanVariable object at 0x000001DB3863AF40>]\n\n[days_works_s0d2(0..1), days_works_s0d3(0..1), days_works_s0d4(0..1)]\n[days_works_s0d5(0..1), <ortools.sat.python.cp_model._NotBooleanVariable object at 0x000001DB38645160>]\n\n[days_works_s0d3(0..1), days_works_s0d4(0..1), days_works_s0d5(0..1)]\n[days_works_s0d6(0..1), <ortools.sat.python.cp_model._NotBooleanVariable object at 0x000001DB38645340>]\n\n[days_works_s0d4(0..1), days_works_s0d5(0..1), days_works_s0d6(0..1)]\n[days_works_s0d7(0..1), <ortools.sat.python.cp_model._NotBooleanVariable object at 0x000001DB386455E0>]\n\n[days_works_s0d5(0..1), days_works_s0d6(0..1), days_works_s0d7(0..1)]\n[days_works_s0d8(0..1), <ortools.sat.python.cp_model._NotBooleanVariable object at 0x000001DB38645790>]\n\n[days_works_s0d6(0..1), days_works_s0d7(0..1), days_works_s0d8(0..1)]\n[days_works_s0d9(0..1), <ortools.sat.python.cp_model._NotBooleanVariable object at 0x000001DB38645970>]\n\n[days_works_s0d7(0..1), days_works_s0d8(0..1), days_works_s0d9(0..1)]\n[days_works_s0d10(0..1), <ortools.sat.python.cp_model._NotBooleanVariable object at 0x000001DB38645B80>]\n\n[days_works_s0d8(0..1), days_works_s0d9(0..1), days_works_s0d10(0..1)]\n[days_works_s0d11(0..1), <ortools.sat.python.cp_model._NotBooleanVariable object at 0x000001DB38645D90>]\n\n[days_works_s0d9(0..1), days_works_s0d10(0..1), days_works_s0d11(0..1)]\n[days_works_s0d12(0..1), <ortools.sat.python.cp_model._NotBooleanVariable object at 0x000001DB3864A070>]\n\n[days_works_s0d10(0..1), days_works_s0d11(0..1), days_works_s0d12(0..1)]\n[days_works_s0d13(0..1), <ortools.sat.python.cp_model._NotBooleanVariable object at 0x000001DB3864A1F0>]\n\n[days_works_s0d11(0..1), days_works_s0d12(0..1), days_works_s0d13(0..1)]\n[days_works_s0d14(0..1), <ortools.sat.python.cp_model._NotBooleanVariable object at 0x000001DB3864A400>]\n\n[days_works_s0d12(0..1), days_works_s0d13(0..1), days_works_s0d14(0..1)]\n[days_works_s0d15(0..1), <ortools.sat.python.cp_model._NotBooleanVariable object at 0x000001DB3864A610>]\n\n[days_works_s0d13(0..1), days_works_s0d14(0..1), days_works_s0d15(0..1)]\n[days_works_s0d16(0..1), <ortools.sat.python.cp_model._NotBooleanVariable object at 0x000001DB3864A7F0>]\n\n[days_works_s0d14(0..1), days_works_s0d15(0..1), days_works_s0d16(0..1)]\n[days_works_s0d17(0..1), <ortools.sat.python.cp_model._NotBooleanVariable object at 0x000001DB3864AA00>]\n\n[days_works_s0d15(0..1), days_works_s0d16(0..1), days_works_s0d17(0..1)]\n[days_works_s0d18(0..1), <ortools.sat.python.cp_model._NotBooleanVariable object at 0x000001DB3864AC10>]\n\n[days_works_s0d16(0..1), days_works_s0d17(0..1), days_works_s0d18(0..1)]\n[days_works_s0d19(0..1), <ortools.sat.python.cp_model._NotBooleanVariable object at 0x000001DB3864AE20>]\n\n[days_works_s0d17(0..1), days_works_s0d18(0..1), days_works_s0d19(0..1)]\n[days_works_s0d20(0..1), <ortools.sat.python.cp_model._NotBooleanVariable object at 0x000001DB3864E070>]\n\n[days_works_s0d18(0..1), days_works_s0d19(0..1), days_works_s0d20(0..1)]\n[days_works_s0d21(0..1), <ortools.sat.python.cp_model._NotBooleanVariable object at 0x000001DB3864E280>]\n\n[days_works_s0d19(0..1), days_works_s0d20(0..1), days_works_s0d21(0..1)]\n[days_works_s0d22(0..1), <ortools.sat.python.cp_model._NotBooleanVariable object at 0x000001DB3864E490>]\n\n[days_works_s0d20(0..1), days_works_s0d21(0..1), days_works_s0d22(0..1)]\n[days_works_s0d23(0..1), <ortools.sat.python.cp_model._NotBooleanVariable object at 0x000001DB3864E6A0>]\n\n[days_works_s0d21(0..1), days_works_s0d22(0..1), days_works_s0d23(0..1)]\n[days_works_s0d24(0..1), <ortools.sat.python.cp_model._NotBooleanVariable object at 0x000001DB3864E8B0>]\n\n[days_works_s0d22(0..1), days_works_s0d23(0..1), days_works_s0d24(0..1)]\n[days_works_s0d25(0..1), <ortools.sat.python.cp_model._NotBooleanVariable object at 0x000001DB3864EAC0>]\n\n[days_works_s0d23(0..1), days_works_s0d24(0..1), days_works_s0d25(0..1)]\n[days_works_s0d26(0..1), <ortools.sat.python.cp_model._NotBooleanVariable object at 0x000001DB3864ECD0>]\n\n[days_works_s0d24(0..1), days_works_s0d25(0..1), days_works_s0d26(0..1)]\n[days_works_s0d27(0..1), <ortools.sat.python.cp_model._NotBooleanVariable object at 0x000001DB3864EEE0>]\n\n[days_works_s0d25(0..1), days_works_s0d26(0..1), days_works_s0d27(0..1)]\n[days_works_s0d28(0..1), <ortools.sat.python.cp_model._NotBooleanVariable object at 0x000001DB38651130>]\n\n[days_works_s0d26(0..1), days_works_s0d27(0..1), days_works_s0d28(0..1)]\n[days_works_s0d29(0..1), <ortools.sat.python.cp_model._NotBooleanVariable object at 0x000001DB38651340>]\n\n[days_works_s0d27(0..1), days_works_s0d28(0..1), days_works_s0d29(0..1)]\n[days_works_s0d30(0..1)]\n\n[days_works_s1d0(0..1), days_works_s1d1(0..1), days_works_s1d2(0..1)]\n[days_works_s1d3(0..1), <ortools.sat.python.cp_model._NotBooleanVariable object at 0x000001DB38651B80>]\n\n[days_works_s1d1(0..1), days_works_s1d2(0..1), days_works_s1d3(0..1)]\n[days_works_s1d4(0..1), <ortools.sat.python.cp_model._NotBooleanVariable object at 0x000001DB38651D90>]\n\n[days_works_s1d2(0..1), days_works_s1d3(0..1), days_works_s1d4(0..1)]\n[days_works_s1d5(0..1), <ortools.sat.python.cp_model._NotBooleanVariable object at 0x000001DB38658070>]\n\n[days_works_s1d3(0..1), days_works_s1d4(0..1), days_works_s1d5(0..1)]\n[days_works_s1d6(0..1), <ortools.sat.python.cp_model._NotBooleanVariable object at 0x000001DB386581F0>]\n\n[days_works_s1d4(0..1), days_works_s1d5(0..1), days_works_s1d6(0..1)]\n[days_works_s1d7(0..1), <ortools.sat.python.cp_model._NotBooleanVariable object at 0x000001DB38658400>]\n\n[days_works_s1d5(0..1), days_works_s1d6(0..1), days_works_s1d7(0..1)]\n[days_works_s1d8(0..1), <ortools.sat.python.cp_model._NotBooleanVariable object at 0x000001DB38658610>]\n\n[days_works_s1d6(0..1), days_works_s1d7(0..1), days_works_s1d8(0..1)]\n[days_works_s1d9(0..1), <ortools.sat.python.cp_model._NotBooleanVariable object at 0x000001DB38658820>]\n\n[days_works_s1d7(0..1), days_works_s1d8(0..1), days_works_s1d9(0..1)]\n[days_works_s1d10(0..1), <ortools.sat.python.cp_model._NotBooleanVariable object at 0x000001DB38658A30>]\n\n[days_works_s1d8(0..1), days_works_s1d9(0..1), days_works_s1d10(0..1)]\n[days_works_s1d11(0..1), <ortools.sat.python.cp_model._NotBooleanVariable object at 0x000001DB38658C40>]\n\n[days_works_s1d9(0..1), days_works_s1d10(0..1), days_works_s1d11(0..1)]\n[days_works_s1d12(0..1), <ortools.sat.python.cp_model._NotBooleanVariable object at 0x000001DB38658E50>]\n\n[days_works_s1d10(0..1), days_works_s1d11(0..1), days_works_s1d12(0..1)]\n[days_works_s1d13(0..1), <ortools.sat.python.cp_model._NotBooleanVariable object at 0x000001DB3865B0A0>]\n\n[days_works_s1d11(0..1), days_works_s1d12(0..1), days_works_s1d13(0..1)]\n[days_works_s1d14(0..1), <ortools.sat.python.cp_model._NotBooleanVariable object at 0x000001DB3865B2B0>]\n\n[days_works_s1d12(0..1), days_works_s1d13(0..1), days_works_s1d14(0..1)]\n[days_works_s1d15(0..1), <ortools.sat.python.cp_model._NotBooleanVariable object at 0x000001DB3865B4C0>]\n\n[days_works_s1d13(0..1), days_works_s1d14(0..1), days_works_s1d15(0..1)]\n[days_works_s1d16(0..1), <ortools.sat.python.cp_model._NotBooleanVariable object at 0x000001DB3865B6D0>]\n\n[days_works_s1d14(0..1), days_works_s1d15(0..1), days_works_s1d16(0..1)]\n[days_works_s1d17(0..1), <ortools.sat.python.cp_model._NotBooleanVariable object at 0x000001DB3865B8E0>]\n\n[days_works_s1d15(0..1), days_works_s1d16(0..1), days_works_s1d17(0..1)]\n[days_works_s1d18(0..1), <ortools.sat.python.cp_model._NotBooleanVariable object at 0x000001DB3865BAF0>]\n\n[days_works_s1d16(0..1), days_works_s1d17(0..1), days_works_s1d18(0..1)]\n[days_works_s1d19(0..1), <ortools.sat.python.cp_model._NotBooleanVariable object at 0x000001DB3865BD00>]\n\n[days_works_s1d17(0..1), days_works_s1d18(0..1), days_works_s1d19(0..1)]\n[days_works_s1d20(0..1), <ortools.sat.python.cp_model._NotBooleanVariable object at 0x000001DB3865BF10>]\n\n[days_works_s1d18(0..1), days_works_s1d19(0..1), days_works_s1d20(0..1)]\n[days_works_s1d21(0..1), <ortools.sat.python.cp_model._NotBooleanVariable object at 0x000001DB3865F160>]\n\n[days_works_s1d19(0..1), days_works_s1d20(0..1), days_works_s1d21(0..1)]\n[days_works_s1d22(0..1), <ortools.sat.python.cp_model._NotBooleanVariable object at 0x000001DB3865F370>]\n\n[days_works_s1d20(0..1), days_works_s1d21(0..1), days_works_s1d22(0..1)]\n[days_works_s1d23(0..1), <ortools.sat.python.cp_model._NotBooleanVariable object at 0x000001DB3865F580>]\n\n[days_works_s1d21(0..1), days_works_s1d22(0..1), days_works_s1d23(0..1)]\n[days_works_s1d24(0..1), <ortools.sat.python.cp_model._NotBooleanVariable object at 0x000001DB3865F790>]\n\n[days_works_s1d22(0..1), days_works_s1d23(0..1), days_works_s1d24(0..1)]\n[days_works_s1d25(0..1), <ortools.sat.python.cp_model._NotBooleanVariable object at 0x000001DB3865F9A0>]\n\n[days_works_s1d23(0..1), days_works_s1d24(0..1), days_works_s1d25(0..1)]\n[days_works_s1d26(0..1), <ortools.sat.python.cp_model._NotBooleanVariable object at 0x000001DB3865FBB0>]\n\n[days_works_s1d24(0..1), days_works_s1d25(0..1), days_works_s1d26(0..1)]\n[days_works_s1d27(0..1), <ortools.sat.python.cp_model._NotBooleanVariable object at 0x000001DB3865FDC0>]\n\n[days_works_s1d25(0..1), days_works_s1d26(0..1), days_works_s1d27(0..1)]\n[days_works_s1d28(0..1), <ortools.sat.python.cp_model._NotBooleanVariable object at 0x000001DB386640A0>]\n\n[days_works_s1d26(0..1), days_works_s1d27(0..1), days_works_s1d28(0..1)]\n[days_works_s1d29(0..1), <ortools.sat.python.cp_model._NotBooleanVariable object at 0x000001DB38664220>]\n\n[days_works_s1d27(0..1), days_works_s1d28(0..1), days_works_s1d29(0..1)]\n[days_works_s1d30(0..1)]\n\n[days_works_s2d0(0..1), days_works_s2d1(0..1), days_works_s2d2(0..1)]\n[days_works_s2d3(0..1), <ortools.sat.python.cp_model._NotBooleanVariable object at 0x000001DB38664A60>]\n\n[days_works_s2d1(0..1), days_works_s2d2(0..1), days_works_s2d3(0..1)]\n[days_works_s2d4(0..1), <ortools.sat.python.cp_model._NotBooleanVariable object at 0x000001DB38664C70>]\n\n[days_works_s2d2(0..1), days_works_s2d3(0..1), days_works_s2d4(0..1)]\n[days_works_s2d5(0..1), <ortools.sat.python.cp_model._NotBooleanVariable object at 0x000001DB38664E80>]\n\n[days_works_s2d3(0..1), days_works_s2d4(0..1), days_works_s2d5(0..1)]\n[days_works_s2d6(0..1), <ortools.sat.python.cp_model._NotBooleanVariable object at 0x000001DB386680D0>]\n\n[days_works_s2d4(0..1), days_works_s2d5(0..1), days_works_s2d6(0..1)]\n[days_works_s2d7(0..1), <ortools.sat.python.cp_model._NotBooleanVariable object at 0x000001DB386682E0>]\n\n[days_works_s2d5(0..1), days_works_s2d6(0..1), days_works_s2d7(0..1)]\n[days_works_s2d8(0..1), <ortools.sat.python.cp_model._NotBooleanVariable object at 0x000001DB386684F0>]\n\n[days_works_s2d6(0..1), days_works_s2d7(0..1), days_works_s2d8(0..1)]\n[days_works_s2d9(0..1), <ortools.sat.python.cp_model._NotBooleanVariable object at 0x000001DB38668700>]\n\n[days_works_s2d7(0..1), days_works_s2d8(0..1), days_works_s2d9(0..1)]\n[days_works_s2d10(0..1), <ortools.sat.python.cp_model._NotBooleanVariable object at 0x000001DB38668910>]\n\n[days_works_s2d8(0..1), days_works_s2d9(0..1), days_works_s2d10(0..1)]\n[days_works_s2d11(0..1), <ortools.sat.python.cp_model._NotBooleanVariable object at 0x000001DB38668B20>]\n\n[days_works_s2d9(0..1), days_works_s2d10(0..1), days_works_s2d11(0..1)]\n[days_works_s2d12(0..1), <ortools.sat.python.cp_model._NotBooleanVariable object at 0x000001DB38668D30>]\n\n[days_works_s2d10(0..1), days_works_s2d11(0..1), days_works_s2d12(0..1)]\n[days_works_s2d13(0..1), <ortools.sat.python.cp_model._NotBooleanVariable object at 0x000001DB38668F40>]\n\n[days_works_s2d11(0..1), days_works_s2d12(0..1), days_works_s2d13(0..1)]\n[days_works_s2d14(0..1), <ortools.sat.python.cp_model._NotBooleanVariable object at 0x000001DB3866D190>]\n\n[days_works_s2d12(0..1), days_works_s2d13(0..1), days_works_s2d14(0..1)]\n[days_works_s2d15(0..1), <ortools.sat.python.cp_model._NotBooleanVariable object at 0x000001DB3866D3A0>]\n\n[days_works_s2d13(0..1), days_works_s2d14(0..1), days_works_s2d15(0..1)]\n[days_works_s2d16(0..1), <ortools.sat.python.cp_model._NotBooleanVariable object at 0x000001DB3866D5B0>]\n\n[days_works_s2d14(0..1), days_works_s2d15(0..1), days_works_s2d16(0..1)]\n[days_works_s2d17(0..1), <ortools.sat.python.cp_model._NotBooleanVariable object at 0x000001DB3866D7C0>]\n\n[days_works_s2d15(0..1), days_works_s2d16(0..1), days_works_s2d17(0..1)]\n[days_works_s2d18(0..1), <ortools.sat.python.cp_model._NotBooleanVariable object at 0x000001DB3866D9D0>]\n\n[days_works_s2d16(0..1), days_works_s2d17(0..1), days_works_s2d18(0..1)]\n[days_works_s2d19(0..1), <ortools.sat.python.cp_model._NotBooleanVariable object at 0x000001DB3866DBE0>]\n\n[days_works_s2d17(0..1), days_works_s2d18(0..1), days_works_s2d19(0..1)]\n[days_works_s2d20(0..1), <ortools.sat.python.cp_model._NotBooleanVariable object at 0x000001DB3866DDF0>]\n\n[days_works_s2d18(0..1), days_works_s2d19(0..1), days_works_s2d20(0..1)]\n[days_works_s2d21(0..1), <ortools.sat.python.cp_model._NotBooleanVariable object at 0x000001DB38671040>]\n\n[days_works_s2d19(0..1), days_works_s2d20(0..1), days_works_s2d21(0..1)]\n[days_works_s2d22(0..1), <ortools.sat.python.cp_model._NotBooleanVariable object at 0x000001DB38671250>]\n\n[days_works_s2d20(0..1), days_works_s2d21(0..1), days_works_s2d22(0..1)]\n[days_works_s2d23(0..1), <ortools.sat.python.cp_model._NotBooleanVariable object at 0x000001DB38671460>]\n\n[days_works_s2d21(0..1), days_works_s2d22(0..1), days_works_s2d23(0..1)]\n[days_works_s2d24(0..1), <ortools.sat.python.cp_model._NotBooleanVariable object at 0x000001DB38671670>]\n\n[days_works_s2d22(0..1), days_works_s2d23(0..1), days_works_s2d24(0..1)]\n[days_works_s2d25(0..1), <ortools.sat.python.cp_model._NotBooleanVariable object at 0x000001DB38671880>]\n\n[days_works_s2d23(0..1), days_works_s2d24(0..1), days_works_s2d25(0..1)]\n[days_works_s2d26(0..1), <ortools.sat.python.cp_model._NotBooleanVariable object at 0x000001DB38671A90>]\n\n[days_works_s2d24(0..1), days_works_s2d25(0..1), days_works_s2d26(0..1)]\n[days_works_s2d27(0..1), <ortools.sat.python.cp_model._NotBooleanVariable object at 0x000001DB38671CA0>]\n\n[days_works_s2d25(0..1), days_works_s2d26(0..1), days_works_s2d27(0..1)]\n[days_works_s2d28(0..1), <ortools.sat.python.cp_model._NotBooleanVariable object at 0x000001DB38671EB0>]\n\n[days_works_s2d26(0..1), days_works_s2d27(0..1), days_works_s2d28(0..1)]\n[days_works_s2d29(0..1), <ortools.sat.python.cp_model._NotBooleanVariable object at 0x000001DB38677100>]\n\n[days_works_s2d27(0..1), days_works_s2d28(0..1), days_works_s2d29(0..1)]\n[days_works_s2d30(0..1)]\n\n[days_works_s3d0(0..1), days_works_s3d1(0..1), days_works_s3d2(0..1)]\n[days_works_s3d3(0..1), <ortools.sat.python.cp_model._NotBooleanVariable object at 0x000001DB38677940>]\n\n[days_works_s3d1(0..1), days_works_s3d2(0..1), days_works_s3d3(0..1)]\n[days_works_s3d4(0..1), <ortools.sat.python.cp_model._NotBooleanVariable object at 0x000001DB38677B50>]\n\n[days_works_s3d2(0..1), days_works_s3d3(0..1), days_works_s3d4(0..1)]\n[days_works_s3d5(0..1), <ortools.sat.python.cp_model._NotBooleanVariable object at 0x000001DB38677D60>]\n\n[days_works_s3d3(0..1), days_works_s3d4(0..1), days_works_s3d5(0..1)]\n[days_works_s3d6(0..1), <ortools.sat.python.cp_model._NotBooleanVariable object at 0x000001DB3867A040>]\n\n[days_works_s3d4(0..1), days_works_s3d5(0..1), days_works_s3d6(0..1)]\n[days_works_s3d7(0..1), <ortools.sat.python.cp_model._NotBooleanVariable object at 0x000001DB3867A1C0>]\n\n[days_works_s3d5(0..1), days_works_s3d6(0..1), days_works_s3d7(0..1)]\n[days_works_s3d8(0..1), <ortools.sat.python.cp_model._NotBooleanVariable object at 0x000001DB3867A3D0>]\n\n[days_works_s3d6(0..1), days_works_s3d7(0..1), days_works_s3d8(0..1)]\n[days_works_s3d9(0..1), <ortools.sat.python.cp_model._NotBooleanVariable object at 0x000001DB3867A5E0>]\n\n[days_works_s3d7(0..1), days_works_s3d8(0..1), days_works_s3d9(0..1)]\n[days_works_s3d10(0..1), <ortools.sat.python.cp_model._NotBooleanVariable object at 0x000001DB3867A7F0>]\n\n[days_works_s3d8(0..1), days_works_s3d9(0..1), days_works_s3d10(0..1)]\n[days_works_s3d11(0..1), <ortools.sat.python.cp_model._NotBooleanVariable object at 0x000001DB3867AA00>]\n\n[days_works_s3d9(0..1), days_works_s3d10(0..1), days_works_s3d11(0..1)]\n[days_works_s3d12(0..1), <ortools.sat.python.cp_model._NotBooleanVariable object at 0x000001DB3867AC10>]\n\n[days_works_s3d10(0..1), days_works_s3d11(0..1), days_works_s3d12(0..1)]\n[days_works_s3d13(0..1), <ortools.sat.python.cp_model._NotBooleanVariable object at 0x000001DB3867AE20>]\n\n[days_works_s3d11(0..1), days_works_s3d12(0..1), days_works_s3d13(0..1)]\n[days_works_s3d14(0..1), <ortools.sat.python.cp_model._NotBooleanVariable object at 0x000001DB3867E070>]\n\n[days_works_s3d12(0..1), days_works_s3d13(0..1), days_works_s3d14(0..1)]\n[days_works_s3d15(0..1), <ortools.sat.python.cp_model._NotBooleanVariable object at 0x000001DB3867E280>]\n\n[days_works_s3d13(0..1), days_works_s3d14(0..1), days_works_s3d15(0..1)]\n[days_works_s3d16(0..1), <ortools.sat.python.cp_model._NotBooleanVariable object at 0x000001DB3867E490>]\n\n[days_works_s3d14(0..1), days_works_s3d15(0..1), days_works_s3d16(0..1)]\n[days_works_s3d17(0..1), <ortools.sat.python.cp_model._NotBooleanVariable object at 0x000001DB3867E6A0>]\n\n[days_works_s3d15(0..1), days_works_s3d16(0..1), days_works_s3d17(0..1)]\n[days_works_s3d18(0..1), <ortools.sat.python.cp_model._NotBooleanVariable object at 0x000001DB3867E8B0>]\n\n[days_works_s3d16(0..1), days_works_s3d17(0..1), days_works_s3d18(0..1)]\n[days_works_s3d19(0..1), <ortools.sat.python.cp_model._NotBooleanVariable object at 0x000001DB3867EAC0>]\n\n[days_works_s3d17(0..1), days_works_s3d18(0..1), days_works_s3d19(0..1)]\n[days_works_s3d20(0..1), <ortools.sat.python.cp_model._NotBooleanVariable object at 0x000001DB3867ECD0>]\n\n[days_works_s3d18(0..1), days_works_s3d19(0..1), days_works_s3d20(0..1)]\n[days_works_s3d21(0..1), <ortools.sat.python.cp_model._NotBooleanVariable object at 0x000001DB3867EEE0>]\n\n[days_works_s3d19(0..1), days_works_s3d20(0..1), days_works_s3d21(0..1)]\n[days_works_s3d22(0..1), <ortools.sat.python.cp_model._NotBooleanVariable object at 0x000001DB38684130>]\n\n[days_works_s3d20(0..1), days_works_s3d21(0..1), days_works_s3d22(0..1)]\n[days_works_s3d23(0..1), <ortools.sat.python.cp_model._NotBooleanVariable object at 0x000001DB38684340>]\n\n[days_works_s3d21(0..1), days_works_s3d22(0..1), days_works_s3d23(0..1)]\n[days_works_s3d24(0..1), <ortools.sat.python.cp_model._NotBooleanVariable object at 0x000001DB38684550>]\n\n[days_works_s3d22(0..1), days_works_s3d23(0..1), days_works_s3d24(0..1)]\n[days_works_s3d25(0..1), <ortools.sat.python.cp_model._NotBooleanVariable object at 0x000001DB38684760>]\n\n[days_works_s3d23(0..1), days_works_s3d24(0..1), days_works_s3d25(0..1)]\n[days_works_s3d26(0..1), <ortools.sat.python.cp_model._NotBooleanVariable object at 0x000001DB38684970>]\n\n[days_works_s3d24(0..1), days_works_s3d25(0..1), days_works_s3d26(0..1)]\n[days_works_s3d27(0..1), <ortools.sat.python.cp_model._NotBooleanVariable object at 0x000001DB38684B80>]\n\n[days_works_s3d25(0..1), days_works_s3d26(0..1), days_works_s3d27(0..1)]\n[days_works_s3d28(0..1), <ortools.sat.python.cp_model._NotBooleanVariable object at 0x000001DB38684D90>]\n\n[days_works_s3d26(0..1), days_works_s3d27(0..1), days_works_s3d28(0..1)]\n[days_works_s3d29(0..1), <ortools.sat.python.cp_model._NotBooleanVariable object at 0x000001DB38688070>]\n\n[days_works_s3d27(0..1), days_works_s3d28(0..1), days_works_s3d29(0..1)]\n[days_works_s3d30(0..1)]\n\n[days_works_s4d0(0..1), days_works_s4d1(0..1), days_works_s4d2(0..1)]\n[days_works_s4d3(0..1), <ortools.sat.python.cp_model._NotBooleanVariable object at 0x000001DB386888B0>]\n\n[days_works_s4d1(0..1), days_works_s4d2(0..1), days_works_s4d3(0..1)]\n[days_works_s4d4(0..1), <ortools.sat.python.cp_model._NotBooleanVariable object at 0x000001DB38688AC0>]\n\n[days_works_s4d2(0..1), days_works_s4d3(0..1), days_works_s4d4(0..1)]\n[days_works_s4d5(0..1), <ortools.sat.python.cp_model._NotBooleanVariable object at 0x000001DB38688CD0>]\n\n[days_works_s4d3(0..1), days_works_s4d4(0..1), days_works_s4d5(0..1)]\n[days_works_s4d6(0..1), <ortools.sat.python.cp_model._NotBooleanVariable object at 0x000001DB38688EE0>]\n\n[days_works_s4d4(0..1), days_works_s4d5(0..1), days_works_s4d6(0..1)]\n[days_works_s4d7(0..1), <ortools.sat.python.cp_model._NotBooleanVariable object at 0x000001DB3868D130>]\n\n[days_works_s4d5(0..1), days_works_s4d6(0..1), days_works_s4d7(0..1)]\n[days_works_s4d8(0..1), <ortools.sat.python.cp_model._NotBooleanVariable object at 0x000001DB3868D340>]\n\n[days_works_s4d6(0..1), days_works_s4d7(0..1), days_works_s4d8(0..1)]\n[days_works_s4d9(0..1), <ortools.sat.python.cp_model._NotBooleanVariable object at 0x000001DB3868D550>]\n\n[days_works_s4d7(0..1), days_works_s4d8(0..1), days_works_s4d9(0..1)]\n[days_works_s4d10(0..1), <ortools.sat.python.cp_model._NotBooleanVariable object at 0x000001DB3868D760>]\n\n[days_works_s4d8(0..1), days_works_s4d9(0..1), days_works_s4d10(0..1)]\n[days_works_s4d11(0..1), <ortools.sat.python.cp_model._NotBooleanVariable object at 0x000001DB3868D970>]\n\n[days_works_s4d9(0..1), days_works_s4d10(0..1), days_works_s4d11(0..1)]\n[days_works_s4d12(0..1), <ortools.sat.python.cp_model._NotBooleanVariable object at 0x000001DB3868DB80>]\n\n[days_works_s4d10(0..1), days_works_s4d11(0..1), days_works_s4d12(0..1)]\n[days_works_s4d13(0..1), <ortools.sat.python.cp_model._NotBooleanVariable object at 0x000001DB3868DD90>]\n\n[days_works_s4d11(0..1), days_works_s4d12(0..1), days_works_s4d13(0..1)]\n[days_works_s4d14(0..1), <ortools.sat.python.cp_model._NotBooleanVariable object at 0x000001DB38691070>]\n\n[days_works_s4d12(0..1), days_works_s4d13(0..1), days_works_s4d14(0..1)]\n[days_works_s4d15(0..1), <ortools.sat.python.cp_model._NotBooleanVariable object at 0x000001DB386911F0>]\n\n[days_works_s4d13(0..1), days_works_s4d14(0..1), days_works_s4d15(0..1)]\n[days_works_s4d16(0..1), <ortools.sat.python.cp_model._NotBooleanVariable object at 0x000001DB38691400>]\n\n[days_works_s4d14(0..1), days_works_s4d15(0..1), days_works_s4d16(0..1)]\n[days_works_s4d17(0..1), <ortools.sat.python.cp_model._NotBooleanVariable object at 0x000001DB38691610>]\n\n[days_works_s4d15(0..1), days_works_s4d16(0..1), days_works_s4d17(0..1)]\n[days_works_s4d18(0..1), <ortools.sat.python.cp_model._NotBooleanVariable object at 0x000001DB38691820>]\n\n[days_works_s4d16(0..1), days_works_s4d17(0..1), days_works_s4d18(0..1)]\n[days_works_s4d19(0..1), <ortools.sat.python.cp_model._NotBooleanVariable object at 0x000001DB38691A30>]\n\n[days_works_s4d17(0..1), days_works_s4d18(0..1), days_works_s4d19(0..1)]\n[days_works_s4d20(0..1), <ortools.sat.python.cp_model._NotBooleanVariable object at 0x000001DB38691C40>]\n\n[days_works_s4d18(0..1), days_works_s4d19(0..1), days_works_s4d20(0..1)]\n[days_works_s4d21(0..1), <ortools.sat.python.cp_model._NotBooleanVariable object at 0x000001DB38691E50>]\n\n[days_works_s4d19(0..1), days_works_s4d20(0..1), days_works_s4d21(0..1)]\n[days_works_s4d22(0..1), <ortools.sat.python.cp_model._NotBooleanVariable object at 0x000001DB386960A0>]\n\n[days_works_s4d20(0..1), days_works_s4d21(0..1), days_works_s4d22(0..1)]\n[days_works_s4d23(0..1), <ortools.sat.python.cp_model._NotBooleanVariable object at 0x000001DB386962B0>]\n\n[days_works_s4d21(0..1), days_works_s4d22(0..1), days_works_s4d23(0..1)]\n[days_works_s4d24(0..1), <ortools.sat.python.cp_model._NotBooleanVariable object at 0x000001DB386964C0>]\n\n[days_works_s4d22(0..1), days_works_s4d23(0..1), days_works_s4d24(0..1)]\n[days_works_s4d25(0..1), <ortools.sat.python.cp_model._NotBooleanVariable object at 0x000001DB386966D0>]\n\n[days_works_s4d23(0..1), days_works_s4d24(0..1), days_works_s4d25(0..1)]\n[days_works_s4d26(0..1), <ortools.sat.python.cp_model._NotBooleanVariable object at 0x000001DB386968E0>]\n\n[days_works_s4d24(0..1), days_works_s4d25(0..1), days_works_s4d26(0..1)]\n[days_works_s4d27(0..1), <ortools.sat.python.cp_model._NotBooleanVariable object at 0x000001DB38696AF0>]\n\n[days_works_s4d25(0..1), days_works_s4d26(0..1), days_works_s4d27(0..1)]\n[days_works_s4d28(0..1), <ortools.sat.python.cp_model._NotBooleanVariable object at 0x000001DB38696D00>]\n\n[days_works_s4d26(0..1), days_works_s4d27(0..1), days_works_s4d28(0..1)]\n[days_works_s4d29(0..1), <ortools.sat.python.cp_model._NotBooleanVariable object at 0x000001DB38696F10>]\n\n[days_works_s4d27(0..1), days_works_s4d28(0..1), days_works_s4d29(0..1)]\n[days_works_s4d30(0..1)]\n\n[days_works_s5d0(0..1), days_works_s5d1(0..1), days_works_s5d2(0..1)]\n[days_works_s5d3(0..1), <ortools.sat.python.cp_model._NotBooleanVariable object at 0x000001DB3869A790>]\n\n[days_works_s5d1(0..1), days_works_s5d2(0..1), days_works_s5d3(0..1)]\n[days_works_s5d4(0..1), <ortools.sat.python.cp_model._NotBooleanVariable object at 0x000001DB3869A9A0>]\n\n[days_works_s5d2(0..1), days_works_s5d3(0..1), days_works_s5d4(0..1)]\n[days_works_s5d5(0..1), <ortools.sat.python.cp_model._NotBooleanVariable object at 0x000001DB3869ABB0>]\n\n[days_works_s5d3(0..1), days_works_s5d4(0..1), days_works_s5d5(0..1)]\n[days_works_s5d6(0..1), <ortools.sat.python.cp_model._NotBooleanVariable object at 0x000001DB3869ADC0>]\n\n[days_works_s5d4(0..1), days_works_s5d5(0..1), days_works_s5d6(0..1)]\n[days_works_s5d7(0..1), <ortools.sat.python.cp_model._NotBooleanVariable object at 0x000001DB3869D0A0>]\n\n[days_works_s5d5(0..1), days_works_s5d6(0..1), days_works_s5d7(0..1)]\n[days_works_s5d8(0..1), <ortools.sat.python.cp_model._NotBooleanVariable object at 0x000001DB3869D220>]\n\n[days_works_s5d6(0..1), days_works_s5d7(0..1), days_works_s5d8(0..1)]\n[days_works_s5d9(0..1), <ortools.sat.python.cp_model._NotBooleanVariable object at 0x000001DB3869D430>]\n\n[days_works_s5d7(0..1), days_works_s5d8(0..1), days_works_s5d9(0..1)]\n[days_works_s5d10(0..1), <ortools.sat.python.cp_model._NotBooleanVariable object at 0x000001DB3869D640>]\n\n[days_works_s5d8(0..1), days_works_s5d9(0..1), days_works_s5d10(0..1)]\n[days_works_s5d11(0..1), <ortools.sat.python.cp_model._NotBooleanVariable object at 0x000001DB3869D850>]\n\n[days_works_s5d9(0..1), days_works_s5d10(0..1), days_works_s5d11(0..1)]\n[days_works_s5d12(0..1), <ortools.sat.python.cp_model._NotBooleanVariable object at 0x000001DB3869DA60>]\n\n[days_works_s5d10(0..1), days_works_s5d11(0..1), days_works_s5d12(0..1)]\n[days_works_s5d13(0..1), <ortools.sat.python.cp_model._NotBooleanVariable object at 0x000001DB3869DC70>]\n\n[days_works_s5d11(0..1), days_works_s5d12(0..1), days_works_s5d13(0..1)]\n[days_works_s5d14(0..1), <ortools.sat.python.cp_model._NotBooleanVariable object at 0x000001DB3869DE80>]\n\n[days_works_s5d12(0..1), days_works_s5d13(0..1), days_works_s5d14(0..1)]\n[days_works_s5d15(0..1), <ortools.sat.python.cp_model._NotBooleanVariable object at 0x000001DB386A40D0>]\n\n[days_works_s5d13(0..1), days_works_s5d14(0..1), days_works_s5d15(0..1)]\n[days_works_s5d16(0..1), <ortools.sat.python.cp_model._NotBooleanVariable object at 0x000001DB386A42E0>]\n\n[days_works_s5d14(0..1), days_works_s5d15(0..1), days_works_s5d16(0..1)]\n[days_works_s5d17(0..1), <ortools.sat.python.cp_model._NotBooleanVariable object at 0x000001DB386A44F0>]\n\n[days_works_s5d15(0..1), days_works_s5d16(0..1), days_works_s5d17(0..1)]\n[days_works_s5d18(0..1), <ortools.sat.python.cp_model._NotBooleanVariable object at 0x000001DB386A4700>]\n\n[days_works_s5d16(0..1), days_works_s5d17(0..1), days_works_s5d18(0..1)]\n[days_works_s5d19(0..1), <ortools.sat.python.cp_model._NotBooleanVariable object at 0x000001DB386A4910>]\n\n[days_works_s5d17(0..1), days_works_s5d18(0..1), days_works_s5d19(0..1)]\n[days_works_s5d20(0..1), <ortools.sat.python.cp_model._NotBooleanVariable object at 0x000001DB386A4B20>]\n\n[days_works_s5d18(0..1), days_works_s5d19(0..1), days_works_s5d20(0..1)]\n[days_works_s5d21(0..1), <ortools.sat.python.cp_model._NotBooleanVariable object at 0x000001DB386A4D30>]\n\n[days_works_s5d19(0..1), days_works_s5d20(0..1), days_works_s5d21(0..1)]\n[days_works_s5d22(0..1), <ortools.sat.python.cp_model._NotBooleanVariable object at 0x000001DB386A4F40>]\n\n[days_works_s5d20(0..1), days_works_s5d21(0..1), days_works_s5d22(0..1)]\n[days_works_s5d23(0..1), <ortools.sat.python.cp_model._NotBooleanVariable object at 0x000001DB386A7190>]\n\n[days_works_s5d21(0..1), days_works_s5d22(0..1), days_works_s5d23(0..1)]\n[days_works_s5d24(0..1), <ortools.sat.python.cp_model._NotBooleanVariable object at 0x000001DB386A73A0>]\n\n[days_works_s5d22(0..1), days_works_s5d23(0..1), days_works_s5d24(0..1)]\n[days_works_s5d25(0..1), <ortools.sat.python.cp_model._NotBooleanVariable object at 0x000001DB386A75B0>]\n\n[days_works_s5d23(0..1), days_works_s5d24(0..1), days_works_s5d25(0..1)]\n[days_works_s5d26(0..1), <ortools.sat.python.cp_model._NotBooleanVariable object at 0x000001DB386A77C0>]\n\n[days_works_s5d24(0..1), days_works_s5d25(0..1), days_works_s5d26(0..1)]\n[days_works_s5d27(0..1), <ortools.sat.python.cp_model._NotBooleanVariable object at 0x000001DB386A79D0>]\n\n[days_works_s5d25(0..1), days_works_s5d26(0..1), days_works_s5d27(0..1)]\n[days_works_s5d28(0..1), <ortools.sat.python.cp_model._NotBooleanVariable object at 0x000001DB386A7BE0>]\n\n[days_works_s5d26(0..1), days_works_s5d27(0..1), days_works_s5d28(0..1)]\n[days_works_s5d29(0..1), <ortools.sat.python.cp_model._NotBooleanVariable object at 0x000001DB386A7DF0>]\n\n[days_works_s5d27(0..1), days_works_s5d28(0..1), days_works_s5d29(0..1)]\n[days_works_s5d30(0..1)]\n\n[days_works_s6d0(0..1), days_works_s6d1(0..1), days_works_s6d2(0..1)]\n[days_works_s6d3(0..1), <ortools.sat.python.cp_model._NotBooleanVariable object at 0x000001DB386AC670>]\n\n[days_works_s6d1(0..1), days_works_s6d2(0..1), days_works_s6d3(0..1)]\n[days_works_s6d4(0..1), <ortools.sat.python.cp_model._NotBooleanVariable object at 0x000001DB386AC880>]\n\n[days_works_s6d2(0..1), days_works_s6d3(0..1), days_works_s6d4(0..1)]\n[days_works_s6d5(0..1), <ortools.sat.python.cp_model._NotBooleanVariable object at 0x000001DB386ACA90>]\n\n[days_works_s6d3(0..1), days_works_s6d4(0..1), days_works_s6d5(0..1)]\n[days_works_s6d6(0..1), <ortools.sat.python.cp_model._NotBooleanVariable object at 0x000001DB386ACCA0>]\n\n[days_works_s6d4(0..1), days_works_s6d5(0..1), days_works_s6d6(0..1)]\n[days_works_s6d7(0..1), <ortools.sat.python.cp_model._NotBooleanVariable object at 0x000001DB386ACEB0>]\n\n[days_works_s6d5(0..1), days_works_s6d6(0..1), days_works_s6d7(0..1)]\n[days_works_s6d8(0..1), <ortools.sat.python.cp_model._NotBooleanVariable object at 0x000001DB386B0100>]\n\n[days_works_s6d6(0..1), days_works_s6d7(0..1), days_works_s6d8(0..1)]\n[days_works_s6d9(0..1), <ortools.sat.python.cp_model._NotBooleanVariable object at 0x000001DB386B0310>]\n\n[days_works_s6d7(0..1), days_works_s6d8(0..1), days_works_s6d9(0..1)]\n[days_works_s6d10(0..1), <ortools.sat.python.cp_model._NotBooleanVariable object at 0x000001DB386B0520>]\n\n[days_works_s6d8(0..1), days_works_s6d9(0..1), days_works_s6d10(0..1)]\n[days_works_s6d11(0..1), <ortools.sat.python.cp_model._NotBooleanVariable object at 0x000001DB386B0730>]\n\n[days_works_s6d9(0..1), days_works_s6d10(0..1), days_works_s6d11(0..1)]\n[days_works_s6d12(0..1), <ortools.sat.python.cp_model._NotBooleanVariable object at 0x000001DB386B0940>]\n\n[days_works_s6d10(0..1), days_works_s6d11(0..1), days_works_s6d12(0..1)]\n[days_works_s6d13(0..1), <ortools.sat.python.cp_model._NotBooleanVariable object at 0x000001DB386B0B50>]\n\n[days_works_s6d11(0..1), days_works_s6d12(0..1), days_works_s6d13(0..1)]\n[days_works_s6d14(0..1), <ortools.sat.python.cp_model._NotBooleanVariable object at 0x000001DB386B0D60>]\n\n[days_works_s6d12(0..1), days_works_s6d13(0..1), days_works_s6d14(0..1)]\n[days_works_s6d15(0..1), <ortools.sat.python.cp_model._NotBooleanVariable object at 0x000001DB386B5040>]\n\n[days_works_s6d13(0..1), days_works_s6d14(0..1), days_works_s6d15(0..1)]\n[days_works_s6d16(0..1), <ortools.sat.python.cp_model._NotBooleanVariable object at 0x000001DB386B51C0>]\n\n[days_works_s6d14(0..1), days_works_s6d15(0..1), days_works_s6d16(0..1)]\n[days_works_s6d17(0..1), <ortools.sat.python.cp_model._NotBooleanVariable object at 0x000001DB386B53D0>]\n\n[days_works_s6d15(0..1), days_works_s6d16(0..1), days_works_s6d17(0..1)]\n[days_works_s6d18(0..1), <ortools.sat.python.cp_model._NotBooleanVariable object at 0x000001DB386B55E0>]\n\n[days_works_s6d16(0..1), days_works_s6d17(0..1), days_works_s6d18(0..1)]\n[days_works_s6d19(0..1), <ortools.sat.python.cp_model._NotBooleanVariable object at 0x000001DB386B57F0>]\n\n[days_works_s6d17(0..1), days_works_s6d18(0..1), days_works_s6d19(0..1)]\n[days_works_s6d20(0..1), <ortools.sat.python.cp_model._NotBooleanVariable object at 0x000001DB386B5A00>]\n\n[days_works_s6d18(0..1), days_works_s6d19(0..1), days_works_s6d20(0..1)]\n[days_works_s6d21(0..1), <ortools.sat.python.cp_model._NotBooleanVariable object at 0x000001DB386B5C10>]\n\n[days_works_s6d19(0..1), days_works_s6d20(0..1), days_works_s6d21(0..1)]\n[days_works_s6d22(0..1), <ortools.sat.python.cp_model._NotBooleanVariable object at 0x000001DB386B5E20>]\n\n[days_works_s6d20(0..1), days_works_s6d21(0..1), days_works_s6d22(0..1)]\n[days_works_s6d23(0..1), <ortools.sat.python.cp_model._NotBooleanVariable object at 0x000001DB386BA070>]\n\n[days_works_s6d21(0..1), days_works_s6d22(0..1), days_works_s6d23(0..1)]\n[days_works_s6d24(0..1), <ortools.sat.python.cp_model._NotBooleanVariable object at 0x000001DB386BA280>]\n\n[days_works_s6d22(0..1), days_works_s6d23(0..1), days_works_s6d24(0..1)]\n[days_works_s6d25(0..1), <ortools.sat.python.cp_model._NotBooleanVariable object at 0x000001DB386BA490>]\n\n[days_works_s6d23(0..1), days_works_s6d24(0..1), days_works_s6d25(0..1)]\n[days_works_s6d26(0..1), <ortools.sat.python.cp_model._NotBooleanVariable object at 0x000001DB386BA6A0>]\n\n[days_works_s6d24(0..1), days_works_s6d25(0..1), days_works_s6d26(0..1)]\n[days_works_s6d27(0..1), <ortools.sat.python.cp_model._NotBooleanVariable object at 0x000001DB386BA8B0>]\n\n[days_works_s6d25(0..1), days_works_s6d26(0..1), days_works_s6d27(0..1)]\n[days_works_s6d28(0..1), <ortools.sat.python.cp_model._NotBooleanVariable object at 0x000001DB386BAAC0>]\n\n[days_works_s6d26(0..1), days_works_s6d27(0..1), days_works_s6d28(0..1)]\n[days_works_s6d29(0..1), <ortools.sat.python.cp_model._NotBooleanVariable object at 0x000001DB386BACD0>]\n\n[days_works_s6d27(0..1), days_works_s6d28(0..1), days_works_s6d29(0..1)]\n[days_works_s6d30(0..1)]\n\n[days_works_s7d0(0..1), days_works_s7d1(0..1), days_works_s7d2(0..1)]\n[days_works_s7d3(0..1), <ortools.sat.python.cp_model._NotBooleanVariable object at 0x000001DB386BE550>]\n\n[days_works_s7d1(0..1), days_works_s7d2(0..1), days_works_s7d3(0..1)]\n[days_works_s7d4(0..1), <ortools.sat.python.cp_model._NotBooleanVariable object at 0x000001DB386BE760>]\n\n[days_works_s7d2(0..1), days_works_s7d3(0..1), days_works_s7d4(0..1)]\n[days_works_s7d5(0..1), <ortools.sat.python.cp_model._NotBooleanVariable object at 0x000001DB386BE970>]\n\n[days_works_s7d3(0..1), days_works_s7d4(0..1), days_works_s7d5(0..1)]\n[days_works_s7d6(0..1), <ortools.sat.python.cp_model._NotBooleanVariable object at 0x000001DB386BEB80>]\n\n[days_works_s7d4(0..1), days_works_s7d5(0..1), days_works_s7d6(0..1)]\n[days_works_s7d7(0..1), <ortools.sat.python.cp_model._NotBooleanVariable object at 0x000001DB386BED90>]\n\n[days_works_s7d5(0..1), days_works_s7d6(0..1), days_works_s7d7(0..1)]\n[days_works_s7d8(0..1), <ortools.sat.python.cp_model._NotBooleanVariable object at 0x000001DB386C3070>]\n\n[days_works_s7d6(0..1), days_works_s7d7(0..1), days_works_s7d8(0..1)]\n[days_works_s7d9(0..1), <ortools.sat.python.cp_model._NotBooleanVariable object at 0x000001DB386C31F0>]\n\n[days_works_s7d7(0..1), days_works_s7d8(0..1), days_works_s7d9(0..1)]\n[days_works_s7d10(0..1), <ortools.sat.python.cp_model._NotBooleanVariable object at 0x000001DB386C3400>]\n\n[days_works_s7d8(0..1), days_works_s7d9(0..1), days_works_s7d10(0..1)]\n[days_works_s7d11(0..1), <ortools.sat.python.cp_model._NotBooleanVariable object at 0x000001DB386C3610>]\n\n[days_works_s7d9(0..1), days_works_s7d10(0..1), days_works_s7d11(0..1)]\n[days_works_s7d12(0..1), <ortools.sat.python.cp_model._NotBooleanVariable object at 0x000001DB386C3820>]\n\n[days_works_s7d10(0..1), days_works_s7d11(0..1), days_works_s7d12(0..1)]\n[days_works_s7d13(0..1), <ortools.sat.python.cp_model._NotBooleanVariable object at 0x000001DB386C3A30>]\n\n[days_works_s7d11(0..1), days_works_s7d12(0..1), days_works_s7d13(0..1)]\n[days_works_s7d14(0..1), <ortools.sat.python.cp_model._NotBooleanVariable object at 0x000001DB386C3C40>]\n\n[days_works_s7d12(0..1), days_works_s7d13(0..1), days_works_s7d14(0..1)]\n[days_works_s7d15(0..1), <ortools.sat.python.cp_model._NotBooleanVariable object at 0x000001DB386C3E50>]\n\n[days_works_s7d13(0..1), days_works_s7d14(0..1), days_works_s7d15(0..1)]\n[days_works_s7d16(0..1), <ortools.sat.python.cp_model._NotBooleanVariable object at 0x000001DB386C60A0>]\n\n[days_works_s7d14(0..1), days_works_s7d15(0..1), days_works_s7d16(0..1)]\n[days_works_s7d17(0..1), <ortools.sat.python.cp_model._NotBooleanVariable object at 0x000001DB386C62B0>]\n\n[days_works_s7d15(0..1), days_works_s7d16(0..1), days_works_s7d17(0..1)]\n[days_works_s7d18(0..1), <ortools.sat.python.cp_model._NotBooleanVariable object at 0x000001DB386C64C0>]\n\n[days_works_s7d16(0..1), days_works_s7d17(0..1), days_works_s7d18(0..1)]\n[days_works_s7d19(0..1), <ortools.sat.python.cp_model._NotBooleanVariable object at 0x000001DB386C66D0>]\n\n[days_works_s7d17(0..1), days_works_s7d18(0..1), days_works_s7d19(0..1)]\n[days_works_s7d20(0..1), <ortools.sat.python.cp_model._NotBooleanVariable object at 0x000001DB386C68E0>]\n\n[days_works_s7d18(0..1), days_works_s7d19(0..1), days_works_s7d20(0..1)]\n[days_works_s7d21(0..1), <ortools.sat.python.cp_model._NotBooleanVariable object at 0x000001DB386C6AF0>]\n\n[days_works_s7d19(0..1), days_works_s7d20(0..1), days_works_s7d21(0..1)]\n[days_works_s7d22(0..1), <ortools.sat.python.cp_model._NotBooleanVariable object at 0x000001DB386C6D00>]\n\n[days_works_s7d20(0..1), days_works_s7d21(0..1), days_works_s7d22(0..1)]\n[days_works_s7d23(0..1), <ortools.sat.python.cp_model._NotBooleanVariable object at 0x000001DB386C6F10>]\n\n[days_works_s7d21(0..1), days_works_s7d22(0..1), days_works_s7d23(0..1)]\n[days_works_s7d24(0..1), <ortools.sat.python.cp_model._NotBooleanVariable object at 0x000001DB386CB160>]\n\n[days_works_s7d22(0..1), days_works_s7d23(0..1), days_works_s7d24(0..1)]\n[days_works_s7d25(0..1), <ortools.sat.python.cp_model._NotBooleanVariable object at 0x000001DB386CB370>]\n\n[days_works_s7d23(0..1), days_works_s7d24(0..1), days_works_s7d25(0..1)]\n[days_works_s7d26(0..1), <ortools.sat.python.cp_model._NotBooleanVariable object at 0x000001DB386CB580>]\n\n[days_works_s7d24(0..1), days_works_s7d25(0..1), days_works_s7d26(0..1)]\n[days_works_s7d27(0..1), <ortools.sat.python.cp_model._NotBooleanVariable object at 0x000001DB386CB790>]\n\n[days_works_s7d25(0..1), days_works_s7d26(0..1), days_works_s7d27(0..1)]\n[days_works_s7d28(0..1), <ortools.sat.python.cp_model._NotBooleanVariable object at 0x000001DB386CB9A0>]\n\n[days_works_s7d26(0..1), days_works_s7d27(0..1), days_works_s7d28(0..1)]\n[days_works_s7d29(0..1), <ortools.sat.python.cp_model._NotBooleanVariable object at 0x000001DB386CBBB0>]\n\n[days_works_s7d27(0..1), days_works_s7d28(0..1), days_works_s7d29(0..1)]\n[days_works_s7d30(0..1)]\n\n[days_works_s8d0(0..1), days_works_s8d1(0..1), days_works_s8d2(0..1)]\n[days_works_s8d3(0..1), <ortools.sat.python.cp_model._NotBooleanVariable object at 0x000001DB386CF430>]\n\n[days_works_s8d1(0..1), days_works_s8d2(0..1), days_works_s8d3(0..1)]\n[days_works_s8d4(0..1), <ortools.sat.python.cp_model._NotBooleanVariable object at 0x000001DB386CF640>]\n\n[days_works_s8d2(0..1), days_works_s8d3(0..1), days_works_s8d4(0..1)]\n[days_works_s8d5(0..1), <ortools.sat.python.cp_model._NotBooleanVariable object at 0x000001DB386CF850>]\n\n[days_works_s8d3(0..1), days_works_s8d4(0..1), days_works_s8d5(0..1)]\n[days_works_s8d6(0..1), <ortools.sat.python.cp_model._NotBooleanVariable object at 0x000001DB386CFA60>]\n\n[days_works_s8d4(0..1), days_works_s8d5(0..1), days_works_s8d6(0..1)]\n[days_works_s8d7(0..1), <ortools.sat.python.cp_model._NotBooleanVariable object at 0x000001DB386CFC70>]\n\n[days_works_s8d5(0..1), days_works_s8d6(0..1), days_works_s8d7(0..1)]\n[days_works_s8d8(0..1), <ortools.sat.python.cp_model._NotBooleanVariable object at 0x000001DB386CFE80>]\n\n[days_works_s8d6(0..1), days_works_s8d7(0..1), days_works_s8d8(0..1)]\n[days_works_s8d9(0..1), <ortools.sat.python.cp_model._NotBooleanVariable object at 0x000001DB386D50D0>]\n\n[days_works_s8d7(0..1), days_works_s8d8(0..1), days_works_s8d9(0..1)]\n[days_works_s8d10(0..1), <ortools.sat.python.cp_model._NotBooleanVariable object at 0x000001DB386D52E0>]\n\n[days_works_s8d8(0..1), days_works_s8d9(0..1), days_works_s8d10(0..1)]\n[days_works_s8d11(0..1), <ortools.sat.python.cp_model._NotBooleanVariable object at 0x000001DB386D54F0>]\n\n[days_works_s8d9(0..1), days_works_s8d10(0..1), days_works_s8d11(0..1)]\n[days_works_s8d12(0..1), <ortools.sat.python.cp_model._NotBooleanVariable object at 0x000001DB386D5700>]\n\n[days_works_s8d10(0..1), days_works_s8d11(0..1), days_works_s8d12(0..1)]\n[days_works_s8d13(0..1), <ortools.sat.python.cp_model._NotBooleanVariable object at 0x000001DB386D5910>]\n\n[days_works_s8d11(0..1), days_works_s8d12(0..1), days_works_s8d13(0..1)]\n[days_works_s8d14(0..1), <ortools.sat.python.cp_model._NotBooleanVariable object at 0x000001DB386D5B20>]\n\n[days_works_s8d12(0..1), days_works_s8d13(0..1), days_works_s8d14(0..1)]\n[days_works_s8d15(0..1), <ortools.sat.python.cp_model._NotBooleanVariable object at 0x000001DB386D5D30>]\n\n[days_works_s8d13(0..1), days_works_s8d14(0..1), days_works_s8d15(0..1)]\n[days_works_s8d16(0..1), <ortools.sat.python.cp_model._NotBooleanVariable object at 0x000001DB386D5F40>]\n\n[days_works_s8d14(0..1), days_works_s8d15(0..1), days_works_s8d16(0..1)]\n[days_works_s8d17(0..1), <ortools.sat.python.cp_model._NotBooleanVariable object at 0x000001DB386D9190>]\n\n[days_works_s8d15(0..1), days_works_s8d16(0..1), days_works_s8d17(0..1)]\n[days_works_s8d18(0..1), <ortools.sat.python.cp_model._NotBooleanVariable object at 0x000001DB386D93A0>]\n\n[days_works_s8d16(0..1), days_works_s8d17(0..1), days_works_s8d18(0..1)]\n[days_works_s8d19(0..1), <ortools.sat.python.cp_model._NotBooleanVariable object at 0x000001DB386D95B0>]\n\n[days_works_s8d17(0..1), days_works_s8d18(0..1), days_works_s8d19(0..1)]\n[days_works_s8d20(0..1), <ortools.sat.python.cp_model._NotBooleanVariable object at 0x000001DB386D97C0>]\n\n[days_works_s8d18(0..1), days_works_s8d19(0..1), days_works_s8d20(0..1)]\n[days_works_s8d21(0..1), <ortools.sat.python.cp_model._NotBooleanVariable object at 0x000001DB386D99D0>]\n\n[days_works_s8d19(0..1), days_works_s8d20(0..1), days_works_s8d21(0..1)]\n[days_works_s8d22(0..1), <ortools.sat.python.cp_model._NotBooleanVariable object at 0x000001DB386D9BE0>]\n\n[days_works_s8d20(0..1), days_works_s8d21(0..1), days_works_s8d22(0..1)]\n[days_works_s8d23(0..1), <ortools.sat.python.cp_model._NotBooleanVariable object at 0x000001DB386D9DF0>]\n\n[days_works_s8d21(0..1), days_works_s8d22(0..1), days_works_s8d23(0..1)]\n[days_works_s8d24(0..1), <ortools.sat.python.cp_model._NotBooleanVariable object at 0x000001DB386DD040>]\n\n[days_works_s8d22(0..1), days_works_s8d23(0..1), days_works_s8d24(0..1)]\n[days_works_s8d25(0..1), <ortools.sat.python.cp_model._NotBooleanVariable object at 0x000001DB386DD250>]\n\n[days_works_s8d23(0..1), days_works_s8d24(0..1), days_works_s8d25(0..1)]\n[days_works_s8d26(0..1), <ortools.sat.python.cp_model._NotBooleanVariable object at 0x000001DB386DD460>]\n\n[days_works_s8d24(0..1), days_works_s8d25(0..1), days_works_s8d26(0..1)]\n[days_works_s8d27(0..1), <ortools.sat.python.cp_model._NotBooleanVariable object at 0x000001DB386DD670>]\n\n[days_works_s8d25(0..1), days_works_s8d26(0..1), days_works_s8d27(0..1)]\n[days_works_s8d28(0..1), <ortools.sat.python.cp_model._NotBooleanVariable object at 0x000001DB386DD880>]\n\n[days_works_s8d26(0..1), days_works_s8d27(0..1), days_works_s8d28(0..1)]\n[days_works_s8d29(0..1), <ortools.sat.python.cp_model._NotBooleanVariable object at 0x000001DB386DDA90>]\n\n[days_works_s8d27(0..1), days_works_s8d28(0..1), days_works_s8d29(0..1)]\n[days_works_s8d30(0..1)]\n\n[days_works_s9d0(0..1), days_works_s9d1(0..1), days_works_s9d2(0..1)]\n[days_works_s9d3(0..1), <ortools.sat.python.cp_model._NotBooleanVariable object at 0x000001DB386E2310>]\n\n[days_works_s9d1(0..1), days_works_s9d2(0..1), days_works_s9d3(0..1)]\n[days_works_s9d4(0..1), <ortools.sat.python.cp_model._NotBooleanVariable object at 0x000001DB386E2520>]\n\n[days_works_s9d2(0..1), days_works_s9d3(0..1), days_works_s9d4(0..1)]\n[days_works_s9d5(0..1), <ortools.sat.python.cp_model._NotBooleanVariable object at 0x000001DB386E2730>]\n\n[days_works_s9d3(0..1), days_works_s9d4(0..1), days_works_s9d5(0..1)]\n[days_works_s9d6(0..1), <ortools.sat.python.cp_model._NotBooleanVariable object at 0x000001DB386E2940>]\n\n[days_works_s9d4(0..1), days_works_s9d5(0..1), days_works_s9d6(0..1)]\n[days_works_s9d7(0..1), <ortools.sat.python.cp_model._NotBooleanVariable object at 0x000001DB386E2B50>]\n\n[days_works_s9d5(0..1), days_works_s9d6(0..1), days_works_s9d7(0..1)]\n[days_works_s9d8(0..1), <ortools.sat.python.cp_model._NotBooleanVariable object at 0x000001DB386E2D60>]\n\n[days_works_s9d6(0..1), days_works_s9d7(0..1), days_works_s9d8(0..1)]\n[days_works_s9d9(0..1), <ortools.sat.python.cp_model._NotBooleanVariable object at 0x000001DB386E5040>]\n\n[days_works_s9d7(0..1), days_works_s9d8(0..1), days_works_s9d9(0..1)]\n[days_works_s9d10(0..1), <ortools.sat.python.cp_model._NotBooleanVariable object at 0x000001DB386E51C0>]\n\n[days_works_s9d8(0..1), days_works_s9d9(0..1), days_works_s9d10(0..1)]\n[days_works_s9d11(0..1), <ortools.sat.python.cp_model._NotBooleanVariable object at 0x000001DB386E53D0>]\n\n[days_works_s9d9(0..1), days_works_s9d10(0..1), days_works_s9d11(0..1)]\n[days_works_s9d12(0..1), <ortools.sat.python.cp_model._NotBooleanVariable object at 0x000001DB386E55E0>]\n\n[days_works_s9d10(0..1), days_works_s9d11(0..1), days_works_s9d12(0..1)]\n[days_works_s9d13(0..1), <ortools.sat.python.cp_model._NotBooleanVariable object at 0x000001DB386E57F0>]\n\n[days_works_s9d11(0..1), days_works_s9d12(0..1), days_works_s9d13(0..1)]\n[days_works_s9d14(0..1), <ortools.sat.python.cp_model._NotBooleanVariable object at 0x000001DB386E5A00>]\n\n[days_works_s9d12(0..1), days_works_s9d13(0..1), days_works_s9d14(0..1)]\n[days_works_s9d15(0..1), <ortools.sat.python.cp_model._NotBooleanVariable object at 0x000001DB386E5C10>]\n\n[days_works_s9d13(0..1), days_works_s9d14(0..1), days_works_s9d15(0..1)]\n[days_works_s9d16(0..1), <ortools.sat.python.cp_model._NotBooleanVariable object at 0x000001DB386E5E20>]\n\n[days_works_s9d14(0..1), days_works_s9d15(0..1), days_works_s9d16(0..1)]\n[days_works_s9d17(0..1), <ortools.sat.python.cp_model._NotBooleanVariable object at 0x000001DB386EB070>]\n\n[days_works_s9d15(0..1), days_works_s9d16(0..1), days_works_s9d17(0..1)]\n[days_works_s9d18(0..1), <ortools.sat.python.cp_model._NotBooleanVariable object at 0x000001DB386EB280>]\n\n[days_works_s9d16(0..1), days_works_s9d17(0..1), days_works_s9d18(0..1)]\n[days_works_s9d19(0..1), <ortools.sat.python.cp_model._NotBooleanVariable object at 0x000001DB386EB490>]\n\n[days_works_s9d17(0..1), days_works_s9d18(0..1), days_works_s9d19(0..1)]\n[days_works_s9d20(0..1), <ortools.sat.python.cp_model._NotBooleanVariable object at 0x000001DB386EB6A0>]\n\n[days_works_s9d18(0..1), days_works_s9d19(0..1), days_works_s9d20(0..1)]\n[days_works_s9d21(0..1), <ortools.sat.python.cp_model._NotBooleanVariable object at 0x000001DB386EB8B0>]\n\n[days_works_s9d19(0..1), days_works_s9d20(0..1), days_works_s9d21(0..1)]\n[days_works_s9d22(0..1), <ortools.sat.python.cp_model._NotBooleanVariable object at 0x000001DB386EBAC0>]\n\n[days_works_s9d20(0..1), days_works_s9d21(0..1), days_works_s9d22(0..1)]\n[days_works_s9d23(0..1), <ortools.sat.python.cp_model._NotBooleanVariable object at 0x000001DB386EBCD0>]\n\n[days_works_s9d21(0..1), days_works_s9d22(0..1), days_works_s9d23(0..1)]\n[days_works_s9d24(0..1), <ortools.sat.python.cp_model._NotBooleanVariable object at 0x000001DB386EBEE0>]\n\n[days_works_s9d22(0..1), days_works_s9d23(0..1), days_works_s9d24(0..1)]\n[days_works_s9d25(0..1), <ortools.sat.python.cp_model._NotBooleanVariable object at 0x000001DB386F0130>]\n\n[days_works_s9d23(0..1), days_works_s9d24(0..1), days_works_s9d25(0..1)]\n[days_works_s9d26(0..1), <ortools.sat.python.cp_model._NotBooleanVariable object at 0x000001DB386F0340>]\n\n[days_works_s9d24(0..1), days_works_s9d25(0..1), days_works_s9d26(0..1)]\n[days_works_s9d27(0..1), <ortools.sat.python.cp_model._NotBooleanVariable object at 0x000001DB386F0550>]\n\n[days_works_s9d25(0..1), days_works_s9d26(0..1), days_works_s9d27(0..1)]\n[days_works_s9d28(0..1), <ortools.sat.python.cp_model._NotBooleanVariable object at 0x000001DB386F0760>]\n\n[days_works_s9d26(0..1), days_works_s9d27(0..1), days_works_s9d28(0..1)]\n[days_works_s9d29(0..1), <ortools.sat.python.cp_model._NotBooleanVariable object at 0x000001DB386F0970>]\n\n[days_works_s9d27(0..1), days_works_s9d28(0..1), days_works_s9d29(0..1)]\n[days_works_s9d30(0..1)]\n\n[days_works_s10d0(0..1), days_works_s10d1(0..1), days_works_s10d2(0..1)]\n[days_works_s10d3(0..1), <ortools.sat.python.cp_model._NotBooleanVariable object at 0x000001DB386F31F0>]\n\n[days_works_s10d1(0..1), days_works_s10d2(0..1), days_works_s10d3(0..1)]\n[days_works_s10d4(0..1), <ortools.sat.python.cp_model._NotBooleanVariable object at 0x000001DB386F3400>]\n\n[days_works_s10d2(0..1), days_works_s10d3(0..1), days_works_s10d4(0..1)]\n[days_works_s10d5(0..1), <ortools.sat.python.cp_model._NotBooleanVariable object at 0x000001DB386F3610>]\n\n[days_works_s10d3(0..1), days_works_s10d4(0..1), days_works_s10d5(0..1)]\n[days_works_s10d6(0..1), <ortools.sat.python.cp_model._NotBooleanVariable object at 0x000001DB386F3820>]\n\n[days_works_s10d4(0..1), days_works_s10d5(0..1), days_works_s10d6(0..1)]\n[days_works_s10d7(0..1), <ortools.sat.python.cp_model._NotBooleanVariable object at 0x000001DB386F3A30>]\n\n[days_works_s10d5(0..1), days_works_s10d6(0..1), days_works_s10d7(0..1)]\n[days_works_s10d8(0..1), <ortools.sat.python.cp_model._NotBooleanVariable object at 0x000001DB386F3C40>]\n\n[days_works_s10d6(0..1), days_works_s10d7(0..1), days_works_s10d8(0..1)]\n[days_works_s10d9(0..1), <ortools.sat.python.cp_model._NotBooleanVariable object at 0x000001DB386F3E50>]\n\n[days_works_s10d7(0..1), days_works_s10d8(0..1), days_works_s10d9(0..1)]\n[days_works_s10d10(0..1), <ortools.sat.python.cp_model._NotBooleanVariable object at 0x000001DB386F80A0>]\n\n[days_works_s10d8(0..1), days_works_s10d9(0..1), days_works_s10d10(0..1)]\n[days_works_s10d11(0..1), <ortools.sat.python.cp_model._NotBooleanVariable object at 0x000001DB386F82B0>]\n\n[days_works_s10d9(0..1), days_works_s10d10(0..1), days_works_s10d11(0..1)]\n[days_works_s10d12(0..1), <ortools.sat.python.cp_model._NotBooleanVariable object at 0x000001DB386F84C0>]\n\n[days_works_s10d10(0..1), days_works_s10d11(0..1), days_works_s10d12(0..1)]\n[days_works_s10d13(0..1), <ortools.sat.python.cp_model._NotBooleanVariable object at 0x000001DB386F86D0>]\n\n[days_works_s10d11(0..1), days_works_s10d12(0..1), days_works_s10d13(0..1)]\n[days_works_s10d14(0..1), <ortools.sat.python.cp_model._NotBooleanVariable object at 0x000001DB386F88E0>]\n\n[days_works_s10d12(0..1), days_works_s10d13(0..1), days_works_s10d14(0..1)]\n[days_works_s10d15(0..1), <ortools.sat.python.cp_model._NotBooleanVariable object at 0x000001DB386F8AF0>]\n\n[days_works_s10d13(0..1), days_works_s10d14(0..1), days_works_s10d15(0..1)]\n[days_works_s10d16(0..1), <ortools.sat.python.cp_model._NotBooleanVariable object at 0x000001DB386F8D00>]\n\n[days_works_s10d14(0..1), days_works_s10d15(0..1), days_works_s10d16(0..1)]\n[days_works_s10d17(0..1), <ortools.sat.python.cp_model._NotBooleanVariable object at 0x000001DB386F8F10>]\n\n[days_works_s10d15(0..1), days_works_s10d16(0..1), days_works_s10d17(0..1)]\n[days_works_s10d18(0..1), <ortools.sat.python.cp_model._NotBooleanVariable object at 0x000001DB386FC160>]\n\n[days_works_s10d16(0..1), days_works_s10d17(0..1), days_works_s10d18(0..1)]\n[days_works_s10d19(0..1), <ortools.sat.python.cp_model._NotBooleanVariable object at 0x000001DB386FC370>]\n\n[days_works_s10d17(0..1), days_works_s10d18(0..1), days_works_s10d19(0..1)]\n[days_works_s10d20(0..1), <ortools.sat.python.cp_model._NotBooleanVariable object at 0x000001DB386FC580>]\n\n[days_works_s10d18(0..1), days_works_s10d19(0..1), days_works_s10d20(0..1)]\n[days_works_s10d21(0..1), <ortools.sat.python.cp_model._NotBooleanVariable object at 0x000001DB386FC790>]\n\n[days_works_s10d19(0..1), days_works_s10d20(0..1), days_works_s10d21(0..1)]\n[days_works_s10d22(0..1), <ortools.sat.python.cp_model._NotBooleanVariable object at 0x000001DB386FC9A0>]\n\n[days_works_s10d20(0..1), days_works_s10d21(0..1), days_works_s10d22(0..1)]\n[days_works_s10d23(0..1), <ortools.sat.python.cp_model._NotBooleanVariable object at 0x000001DB386FCBB0>]\n\n[days_works_s10d21(0..1), days_works_s10d22(0..1), days_works_s10d23(0..1)]\n[days_works_s10d24(0..1), <ortools.sat.python.cp_model._NotBooleanVariable object at 0x000001DB386FCDC0>]\n\n[days_works_s10d22(0..1), days_works_s10d23(0..1), days_works_s10d24(0..1)]\n[days_works_s10d25(0..1), <ortools.sat.python.cp_model._NotBooleanVariable object at 0x000001DB387010A0>]\n\n[days_works_s10d23(0..1), days_works_s10d24(0..1), days_works_s10d25(0..1)]\n[days_works_s10d26(0..1), <ortools.sat.python.cp_model._NotBooleanVariable object at 0x000001DB38701220>]\n\n[days_works_s10d24(0..1), days_works_s10d25(0..1), days_works_s10d26(0..1)]\n[days_works_s10d27(0..1), <ortools.sat.python.cp_model._NotBooleanVariable object at 0x000001DB38701430>]\n\n[days_works_s10d25(0..1), days_works_s10d26(0..1), days_works_s10d27(0..1)]\n[days_works_s10d28(0..1), <ortools.sat.python.cp_model._NotBooleanVariable object at 0x000001DB38701640>]\n\n[days_works_s10d26(0..1), days_works_s10d27(0..1), days_works_s10d28(0..1)]\n[days_works_s10d29(0..1), <ortools.sat.python.cp_model._NotBooleanVariable object at 0x000001DB38701850>]\n\n[days_works_s10d27(0..1), days_works_s10d28(0..1), days_works_s10d29(0..1)]\n[days_works_s10d30(0..1)]\n\n[days_works_s11d0(0..1), days_works_s11d1(0..1), days_works_s11d2(0..1)]\n[days_works_s11d3(0..1), <ortools.sat.python.cp_model._NotBooleanVariable object at 0x000001DB387040D0>]\n\n[days_works_s11d1(0..1), days_works_s11d2(0..1), days_works_s11d3(0..1)]\n[days_works_s11d4(0..1), <ortools.sat.python.cp_model._NotBooleanVariable object at 0x000001DB387042E0>]\n\n[days_works_s11d2(0..1), days_works_s11d3(0..1), days_works_s11d4(0..1)]\n[days_works_s11d5(0..1), <ortools.sat.python.cp_model._NotBooleanVariable object at 0x000001DB387044F0>]\n\n[days_works_s11d3(0..1), days_works_s11d4(0..1), days_works_s11d5(0..1)]\n[days_works_s11d6(0..1), <ortools.sat.python.cp_model._NotBooleanVariable object at 0x000001DB38704700>]\n\n[days_works_s11d4(0..1), days_works_s11d5(0..1), days_works_s11d6(0..1)]\n[days_works_s11d7(0..1), <ortools.sat.python.cp_model._NotBooleanVariable object at 0x000001DB38704910>]\n\n[days_works_s11d5(0..1), days_works_s11d6(0..1), days_works_s11d7(0..1)]\n[days_works_s11d8(0..1), <ortools.sat.python.cp_model._NotBooleanVariable object at 0x000001DB38704B20>]\n\n[days_works_s11d6(0..1), days_works_s11d7(0..1), days_works_s11d8(0..1)]\n[days_works_s11d9(0..1), <ortools.sat.python.cp_model._NotBooleanVariable object at 0x000001DB38704D30>]\n\n[days_works_s11d7(0..1), days_works_s11d8(0..1), days_works_s11d9(0..1)]\n[days_works_s11d10(0..1), <ortools.sat.python.cp_model._NotBooleanVariable object at 0x000001DB38704F40>]\n\n[days_works_s11d8(0..1), days_works_s11d9(0..1), days_works_s11d10(0..1)]\n[days_works_s11d11(0..1), <ortools.sat.python.cp_model._NotBooleanVariable object at 0x000001DB3870B190>]\n\n[days_works_s11d9(0..1), days_works_s11d10(0..1), days_works_s11d11(0..1)]\n[days_works_s11d12(0..1), <ortools.sat.python.cp_model._NotBooleanVariable object at 0x000001DB3870B3A0>]\n\n[days_works_s11d10(0..1), days_works_s11d11(0..1), days_works_s11d12(0..1)]\n[days_works_s11d13(0..1), <ortools.sat.python.cp_model._NotBooleanVariable object at 0x000001DB3870B5B0>]\n\n[days_works_s11d11(0..1), days_works_s11d12(0..1), days_works_s11d13(0..1)]\n[days_works_s11d14(0..1), <ortools.sat.python.cp_model._NotBooleanVariable object at 0x000001DB3870B7C0>]\n\n[days_works_s11d12(0..1), days_works_s11d13(0..1), days_works_s11d14(0..1)]\n[days_works_s11d15(0..1), <ortools.sat.python.cp_model._NotBooleanVariable object at 0x000001DB3870B9D0>]\n\n[days_works_s11d13(0..1), days_works_s11d14(0..1), days_works_s11d15(0..1)]\n[days_works_s11d16(0..1), <ortools.sat.python.cp_model._NotBooleanVariable object at 0x000001DB3870BBE0>]\n\n[days_works_s11d14(0..1), days_works_s11d15(0..1), days_works_s11d16(0..1)]\n[days_works_s11d17(0..1), <ortools.sat.python.cp_model._NotBooleanVariable object at 0x000001DB3870BDF0>]\n\n[days_works_s11d15(0..1), days_works_s11d16(0..1), days_works_s11d17(0..1)]\n[days_works_s11d18(0..1), <ortools.sat.python.cp_model._NotBooleanVariable object at 0x000001DB3870F040>]\n\n[days_works_s11d16(0..1), days_works_s11d17(0..1), days_works_s11d18(0..1)]\n[days_works_s11d19(0..1), <ortools.sat.python.cp_model._NotBooleanVariable object at 0x000001DB3870F250>]\n\n[days_works_s11d17(0..1), days_works_s11d18(0..1), days_works_s11d19(0..1)]\n[days_works_s11d20(0..1), <ortools.sat.python.cp_model._NotBooleanVariable object at 0x000001DB3870F460>]\n\n[days_works_s11d18(0..1), days_works_s11d19(0..1), days_works_s11d20(0..1)]\n[days_works_s11d21(0..1), <ortools.sat.python.cp_model._NotBooleanVariable object at 0x000001DB3870F670>]\n\n[days_works_s11d19(0..1), days_works_s11d20(0..1), days_works_s11d21(0..1)]\n[days_works_s11d22(0..1), <ortools.sat.python.cp_model._NotBooleanVariable object at 0x000001DB3870F880>]\n\n[days_works_s11d20(0..1), days_works_s11d21(0..1), days_works_s11d22(0..1)]\n[days_works_s11d23(0..1), <ortools.sat.python.cp_model._NotBooleanVariable object at 0x000001DB3870FA90>]\n\n[days_works_s11d21(0..1), days_works_s11d22(0..1), days_works_s11d23(0..1)]\n[days_works_s11d24(0..1), <ortools.sat.python.cp_model._NotBooleanVariable object at 0x000001DB3870FCA0>]\n\n[days_works_s11d22(0..1), days_works_s11d23(0..1), days_works_s11d24(0..1)]\n[days_works_s11d25(0..1), <ortools.sat.python.cp_model._NotBooleanVariable object at 0x000001DB3870FEB0>]\n\n[days_works_s11d23(0..1), days_works_s11d24(0..1), days_works_s11d25(0..1)]\n[days_works_s11d26(0..1), <ortools.sat.python.cp_model._NotBooleanVariable object at 0x000001DB38711100>]\n\n[days_works_s11d24(0..1), days_works_s11d25(0..1), days_works_s11d26(0..1)]\n[days_works_s11d27(0..1), <ortools.sat.python.cp_model._NotBooleanVariable object at 0x000001DB38711310>]\n\n[days_works_s11d25(0..1), days_works_s11d26(0..1), days_works_s11d27(0..1)]\n[days_works_s11d28(0..1), <ortools.sat.python.cp_model._NotBooleanVariable object at 0x000001DB38711520>]\n\n[days_works_s11d26(0..1), days_works_s11d27(0..1), days_works_s11d28(0..1)]\n[days_works_s11d29(0..1), <ortools.sat.python.cp_model._NotBooleanVariable object at 0x000001DB38711730>]\n\n[days_works_s11d27(0..1), days_works_s11d28(0..1), days_works_s11d29(0..1)]\n[days_works_s11d30(0..1)]\n\n[days_works_s12d0(0..1), days_works_s12d1(0..1), days_works_s12d2(0..1)]\n[days_works_s12d3(0..1), <ortools.sat.python.cp_model._NotBooleanVariable object at 0x000001DB38718040>]\n\n[days_works_s12d1(0..1), days_works_s12d2(0..1), days_works_s12d3(0..1)]\n[days_works_s12d4(0..1), <ortools.sat.python.cp_model._NotBooleanVariable object at 0x000001DB387181C0>]\n\n[days_works_s12d2(0..1), days_works_s12d3(0..1), days_works_s12d4(0..1)]\n[days_works_s12d5(0..1), <ortools.sat.python.cp_model._NotBooleanVariable object at 0x000001DB387183D0>]\n\n[days_works_s12d3(0..1), days_works_s12d4(0..1), days_works_s12d5(0..1)]\n[days_works_s12d6(0..1), <ortools.sat.python.cp_model._NotBooleanVariable object at 0x000001DB387185E0>]\n\n[days_works_s12d4(0..1), days_works_s12d5(0..1), days_works_s12d6(0..1)]\n[days_works_s12d7(0..1), <ortools.sat.python.cp_model._NotBooleanVariable object at 0x000001DB387187F0>]\n\n[days_works_s12d5(0..1), days_works_s12d6(0..1), days_works_s12d7(0..1)]\n[days_works_s12d8(0..1), <ortools.sat.python.cp_model._NotBooleanVariable object at 0x000001DB38718A00>]\n\n[days_works_s12d6(0..1), days_works_s12d7(0..1), days_works_s12d8(0..1)]\n[days_works_s12d9(0..1), <ortools.sat.python.cp_model._NotBooleanVariable object at 0x000001DB38718C10>]\n\n[days_works_s12d7(0..1), days_works_s12d8(0..1), days_works_s12d9(0..1)]\n[days_works_s12d10(0..1), <ortools.sat.python.cp_model._NotBooleanVariable object at 0x000001DB38718E20>]\n\n[days_works_s12d8(0..1), days_works_s12d9(0..1), days_works_s12d10(0..1)]\n[days_works_s12d11(0..1), <ortools.sat.python.cp_model._NotBooleanVariable object at 0x000001DB3871B070>]\n\n[days_works_s12d9(0..1), days_works_s12d10(0..1), days_works_s12d11(0..1)]\n[days_works_s12d12(0..1), <ortools.sat.python.cp_model._NotBooleanVariable object at 0x000001DB3871B280>]\n\n[days_works_s12d10(0..1), days_works_s12d11(0..1), days_works_s12d12(0..1)]\n[days_works_s12d13(0..1), <ortools.sat.python.cp_model._NotBooleanVariable object at 0x000001DB3871B490>]\n\n[days_works_s12d11(0..1), days_works_s12d12(0..1), days_works_s12d13(0..1)]\n[days_works_s12d14(0..1), <ortools.sat.python.cp_model._NotBooleanVariable object at 0x000001DB3871B6A0>]\n\n[days_works_s12d12(0..1), days_works_s12d13(0..1), days_works_s12d14(0..1)]\n[days_works_s12d15(0..1), <ortools.sat.python.cp_model._NotBooleanVariable object at 0x000001DB3871B8B0>]\n\n[days_works_s12d13(0..1), days_works_s12d14(0..1), days_works_s12d15(0..1)]\n[days_works_s12d16(0..1), <ortools.sat.python.cp_model._NotBooleanVariable object at 0x000001DB3871BAC0>]\n\n[days_works_s12d14(0..1), days_works_s12d15(0..1), days_works_s12d16(0..1)]\n[days_works_s12d17(0..1), <ortools.sat.python.cp_model._NotBooleanVariable object at 0x000001DB3871BCD0>]\n\n[days_works_s12d15(0..1), days_works_s12d16(0..1), days_works_s12d17(0..1)]\n[days_works_s12d18(0..1), <ortools.sat.python.cp_model._NotBooleanVariable object at 0x000001DB3871BEE0>]\n\n[days_works_s12d16(0..1), days_works_s12d17(0..1), days_works_s12d18(0..1)]\n[days_works_s12d19(0..1), <ortools.sat.python.cp_model._NotBooleanVariable object at 0x000001DB38720130>]\n\n[days_works_s12d17(0..1), days_works_s12d18(0..1), days_works_s12d19(0..1)]\n[days_works_s12d20(0..1), <ortools.sat.python.cp_model._NotBooleanVariable object at 0x000001DB38720340>]\n\n[days_works_s12d18(0..1), days_works_s12d19(0..1), days_works_s12d20(0..1)]\n[days_works_s12d21(0..1), <ortools.sat.python.cp_model._NotBooleanVariable object at 0x000001DB38720550>]\n\n[days_works_s12d19(0..1), days_works_s12d20(0..1), days_works_s12d21(0..1)]\n[days_works_s12d22(0..1), <ortools.sat.python.cp_model._NotBooleanVariable object at 0x000001DB38720760>]\n\n[days_works_s12d20(0..1), days_works_s12d21(0..1), days_works_s12d22(0..1)]\n[days_works_s12d23(0..1), <ortools.sat.python.cp_model._NotBooleanVariable object at 0x000001DB38720970>]\n\n[days_works_s12d21(0..1), days_works_s12d22(0..1), days_works_s12d23(0..1)]\n[days_works_s12d24(0..1), <ortools.sat.python.cp_model._NotBooleanVariable object at 0x000001DB38720B80>]\n\n[days_works_s12d22(0..1), days_works_s12d23(0..1), days_works_s12d24(0..1)]\n[days_works_s12d25(0..1), <ortools.sat.python.cp_model._NotBooleanVariable object at 0x000001DB38720D90>]\n\n[days_works_s12d23(0..1), days_works_s12d24(0..1), days_works_s12d25(0..1)]\n[days_works_s12d26(0..1), <ortools.sat.python.cp_model._NotBooleanVariable object at 0x000001DB38725070>]\n\n[days_works_s12d24(0..1), days_works_s12d25(0..1), days_works_s12d26(0..1)]\n[days_works_s12d27(0..1), <ortools.sat.python.cp_model._NotBooleanVariable object at 0x000001DB387251F0>]\n\n[days_works_s12d25(0..1), days_works_s12d26(0..1), days_works_s12d27(0..1)]\n[days_works_s12d28(0..1), <ortools.sat.python.cp_model._NotBooleanVariable object at 0x000001DB38725400>]\n\n[days_works_s12d26(0..1), days_works_s12d27(0..1), days_works_s12d28(0..1)]\n[days_works_s12d29(0..1), <ortools.sat.python.cp_model._NotBooleanVariable object at 0x000001DB38725610>]\n\n[days_works_s12d27(0..1), days_works_s12d28(0..1), days_works_s12d29(0..1)]\n[days_works_s12d30(0..1)]\n\n[days_works_s13d0(0..1), days_works_s13d1(0..1), days_works_s13d2(0..1)]\n[days_works_s13d3(0..1), <ortools.sat.python.cp_model._NotBooleanVariable object at 0x000001DB38725E50>]\n\n[days_works_s13d1(0..1), days_works_s13d2(0..1), days_works_s13d3(0..1)]\n[days_works_s13d4(0..1), <ortools.sat.python.cp_model._NotBooleanVariable object at 0x000001DB387290A0>]\n\n[days_works_s13d2(0..1), days_works_s13d3(0..1), days_works_s13d4(0..1)]\n[days_works_s13d5(0..1), <ortools.sat.python.cp_model._NotBooleanVariable object at 0x000001DB387292B0>]\n\n[days_works_s13d3(0..1), days_works_s13d4(0..1), days_works_s13d5(0..1)]\n[days_works_s13d6(0..1), <ortools.sat.python.cp_model._NotBooleanVariable object at 0x000001DB387294C0>]\n\n[days_works_s13d4(0..1), days_works_s13d5(0..1), days_works_s13d6(0..1)]\n[days_works_s13d7(0..1), <ortools.sat.python.cp_model._NotBooleanVariable object at 0x000001DB387296D0>]\n\n[days_works_s13d5(0..1), days_works_s13d6(0..1), days_works_s13d7(0..1)]\n[days_works_s13d8(0..1), <ortools.sat.python.cp_model._NotBooleanVariable object at 0x000001DB387298E0>]\n\n[days_works_s13d6(0..1), days_works_s13d7(0..1), days_works_s13d8(0..1)]\n[days_works_s13d9(0..1), <ortools.sat.python.cp_model._NotBooleanVariable object at 0x000001DB38729AF0>]\n\n[days_works_s13d7(0..1), days_works_s13d8(0..1), days_works_s13d9(0..1)]\n[days_works_s13d10(0..1), <ortools.sat.python.cp_model._NotBooleanVariable object at 0x000001DB38729D00>]\n\n[days_works_s13d8(0..1), days_works_s13d9(0..1), days_works_s13d10(0..1)]\n[days_works_s13d11(0..1), <ortools.sat.python.cp_model._NotBooleanVariable object at 0x000001DB38729F10>]\n\n[days_works_s13d9(0..1), days_works_s13d10(0..1), days_works_s13d11(0..1)]\n[days_works_s13d12(0..1), <ortools.sat.python.cp_model._NotBooleanVariable object at 0x000001DB3872D160>]\n\n[days_works_s13d10(0..1), days_works_s13d11(0..1), days_works_s13d12(0..1)]\n[days_works_s13d13(0..1), <ortools.sat.python.cp_model._NotBooleanVariable object at 0x000001DB3872D370>]\n\n[days_works_s13d11(0..1), days_works_s13d12(0..1), days_works_s13d13(0..1)]\n[days_works_s13d14(0..1), <ortools.sat.python.cp_model._NotBooleanVariable object at 0x000001DB3872D580>]\n\n[days_works_s13d12(0..1), days_works_s13d13(0..1), days_works_s13d14(0..1)]\n[days_works_s13d15(0..1), <ortools.sat.python.cp_model._NotBooleanVariable object at 0x000001DB3872D790>]\n\n[days_works_s13d13(0..1), days_works_s13d14(0..1), days_works_s13d15(0..1)]\n[days_works_s13d16(0..1), <ortools.sat.python.cp_model._NotBooleanVariable object at 0x000001DB3872D9A0>]\n\n[days_works_s13d14(0..1), days_works_s13d15(0..1), days_works_s13d16(0..1)]\n[days_works_s13d17(0..1), <ortools.sat.python.cp_model._NotBooleanVariable object at 0x000001DB3872DBB0>]\n\n[days_works_s13d15(0..1), days_works_s13d16(0..1), days_works_s13d17(0..1)]\n[days_works_s13d18(0..1), <ortools.sat.python.cp_model._NotBooleanVariable object at 0x000001DB3872DDC0>]\n\n[days_works_s13d16(0..1), days_works_s13d17(0..1), days_works_s13d18(0..1)]\n[days_works_s13d19(0..1), <ortools.sat.python.cp_model._NotBooleanVariable object at 0x000001DB387310A0>]\n\n[days_works_s13d17(0..1), days_works_s13d18(0..1), days_works_s13d19(0..1)]\n[days_works_s13d20(0..1), <ortools.sat.python.cp_model._NotBooleanVariable object at 0x000001DB38731220>]\n\n[days_works_s13d18(0..1), days_works_s13d19(0..1), days_works_s13d20(0..1)]\n[days_works_s13d21(0..1), <ortools.sat.python.cp_model._NotBooleanVariable object at 0x000001DB38731430>]\n\n[days_works_s13d19(0..1), days_works_s13d20(0..1), days_works_s13d21(0..1)]\n[days_works_s13d22(0..1), <ortools.sat.python.cp_model._NotBooleanVariable object at 0x000001DB38731640>]\n\n[days_works_s13d20(0..1), days_works_s13d21(0..1), days_works_s13d22(0..1)]\n[days_works_s13d23(0..1), <ortools.sat.python.cp_model._NotBooleanVariable object at 0x000001DB38731850>]\n\n[days_works_s13d21(0..1), days_works_s13d22(0..1), days_works_s13d23(0..1)]\n[days_works_s13d24(0..1), <ortools.sat.python.cp_model._NotBooleanVariable object at 0x000001DB38731A60>]\n\n[days_works_s13d22(0..1), days_works_s13d23(0..1), days_works_s13d24(0..1)]\n[days_works_s13d25(0..1), <ortools.sat.python.cp_model._NotBooleanVariable object at 0x000001DB38731C70>]\n\n[days_works_s13d23(0..1), days_works_s13d24(0..1), days_works_s13d25(0..1)]\n[days_works_s13d26(0..1), <ortools.sat.python.cp_model._NotBooleanVariable object at 0x000001DB38731E80>]\n\n[days_works_s13d24(0..1), days_works_s13d25(0..1), days_works_s13d26(0..1)]\n[days_works_s13d27(0..1), <ortools.sat.python.cp_model._NotBooleanVariable object at 0x000001DB387370D0>]\n\n[days_works_s13d25(0..1), days_works_s13d26(0..1), days_works_s13d27(0..1)]\n[days_works_s13d28(0..1), <ortools.sat.python.cp_model._NotBooleanVariable object at 0x000001DB387372E0>]\n\n[days_works_s13d26(0..1), days_works_s13d27(0..1), days_works_s13d28(0..1)]\n[days_works_s13d29(0..1), <ortools.sat.python.cp_model._NotBooleanVariable object at 0x000001DB387374F0>]\n\n[days_works_s13d27(0..1), days_works_s13d28(0..1), days_works_s13d29(0..1)]\n[days_works_s13d30(0..1)]\n\n[days_works_s14d0(0..1), days_works_s14d1(0..1), days_works_s14d2(0..1)]\n[days_works_s14d3(0..1), <ortools.sat.python.cp_model._NotBooleanVariable object at 0x000001DB38737D30>]\n\n[days_works_s14d1(0..1), days_works_s14d2(0..1), days_works_s14d3(0..1)]\n[days_works_s14d4(0..1), <ortools.sat.python.cp_model._NotBooleanVariable object at 0x000001DB38737F40>]\n\n[days_works_s14d2(0..1), days_works_s14d3(0..1), days_works_s14d4(0..1)]\n[days_works_s14d5(0..1), <ortools.sat.python.cp_model._NotBooleanVariable object at 0x000001DB3873A190>]\n\n[days_works_s14d3(0..1), days_works_s14d4(0..1), days_works_s14d5(0..1)]\n[days_works_s14d6(0..1), <ortools.sat.python.cp_model._NotBooleanVariable object at 0x000001DB3873A3A0>]\n\n[days_works_s14d4(0..1), days_works_s14d5(0..1), days_works_s14d6(0..1)]\n[days_works_s14d7(0..1), <ortools.sat.python.cp_model._NotBooleanVariable object at 0x000001DB3873A5B0>]\n\n[days_works_s14d5(0..1), days_works_s14d6(0..1), days_works_s14d7(0..1)]\n[days_works_s14d8(0..1), <ortools.sat.python.cp_model._NotBooleanVariable object at 0x000001DB3873A7C0>]\n\n[days_works_s14d6(0..1), days_works_s14d7(0..1), days_works_s14d8(0..1)]\n[days_works_s14d9(0..1), <ortools.sat.python.cp_model._NotBooleanVariable object at 0x000001DB3873A9D0>]\n\n[days_works_s14d7(0..1), days_works_s14d8(0..1), days_works_s14d9(0..1)]\n[days_works_s14d10(0..1), <ortools.sat.python.cp_model._NotBooleanVariable object at 0x000001DB3873ABE0>]\n\n[days_works_s14d8(0..1), days_works_s14d9(0..1), days_works_s14d10(0..1)]\n[days_works_s14d11(0..1), <ortools.sat.python.cp_model._NotBooleanVariable object at 0x000001DB3873ADF0>]\n\n[days_works_s14d9(0..1), days_works_s14d10(0..1), days_works_s14d11(0..1)]\n[days_works_s14d12(0..1), <ortools.sat.python.cp_model._NotBooleanVariable object at 0x000001DB3873F040>]\n\n[days_works_s14d10(0..1), days_works_s14d11(0..1), days_works_s14d12(0..1)]\n[days_works_s14d13(0..1), <ortools.sat.python.cp_model._NotBooleanVariable object at 0x000001DB3873F250>]\n\n[days_works_s14d11(0..1), days_works_s14d12(0..1), days_works_s14d13(0..1)]\n[days_works_s14d14(0..1), <ortools.sat.python.cp_model._NotBooleanVariable object at 0x000001DB3873F460>]\n\n[days_works_s14d12(0..1), days_works_s14d13(0..1), days_works_s14d14(0..1)]\n[days_works_s14d15(0..1), <ortools.sat.python.cp_model._NotBooleanVariable object at 0x000001DB3873F670>]\n\n[days_works_s14d13(0..1), days_works_s14d14(0..1), days_works_s14d15(0..1)]\n[days_works_s14d16(0..1), <ortools.sat.python.cp_model._NotBooleanVariable object at 0x000001DB3873F880>]\n\n[days_works_s14d14(0..1), days_works_s14d15(0..1), days_works_s14d16(0..1)]\n[days_works_s14d17(0..1), <ortools.sat.python.cp_model._NotBooleanVariable object at 0x000001DB3873FA90>]\n\n[days_works_s14d15(0..1), days_works_s14d16(0..1), days_works_s14d17(0..1)]\n[days_works_s14d18(0..1), <ortools.sat.python.cp_model._NotBooleanVariable object at 0x000001DB3873FCA0>]\n\n[days_works_s14d16(0..1), days_works_s14d17(0..1), days_works_s14d18(0..1)]\n[days_works_s14d19(0..1), <ortools.sat.python.cp_model._NotBooleanVariable object at 0x000001DB3873FEB0>]\n\n[days_works_s14d17(0..1), days_works_s14d18(0..1), days_works_s14d19(0..1)]\n[days_works_s14d20(0..1), <ortools.sat.python.cp_model._NotBooleanVariable object at 0x000001DB38743100>]\n\n[days_works_s14d18(0..1), days_works_s14d19(0..1), days_works_s14d20(0..1)]\n[days_works_s14d21(0..1), <ortools.sat.python.cp_model._NotBooleanVariable object at 0x000001DB38743310>]\n\n[days_works_s14d19(0..1), days_works_s14d20(0..1), days_works_s14d21(0..1)]\n[days_works_s14d22(0..1), <ortools.sat.python.cp_model._NotBooleanVariable object at 0x000001DB38743520>]\n\n[days_works_s14d20(0..1), days_works_s14d21(0..1), days_works_s14d22(0..1)]\n[days_works_s14d23(0..1), <ortools.sat.python.cp_model._NotBooleanVariable object at 0x000001DB38743730>]\n\n[days_works_s14d21(0..1), days_works_s14d22(0..1), days_works_s14d23(0..1)]\n[days_works_s14d24(0..1), <ortools.sat.python.cp_model._NotBooleanVariable object at 0x000001DB38743940>]\n\n[days_works_s14d22(0..1), days_works_s14d23(0..1), days_works_s14d24(0..1)]\n[days_works_s14d25(0..1), <ortools.sat.python.cp_model._NotBooleanVariable object at 0x000001DB38743B50>]\n\n[days_works_s14d23(0..1), days_works_s14d24(0..1), days_works_s14d25(0..1)]\n[days_works_s14d26(0..1), <ortools.sat.python.cp_model._NotBooleanVariable object at 0x000001DB38743D60>]\n\n[days_works_s14d24(0..1), days_works_s14d25(0..1), days_works_s14d26(0..1)]\n[days_works_s14d27(0..1), <ortools.sat.python.cp_model._NotBooleanVariable object at 0x000001DB38748040>]\n\n[days_works_s14d25(0..1), days_works_s14d26(0..1), days_works_s14d27(0..1)]\n[days_works_s14d28(0..1), <ortools.sat.python.cp_model._NotBooleanVariable object at 0x000001DB387481C0>]\n\n[days_works_s14d26(0..1), days_works_s14d27(0..1), days_works_s14d28(0..1)]\n[days_works_s14d29(0..1), <ortools.sat.python.cp_model._NotBooleanVariable object at 0x000001DB387483D0>]\n\n[days_works_s14d27(0..1), days_works_s14d28(0..1), days_works_s14d29(0..1)]\n[days_works_s14d30(0..1)]\n\n[days_works_s15d0(0..1), days_works_s15d1(0..1), days_works_s15d2(0..1)]\n[days_works_s15d3(0..1), <ortools.sat.python.cp_model._NotBooleanVariable object at 0x000001DB38748C10>]\n\n[days_works_s15d1(0..1), days_works_s15d2(0..1), days_works_s15d3(0..1)]\n[days_works_s15d4(0..1), <ortools.sat.python.cp_model._NotBooleanVariable object at 0x000001DB38748E20>]\n\n[days_works_s15d2(0..1), days_works_s15d3(0..1), days_works_s15d4(0..1)]\n[days_works_s15d5(0..1), <ortools.sat.python.cp_model._NotBooleanVariable object at 0x000001DB3874D070>]\n\n[days_works_s15d3(0..1), days_works_s15d4(0..1), days_works_s15d5(0..1)]\n[days_works_s15d6(0..1), <ortools.sat.python.cp_model._NotBooleanVariable object at 0x000001DB3874D280>]\n\n[days_works_s15d4(0..1), days_works_s15d5(0..1), days_works_s15d6(0..1)]\n[days_works_s15d7(0..1), <ortools.sat.python.cp_model._NotBooleanVariable object at 0x000001DB3874D490>]\n\n[days_works_s15d5(0..1), days_works_s15d6(0..1), days_works_s15d7(0..1)]\n[days_works_s15d8(0..1), <ortools.sat.python.cp_model._NotBooleanVariable object at 0x000001DB3874D6A0>]\n\n[days_works_s15d6(0..1), days_works_s15d7(0..1), days_works_s15d8(0..1)]\n[days_works_s15d9(0..1), <ortools.sat.python.cp_model._NotBooleanVariable object at 0x000001DB3874D8B0>]\n\n[days_works_s15d7(0..1), days_works_s15d8(0..1), days_works_s15d9(0..1)]\n[days_works_s15d10(0..1), <ortools.sat.python.cp_model._NotBooleanVariable object at 0x000001DB3874DAC0>]\n\n[days_works_s15d8(0..1), days_works_s15d9(0..1), days_works_s15d10(0..1)]\n[days_works_s15d11(0..1), <ortools.sat.python.cp_model._NotBooleanVariable object at 0x000001DB3874DCD0>]\n\n[days_works_s15d9(0..1), days_works_s15d10(0..1), days_works_s15d11(0..1)]\n[days_works_s15d12(0..1), <ortools.sat.python.cp_model._NotBooleanVariable object at 0x000001DB3874DEE0>]\n\n[days_works_s15d10(0..1), days_works_s15d11(0..1), days_works_s15d12(0..1)]\n[days_works_s15d13(0..1), <ortools.sat.python.cp_model._NotBooleanVariable object at 0x000001DB38751130>]\n\n[days_works_s15d11(0..1), days_works_s15d12(0..1), days_works_s15d13(0..1)]\n[days_works_s15d14(0..1), <ortools.sat.python.cp_model._NotBooleanVariable object at 0x000001DB38751340>]\n\n[days_works_s15d12(0..1), days_works_s15d13(0..1), days_works_s15d14(0..1)]\n[days_works_s15d15(0..1), <ortools.sat.python.cp_model._NotBooleanVariable object at 0x000001DB38751550>]\n\n[days_works_s15d13(0..1), days_works_s15d14(0..1), days_works_s15d15(0..1)]\n[days_works_s15d16(0..1), <ortools.sat.python.cp_model._NotBooleanVariable object at 0x000001DB38751760>]\n\n[days_works_s15d14(0..1), days_works_s15d15(0..1), days_works_s15d16(0..1)]\n[days_works_s15d17(0..1), <ortools.sat.python.cp_model._NotBooleanVariable object at 0x000001DB38751970>]\n\n[days_works_s15d15(0..1), days_works_s15d16(0..1), days_works_s15d17(0..1)]\n[days_works_s15d18(0..1), <ortools.sat.python.cp_model._NotBooleanVariable object at 0x000001DB38751B80>]\n\n[days_works_s15d16(0..1), days_works_s15d17(0..1), days_works_s15d18(0..1)]\n[days_works_s15d19(0..1), <ortools.sat.python.cp_model._NotBooleanVariable object at 0x000001DB38751D90>]\n\n[days_works_s15d17(0..1), days_works_s15d18(0..1), days_works_s15d19(0..1)]\n[days_works_s15d20(0..1), <ortools.sat.python.cp_model._NotBooleanVariable object at 0x000001DB38756070>]\n\n[days_works_s15d18(0..1), days_works_s15d19(0..1), days_works_s15d20(0..1)]\n[days_works_s15d21(0..1), <ortools.sat.python.cp_model._NotBooleanVariable object at 0x000001DB387561F0>]\n\n[days_works_s15d19(0..1), days_works_s15d20(0..1), days_works_s15d21(0..1)]\n[days_works_s15d22(0..1), <ortools.sat.python.cp_model._NotBooleanVariable object at 0x000001DB38756400>]\n\n[days_works_s15d20(0..1), days_works_s15d21(0..1), days_works_s15d22(0..1)]\n[days_works_s15d23(0..1), <ortools.sat.python.cp_model._NotBooleanVariable object at 0x000001DB38756610>]\n\n[days_works_s15d21(0..1), days_works_s15d22(0..1), days_works_s15d23(0..1)]\n[days_works_s15d24(0..1), <ortools.sat.python.cp_model._NotBooleanVariable object at 0x000001DB38756820>]\n\n[days_works_s15d22(0..1), days_works_s15d23(0..1), days_works_s15d24(0..1)]\n[days_works_s15d25(0..1), <ortools.sat.python.cp_model._NotBooleanVariable object at 0x000001DB38756A30>]\n\n[days_works_s15d23(0..1), days_works_s15d24(0..1), days_works_s15d25(0..1)]\n[days_works_s15d26(0..1), <ortools.sat.python.cp_model._NotBooleanVariable object at 0x000001DB38756C40>]\n\n[days_works_s15d24(0..1), days_works_s15d25(0..1), days_works_s15d26(0..1)]\n[days_works_s15d27(0..1), <ortools.sat.python.cp_model._NotBooleanVariable object at 0x000001DB38756E50>]\n\n[days_works_s15d25(0..1), days_works_s15d26(0..1), days_works_s15d27(0..1)]\n[days_works_s15d28(0..1), <ortools.sat.python.cp_model._NotBooleanVariable object at 0x000001DB387590A0>]\n\n[days_works_s15d26(0..1), days_works_s15d27(0..1), days_works_s15d28(0..1)]\n[days_works_s15d29(0..1), <ortools.sat.python.cp_model._NotBooleanVariable object at 0x000001DB387592B0>]\n\n[days_works_s15d27(0..1), days_works_s15d28(0..1), days_works_s15d29(0..1)]\n[days_works_s15d30(0..1)]\n\n[days_works_s16d0(0..1), days_works_s16d1(0..1), days_works_s16d2(0..1)]\n[days_works_s16d3(0..1), <ortools.sat.python.cp_model._NotBooleanVariable object at 0x000001DB38759AF0>]\n\n[days_works_s16d1(0..1), days_works_s16d2(0..1), days_works_s16d3(0..1)]\n[days_works_s16d4(0..1), <ortools.sat.python.cp_model._NotBooleanVariable object at 0x000001DB38759D00>]\n\n[days_works_s16d2(0..1), days_works_s16d3(0..1), days_works_s16d4(0..1)]\n[days_works_s16d5(0..1), <ortools.sat.python.cp_model._NotBooleanVariable object at 0x000001DB38759F10>]\n\n[days_works_s16d3(0..1), days_works_s16d4(0..1), days_works_s16d5(0..1)]\n[days_works_s16d6(0..1), <ortools.sat.python.cp_model._NotBooleanVariable object at 0x000001DB3875F160>]\n\n[days_works_s16d4(0..1), days_works_s16d5(0..1), days_works_s16d6(0..1)]\n[days_works_s16d7(0..1), <ortools.sat.python.cp_model._NotBooleanVariable object at 0x000001DB3875F370>]\n\n[days_works_s16d5(0..1), days_works_s16d6(0..1), days_works_s16d7(0..1)]\n[days_works_s16d8(0..1), <ortools.sat.python.cp_model._NotBooleanVariable object at 0x000001DB3875F580>]\n\n[days_works_s16d6(0..1), days_works_s16d7(0..1), days_works_s16d8(0..1)]\n[days_works_s16d9(0..1), <ortools.sat.python.cp_model._NotBooleanVariable object at 0x000001DB3875F790>]\n\n[days_works_s16d7(0..1), days_works_s16d8(0..1), days_works_s16d9(0..1)]\n[days_works_s16d10(0..1), <ortools.sat.python.cp_model._NotBooleanVariable object at 0x000001DB3875F9A0>]\n\n[days_works_s16d8(0..1), days_works_s16d9(0..1), days_works_s16d10(0..1)]\n[days_works_s16d11(0..1), <ortools.sat.python.cp_model._NotBooleanVariable object at 0x000001DB3875FBB0>]\n\n[days_works_s16d9(0..1), days_works_s16d10(0..1), days_works_s16d11(0..1)]\n[days_works_s16d12(0..1), <ortools.sat.python.cp_model._NotBooleanVariable object at 0x000001DB3875FDC0>]\n\n[days_works_s16d10(0..1), days_works_s16d11(0..1), days_works_s16d12(0..1)]\n[days_works_s16d13(0..1), <ortools.sat.python.cp_model._NotBooleanVariable object at 0x000001DB387620A0>]\n\n[days_works_s16d11(0..1), days_works_s16d12(0..1), days_works_s16d13(0..1)]\n[days_works_s16d14(0..1), <ortools.sat.python.cp_model._NotBooleanVariable object at 0x000001DB38762220>]\n\n[days_works_s16d12(0..1), days_works_s16d13(0..1), days_works_s16d14(0..1)]\n[days_works_s16d15(0..1), <ortools.sat.python.cp_model._NotBooleanVariable object at 0x000001DB38762430>]\n\n[days_works_s16d13(0..1), days_works_s16d14(0..1), days_works_s16d15(0..1)]\n[days_works_s16d16(0..1), <ortools.sat.python.cp_model._NotBooleanVariable object at 0x000001DB38762640>]\n\n[days_works_s16d14(0..1), days_works_s16d15(0..1), days_works_s16d16(0..1)]\n[days_works_s16d17(0..1), <ortools.sat.python.cp_model._NotBooleanVariable object at 0x000001DB38762850>]\n\n[days_works_s16d15(0..1), days_works_s16d16(0..1), days_works_s16d17(0..1)]\n[days_works_s16d18(0..1), <ortools.sat.python.cp_model._NotBooleanVariable object at 0x000001DB38762A60>]\n\n[days_works_s16d16(0..1), days_works_s16d17(0..1), days_works_s16d18(0..1)]\n[days_works_s16d19(0..1), <ortools.sat.python.cp_model._NotBooleanVariable object at 0x000001DB38762C70>]\n\n[days_works_s16d17(0..1), days_works_s16d18(0..1), days_works_s16d19(0..1)]\n[days_works_s16d20(0..1), <ortools.sat.python.cp_model._NotBooleanVariable object at 0x000001DB38762E80>]\n\n[days_works_s16d18(0..1), days_works_s16d19(0..1), days_works_s16d20(0..1)]\n[days_works_s16d21(0..1), <ortools.sat.python.cp_model._NotBooleanVariable object at 0x000001DB387680D0>]\n\n[days_works_s16d19(0..1), days_works_s16d20(0..1), days_works_s16d21(0..1)]\n[days_works_s16d22(0..1), <ortools.sat.python.cp_model._NotBooleanVariable object at 0x000001DB387682E0>]\n\n[days_works_s16d20(0..1), days_works_s16d21(0..1), days_works_s16d22(0..1)]\n[days_works_s16d23(0..1), <ortools.sat.python.cp_model._NotBooleanVariable object at 0x000001DB387684F0>]\n\n[days_works_s16d21(0..1), days_works_s16d22(0..1), days_works_s16d23(0..1)]\n[days_works_s16d24(0..1), <ortools.sat.python.cp_model._NotBooleanVariable object at 0x000001DB38768700>]\n\n[days_works_s16d22(0..1), days_works_s16d23(0..1), days_works_s16d24(0..1)]\n[days_works_s16d25(0..1), <ortools.sat.python.cp_model._NotBooleanVariable object at 0x000001DB38768910>]\n\n[days_works_s16d23(0..1), days_works_s16d24(0..1), days_works_s16d25(0..1)]\n[days_works_s16d26(0..1), <ortools.sat.python.cp_model._NotBooleanVariable object at 0x000001DB38768B20>]\n\n[days_works_s16d24(0..1), days_works_s16d25(0..1), days_works_s16d26(0..1)]\n[days_works_s16d27(0..1), <ortools.sat.python.cp_model._NotBooleanVariable object at 0x000001DB38768D30>]\n\n[days_works_s16d25(0..1), days_works_s16d26(0..1), days_works_s16d27(0..1)]\n[days_works_s16d28(0..1), <ortools.sat.python.cp_model._NotBooleanVariable object at 0x000001DB38768F40>]\n\n[days_works_s16d26(0..1), days_works_s16d27(0..1), days_works_s16d28(0..1)]\n[days_works_s16d29(0..1), <ortools.sat.python.cp_model._NotBooleanVariable object at 0x000001DB3876C190>]\n\n[days_works_s16d27(0..1), days_works_s16d28(0..1), days_works_s16d29(0..1)]\n[days_works_s16d30(0..1)]\n\n[days_works_s17d0(0..1), days_works_s17d1(0..1), days_works_s17d2(0..1)]\n[days_works_s17d3(0..1), <ortools.sat.python.cp_model._NotBooleanVariable object at 0x000001DB3876CA00>]\n\n[days_works_s17d1(0..1), days_works_s17d2(0..1), days_works_s17d3(0..1)]\n[days_works_s17d4(0..1), <ortools.sat.python.cp_model._NotBooleanVariable object at 0x000001DB3876CC10>]\n\n[days_works_s17d2(0..1), days_works_s17d3(0..1), days_works_s17d4(0..1)]\n[days_works_s17d5(0..1), <ortools.sat.python.cp_model._NotBooleanVariable object at 0x000001DB3876CE20>]\n\n[days_works_s17d3(0..1), days_works_s17d4(0..1), days_works_s17d5(0..1)]\n[days_works_s17d6(0..1), <ortools.sat.python.cp_model._NotBooleanVariable object at 0x000001DB38770070>]\n\n[days_works_s17d4(0..1), days_works_s17d5(0..1), days_works_s17d6(0..1)]\n[days_works_s17d7(0..1), <ortools.sat.python.cp_model._NotBooleanVariable object at 0x000001DB38770280>]\n\n[days_works_s17d5(0..1), days_works_s17d6(0..1), days_works_s17d7(0..1)]\n[days_works_s17d8(0..1), <ortools.sat.python.cp_model._NotBooleanVariable object at 0x000001DB38770490>]\n\n[days_works_s17d6(0..1), days_works_s17d7(0..1), days_works_s17d8(0..1)]\n[days_works_s17d9(0..1), <ortools.sat.python.cp_model._NotBooleanVariable object at 0x000001DB387706A0>]\n\n[days_works_s17d7(0..1), days_works_s17d8(0..1), days_works_s17d9(0..1)]\n[days_works_s17d10(0..1), <ortools.sat.python.cp_model._NotBooleanVariable object at 0x000001DB387708B0>]\n\n[days_works_s17d8(0..1), days_works_s17d9(0..1), days_works_s17d10(0..1)]\n[days_works_s17d11(0..1), <ortools.sat.python.cp_model._NotBooleanVariable object at 0x000001DB38770AC0>]\n\n[days_works_s17d9(0..1), days_works_s17d10(0..1), days_works_s17d11(0..1)]\n[days_works_s17d12(0..1), <ortools.sat.python.cp_model._NotBooleanVariable object at 0x000001DB38770CD0>]\n\n[days_works_s17d10(0..1), days_works_s17d11(0..1), days_works_s17d12(0..1)]\n[days_works_s17d13(0..1), <ortools.sat.python.cp_model._NotBooleanVariable object at 0x000001DB38770EE0>]\n\n[days_works_s17d11(0..1), days_works_s17d12(0..1), days_works_s17d13(0..1)]\n[days_works_s17d14(0..1), <ortools.sat.python.cp_model._NotBooleanVariable object at 0x000001DB38775130>]\n\n[days_works_s17d12(0..1), days_works_s17d13(0..1), days_works_s17d14(0..1)]\n[days_works_s17d15(0..1), <ortools.sat.python.cp_model._NotBooleanVariable object at 0x000001DB38775340>]\n\n[days_works_s17d13(0..1), days_works_s17d14(0..1), days_works_s17d15(0..1)]\n[days_works_s17d16(0..1), <ortools.sat.python.cp_model._NotBooleanVariable object at 0x000001DB38775550>]\n\n[days_works_s17d14(0..1), days_works_s17d15(0..1), days_works_s17d16(0..1)]\n[days_works_s17d17(0..1), <ortools.sat.python.cp_model._NotBooleanVariable object at 0x000001DB38775760>]\n\n[days_works_s17d15(0..1), days_works_s17d16(0..1), days_works_s17d17(0..1)]\n[days_works_s17d18(0..1), <ortools.sat.python.cp_model._NotBooleanVariable object at 0x000001DB38775970>]\n\n[days_works_s17d16(0..1), days_works_s17d17(0..1), days_works_s17d18(0..1)]\n[days_works_s17d19(0..1), <ortools.sat.python.cp_model._NotBooleanVariable object at 0x000001DB38775B80>]\n\n[days_works_s17d17(0..1), days_works_s17d18(0..1), days_works_s17d19(0..1)]\n[days_works_s17d20(0..1), <ortools.sat.python.cp_model._NotBooleanVariable object at 0x000001DB38775D90>]\n\n[days_works_s17d18(0..1), days_works_s17d19(0..1), days_works_s17d20(0..1)]\n[days_works_s17d21(0..1), <ortools.sat.python.cp_model._NotBooleanVariable object at 0x000001DB38778070>]\n\n[days_works_s17d19(0..1), days_works_s17d20(0..1), days_works_s17d21(0..1)]\n[days_works_s17d22(0..1), <ortools.sat.python.cp_model._NotBooleanVariable object at 0x000001DB38778250>]\n\n[days_works_s17d20(0..1), days_works_s17d21(0..1), days_works_s17d22(0..1)]\n[days_works_s17d23(0..1), <ortools.sat.python.cp_model._NotBooleanVariable object at 0x000001DB387781F0>]\n\n[days_works_s17d21(0..1), days_works_s17d22(0..1), days_works_s17d23(0..1)]\n[days_works_s17d24(0..1), <ortools.sat.python.cp_model._NotBooleanVariable object at 0x000001DB387785B0>]\n\n[days_works_s17d22(0..1), days_works_s17d23(0..1), days_works_s17d24(0..1)]\n[days_works_s17d25(0..1), <ortools.sat.python.cp_model._NotBooleanVariable object at 0x000001DB387787C0>]\n\n[days_works_s17d23(0..1), days_works_s17d24(0..1), days_works_s17d25(0..1)]\n[days_works_s17d26(0..1), <ortools.sat.python.cp_model._NotBooleanVariable object at 0x000001DB387789D0>]\n\n[days_works_s17d24(0..1), days_works_s17d25(0..1), days_works_s17d26(0..1)]\n[days_works_s17d27(0..1), <ortools.sat.python.cp_model._NotBooleanVariable object at 0x000001DB38778BE0>]\n\n[days_works_s17d25(0..1), days_works_s17d26(0..1), days_works_s17d27(0..1)]\n[days_works_s17d28(0..1), <ortools.sat.python.cp_model._NotBooleanVariable object at 0x000001DB38778DF0>]\n\n[days_works_s17d26(0..1), days_works_s17d27(0..1), days_works_s17d28(0..1)]\n[days_works_s17d29(0..1), <ortools.sat.python.cp_model._NotBooleanVariable object at 0x000001DB3877F040>]\n\n[days_works_s17d27(0..1), days_works_s17d28(0..1), days_works_s17d29(0..1)]\n[days_works_s17d30(0..1)]\n\n[days_works_s18d0(0..1), days_works_s18d1(0..1), days_works_s18d2(0..1)]\n[days_works_s18d3(0..1), <ortools.sat.python.cp_model._NotBooleanVariable object at 0x000001DB3877F880>]\n\n[days_works_s18d1(0..1), days_works_s18d2(0..1), days_works_s18d3(0..1)]\n[days_works_s18d4(0..1), <ortools.sat.python.cp_model._NotBooleanVariable object at 0x000001DB3877FA90>]\n\n[days_works_s18d2(0..1), days_works_s18d3(0..1), days_works_s18d4(0..1)]\n[days_works_s18d5(0..1), <ortools.sat.python.cp_model._NotBooleanVariable object at 0x000001DB3877FCA0>]\n\n[days_works_s18d3(0..1), days_works_s18d4(0..1), days_works_s18d5(0..1)]\n[days_works_s18d6(0..1), <ortools.sat.python.cp_model._NotBooleanVariable object at 0x000001DB3877FEB0>]\n\n[days_works_s18d4(0..1), days_works_s18d5(0..1), days_works_s18d6(0..1)]\n[days_works_s18d7(0..1), <ortools.sat.python.cp_model._NotBooleanVariable object at 0x000001DB38783100>]\n\n[days_works_s18d5(0..1), days_works_s18d6(0..1), days_works_s18d7(0..1)]\n[days_works_s18d8(0..1), <ortools.sat.python.cp_model._NotBooleanVariable object at 0x000001DB38783310>]\n\n[days_works_s18d6(0..1), days_works_s18d7(0..1), days_works_s18d8(0..1)]\n[days_works_s18d9(0..1), <ortools.sat.python.cp_model._NotBooleanVariable object at 0x000001DB38783520>]\n\n[days_works_s18d7(0..1), days_works_s18d8(0..1), days_works_s18d9(0..1)]\n[days_works_s18d10(0..1), <ortools.sat.python.cp_model._NotBooleanVariable object at 0x000001DB38783730>]\n\n[days_works_s18d8(0..1), days_works_s18d9(0..1), days_works_s18d10(0..1)]\n[days_works_s18d11(0..1), <ortools.sat.python.cp_model._NotBooleanVariable object at 0x000001DB38783940>]\n\n[days_works_s18d9(0..1), days_works_s18d10(0..1), days_works_s18d11(0..1)]\n[days_works_s18d12(0..1), <ortools.sat.python.cp_model._NotBooleanVariable object at 0x000001DB38783B50>]\n\n[days_works_s18d10(0..1), days_works_s18d11(0..1), days_works_s18d12(0..1)]\n[days_works_s18d13(0..1), <ortools.sat.python.cp_model._NotBooleanVariable object at 0x000001DB38783D60>]\n\n[days_works_s18d11(0..1), days_works_s18d12(0..1), days_works_s18d13(0..1)]\n[days_works_s18d14(0..1), <ortools.sat.python.cp_model._NotBooleanVariable object at 0x000001DB38786040>]\n\n[days_works_s18d12(0..1), days_works_s18d13(0..1), days_works_s18d14(0..1)]\n[days_works_s18d15(0..1), <ortools.sat.python.cp_model._NotBooleanVariable object at 0x000001DB387861C0>]\n\n[days_works_s18d13(0..1), days_works_s18d14(0..1), days_works_s18d15(0..1)]\n[days_works_s18d16(0..1), <ortools.sat.python.cp_model._NotBooleanVariable object at 0x000001DB387863D0>]\n\n[days_works_s18d14(0..1), days_works_s18d15(0..1), days_works_s18d16(0..1)]\n[days_works_s18d17(0..1), <ortools.sat.python.cp_model._NotBooleanVariable object at 0x000001DB387865E0>]\n\n[days_works_s18d15(0..1), days_works_s18d16(0..1), days_works_s18d17(0..1)]\n[days_works_s18d18(0..1), <ortools.sat.python.cp_model._NotBooleanVariable object at 0x000001DB387867F0>]\n\n[days_works_s18d16(0..1), days_works_s18d17(0..1), days_works_s18d18(0..1)]\n[days_works_s18d19(0..1), <ortools.sat.python.cp_model._NotBooleanVariable object at 0x000001DB38786A00>]\n\n[days_works_s18d17(0..1), days_works_s18d18(0..1), days_works_s18d19(0..1)]\n[days_works_s18d20(0..1), <ortools.sat.python.cp_model._NotBooleanVariable object at 0x000001DB38786C10>]\n\n[days_works_s18d18(0..1), days_works_s18d19(0..1), days_works_s18d20(0..1)]\n[days_works_s18d21(0..1), <ortools.sat.python.cp_model._NotBooleanVariable object at 0x000001DB38786E20>]\n\n[days_works_s18d19(0..1), days_works_s18d20(0..1), days_works_s18d21(0..1)]\n[days_works_s18d22(0..1), <ortools.sat.python.cp_model._NotBooleanVariable object at 0x000001DB3878C070>]\n\n[days_works_s18d20(0..1), days_works_s18d21(0..1), days_works_s18d22(0..1)]\n[days_works_s18d23(0..1), <ortools.sat.python.cp_model._NotBooleanVariable object at 0x000001DB3878C280>]\n\n[days_works_s18d21(0..1), days_works_s18d22(0..1), days_works_s18d23(0..1)]\n[days_works_s18d24(0..1), <ortools.sat.python.cp_model._NotBooleanVariable object at 0x000001DB3878C490>]\n\n[days_works_s18d22(0..1), days_works_s18d23(0..1), days_works_s18d24(0..1)]\n[days_works_s18d25(0..1), <ortools.sat.python.cp_model._NotBooleanVariable object at 0x000001DB3878C6A0>]\n\n[days_works_s18d23(0..1), days_works_s18d24(0..1), days_works_s18d25(0..1)]\n[days_works_s18d26(0..1), <ortools.sat.python.cp_model._NotBooleanVariable object at 0x000001DB3878C8B0>]\n\n[days_works_s18d24(0..1), days_works_s18d25(0..1), days_works_s18d26(0..1)]\n[days_works_s18d27(0..1), <ortools.sat.python.cp_model._NotBooleanVariable object at 0x000001DB3878CAC0>]\n\n[days_works_s18d25(0..1), days_works_s18d26(0..1), days_works_s18d27(0..1)]\n[days_works_s18d28(0..1), <ortools.sat.python.cp_model._NotBooleanVariable object at 0x000001DB3878CCD0>]\n\n[days_works_s18d26(0..1), days_works_s18d27(0..1), days_works_s18d28(0..1)]\n[days_works_s18d29(0..1), <ortools.sat.python.cp_model._NotBooleanVariable object at 0x000001DB3878CEE0>]\n\n[days_works_s18d27(0..1), days_works_s18d28(0..1), days_works_s18d29(0..1)]\n[days_works_s18d30(0..1)]\n\n[days_works_s19d0(0..1), days_works_s19d1(0..1), days_works_s19d2(0..1)]\n[days_works_s19d3(0..1), <ortools.sat.python.cp_model._NotBooleanVariable object at 0x000001DB3878F760>]\n\n[days_works_s19d1(0..1), days_works_s19d2(0..1), days_works_s19d3(0..1)]\n[days_works_s19d4(0..1), <ortools.sat.python.cp_model._NotBooleanVariable object at 0x000001DB3878F970>]\n\n[days_works_s19d2(0..1), days_works_s19d3(0..1), days_works_s19d4(0..1)]\n[days_works_s19d5(0..1), <ortools.sat.python.cp_model._NotBooleanVariable object at 0x000001DB3878FB80>]\n\n[days_works_s19d3(0..1), days_works_s19d4(0..1), days_works_s19d5(0..1)]\n[days_works_s19d6(0..1), <ortools.sat.python.cp_model._NotBooleanVariable object at 0x000001DB3878FD90>]\n\n[days_works_s19d4(0..1), days_works_s19d5(0..1), days_works_s19d6(0..1)]\n[days_works_s19d7(0..1), <ortools.sat.python.cp_model._NotBooleanVariable object at 0x000001DB38794070>]\n\n[days_works_s19d5(0..1), days_works_s19d6(0..1), days_works_s19d7(0..1)]\n[days_works_s19d8(0..1), <ortools.sat.python.cp_model._NotBooleanVariable object at 0x000001DB387941F0>]\n\n[days_works_s19d6(0..1), days_works_s19d7(0..1), days_works_s19d8(0..1)]\n[days_works_s19d9(0..1), <ortools.sat.python.cp_model._NotBooleanVariable object at 0x000001DB38794400>]\n\n[days_works_s19d7(0..1), days_works_s19d8(0..1), days_works_s19d9(0..1)]\n[days_works_s19d10(0..1), <ortools.sat.python.cp_model._NotBooleanVariable object at 0x000001DB38794610>]\n\n[days_works_s19d8(0..1), days_works_s19d9(0..1), days_works_s19d10(0..1)]\n[days_works_s19d11(0..1), <ortools.sat.python.cp_model._NotBooleanVariable object at 0x000001DB38794820>]\n\n[days_works_s19d9(0..1), days_works_s19d10(0..1), days_works_s19d11(0..1)]\n[days_works_s19d12(0..1), <ortools.sat.python.cp_model._NotBooleanVariable object at 0x000001DB38794A30>]\n\n[days_works_s19d10(0..1), days_works_s19d11(0..1), days_works_s19d12(0..1)]\n[days_works_s19d13(0..1), <ortools.sat.python.cp_model._NotBooleanVariable object at 0x000001DB38794C40>]\n\n[days_works_s19d11(0..1), days_works_s19d12(0..1), days_works_s19d13(0..1)]\n[days_works_s19d14(0..1), <ortools.sat.python.cp_model._NotBooleanVariable object at 0x000001DB38794E50>]\n\n[days_works_s19d12(0..1), days_works_s19d13(0..1), days_works_s19d14(0..1)]\n[days_works_s19d15(0..1), <ortools.sat.python.cp_model._NotBooleanVariable object at 0x000001DB387990A0>]\n\n[days_works_s19d13(0..1), days_works_s19d14(0..1), days_works_s19d15(0..1)]\n[days_works_s19d16(0..1), <ortools.sat.python.cp_model._NotBooleanVariable object at 0x000001DB387992B0>]\n\n[days_works_s19d14(0..1), days_works_s19d15(0..1), days_works_s19d16(0..1)]\n[days_works_s19d17(0..1), <ortools.sat.python.cp_model._NotBooleanVariable object at 0x000001DB387994C0>]\n\n[days_works_s19d15(0..1), days_works_s19d16(0..1), days_works_s19d17(0..1)]\n[days_works_s19d18(0..1), <ortools.sat.python.cp_model._NotBooleanVariable object at 0x000001DB387996D0>]\n\n[days_works_s19d16(0..1), days_works_s19d17(0..1), days_works_s19d18(0..1)]\n[days_works_s19d19(0..1), <ortools.sat.python.cp_model._NotBooleanVariable object at 0x000001DB387998E0>]\n\n[days_works_s19d17(0..1), days_works_s19d18(0..1), days_works_s19d19(0..1)]\n[days_works_s19d20(0..1), <ortools.sat.python.cp_model._NotBooleanVariable object at 0x000001DB38799AF0>]\n\n[days_works_s19d18(0..1), days_works_s19d19(0..1), days_works_s19d20(0..1)]\n[days_works_s19d21(0..1), <ortools.sat.python.cp_model._NotBooleanVariable object at 0x000001DB38799D00>]\n\n[days_works_s19d19(0..1), days_works_s19d20(0..1), days_works_s19d21(0..1)]\n[days_works_s19d22(0..1), <ortools.sat.python.cp_model._NotBooleanVariable object at 0x000001DB38799F10>]\n\n[days_works_s19d20(0..1), days_works_s19d21(0..1), days_works_s19d22(0..1)]\n[days_works_s19d23(0..1), <ortools.sat.python.cp_model._NotBooleanVariable object at 0x000001DB3879E160>]\n\n[days_works_s19d21(0..1), days_works_s19d22(0..1), days_works_s19d23(0..1)]\n[days_works_s19d24(0..1), <ortools.sat.python.cp_model._NotBooleanVariable object at 0x000001DB3879E370>]\n\n[days_works_s19d22(0..1), days_works_s19d23(0..1), days_works_s19d24(0..1)]\n[days_works_s19d25(0..1), <ortools.sat.python.cp_model._NotBooleanVariable object at 0x000001DB3879E580>]\n\n[days_works_s19d23(0..1), days_works_s19d24(0..1), days_works_s19d25(0..1)]\n[days_works_s19d26(0..1), <ortools.sat.python.cp_model._NotBooleanVariable object at 0x000001DB3879E790>]\n\n[days_works_s19d24(0..1), days_works_s19d25(0..1), days_works_s19d26(0..1)]\n[days_works_s19d27(0..1), <ortools.sat.python.cp_model._NotBooleanVariable object at 0x000001DB3879E9A0>]\n\n[days_works_s19d25(0..1), days_works_s19d26(0..1), days_works_s19d27(0..1)]\n[days_works_s19d28(0..1), <ortools.sat.python.cp_model._NotBooleanVariable object at 0x000001DB3879EBB0>]\n\n[days_works_s19d26(0..1), days_works_s19d27(0..1), days_works_s19d28(0..1)]\n[days_works_s19d29(0..1), <ortools.sat.python.cp_model._NotBooleanVariable object at 0x000001DB3879EDC0>]\n\n[days_works_s19d27(0..1), days_works_s19d28(0..1), days_works_s19d29(0..1)]\n[days_works_s19d30(0..1)]\n\n"
     ]
    }
   ],
   "source": [
    "all_shifts_taken()\n",
    "max_days_worked()\n",
    "# days_off_after_midnight()\n",
    "midnight_physicians()\n",
    "no_midnights_within_six_months()\n",
    "max_midnights_in_a_row()\n",
    "on_call_shift_day_after()\n",
    "ft_physicians()\n",
    "no_late_shift_before_time_off()\n",
    "no_early_shifts_before_on_call()\n",
    "days_off_after_consecutive_shifts()\n",
    "\n",
    "# transitions_constraints()\n",
    "# days_off_between_late_and_day_shifts()\n",
    "# days_off_between_late_and_afternoon_shifts()\n",
    "# late_shifts_in_a_row()\n",
    "# late_shifts_in_weeks()\n",
    "# avoid_consecutive_ft_shifts()\n"
   ]
  },
  {
   "cell_type": "code",
   "execution_count": 17,
   "metadata": {},
   "outputs": [
    {
     "output_type": "stream",
     "name": "stdout",
     "text": [
      "1\nDay 0\n"
     ]
    },
    {
     "output_type": "error",
     "ename": "IndexError",
     "evalue": "list index out of range",
     "traceback": [
      "\u001b[1;31m---------------------------------------------------------------------------\u001b[0m",
      "\u001b[1;31mIndexError\u001b[0m                                Traceback (most recent call last)",
      "\u001b[1;32m<ipython-input-17-63ac242b601b>\u001b[0m in \u001b[0;36m<module>\u001b[1;34m\u001b[0m\n\u001b[0;32m     18\u001b[0m     \u001b[1;32mfor\u001b[0m \u001b[0ms\u001b[0m \u001b[1;32min\u001b[0m \u001b[0mshifts\u001b[0m\u001b[1;33m:\u001b[0m\u001b[1;33m\u001b[0m\u001b[1;33m\u001b[0m\u001b[0m\n\u001b[0;32m     19\u001b[0m         \u001b[1;32mfor\u001b[0m \u001b[0mm\u001b[0m \u001b[1;32min\u001b[0m \u001b[0mstaff\u001b[0m\u001b[1;33m:\u001b[0m\u001b[1;33m\u001b[0m\u001b[1;33m\u001b[0m\u001b[0m\n\u001b[1;32m---> 20\u001b[1;33m             \u001b[1;32mif\u001b[0m \u001b[0msolver\u001b[0m\u001b[1;33m.\u001b[0m\u001b[0mValue\u001b[0m\u001b[1;33m(\u001b[0m\u001b[0mworks\u001b[0m\u001b[1;33m[\u001b[0m\u001b[1;33m(\u001b[0m\u001b[0mm\u001b[0m\u001b[1;33m,\u001b[0m \u001b[0md\u001b[0m\u001b[1;33m,\u001b[0m \u001b[0ms\u001b[0m\u001b[1;33m)\u001b[0m\u001b[1;33m]\u001b[0m\u001b[1;33m)\u001b[0m \u001b[1;33m==\u001b[0m \u001b[1;36m1\u001b[0m\u001b[1;33m:\u001b[0m\u001b[1;33m\u001b[0m\u001b[1;33m\u001b[0m\u001b[0m\n\u001b[0m\u001b[0;32m     21\u001b[0m               \u001b[0mprint\u001b[0m\u001b[1;33m(\u001b[0m\u001b[0mstaff_list\u001b[0m\u001b[1;33m[\u001b[0m\u001b[0mm\u001b[0m\u001b[1;33m]\u001b[0m\u001b[1;33m,\u001b[0m \u001b[1;34m'works shift'\u001b[0m\u001b[1;33m,\u001b[0m \u001b[0mshift_list\u001b[0m\u001b[1;33m[\u001b[0m\u001b[0ms\u001b[0m\u001b[1;33m]\u001b[0m\u001b[1;33m)\u001b[0m\u001b[1;33m\u001b[0m\u001b[1;33m\u001b[0m\u001b[0m\n\u001b[0;32m     22\u001b[0m     \u001b[0mprint\u001b[0m\u001b[1;33m(\u001b[0m\u001b[1;33m)\u001b[0m\u001b[1;33m\u001b[0m\u001b[1;33m\u001b[0m\u001b[0m\n",
      "\u001b[1;32m~\\anaconda\\anaconda3\\envs\\new_env\\lib\\site-packages\\ortools\\sat\\python\\cp_model.py\u001b[0m in \u001b[0;36mValue\u001b[1;34m(self, expression)\u001b[0m\n\u001b[0;32m   1870\u001b[0m         \u001b[1;32mif\u001b[0m \u001b[1;32mnot\u001b[0m \u001b[0mself\u001b[0m\u001b[1;33m.\u001b[0m\u001b[0m__solution\u001b[0m\u001b[1;33m:\u001b[0m\u001b[1;33m\u001b[0m\u001b[1;33m\u001b[0m\u001b[0m\n\u001b[0;32m   1871\u001b[0m             \u001b[1;32mraise\u001b[0m \u001b[0mRuntimeError\u001b[0m\u001b[1;33m(\u001b[0m\u001b[1;34m'Solve() has not be called.'\u001b[0m\u001b[1;33m)\u001b[0m\u001b[1;33m\u001b[0m\u001b[1;33m\u001b[0m\u001b[0m\n\u001b[1;32m-> 1872\u001b[1;33m         \u001b[1;32mreturn\u001b[0m \u001b[0mEvaluateLinearExpr\u001b[0m\u001b[1;33m(\u001b[0m\u001b[0mexpression\u001b[0m\u001b[1;33m,\u001b[0m \u001b[0mself\u001b[0m\u001b[1;33m.\u001b[0m\u001b[0m__solution\u001b[0m\u001b[1;33m)\u001b[0m\u001b[1;33m\u001b[0m\u001b[1;33m\u001b[0m\u001b[0m\n\u001b[0m\u001b[0;32m   1873\u001b[0m \u001b[1;33m\u001b[0m\u001b[0m\n\u001b[0;32m   1874\u001b[0m     \u001b[1;32mdef\u001b[0m \u001b[0mBooleanValue\u001b[0m\u001b[1;33m(\u001b[0m\u001b[0mself\u001b[0m\u001b[1;33m,\u001b[0m \u001b[0mliteral\u001b[0m\u001b[1;33m)\u001b[0m\u001b[1;33m:\u001b[0m\u001b[1;33m\u001b[0m\u001b[1;33m\u001b[0m\u001b[0m\n",
      "\u001b[1;32m~\\anaconda\\anaconda3\\envs\\new_env\\lib\\site-packages\\ortools\\sat\\python\\cp_model.py\u001b[0m in \u001b[0;36mEvaluateLinearExpr\u001b[1;34m(expression, solution)\u001b[0m\n\u001b[0;32m   1760\u001b[0m             \u001b[0mvalue\u001b[0m \u001b[1;33m+=\u001b[0m \u001b[0mexpr\u001b[0m\u001b[1;33m.\u001b[0m\u001b[0mConstant\u001b[0m\u001b[1;33m(\u001b[0m\u001b[1;33m)\u001b[0m \u001b[1;33m*\u001b[0m \u001b[0mcoef\u001b[0m\u001b[1;33m\u001b[0m\u001b[1;33m\u001b[0m\u001b[0m\n\u001b[0;32m   1761\u001b[0m         \u001b[1;32melif\u001b[0m \u001b[0misinstance\u001b[0m\u001b[1;33m(\u001b[0m\u001b[0mexpr\u001b[0m\u001b[1;33m,\u001b[0m \u001b[0mIntVar\u001b[0m\u001b[1;33m)\u001b[0m\u001b[1;33m:\u001b[0m\u001b[1;33m\u001b[0m\u001b[1;33m\u001b[0m\u001b[0m\n\u001b[1;32m-> 1762\u001b[1;33m             \u001b[0mvalue\u001b[0m \u001b[1;33m+=\u001b[0m \u001b[0mcoef\u001b[0m \u001b[1;33m*\u001b[0m \u001b[0msolution\u001b[0m\u001b[1;33m.\u001b[0m\u001b[0msolution\u001b[0m\u001b[1;33m[\u001b[0m\u001b[0mexpr\u001b[0m\u001b[1;33m.\u001b[0m\u001b[0mIndex\u001b[0m\u001b[1;33m(\u001b[0m\u001b[1;33m)\u001b[0m\u001b[1;33m]\u001b[0m\u001b[1;33m\u001b[0m\u001b[1;33m\u001b[0m\u001b[0m\n\u001b[0m\u001b[0;32m   1763\u001b[0m         \u001b[1;32melif\u001b[0m \u001b[0misinstance\u001b[0m\u001b[1;33m(\u001b[0m\u001b[0mexpr\u001b[0m\u001b[1;33m,\u001b[0m \u001b[0m_NotBooleanVariable\u001b[0m\u001b[1;33m)\u001b[0m\u001b[1;33m:\u001b[0m\u001b[1;33m\u001b[0m\u001b[1;33m\u001b[0m\u001b[0m\n\u001b[0;32m   1764\u001b[0m             \u001b[0mvalue\u001b[0m \u001b[1;33m+=\u001b[0m \u001b[0mcoef\u001b[0m \u001b[1;33m*\u001b[0m \u001b[1;33m(\u001b[0m\u001b[1;36m1\u001b[0m \u001b[1;33m-\u001b[0m \u001b[0msolution\u001b[0m\u001b[1;33m.\u001b[0m\u001b[0msolution\u001b[0m\u001b[1;33m[\u001b[0m\u001b[0mexpr\u001b[0m\u001b[1;33m.\u001b[0m\u001b[0mNot\u001b[0m\u001b[1;33m(\u001b[0m\u001b[1;33m)\u001b[0m\u001b[1;33m.\u001b[0m\u001b[0mIndex\u001b[0m\u001b[1;33m(\u001b[0m\u001b[1;33m)\u001b[0m\u001b[1;33m]\u001b[0m\u001b[1;33m)\u001b[0m\u001b[1;33m\u001b[0m\u001b[1;33m\u001b[0m\u001b[0m\n",
      "\u001b[1;32m~\\anaconda\\anaconda3\\envs\\new_env\\lib\\site-packages\\google\\protobuf\\internal\\containers.py\u001b[0m in \u001b[0;36m__getitem__\u001b[1;34m(self, key)\u001b[0m\n\u001b[0;32m    207\u001b[0m   \u001b[1;32mdef\u001b[0m \u001b[0m__getitem__\u001b[0m\u001b[1;33m(\u001b[0m\u001b[0mself\u001b[0m\u001b[1;33m,\u001b[0m \u001b[0mkey\u001b[0m\u001b[1;33m)\u001b[0m\u001b[1;33m:\u001b[0m\u001b[1;33m\u001b[0m\u001b[1;33m\u001b[0m\u001b[0m\n\u001b[0;32m    208\u001b[0m     \u001b[1;34m\"\"\"Retrieves item by the specified key.\"\"\"\u001b[0m\u001b[1;33m\u001b[0m\u001b[1;33m\u001b[0m\u001b[0m\n\u001b[1;32m--> 209\u001b[1;33m     \u001b[1;32mreturn\u001b[0m \u001b[0mself\u001b[0m\u001b[1;33m.\u001b[0m\u001b[0m_values\u001b[0m\u001b[1;33m[\u001b[0m\u001b[0mkey\u001b[0m\u001b[1;33m]\u001b[0m\u001b[1;33m\u001b[0m\u001b[1;33m\u001b[0m\u001b[0m\n\u001b[0m\u001b[0;32m    210\u001b[0m \u001b[1;33m\u001b[0m\u001b[0m\n\u001b[0;32m    211\u001b[0m   \u001b[1;32mdef\u001b[0m \u001b[0m__len__\u001b[0m\u001b[1;33m(\u001b[0m\u001b[0mself\u001b[0m\u001b[1;33m)\u001b[0m\u001b[1;33m:\u001b[0m\u001b[1;33m\u001b[0m\u001b[1;33m\u001b[0m\u001b[0m\n",
      "\u001b[1;31mIndexError\u001b[0m: list index out of range"
     ]
    }
   ],
   "source": [
    "import time\n",
    "\n",
    "start = time.time()\n",
    "\n",
    "model.Minimize(\n",
    "        sum(obj_bool_vars[i] * obj_bool_coeffs[i]\n",
    "            for i in range(len(obj_bool_vars))) +\n",
    "            sum(obj_int_vars[i] * obj_int_coeffs[i]\n",
    "            for i in range(len(obj_int_vars))))\n",
    "\n",
    "solver = cp_model.CpSolver()\n",
    "status = solver.Solve(model)\n",
    "\n",
    "print(status)\n",
    "\n",
    "for d in days:\n",
    "    print('Day', d)\n",
    "    for s in shifts:\n",
    "        for m in staff:\n",
    "            if solver.Value(works[(m, d, s)]) == 1:\n",
    "              print(staff_list[m], 'works shift', shift_list[s])\n",
    "    print()\n",
    "\n",
    "end = time.time()\n",
    "print(f\"time elapsed: {end - start}\")"
   ]
  },
  {
   "source": [
    "# Tests"
   ],
   "cell_type": "markdown",
   "metadata": {}
  },
  {
   "cell_type": "code",
   "execution_count": 18,
   "metadata": {},
   "outputs": [],
   "source": [
    "days_worked_results = {}\n",
    "midnights_worked_results = {}\n",
    "lates_worked_results = {}\n",
    "day_shifts_worked_results = {}\n",
    "shift_results = {}\n",
    "ft_worked_results = {}\n",
    "for m in staff:\n",
    "    days_worked_results[m] = [solver.Value(days_assigned[(m, d)]) for d in days]\n",
    "    midnights_worked_results[m] = [solver.Value(midnight_shifts_assigned[(m, d)]) for d in days]\n",
    "    lates_worked_results[m] = [solver.Value(late_shifts_assigned[(m, d)]) for d in days]\n",
    "    day_shifts_worked_results[m] = [solver.Value(day_shifts_assigned[(m, d)]) for d in days]\n",
    "    ft_worked_results[m] = [solver.Value(ft_shifts_assigned[(m, d)]) for d in days]\n",
    "    for d in days:\n",
    "        shift_results[(m, d)] = [solver.Value(works[(m, d, s)]) for s in shifts]"
   ]
  },
  {
   "source": [
    "## Hard Constraints"
   ],
   "cell_type": "markdown",
   "metadata": {}
  },
  {
   "cell_type": "code",
   "execution_count": 19,
   "metadata": {},
   "outputs": [],
   "source": [
    "# No two doctors in the same shift on the same day\n",
    "# All shifts should be taken by doctors\n",
    "for d in days:\n",
    "    num_staff_per_shift = zip(*[shift_results[(m, d)] for m in staff])\n",
    "    assert(list(sum(column) for column in num_staff_per_shift) == [1] * len(shifts))\n",
    "  \n",
    "#No two shifts same day\n",
    "for key, result in shift_results.items():\n",
    "    assert(sum(result) <= 1)\n",
    "\n",
    "# Maximum work 7 consecutive days\n",
    "for key, result in days_worked_results.items():\n",
    "    assert(not detect_pattern(result, \"11111111\"))\n",
    "\n",
    "# # # 2 days off after last midnight (except on call shift).\n",
    "# for key in midnights_worked_results.keys() and days_worked_results.keys():\n",
    "#     print(midnights_worked_results[key])\n",
    "#     print(days_worked_results[key])\n",
    "#     for idx in days:\n",
    "#         if midnights_worked_results[key][idx] == 1 and midnights_worked_results[key][idx+1] == 0:\n",
    "#             assert(sum(days_worked_results[key][idx+1:idx+3]) == 0)\n",
    "\n",
    "# Certain staff work midnights only\n",
    "for key, result in shift_results.items():\n",
    "    if (midnight_only[key[0]] == 1):\n",
    "        assert(result == [0,0,0,0,0,0,0,0,0,0,1] or result == [0] * len(shifts))\n",
    "\n",
    "# No midnights for staff in their first 6 months (need way to indicate when physician is in first 6 months of practice)\n",
    "for key, result in midnights_worked_results.items():\n",
    "    if (first_six_month_only[key] == 1):\n",
    "        assert(sum(result) == 0)\n",
    "\n",
    "# Maximum 2 midnights in a row (except for several physicians who only work midnights)\n",
    "for key, result in midnights_worked_results.items():\n",
    "    if (midnight_only[key] == 0):\n",
    "        assert(not detect_pattern(result, \"111\"))\n",
    "\n",
    "# On call shift - day after rules\n",
    "\n",
    "# Certain physicians work only FT shift (0730,1530 shift)\n",
    "for key, result in shift_results.items():\n",
    "    if (staff_list[key[0]] == 1):\n",
    "        assert(result == [0,1,0,0,0,0,0,0,0,0,0] or result == [0,0,0,0,0,1,0,0,0,0,0] or result == [0] * len(shifts))\n",
    "\n",
    "# No 2000, 2200, or midnight shift prior to day requested off\n",
    "\n",
    "# Physicians can work the 0930 shifts or earlier prior to working on call. They can work starting no earlier than 11 the day after on call.\n",
    "\n",
    "# 2 days off after 3 to 7 days of work in a row\n",
    "for key, result in days_worked_results.items():\n",
    "    assert(not detect_pattern(result, \"11101\"))"
   ]
  },
  {
   "source": [
    "## Soft Constraints"
   ],
   "cell_type": "markdown",
   "metadata": {}
  },
  {
   "cell_type": "code",
   "execution_count": 20,
   "metadata": {},
   "outputs": [
    {
     "output_type": "stream",
     "name": "stdout",
     "text": [
      "Number of times shifts jump forwards 2.5 hours: 66\nNumber of times shifts jump backwards 1.5 hours: 66\n\n"
     ]
    }
   ],
   "source": [
    "# General principle avoid shift times changing too much day to day\n",
    "# Shifts should have same start time to 2.5 hours later compared to previous shift (the 2 hours later can be relaxed to 3,4 perhaps)\n",
    "# No shifts that start more than 1.5 hours earlier than the shift on the previous day\n",
    "penalized_transitions = []\n",
    "\n",
    "for shift in list(permutations(shift_list, 2)):\n",
    "    t1 = float(shift[0][0:2] + '.' + shift[0][2:4])\n",
    "    t2 = float(shift[1][0:2] + '.' + shift[1][2:4])\n",
    "    if t2 - t1 > 2.5:\n",
    "        penalized_transitions.append(((shift_list.index(shift[0]), shift_list.index(shift[1])), 1))\n",
    "    elif t2 - t1 < -1.5:\n",
    "        penalized_transitions.append(((shift_list.index(shift[0]), shift_list.index(shift[1])), 3))\n",
    "\n",
    "\n",
    "transitions = {elem[0]: elem[1] for elem in penalized_transitions}\n",
    "jumps_forward_25 = 0\n",
    "jumps_backwards_15 = 0\n",
    "previous_shift = -1\n",
    "for key, result in shift_results.items():\n",
    "    if previous_shift == -1:\n",
    "        try:\n",
    "            previous_shift = result.index(1)\n",
    "        except:\n",
    "            previous_shift = -1\n",
    "    else:\n",
    "        try:\n",
    "            ans = transitions[(previous_shift, result.index(1))]\n",
    "            if ans == 1:\n",
    "                jumps_forward_25 += 1\n",
    "            elif ans == 3:\n",
    "                jumps_backwards_15 += 1\n",
    "            previous_shift = result.index(1)\n",
    "        except:\n",
    "            previous_shift = -1\n",
    "\n",
    "    if key[1] == len(days) - 1:\n",
    "        previous_shift = -1 \n",
    "\n",
    "print(f\"Number of times shifts jump forwards 2.5 hours: {jumps_forward_25}\")\n",
    "print(f\"Number of times shifts jump backwards 1.5 hours: {jumps_forward_25}\")\n",
    "print()"
   ]
  },
  {
   "cell_type": "code",
   "execution_count": 21,
   "metadata": {},
   "outputs": [
    {
     "output_type": "stream",
     "name": "stdout",
     "text": [
      "Number of times you only get 2 days off after midnight: 2\nNumber of times you only get 3 days off after midnight: 1\n\n"
     ]
    }
   ],
   "source": [
    "# 3 days off after midnight. 4 even better\n",
    "two_days_after_midnight = 0\n",
    "three_days_after_midnight = 0\n",
    "four_days_after_midnight = 0\n",
    "for key, result in midnights_worked_results.items():\n",
    "    two_days_after_midnight += detect_pattern_soft(result, '1001')\n",
    "    three_days_after_midnight += detect_pattern_soft(result, '10001')\n",
    "    four_days_after_midnight += detect_pattern_soft(result, '100001')\n",
    "print(f\"Number of times you only get 2 days off after midnight: {two_days_after_midnight}\")\n",
    "print(f\"Number of times you only get 3 days off after midnight: {three_days_after_midnight}\")\n",
    "print()"
   ]
  },
  {
   "cell_type": "code",
   "execution_count": 22,
   "metadata": {},
   "outputs": [
    {
     "output_type": "stream",
     "name": "stdout",
     "text": [
      "Number of times an employee works 2 midnights in a row: 2\n\n"
     ]
    }
   ],
   "source": [
    "#Max 1 midnight in a row\n",
    "two_midnights_in_a_row = 0\n",
    "for key, result in midnights_worked_results.items():\n",
    "    two_midnights_in_a_row += detect_pattern_soft(result, '11')\n",
    "print(f\"Number of times an employee works 2 midnights in a row: {two_days_after_midnight}\")\n",
    "print()"
   ]
  },
  {
   "cell_type": "code",
   "execution_count": 23,
   "metadata": {},
   "outputs": [
    {
     "output_type": "stream",
     "name": "stdout",
     "text": [
      "Number of times there is a day shift within 3 days of a late shift: 37\n\n"
     ]
    }
   ],
   "source": [
    "# 3 days off when transitioning from late shift to day shift \n",
    "\n",
    "three_days_off_from_late_to_day = 0\n",
    "for key in day_shifts_worked_results.keys() and lates_worked_results.keys():\n",
    "    for idx, s in enumerate(day_shifts_worked_results[key]):\n",
    "        if s == 1 and sum(lates_worked_results[key][idx+1:idx+4]) >= 1:\n",
    "            three_days_off_from_late_to_day += 1\n",
    "print(f\"Number of times there is a day shift within 3 days of a late shift: {three_days_off_from_late_to_day}\")\n",
    "print()\n",
    "\n",
    "\n",
    "\n",
    "\n"
   ]
  },
  {
   "cell_type": "code",
   "execution_count": 24,
   "metadata": {},
   "outputs": [],
   "source": [
    "# 2 days off when transitioning from late shift to afternoon shift (although this transition should be avoided) "
   ]
  },
  {
   "cell_type": "code",
   "execution_count": 25,
   "metadata": {},
   "outputs": [],
   "source": [
    "# 3 late shifts in a row maximum - late shifts are 1800, 2000, 2200. The ability to set what a late shift is would be great"
   ]
  },
  {
   "cell_type": "code",
   "execution_count": 26,
   "metadata": {},
   "outputs": [],
   "source": [
    "# 5 late shifts in two weeks maximum"
   ]
  },
  {
   "cell_type": "code",
   "execution_count": 27,
   "metadata": {},
   "outputs": [
    {
     "output_type": "stream",
     "name": "stdout",
     "text": [
      "Number of times an employee works 5 days in a row: 20\nNumber of times an employee works 6 days in a row: 2\nNumber of times an employee works 7 days in a row: 0\n\n"
     ]
    }
   ],
   "source": [
    "# Work maximum of 5 days in a row\n",
    "#Max 1 midnight in a row\n",
    "five_days_in_a_row = 0\n",
    "six_days_in_a_row = 0\n",
    "seven_days_in_a_row = 0\n",
    "for key, result in days_worked_results.items():\n",
    "    five_days_in_a_row += detect_pattern_soft(result, '11111')\n",
    "    six_days_in_a_row += detect_pattern_soft(result, '111111')\n",
    "    seven_days_in_a_row += detect_pattern_soft(result, '1111111')\n",
    "print(f\"Number of times an employee works 5 days in a row: {five_days_in_a_row}\")\n",
    "print(f\"Number of times an employee works 6 days in a row: {six_days_in_a_row}\")\n",
    "print(f\"Number of times an employee works 7 days in a row: {seven_days_in_a_row}\")\n",
    "print()"
   ]
  },
  {
   "cell_type": "code",
   "execution_count": 28,
   "metadata": {},
   "outputs": [
    {
     "output_type": "stream",
     "name": "stdout",
     "text": [
      "Number of times an employee works 2 ft shifts in a row: 3\n\n"
     ]
    }
   ],
   "source": [
    "# Avoid FT shifts (0730,1530) on consecutive days\n",
    "two_ft_days_in_a_row = 0\n",
    "for key, result in ft_worked_results.items():\n",
    "    two_ft_days_in_a_row += detect_pattern_soft(result, '11')\n",
    "print(f\"Number of times an employee works 2 ft shifts in a row: {two_ft_days_in_a_row}\")\n",
    "print()"
   ]
  },
  {
   "cell_type": "code",
   "execution_count": null,
   "metadata": {},
   "outputs": [],
   "source": []
  }
 ]
}