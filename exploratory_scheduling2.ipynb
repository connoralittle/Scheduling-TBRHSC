{
 "metadata": {
  "language_info": {
   "codemirror_mode": {
    "name": "ipython",
    "version": 3
   },
   "file_extension": ".py",
   "mimetype": "text/x-python",
   "name": "python",
   "nbconvert_exporter": "python",
   "pygments_lexer": "ipython3",
   "version": "3.8.8"
  },
  "orig_nbformat": 2,
  "kernelspec": {
   "name": "python388jvsc74a57bd0af367eaf69fbdf1eb30afcd013da6fe8c1bbee17759328f4b7aa5bcf4ed7dbc3",
   "display_name": "Python 3.8.8 64-bit ('new_env': conda)"
  }
 },
 "nbformat": 4,
 "nbformat_minor": 2,
 "cells": [
  {
   "source": [
    "# Imports"
   ],
   "cell_type": "markdown",
   "metadata": {}
  },
  {
   "cell_type": "code",
   "execution_count": 1,
   "metadata": {},
   "outputs": [],
   "source": [
    "from scheduling_funtions import *\n",
    "from constraints import *\n",
    "from data import *\n",
    "from model import *"
   ]
  },
  {
   "source": [
    "# Solving the Model"
   ],
   "cell_type": "markdown",
   "metadata": {}
  },
  {
   "cell_type": "code",
   "execution_count": 2,
   "metadata": {},
   "outputs": [],
   "source": [
    "NONE = 0\n",
    "LOW = low_priority(len(shifts), len(weekends), len(staff))\n",
    "MID = medium_priority(len(shifts), len(weekends), len(staff))\n",
    "HIGH = high_priority(len(shifts), len(weekends), len(staff))\n",
    "MAX = highest_priority(len(shifts), len(weekends), len(staff))\n",
    "\n",
    "all_shifts_taken()\n",
    "max_days_worked(staff, 7, 5, MAX)\n",
    "# min_days_off_after_midnight(not_staff(midnight_staff), 2, 4, HIGH)\n",
    "# midnight_physicians()\n",
    "# no_midnights_within_six_months()\n",
    "# max_midnights_in_a_row(not_staff(midnight_staff), 2, 1, MAX)\n",
    "# on_call_shift_day_after()\n",
    "# ft_physicians()\n",
    "# no_late_shift_before_time_off()\n",
    "# no_early_shifts_before_on_call()\n",
    "# days_off_after_consecutive_shifts(staff, 2, 0, NONE)\n",
    "\n",
    "# transitions_constraints(LOW, MID, HIGH, MAX)\n",
    "# days_off_between_late_and_day_shifts(staff, 0, 3, HIGH)\n",
    "# days_off_between_late_and_afternoon_shifts(staff, 0, 2, HIGH)\n",
    "# late_shifts_in_a_row(staff, 3, 7, MAX)\n",
    "# late_shifts_in_weeks(staff, 0, 0, NONE, 14, 5, MAX)\n",
    "# avoid_consecutive_ft_shifts(not_staff(ft_staff), 2, 1, MID)\n",
    "\n",
    "equalize_weekends(staff, triangle_costs(len(shifts), len(weekends), len(staff)), 4)\n",
    "equalize_weekdays(staff, triangle_costs(len(shifts), len(weekdays), len(staff)), 1)\n"
   ]
  },
  {
   "cell_type": "code",
   "execution_count": 3,
   "metadata": {},
   "outputs": [
    {
     "output_type": "stream",
     "name": "stdout",
     "text": [
      "UNKNOWN\nDay 0\n"
     ]
    },
    {
     "output_type": "error",
     "ename": "IndexError",
     "evalue": "list index out of range",
     "traceback": [
      "\u001b[1;31m---------------------------------------------------------------------------\u001b[0m",
      "\u001b[1;31mIndexError\u001b[0m                                Traceback (most recent call last)",
      "\u001b[1;32m<ipython-input-3-c56218cc0134>\u001b[0m in \u001b[0;36m<module>\u001b[1;34m\u001b[0m\n\u001b[0;32m     18\u001b[0m     \u001b[1;32mfor\u001b[0m \u001b[0ms\u001b[0m \u001b[1;32min\u001b[0m \u001b[0mshifts\u001b[0m\u001b[1;33m:\u001b[0m\u001b[1;33m\u001b[0m\u001b[1;33m\u001b[0m\u001b[0m\n\u001b[0;32m     19\u001b[0m         \u001b[1;32mfor\u001b[0m \u001b[0mm\u001b[0m \u001b[1;32min\u001b[0m \u001b[0mstaff\u001b[0m\u001b[1;33m:\u001b[0m\u001b[1;33m\u001b[0m\u001b[1;33m\u001b[0m\u001b[0m\n\u001b[1;32m---> 20\u001b[1;33m             \u001b[1;32mif\u001b[0m \u001b[0msolver\u001b[0m\u001b[1;33m.\u001b[0m\u001b[0mValue\u001b[0m\u001b[1;33m(\u001b[0m\u001b[0mworks\u001b[0m\u001b[1;33m[\u001b[0m\u001b[1;33m(\u001b[0m\u001b[0mm\u001b[0m\u001b[1;33m,\u001b[0m \u001b[0md\u001b[0m\u001b[1;33m,\u001b[0m \u001b[0ms\u001b[0m\u001b[1;33m)\u001b[0m\u001b[1;33m]\u001b[0m\u001b[1;33m)\u001b[0m \u001b[1;33m==\u001b[0m \u001b[1;36m1\u001b[0m\u001b[1;33m:\u001b[0m\u001b[1;33m\u001b[0m\u001b[1;33m\u001b[0m\u001b[0m\n\u001b[0m\u001b[0;32m     21\u001b[0m               \u001b[0mprint\u001b[0m\u001b[1;33m(\u001b[0m\u001b[0mstaff_list\u001b[0m\u001b[1;33m[\u001b[0m\u001b[0mm\u001b[0m\u001b[1;33m]\u001b[0m\u001b[1;33m,\u001b[0m \u001b[1;34m'works shift'\u001b[0m\u001b[1;33m,\u001b[0m \u001b[0mshift_list\u001b[0m\u001b[1;33m[\u001b[0m\u001b[0ms\u001b[0m\u001b[1;33m]\u001b[0m\u001b[1;33m)\u001b[0m\u001b[1;33m\u001b[0m\u001b[1;33m\u001b[0m\u001b[0m\n\u001b[0;32m     22\u001b[0m     \u001b[0mprint\u001b[0m\u001b[1;33m(\u001b[0m\u001b[1;33m)\u001b[0m\u001b[1;33m\u001b[0m\u001b[1;33m\u001b[0m\u001b[0m\n",
      "\u001b[1;32m~\\anaconda\\anaconda3\\envs\\new_env\\lib\\site-packages\\ortools\\sat\\python\\cp_model.py\u001b[0m in \u001b[0;36mValue\u001b[1;34m(self, expression)\u001b[0m\n\u001b[0;32m   1870\u001b[0m         \u001b[1;32mif\u001b[0m \u001b[1;32mnot\u001b[0m \u001b[0mself\u001b[0m\u001b[1;33m.\u001b[0m\u001b[0m__solution\u001b[0m\u001b[1;33m:\u001b[0m\u001b[1;33m\u001b[0m\u001b[1;33m\u001b[0m\u001b[0m\n\u001b[0;32m   1871\u001b[0m             \u001b[1;32mraise\u001b[0m \u001b[0mRuntimeError\u001b[0m\u001b[1;33m(\u001b[0m\u001b[1;34m'Solve() has not be called.'\u001b[0m\u001b[1;33m)\u001b[0m\u001b[1;33m\u001b[0m\u001b[1;33m\u001b[0m\u001b[0m\n\u001b[1;32m-> 1872\u001b[1;33m         \u001b[1;32mreturn\u001b[0m \u001b[0mEvaluateLinearExpr\u001b[0m\u001b[1;33m(\u001b[0m\u001b[0mexpression\u001b[0m\u001b[1;33m,\u001b[0m \u001b[0mself\u001b[0m\u001b[1;33m.\u001b[0m\u001b[0m__solution\u001b[0m\u001b[1;33m)\u001b[0m\u001b[1;33m\u001b[0m\u001b[1;33m\u001b[0m\u001b[0m\n\u001b[0m\u001b[0;32m   1873\u001b[0m \u001b[1;33m\u001b[0m\u001b[0m\n\u001b[0;32m   1874\u001b[0m     \u001b[1;32mdef\u001b[0m \u001b[0mBooleanValue\u001b[0m\u001b[1;33m(\u001b[0m\u001b[0mself\u001b[0m\u001b[1;33m,\u001b[0m \u001b[0mliteral\u001b[0m\u001b[1;33m)\u001b[0m\u001b[1;33m:\u001b[0m\u001b[1;33m\u001b[0m\u001b[1;33m\u001b[0m\u001b[0m\n",
      "\u001b[1;32m~\\anaconda\\anaconda3\\envs\\new_env\\lib\\site-packages\\ortools\\sat\\python\\cp_model.py\u001b[0m in \u001b[0;36mEvaluateLinearExpr\u001b[1;34m(expression, solution)\u001b[0m\n\u001b[0;32m   1760\u001b[0m             \u001b[0mvalue\u001b[0m \u001b[1;33m+=\u001b[0m \u001b[0mexpr\u001b[0m\u001b[1;33m.\u001b[0m\u001b[0mConstant\u001b[0m\u001b[1;33m(\u001b[0m\u001b[1;33m)\u001b[0m \u001b[1;33m*\u001b[0m \u001b[0mcoef\u001b[0m\u001b[1;33m\u001b[0m\u001b[1;33m\u001b[0m\u001b[0m\n\u001b[0;32m   1761\u001b[0m         \u001b[1;32melif\u001b[0m \u001b[0misinstance\u001b[0m\u001b[1;33m(\u001b[0m\u001b[0mexpr\u001b[0m\u001b[1;33m,\u001b[0m \u001b[0mIntVar\u001b[0m\u001b[1;33m)\u001b[0m\u001b[1;33m:\u001b[0m\u001b[1;33m\u001b[0m\u001b[1;33m\u001b[0m\u001b[0m\n\u001b[1;32m-> 1762\u001b[1;33m             \u001b[0mvalue\u001b[0m \u001b[1;33m+=\u001b[0m \u001b[0mcoef\u001b[0m \u001b[1;33m*\u001b[0m \u001b[0msolution\u001b[0m\u001b[1;33m.\u001b[0m\u001b[0msolution\u001b[0m\u001b[1;33m[\u001b[0m\u001b[0mexpr\u001b[0m\u001b[1;33m.\u001b[0m\u001b[0mIndex\u001b[0m\u001b[1;33m(\u001b[0m\u001b[1;33m)\u001b[0m\u001b[1;33m]\u001b[0m\u001b[1;33m\u001b[0m\u001b[1;33m\u001b[0m\u001b[0m\n\u001b[0m\u001b[0;32m   1763\u001b[0m         \u001b[1;32melif\u001b[0m \u001b[0misinstance\u001b[0m\u001b[1;33m(\u001b[0m\u001b[0mexpr\u001b[0m\u001b[1;33m,\u001b[0m \u001b[0m_NotBooleanVariable\u001b[0m\u001b[1;33m)\u001b[0m\u001b[1;33m:\u001b[0m\u001b[1;33m\u001b[0m\u001b[1;33m\u001b[0m\u001b[0m\n\u001b[0;32m   1764\u001b[0m             \u001b[0mvalue\u001b[0m \u001b[1;33m+=\u001b[0m \u001b[0mcoef\u001b[0m \u001b[1;33m*\u001b[0m \u001b[1;33m(\u001b[0m\u001b[1;36m1\u001b[0m \u001b[1;33m-\u001b[0m \u001b[0msolution\u001b[0m\u001b[1;33m.\u001b[0m\u001b[0msolution\u001b[0m\u001b[1;33m[\u001b[0m\u001b[0mexpr\u001b[0m\u001b[1;33m.\u001b[0m\u001b[0mNot\u001b[0m\u001b[1;33m(\u001b[0m\u001b[1;33m)\u001b[0m\u001b[1;33m.\u001b[0m\u001b[0mIndex\u001b[0m\u001b[1;33m(\u001b[0m\u001b[1;33m)\u001b[0m\u001b[1;33m]\u001b[0m\u001b[1;33m)\u001b[0m\u001b[1;33m\u001b[0m\u001b[1;33m\u001b[0m\u001b[0m\n",
      "\u001b[1;32m~\\anaconda\\anaconda3\\envs\\new_env\\lib\\site-packages\\google\\protobuf\\internal\\containers.py\u001b[0m in \u001b[0;36m__getitem__\u001b[1;34m(self, key)\u001b[0m\n\u001b[0;32m    207\u001b[0m   \u001b[1;32mdef\u001b[0m \u001b[0m__getitem__\u001b[0m\u001b[1;33m(\u001b[0m\u001b[0mself\u001b[0m\u001b[1;33m,\u001b[0m \u001b[0mkey\u001b[0m\u001b[1;33m)\u001b[0m\u001b[1;33m:\u001b[0m\u001b[1;33m\u001b[0m\u001b[1;33m\u001b[0m\u001b[0m\n\u001b[0;32m    208\u001b[0m     \u001b[1;34m\"\"\"Retrieves item by the specified key.\"\"\"\u001b[0m\u001b[1;33m\u001b[0m\u001b[1;33m\u001b[0m\u001b[0m\n\u001b[1;32m--> 209\u001b[1;33m     \u001b[1;32mreturn\u001b[0m \u001b[0mself\u001b[0m\u001b[1;33m.\u001b[0m\u001b[0m_values\u001b[0m\u001b[1;33m[\u001b[0m\u001b[0mkey\u001b[0m\u001b[1;33m]\u001b[0m\u001b[1;33m\u001b[0m\u001b[1;33m\u001b[0m\u001b[0m\n\u001b[0m\u001b[0;32m    210\u001b[0m \u001b[1;33m\u001b[0m\u001b[0m\n\u001b[0;32m    211\u001b[0m   \u001b[1;32mdef\u001b[0m \u001b[0m__len__\u001b[0m\u001b[1;33m(\u001b[0m\u001b[0mself\u001b[0m\u001b[1;33m)\u001b[0m\u001b[1;33m:\u001b[0m\u001b[1;33m\u001b[0m\u001b[1;33m\u001b[0m\u001b[0m\n",
      "\u001b[1;31mIndexError\u001b[0m: list index out of range"
     ]
    }
   ],
   "source": [
    "import time\n",
    "\n",
    "start = time.time()\n",
    "\n",
    "model.Minimize(\n",
    "        sum(obj_bool_vars[i] * obj_bool_coeffs[i]\n",
    "            for i in range(len(obj_bool_vars))) +\n",
    "            sum(obj_int_vars[i] * obj_int_coeffs[i]\n",
    "            for i in range(len(obj_int_vars))))\n",
    "\n",
    "solver.parameters.max_time_in_seconds = 240.0\n",
    "status = solver.Solve(model)\n",
    "\n",
    "print(solver.StatusName(status))\n",
    "\n",
    "for d in days:\n",
    "    print('Day', d)\n",
    "    for s in shifts:\n",
    "        for m in staff:\n",
    "            if solver.Value(works[(m, d, s)]) == 1:\n",
    "              print(staff_list[m], 'works shift', shift_list[s])\n",
    "    print()\n",
    "\n",
    "end = time.time()\n",
    "print(f\"time elapsed: {end - start}\")"
   ]
  },
  {
   "source": [
    "# Tests"
   ],
   "cell_type": "markdown",
   "metadata": {}
  },
  {
   "cell_type": "code",
   "execution_count": 5,
   "metadata": {},
   "outputs": [],
   "source": [
    "days_worked_results = {}\n",
    "midnights_worked_results = {}\n",
    "lates_worked_results = {}\n",
    "day_shifts_worked_results = {}\n",
    "shift_results = {}\n",
    "ft_worked_results = {}\n",
    "for m in staff:\n",
    "    days_worked_results[m] = [solver.Value(days_assigned[(m, d)]) for d in days]\n",
    "    midnights_worked_results[m] = [solver.Value(midnight_shifts_assigned[(m, d)]) for d in days]\n",
    "    lates_worked_results[m] = [solver.Value(late_shifts_assigned[(m, d)]) for d in days]\n",
    "    day_shifts_worked_results[m] = [solver.Value(day_shifts_assigned[(m, d)]) for d in days]\n",
    "    ft_worked_results[m] = [solver.Value(ft_shifts_assigned[(m, d)]) for d in days]\n",
    "    for d in days:\n",
    "        shift_results[(m, d)] = [solver.Value(works[(m, d, s)]) for s in shifts]"
   ]
  },
  {
   "source": [
    "## Hard Constraints"
   ],
   "cell_type": "markdown",
   "metadata": {}
  },
  {
   "cell_type": "code",
   "execution_count": 6,
   "metadata": {},
   "outputs": [
    {
     "output_type": "stream",
     "name": "stdout",
     "text": [
      "ALL HARD CONSTRAINTS SATISFIED\n"
     ]
    }
   ],
   "source": [
    "# No two doctors in the same shift on the same day\n",
    "# All shifts should be taken by doctors\n",
    "for d in days:\n",
    "    num_staff_per_shift = zip(*[shift_results[(m, d)] for m in staff])\n",
    "    assert(list(sum(column) for column in num_staff_per_shift) == [1] * len(shifts))\n",
    "  \n",
    "#No two shifts same day\n",
    "for key, result in shift_results.items():\n",
    "    assert(sum(result) <= 1)\n",
    "\n",
    "# Maximum work 7 consecutive days\n",
    "for key, result in days_worked_results.items():\n",
    "    assert(not detect_pattern(result, \"11111111\"))\n",
    "\n",
    "# # 2 days off after last midnight (except on call shift).\n",
    "for key in midnights_worked_results.keys() and days_worked_results.keys():\n",
    "    if midnight_only[key]:\n",
    "         continue\n",
    "    for idx in days[:-3]:\n",
    "        if midnights_worked_results[key][idx] == 1 and midnights_worked_results[key][idx+1] == 0:\n",
    "            assert(sum(days_worked_results[key][idx+1:idx+3]) == 0)\n",
    "\n",
    "# Certain staff work midnights only\n",
    "for key, result in shift_results.items():\n",
    "    if (midnight_only[key[0]] == 1):\n",
    "        assert(result == [0,0,0,0,0,0,0,0,0,0,1] or result == [0] * len(shifts))\n",
    "\n",
    "# No midnights for staff in their first 6 months (need way to indicate when physician is in first 6 months of practice)\n",
    "for key, result in midnights_worked_results.items():\n",
    "    if (first_six_month_only[key]):\n",
    "        assert(sum(result) == 0)\n",
    "\n",
    "# Maximum 2 midnights in a row (except for several physicians who only work midnights)\n",
    "for key, result in midnights_worked_results.items():\n",
    "    if midnight_only[key]:\n",
    "         continue\n",
    "    if (midnight_only[key] == 0):\n",
    "        assert(not detect_pattern(result, \"111\"))\n",
    "\n",
    "# On call shift - day after rules\n",
    "\n",
    "# Certain physicians work only FT shift (0730,1530 shift)\n",
    "for key, result in shift_results.items():\n",
    "    if (staff_list[key[0]] == 1):\n",
    "        assert(result == [0,1,0,0,0,0,0,0,0,0,0] or result == [0,0,0,0,0,1,0,0,0,0,0] or result == [0] * len(shifts))\n",
    "\n",
    "# No 2000, 2200, or midnight shift prior to day requested off\n",
    "\n",
    "# Physicians can work the 0930 shifts or earlier prior to working on call. They can work starting no earlier than 11 the day after on call.\n",
    "\n",
    "# 2 days off after 3 to 7 days of work in a row\n",
    "for key, result in days_worked_results.items():\n",
    "    assert(not detect_pattern(result, \"11101\"))\n",
    "\n",
    "print(\"ALL HARD CONSTRAINTS SATISFIED\")"
   ]
  },
  {
   "source": [
    "## Soft Constraints"
   ],
   "cell_type": "markdown",
   "metadata": {}
  },
  {
   "cell_type": "code",
   "execution_count": 7,
   "metadata": {},
   "outputs": [
    {
     "output_type": "stream",
     "name": "stdout",
     "text": [
      "Number of times shifts jump forwards 2.5 hours: 62\nNumber of times shifts jump backwards 1.5 hours: 62\n\n"
     ]
    }
   ],
   "source": [
    "# General principle avoid shift times changing too much day to day\n",
    "# Shifts should have same start time to 2.5 hours later compared to previous shift (the 2 hours later can be relaxed to 3,4 perhaps)\n",
    "# No shifts that start more than 1.5 hours earlier than the shift on the previous day\n",
    "penalized_transitions = []\n",
    "\n",
    "for shift in list(permutations(shift_list, 2)):\n",
    "    t1 = float(shift[0][0:2] + '.' + shift[0][2:4])\n",
    "    t2 = float(shift[1][0:2] + '.' + shift[1][2:4])\n",
    "    if t2 - t1 > 2.5:\n",
    "        penalized_transitions.append(((shift_list.index(shift[0]), shift_list.index(shift[1])), 1))\n",
    "    elif t2 - t1 < -1.5:\n",
    "        penalized_transitions.append(((shift_list.index(shift[0]), shift_list.index(shift[1])), 3))\n",
    "\n",
    "\n",
    "transitions = {elem[0]: elem[1] for elem in penalized_transitions}\n",
    "jumps_forward_25 = 0\n",
    "jumps_backwards_15 = 0\n",
    "previous_shift = -1\n",
    "for key, result in shift_results.items():\n",
    "    if previous_shift == -1:\n",
    "        try:\n",
    "            previous_shift = result.index(1)\n",
    "        except:\n",
    "            previous_shift = -1\n",
    "    else:\n",
    "        try:\n",
    "            ans = transitions[(previous_shift, result.index(1))]\n",
    "            if ans == 1:\n",
    "                jumps_forward_25 += 1\n",
    "            elif ans == 3:\n",
    "                jumps_backwards_15 += 1\n",
    "            previous_shift = result.index(1)\n",
    "        except:\n",
    "            previous_shift = -1\n",
    "\n",
    "    if key[1] == len(days) - 1:\n",
    "        previous_shift = -1 \n",
    "\n",
    "print(f\"Number of times shifts jump forwards 2.5 hours: {jumps_forward_25}\")\n",
    "print(f\"Number of times shifts jump backwards 1.5 hours: {jumps_forward_25}\")\n",
    "print()"
   ]
  },
  {
   "cell_type": "code",
   "execution_count": 8,
   "metadata": {},
   "outputs": [
    {
     "output_type": "stream",
     "name": "stdout",
     "text": [
      "Number of times an employee gets 2 days off after midnights: 2\nNumber of times an employee gets 3 days off after midnights: 17\nNumber of times an employee gets 4 days off after midnights: 5\nNumber of times an employee gets 5 days off after midnights: 2\n\n"
     ]
    }
   ],
   "source": [
    "# 3 days off after midnight. 4 even better\n",
    "two_days_after_midnight = 0\n",
    "three_days_after_midnight = 0\n",
    "four_days_after_midnight = 0\n",
    "five_days_after_midnight = 0\n",
    "for key in midnights_worked_results.keys() and days_worked_results.keys():\n",
    "    for idx in days[:-4]:\n",
    "        if midnights_worked_results[key][idx] == 1 and midnights_worked_results[key][idx+1] == 0:\n",
    "            if sum(days_worked_results[key][idx+1:idx+3]) == 0 and sum(days_worked_results[key][idx+1:idx+4]) == 1:\n",
    "                two_days_after_midnight += 1\n",
    "    for idx in days[:-5]:\n",
    "        if midnights_worked_results[key][idx] == 1 and midnights_worked_results[key][idx+1] == 0:\n",
    "            if sum(days_worked_results[key][idx+1:idx+4]) == 0 and sum(days_worked_results[key][idx+1:idx+5]) == 1:\n",
    "                three_days_after_midnight += 1\n",
    "    for idx in days[:-6]:\n",
    "        if midnights_worked_results[key][idx] == 1 and midnights_worked_results[key][idx+1] == 0:\n",
    "            if sum(days_worked_results[key][idx+1:idx+5]) == 0 and sum(days_worked_results[key][idx+1:idx+6]) == 1:\n",
    "                four_days_after_midnight += 1\n",
    "    for idx in days[:-6]:\n",
    "        if midnights_worked_results[key][idx] == 1 and midnights_worked_results[key][idx+1] == 0:\n",
    "            if sum(days_worked_results[key][idx+1:idx+6]) == 0:\n",
    "                five_days_after_midnight += 1\n",
    "print(f\"Number of times an employee gets 2 days off after midnights: {two_days_after_midnight}\")\n",
    "print(f\"Number of times an employee gets 3 days off after midnights: {three_days_after_midnight}\")\n",
    "print(f\"Number of times an employee gets 4 days off after midnights: {four_days_after_midnight}\")\n",
    "print(f\"Number of times an employee gets 5 days off after midnights: {five_days_after_midnight}\")\n",
    "print()"
   ]
  },
  {
   "cell_type": "code",
   "execution_count": 9,
   "metadata": {},
   "outputs": [
    {
     "output_type": "stream",
     "name": "stdout",
     "text": [
      "Number of times an employee works 2 midnights in a row: 2\n\n"
     ]
    }
   ],
   "source": [
    "#Max 1 midnight in a row\n",
    "two_midnights_in_a_row = 0\n",
    "for key, result in midnights_worked_results.items():\n",
    "    two_midnights_in_a_row += detect_pattern_soft(result, '11')\n",
    "print(f\"Number of times an employee works 2 midnights in a row: {two_days_after_midnight}\")\n",
    "print()"
   ]
  },
  {
   "cell_type": "code",
   "execution_count": 10,
   "metadata": {},
   "outputs": [
    {
     "output_type": "stream",
     "name": "stdout",
     "text": [
      "Number of times there is a day shift within 1 days of a late shift: 13\nNumber of times there is a day shift within 2 days of a late shift: 3\nNumber of times there is a day shift within 3 days of a late shift: 0\n\n"
     ]
    }
   ],
   "source": [
    "# 3 days off when transitioning from late shift to day shift \n",
    "one_days_off_from_late_to_day = 0\n",
    "two_days_off_from_late_to_day = 0\n",
    "three_days_off_from_late_to_day = 0\n",
    "for key in day_shifts_worked_results.keys() and lates_worked_results.keys():\n",
    "    for idx, elem in enumerate(lates_worked_results[key][:-2]):\n",
    "        if elem == 1 and day_shifts_worked_results[key][idx + 2]:\n",
    "            if sum(days_worked_results[key][idx+1:idx+2]) == 0:\n",
    "                one_days_off_from_late_to_day += 1\n",
    "    for idx, elem in enumerate(lates_worked_results[key][:-3]):\n",
    "        if elem == 1 and day_shifts_worked_results[key][idx + 3]:\n",
    "            if sum(days_worked_results[key][idx+1:idx+3]) == 0:\n",
    "                two_days_off_from_late_to_day += 1\n",
    "    for idx, elem in enumerate(lates_worked_results[key][:-4]):\n",
    "        if elem == 1 and day_shifts_worked_results[key][idx + 4]:\n",
    "            if sum(days_worked_results[key][idx+1:idx+4]) == 0:\n",
    "                three_days_off_from_late_to_day += 1\n",
    "print(f\"Number of times there is a day shift within 1 days of a late shift: {one_days_off_from_late_to_day}\")\n",
    "print(f\"Number of times there is a day shift within 2 days of a late shift: {two_days_off_from_late_to_day}\")\n",
    "print(f\"Number of times there is a day shift within 3 days of a late shift: {three_days_off_from_late_to_day}\")\n",
    "print()\n"
   ]
  },
  {
   "cell_type": "code",
   "execution_count": 11,
   "metadata": {},
   "outputs": [
    {
     "output_type": "stream",
     "name": "stdout",
     "text": [
      "Number of times there is a afternoon shift within 1 days of a late shift: 13\nNumber of times there is a afternoon shift within 2 days of a late shift: 3\n\n"
     ]
    }
   ],
   "source": [
    "# 2 days off when transitioning from late shift to afternoon shift (although this transition should be avoided) \n",
    "one_days_off_from_late_to_afternoon = 0\n",
    "two_days_off_from_late_to_afternoon = 0\n",
    "for key in day_shifts_worked_results.keys() and lates_worked_results.keys():\n",
    "    for idx, elem in enumerate(lates_worked_results[key][:-2]):\n",
    "        if elem == 1 and day_shifts_worked_results[key][idx + 2]:\n",
    "            if sum(days_worked_results[key][idx+1:idx+2]) == 0:\n",
    "                one_days_off_from_late_to_afternoon += 1\n",
    "    for idx, elem in enumerate(lates_worked_results[key][:-3]):\n",
    "        if elem == 1 and day_shifts_worked_results[key][idx + 3]:\n",
    "            if sum(days_worked_results[key][idx+1:idx+3]) == 0:\n",
    "                two_days_off_from_late_to_afternoon += 1\n",
    "print(f\"Number of times there is a afternoon shift within 1 days of a late shift: {one_days_off_from_late_to_afternoon}\")\n",
    "print(f\"Number of times there is a afternoon shift within 2 days of a late shift: {two_days_off_from_late_to_afternoon}\")\n",
    "print()"
   ]
  },
  {
   "cell_type": "code",
   "execution_count": 12,
   "metadata": {},
   "outputs": [
    {
     "output_type": "stream",
     "name": "stdout",
     "text": [
      "Number of times an employee works 3 late days in a row: 1\nNumber of times an employee works 4 late days in a row: 0\nNumber of times an employee works 5 late days in a row: 0\n\n"
     ]
    }
   ],
   "source": [
    "# 3 late shifts in a row maximum - late shifts are 1800, 2000, 2200. The ability to set what a late shift is would be great\n",
    "three_days_in_a_row_late = 0\n",
    "four_days_in_a_row_late = 0\n",
    "five_days_in_a_row_late = 0\n",
    "for key, result in lates_worked_results.items():\n",
    "    three_days_in_a_row_late += detect_pattern_soft(result, '111')\n",
    "    four_days_in_a_row_late += detect_pattern_soft(result, '1111')\n",
    "    five_days_in_a_row_late += detect_pattern_soft(result, '11111')\n",
    "print(f\"Number of times an employee works 3 late days in a row: {three_days_in_a_row_late}\")\n",
    "print(f\"Number of times an employee works 4 late days in a row: {four_days_in_a_row_late}\")\n",
    "print(f\"Number of times an employee works 5 late days in a row: {five_days_in_a_row_late}\")\n",
    "print()"
   ]
  },
  {
   "cell_type": "code",
   "execution_count": 13,
   "metadata": {},
   "outputs": [],
   "source": [
    "# 5 late shifts in two weeks maximum\n"
   ]
  },
  {
   "cell_type": "code",
   "execution_count": 14,
   "metadata": {},
   "outputs": [
    {
     "output_type": "stream",
     "name": "stdout",
     "text": [
      "Number of times an employee works 5 days in a row: 0\nNumber of times an employee works 6 days in a row: 0\nNumber of times an employee works 7 days in a row: 0\n\n"
     ]
    }
   ],
   "source": [
    "# Work maximum of 5 days in a row\n",
    "#Max 1 midnight in a row\n",
    "five_days_in_a_row = 0\n",
    "six_days_in_a_row = 0\n",
    "seven_days_in_a_row = 0\n",
    "for key, result in days_worked_results.items():\n",
    "    five_days_in_a_row += detect_pattern_soft(result, '11111')\n",
    "    six_days_in_a_row += detect_pattern_soft(result, '111111')\n",
    "    seven_days_in_a_row += detect_pattern_soft(result, '1111111')\n",
    "print(f\"Number of times an employee works 5 days in a row: {five_days_in_a_row}\")\n",
    "print(f\"Number of times an employee works 6 days in a row: {six_days_in_a_row}\")\n",
    "print(f\"Number of times an employee works 7 days in a row: {seven_days_in_a_row}\")\n",
    "print()"
   ]
  },
  {
   "cell_type": "code",
   "execution_count": 15,
   "metadata": {},
   "outputs": [
    {
     "output_type": "stream",
     "name": "stdout",
     "text": [
      "Number of times an employee works 2 ft shifts in a row: 6\n\n"
     ]
    }
   ],
   "source": [
    "# Avoid FT shifts (0730,1530) on consecutive days\n",
    "two_ft_days_in_a_row = 0\n",
    "for key, result in ft_worked_results.items():\n",
    "    if ft_only[key]:\n",
    "        continue\n",
    "    two_ft_days_in_a_row += detect_pattern_soft(result, '11')\n",
    "print(f\"Number of times an employee works 2 ft shifts in a row: {two_ft_days_in_a_row}\")\n",
    "print()"
   ]
  },
  {
   "cell_type": "code",
   "execution_count": 16,
   "metadata": {},
   "outputs": [
    {
     "output_type": "stream",
     "name": "stdout",
     "text": [
      "SUMMARY\n\nNumber of times shifts jump forwards 2.5 hours: 62\nNumber of times shifts jump backwards 1.5 hours: 62\n\nNumber of times an employee gets 2 days off after midnights: 2\nNumber of times an employee gets 3 days off after midnights: 17\nNumber of times an employee gets 4 days off after midnights: 5\nNumber of times an employee gets 5 days off after midnights: 2\n\nNumber of times an employee works 2 midnights in a row: 2\n\nNumber of times there is a day shift within 1 days of a late shift: 13\nNumber of times there is a day shift within 2 days of a late shift: 3\nNumber of times there is a day shift within 3 days of a late shift: 0\n\nNumber of times there is a afternoon shift within 1 days of a late shift: 13\nNumber of times there is a afternoon shift within 2 days of a late shift: 3\n\nNumber of times an employee works 3 late days in a row: 1\nNumber of times an employee works 4 late days in a row: 0\nNumber of times an employee works 5 late days in a row: 0\n\nNumber of times an employee works 5 days in a row: 0\nNumber of times an employee works 6 days in a row: 0\nNumber of times an employee works 7 days in a row: 0\n\nNumber of times an employee works 2 ft shifts in a row: 6\n\n"
     ]
    }
   ],
   "source": [
    "print(\"SUMMARY\")\n",
    "print()\n",
    "print(f\"Number of times shifts jump forwards 2.5 hours: {jumps_forward_25}\")\n",
    "print(f\"Number of times shifts jump backwards 1.5 hours: {jumps_forward_25}\")\n",
    "print()\n",
    "print(f\"Number of times an employee gets 2 days off after midnights: {two_days_after_midnight}\")\n",
    "print(f\"Number of times an employee gets 3 days off after midnights: {three_days_after_midnight}\")\n",
    "print(f\"Number of times an employee gets 4 days off after midnights: {four_days_after_midnight}\")\n",
    "print(f\"Number of times an employee gets 5 days off after midnights: {five_days_after_midnight}\")\n",
    "print()\n",
    "print(f\"Number of times an employee works 2 midnights in a row: {two_days_after_midnight}\")\n",
    "print()\n",
    "print(f\"Number of times there is a day shift within 1 days of a late shift: {one_days_off_from_late_to_day}\")\n",
    "print(f\"Number of times there is a day shift within 2 days of a late shift: {two_days_off_from_late_to_day}\")\n",
    "print(f\"Number of times there is a day shift within 3 days of a late shift: {three_days_off_from_late_to_day}\")\n",
    "print()\n",
    "print(f\"Number of times there is a afternoon shift within 1 days of a late shift: {one_days_off_from_late_to_afternoon}\")\n",
    "print(f\"Number of times there is a afternoon shift within 2 days of a late shift: {two_days_off_from_late_to_afternoon}\")\n",
    "print()\n",
    "print(f\"Number of times an employee works 3 late days in a row: {three_days_in_a_row_late}\")\n",
    "print(f\"Number of times an employee works 4 late days in a row: {four_days_in_a_row_late}\")\n",
    "print(f\"Number of times an employee works 5 late days in a row: {five_days_in_a_row_late}\")\n",
    "print()\n",
    "print(f\"Number of times an employee works 5 days in a row: {five_days_in_a_row}\")\n",
    "print(f\"Number of times an employee works 6 days in a row: {six_days_in_a_row}\")\n",
    "print(f\"Number of times an employee works 7 days in a row: {seven_days_in_a_row}\")\n",
    "print()\n",
    "print(f\"Number of times an employee works 2 ft shifts in a row: {two_ft_days_in_a_row}\")\n",
    "print()"
   ]
  },
  {
   "source": [
    "## Goals"
   ],
   "cell_type": "markdown",
   "metadata": {}
  },
  {
   "cell_type": "code",
   "execution_count": 17,
   "metadata": {},
   "outputs": [
    {
     "output_type": "stream",
     "name": "stdout",
     "text": [
      "Olivia works 6 weekends\nEmma works 2 weekends\nAva works 5 weekends\nCharlotte works 5 weekends\nSophia works 5 weekends\nAmelia works 4 weekends\nIsabella works 3 weekends\nMia works 6 weekends\nEvelyn works 7 weekends\nHarper works 7 weekends\nCamila works 5 weekends\nGianna works 5 weekends\nAbigail works 7 weekends\nLuna works 7 weekends\nElla works 6 weekends\nElizabeth works 7 weekends\nSofia works 7 weekends\nEmily works 5 weekends\nAvery works 7 weekends\nMila works 4 weekends\nDistance days from target weekends: 24\n"
     ]
    }
   ],
   "source": [
    "saturdays = list(days[::7])\n",
    "distance = 0\n",
    "for m in staff:\n",
    "    value = sum([solver.Value(days_assigned[(m, d)]) for d in weekends])\n",
    "    print(f\"{staff_list[m]} works {value} weekends\")\n",
    "    distance += abs(triangle_costs(len(shifts), len(weekends), len(staff)) - value)\n",
    "\n",
    "print(f\"Distance days from target weekends: {distance}\")"
   ]
  },
  {
   "cell_type": "code",
   "execution_count": 18,
   "metadata": {},
   "outputs": [
    {
     "output_type": "stream",
     "name": "stdout",
     "text": [
      "Olivia works 11 weekdays\nEmma works 12 weekdays\nAva works 11 weekdays\nCharlotte works 13 weekdays\nSophia works 10 weekdays\nAmelia works 9 weekdays\nIsabella works 12 weekdays\nMia works 10 weekdays\nEvelyn works 12 weekdays\nHarper works 13 weekdays\nCamila works 10 weekdays\nGianna works 10 weekdays\nAbigail works 11 weekdays\nLuna works 11 weekdays\nElla works 14 weekdays\nElizabeth works 13 weekdays\nSofia works 13 weekdays\nEmily works 12 weekdays\nAvery works 13 weekdays\nMila works 11 weekdays\nDistance days from target weekdays: 23\n"
     ]
    }
   ],
   "source": [
    "distance = 0\n",
    "for m in staff:\n",
    "    value = sum([solver.Value(days_assigned[(m, d)]) for d in weekdays])\n",
    "    print(f\"{staff_list[m]} works {value} weekdays\")\n",
    "    distance += abs(triangle_costs(len(shifts), len(weekdays), len(staff)) - value)\n",
    "\n",
    "print(f\"Distance days from target weekdays: {distance}\")"
   ]
  },
  {
   "cell_type": "code",
   "execution_count": null,
   "metadata": {},
   "outputs": [],
   "source": []
  }
 ]
}