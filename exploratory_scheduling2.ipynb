{
 "metadata": {
  "language_info": {
   "codemirror_mode": {
    "name": "ipython",
    "version": 3
   },
   "file_extension": ".py",
   "mimetype": "text/x-python",
   "name": "python",
   "nbconvert_exporter": "python",
   "pygments_lexer": "ipython3",
   "version": "3.8.8"
  },
  "orig_nbformat": 2,
  "kernelspec": {
   "name": "python388jvsc74a57bd0af367eaf69fbdf1eb30afcd013da6fe8c1bbee17759328f4b7aa5bcf4ed7dbc3",
   "display_name": "Python 3.8.8 64-bit ('new_env': conda)"
  }
 },
 "nbformat": 4,
 "nbformat_minor": 2,
 "cells": [
  {
   "source": [
    "# Imports"
   ],
   "cell_type": "markdown",
   "metadata": {}
  },
  {
   "cell_type": "code",
   "execution_count": 1,
   "metadata": {},
   "outputs": [],
   "source": [
    "from ortools.sat.python import cp_model\n",
    "from calendar import monthrange\n",
    "\n",
    "from scheduling_funtions import *\n",
    "from itertools import permutations"
   ]
  },
  {
   "source": [
    "# Creating Data"
   ],
   "cell_type": "markdown",
   "metadata": {}
  },
  {
   "cell_type": "code",
   "execution_count": 2,
   "metadata": {},
   "outputs": [],
   "source": [
    "#name, ft shifts only, midnights only, first 6 months?\n",
    "staff_list = [['Olivia', 0, 1, 0],\n",
    "              ['Emma', 0, 1, 0], \n",
    "              ['Ava', 1, 0, 0],\n",
    "              ['Charlotte', 0, 0, 0], \n",
    "              ['Sophia', 0, 0, 1],\n",
    "              ['Amelia', 0, 0, 1],\n",
    "              ['Isabella', 1, 0, 0],\n",
    "              ['Mia', 1, 0, 0],\n",
    "              ['Evelyn', 0, 0, 1],\n",
    "              ['Harper', 0, 0, 0],\n",
    "              ['Camila', 0, 0, 0],\n",
    "              ['Gianna', 0, 0, 0],\n",
    "              ['Abigail', 0, 0, 0], \n",
    "              ['Luna', 0, 0, 0],\n",
    "              ['Ella', 0, 0, 0],\n",
    "              ['Elizabeth', 0, 0, 0], \n",
    "              ['Sofia', 0, 0, 0],\n",
    "              ['Emily', 0, 0, 0],\n",
    "              ['Avery', 0, 0, 0],\n",
    "              ['Mila', 0, 0, 0]]\n",
    "\n",
    "staff = range(len(staff_list))\n",
    "non_midnight_staff = list(filter(lambda x: staff_list[x][3] == 0, staff))"
   ]
  },
  {
   "cell_type": "code",
   "execution_count": 3,
   "metadata": {},
   "outputs": [],
   "source": [
    "shift_list = ['0700 - 1500',\n",
    "          '0730 - 1530 (FT)',\n",
    "          '0930 - 1730',\n",
    "          '1200 - 2000',\n",
    "          '1400 - 2200',\n",
    "          '1530 - 2330 (FT)',\n",
    "          '1600 - 2400',\n",
    "          '1800 - 0200',\n",
    "          '2000 - 0400',\n",
    "          '2200 - 0400',\n",
    "          '2359 - 0700',\n",
    "          'On call (22:00)']\n",
    "\n",
    "shifts = range(len(shift_list))\n",
    "midnight_shifts = shifts[10:11]\n",
    "late_shifts = shifts[7:10]\n",
    "normal_shifts = [0,2,3,4,6,7,8,9,10,11]\n"
   ]
  },
  {
   "cell_type": "code",
   "execution_count": 4,
   "metadata": {},
   "outputs": [],
   "source": [
    "planning_period = monthrange(2021, 5)\n",
    "days = range(planning_period[1])"
   ]
  },
  {
   "source": [
    "# Creating the model"
   ],
   "cell_type": "markdown",
   "metadata": {}
  },
  {
   "cell_type": "code",
   "execution_count": 5,
   "metadata": {},
   "outputs": [],
   "source": [
    "model = cp_model.CpModel()"
   ]
  },
  {
   "cell_type": "code",
   "execution_count": 6,
   "metadata": {},
   "outputs": [],
   "source": [
    "#decision variables\n",
    "#staff 'm' works shift 's' on day 'd'\n",
    "x = {(m, d, s) : \\\n",
    "    model.NewBoolVar('s%id%is%i' % (m, d, s)) \\\n",
    "    for m in staff \\\n",
    "    for d in days \\\n",
    "    for s in shifts}"
   ]
  },
  {
   "cell_type": "code",
   "execution_count": 7,
   "metadata": {},
   "outputs": [],
   "source": [
    "#intermediate variables\n",
    "#staff 'm' works on day 'd'\n",
    "\n",
    "#This enforces the constraint\n",
    "#No two shifts same day\n",
    "days_assigned = {(m, d) : \\\n",
    "    model.NewBoolVar('s%id%i' % (m, d)) \\\n",
    "    for m in staff \\\n",
    "    for d in days}\n",
    "\n",
    "for m in staff:\n",
    "  for d in days:\n",
    "    model.Add(days_assigned[(m,d)] == sum(x[(m,d,s)] for s in shifts))"
   ]
  },
  {
   "cell_type": "code",
   "execution_count": 8,
   "metadata": {},
   "outputs": [],
   "source": [
    "#intermediate variables\n",
    "#staff 'm' works on day 'd' on midnight shift 's'\n",
    "midnight_shifts_assigned = {(m, d) : \\\n",
    "    model.NewBoolVar('s%id%i' % (m, d)) \\\n",
    "    for m in staff \\\n",
    "    for d in days}\n",
    "\n",
    "for m in staff:\n",
    "  for d in days:\n",
    "    model.Add(midnight_shifts_assigned[(m,d)] == sum(x[(m,d,s)] for s in midnight_shifts))"
   ]
  },
  {
   "cell_type": "code",
   "execution_count": 9,
   "metadata": {},
   "outputs": [],
   "source": [
    "#intermediate variables\n",
    "#staff 'm' works on day 'd' on late shift 's'\n",
    "late_shifts_assigned = {(m, d) : \\\n",
    "    model.NewBoolVar('s%id%i' % (m, d)) \\\n",
    "    for m in staff \\\n",
    "    for d in days}\n",
    "\n",
    "for m in staff:\n",
    "  for d in days:\n",
    "    model.Add(late_shifts_assigned[(m,d)] == sum(x[(m,d,s)] for s in late_shifts))"
   ]
  },
  {
   "cell_type": "code",
   "execution_count": 10,
   "metadata": {},
   "outputs": [],
   "source": [
    " obj_int_vars = []\n",
    " obj_int_coeffs = []\n",
    " obj_bool_vars = []\n",
    " obj_bool_coeffs = []"
   ]
  },
  {
   "source": [
    "# Constraints"
   ],
   "cell_type": "markdown",
   "metadata": {}
  },
  {
   "cell_type": "code",
   "execution_count": 11,
   "metadata": {},
   "outputs": [],
   "source": [
    "# All shifts should be taken by doctors\n",
    "# No two doctors in the same shift on the same day\n",
    "for d in days:\n",
    "    for s in shifts:\n",
    "      constraint = [x[(m,d,s)] \\\n",
    "                    for m in staff]\n",
    "      model.Add(sum(constraint) == 1)"
   ]
  },
  {
   "cell_type": "code",
   "execution_count": 12,
   "metadata": {},
   "outputs": [],
   "source": [
    "# Maximum work 7 consecutive days\n",
    "# SOFT Work maximum of 5 days in a row\n",
    "for m in [1]:\n",
    "    variables, coeffs = add_soft_sequence_constraint(\n",
    "        model=model,\n",
    "        works=[days_assigned[m, d] for d in days],\n",
    "        hard_min=0,\n",
    "        soft_min=0,\n",
    "        min_cost=0,\n",
    "        soft_max=5,\n",
    "        hard_max=7,\n",
    "        max_cost=3,\n",
    "        prefix=\"max_days\"\n",
    "    )\n",
    "    obj_bool_vars.extend(variables)\n",
    "    obj_bool_coeffs.extend(coeffs)"
   ]
  },
  {
   "cell_type": "code",
   "execution_count": 13,
   "metadata": {},
   "outputs": [],
   "source": [
    "# # Maximum 2 midnights in a row (except for several physicians who only work midnights)\n",
    "# # SOFT Max 1 midnight in a row\n",
    "# for m in non_midnight_staff:\n",
    "#     variables, coeffs = add_soft_sequence_constraint(\n",
    "#         model=model,\n",
    "#         works=[midnight_shifts_assigned[m, d] for d in days],\n",
    "#         hard_min=0,\n",
    "#         soft_min=0,\n",
    "#         min_cost=0,\n",
    "#         soft_max=1,\n",
    "#         hard_max=2,\n",
    "#         max_cost=3,\n",
    "#         prefix=\"max_mshifts\"\n",
    "#     )\n",
    "#     obj_bool_vars.extend(variables)\n",
    "#     obj_bool_coeffs.extend(coeffs)\n"
   ]
  },
  {
   "cell_type": "code",
   "execution_count": 14,
   "metadata": {},
   "outputs": [],
   "source": [
    "# # late shifts in a row maximum - late shifts are 1800, 2000, 2200. The ability to set what a late shift is would be great. LIkely better to set them as 2000 and 2200. Midnight shift should also be included.\t\t\t\t\t\t\t\t\n",
    "# for m in staff:\n",
    "#     variables, coeffs = add_soft_sequence_constraint(\n",
    "#         model=model,\n",
    "#         works=[late_shifts_assigned[m, d] for d in days],\n",
    "#         hard_min=0,\n",
    "#         soft_min=0,\n",
    "#         min_cost=0,\n",
    "#         soft_max=3,\n",
    "#         hard_max=3,\n",
    "#         max_cost=3,\n",
    "#         prefix=\"max_lshifts\"\n",
    "#     )\n",
    "#     obj_bool_vars.extend(variables)\n",
    "#     obj_bool_coeffs.extend(coeffs)"
   ]
  },
  {
   "cell_type": "code",
   "execution_count": 15,
   "metadata": {
    "tags": []
   },
   "outputs": [],
   "source": [
    "# # 2 days off after 3 to 7 days of work in a row\n",
    "# prior = 3\n",
    "\n",
    "# for m in staff:\n",
    "#     works = list(map(lambda x: x, [days_assigned[m, d] for d in days]))\n",
    "#     for length in range(1, 4):\n",
    "#         for start in range(len(works) - length - 1 - prior):\n",
    "#             b = [works[i + start] for i in range(prior)]\n",
    "#             model.AddBoolOr(negated_bounded_span(list(map(lambda x: x.Not(), works)), start + prior, length)).OnlyEnforceIf(b)"
   ]
  },
  {
   "cell_type": "code",
   "execution_count": 16,
   "metadata": {},
   "outputs": [],
   "source": [
    "# #  5 late shifts in two weeks maximum\n",
    "\n",
    "# for m in staff:\n",
    "#     for w in range(days[-1] // 7):\n",
    "#         variables, coeffs = add_soft_sum_constraint(\n",
    "#             model = model,\n",
    "#             works = [late_shifts_assigned[m, d + w * 7] for d in range(7)],\n",
    "#             hard_min=0,\n",
    "#             soft_min=0,\n",
    "#             min_cost=0,\n",
    "#             soft_max=3,\n",
    "#             hard_max=3,\n",
    "#             max_cost=3,\n",
    "#             prefix=\"max_lshifts\")\n",
    "#         obj_int_vars.extend(variables)\n",
    "#         obj_int_coeffs.extend(coeffs)"
   ]
  },
  {
   "cell_type": "code",
   "execution_count": 17,
   "metadata": {
    "tags": []
   },
   "outputs": [],
   "source": [
    "# # General principle avoid shift times changing too much day to day\n",
    "# # Shifts should have same start time to 2.5 hours later compared to previous shift (the 2 hours later can be relaxed to 3,4 perhaps)\n",
    "# # No shifts that start more than 1.5 hours earlier than the shift on the previous day\n",
    "\n",
    "\n",
    "# penalized_transitions = []\n",
    "\n",
    "# for shift in list(permutations(shift_list[:-1], 2)):\n",
    "#     t1 = float(shift[0][0:2] + '.' + shift[0][2:4])\n",
    "#     t2 = float(shift[1][0:2] + '.' + shift[1][2:4])\n",
    "#     if t2 - t1 > 2.5:\n",
    "#         penalized_transitions.append((shift_list.index(shift[0]), shift_list.index(shift[1]), 1))\n",
    "#     elif t2 - t1 < -1.5:\n",
    "#         penalized_transitions.append((shift_list.index(shift[0]), shift_list.index(shift[1]), 3))\n",
    "\n",
    "# for previous_shift, next_shift, cost in penalized_transitions:\n",
    "#     for m in staff:\n",
    "#         for d in days[:-1]:\n",
    "#             transition = [\n",
    "#                 x[m, d, previous_shift].Not(), x[m, d + 1, next_shift].Not()\n",
    "#             ]\n",
    "#             if cost == 0:\n",
    "#                 model.AddBoolOr(transition)\n",
    "#             else:\n",
    "#                 trans_var = model.NewBoolVar(\n",
    "#                     'transition (employee=%i, day=%i)' % (m, d))\n",
    "#                 transition.append(trans_var)\n",
    "#                 model.AddBoolOr(transition)\n",
    "#                 obj_bool_vars.append(trans_var)\n",
    "#                 obj_bool_coeffs.append(cost)"
   ]
  },
  {
   "cell_type": "code",
   "execution_count": 18,
   "metadata": {},
   "outputs": [],
   "source": [
    "# # 2 days off after 3 to 7 days of work in a row\n",
    "# # Defines an illegal pattern constraint\n",
    "# # 11101\n",
    "# for m in staff:\n",
    "#   for wind in window(days, 5):\n",
    "#     constraint = [days_assigned[(m,d)] \\\n",
    "#                   for d in wind]\n",
    "\n",
    "#     model.AddForbiddenAssignments(constraint, [(1,1,1,0,1)])"
   ]
  },
  {
   "cell_type": "code",
   "execution_count": 19,
   "metadata": {},
   "outputs": [],
   "source": [
    "# # Certain physicians work only FT shift (0730,1530 shift)\n",
    "# for m in staff:\n",
    "#   constraint = [x[(m,d,s)] \\\n",
    "#                 for d in days \\\n",
    "#                 for s in normal_shifts]\n",
    "\n",
    "#   model.Add(sum(constraint) * staff_list[m][1] == 0)"
   ]
  },
  {
   "cell_type": "code",
   "execution_count": 20,
   "metadata": {},
   "outputs": [],
   "source": [
    "# # No midnights for staff in their first 6 months (need way to indicate when physician is in first 6 months of practice)\n",
    "# for m in staff:\n",
    "#   constraint = [x[(m,d,s)] \\\n",
    "#                 for d in days \\\n",
    "#                 for s in midnight_shifts]\n",
    "\n",
    "#   model.Add(sum(constraint) * staff_list[m][3] == 0)"
   ]
  },
  {
   "cell_type": "code",
   "execution_count": 21,
   "metadata": {},
   "outputs": [],
   "source": [
    "# # 2 days off after last midnight (except on call shift).\n",
    "# for m in staff:\n",
    "#     variables, coeffs = add_soft_sequence_constraint(\n",
    "#         model=model,\n",
    "#         works=[midnight_shifts_assigned[m, d] for d in days],\n",
    "#         hard_min=0,\n",
    "#         soft_min=0,\n",
    "#         min_cost=0,\n",
    "#         soft_max=1,\n",
    "#         hard_max=2,\n",
    "#         max_cost=3,\n",
    "#         prefix=\"max_mshifts\"\n",
    "#     )\n",
    "#     obj_bool_vars.extend(variables)\n",
    "#     obj_bool_coeffs.extend(coeffs)"
   ]
  },
  {
   "source": [
    "# Solving the Model"
   ],
   "cell_type": "markdown",
   "metadata": {}
  },
  {
   "cell_type": "code",
   "execution_count": 22,
   "metadata": {},
   "outputs": [
    {
     "output_type": "stream",
     "name": "stdout",
     "text": [
      "Day 0\nOlivia works shift 0700 - 1500\nAva works shift 0730 - 1530 (FT)\nGianna works shift 0930 - 1730\nEmma works shift 1200 - 2000\nHarper works shift 1400 - 2200\nAmelia works shift 1530 - 2330 (FT)\nCharlotte works shift 1600 - 2400\nMila works shift 1800 - 0200\nElizabeth works shift 2000 - 0400\nIsabella works shift 2200 - 0400\nSophia works shift 2359 - 0700\nAvery works shift On call (22:00)\n\nDay 1\nMila works shift 0700 - 1500\nEmily works shift 0730 - 1530 (FT)\nCharlotte works shift 0930 - 1730\nAmelia works shift 1200 - 2000\nGianna works shift 1400 - 2200\nAvery works shift 1530 - 2330 (FT)\nEmma works shift 1600 - 2400\nCamila works shift 1800 - 0200\nSophia works shift 2000 - 0400\nHarper works shift 2200 - 0400\nElizabeth works shift 2359 - 0700\nOlivia works shift On call (22:00)\n\nDay 2\nOlivia works shift 0700 - 1500\nSophia works shift 0730 - 1530 (FT)\nGianna works shift 0930 - 1730\nAmelia works shift 1200 - 2000\nHarper works shift 1400 - 2200\nEmma works shift 1530 - 2330 (FT)\nSofia works shift 1600 - 2400\nAvery works shift 1800 - 0200\nCamila works shift 2000 - 0400\nMila works shift 2200 - 0400\nElizabeth works shift 2359 - 0700\nEmily works shift On call (22:00)\n\nDay 3\nEmily works shift 0700 - 1500\nSophia works shift 0730 - 1530 (FT)\nCharlotte works shift 0930 - 1730\nCamila works shift 1200 - 2000\nOlivia works shift 1400 - 2200\nElla works shift 1530 - 2330 (FT)\nHarper works shift 1600 - 2400\nAva works shift 1800 - 0200\nMila works shift 2000 - 0400\nIsabella works shift 2200 - 0400\nAmelia works shift 2359 - 0700\nGianna works shift On call (22:00)\n\nDay 4\nHarper works shift 0700 - 1500\nAva works shift 0730 - 1530 (FT)\nMila works shift 0930 - 1730\nOlivia works shift 1200 - 2000\nEvelyn works shift 1400 - 2200\nLuna works shift 1530 - 2330 (FT)\nCharlotte works shift 1600 - 2400\nEmma works shift 1800 - 0200\nSophia works shift 2000 - 0400\nCamila works shift 2200 - 0400\nAmelia works shift 2359 - 0700\nAvery works shift On call (22:00)\n\nDay 5\nGianna works shift 0700 - 1500\nEvelyn works shift 0730 - 1530 (FT)\nElizabeth works shift 0930 - 1730\nAmelia works shift 1200 - 2000\nSophia works shift 1400 - 2200\nAva works shift 1530 - 2330 (FT)\nHarper works shift 1600 - 2400\nEmma works shift 1800 - 0200\nEmily works shift 2000 - 0400\nAvery works shift 2200 - 0400\nCharlotte works shift 2359 - 0700\nOlivia works shift On call (22:00)\n\nDay 6\nMila works shift 0700 - 1500\nHarper works shift 0730 - 1530 (FT)\nOlivia works shift 0930 - 1730\nAva works shift 1200 - 2000\nAvery works shift 1400 - 2200\nEmma works shift 1530 - 2330 (FT)\nGianna works shift 1600 - 2400\nSophia works shift 1800 - 0200\nElizabeth works shift 2000 - 0400\nEvelyn works shift 2200 - 0400\nSofia works shift 2359 - 0700\nEmily works shift On call (22:00)\n\nDay 7\nAmelia works shift 0700 - 1500\nAvery works shift 0730 - 1530 (FT)\nCharlotte works shift 0930 - 1730\nSofia works shift 1200 - 2000\nSophia works shift 1400 - 2200\nMila works shift 1530 - 2330 (FT)\nAva works shift 1600 - 2400\nIsabella works shift 1800 - 0200\nEmma works shift 2000 - 0400\nOlivia works shift 2200 - 0400\nCamila works shift 2359 - 0700\nMia works shift On call (22:00)\n\nDay 8\nOlivia works shift 0700 - 1500\nAva works shift 0730 - 1530 (FT)\nSophia works shift 0930 - 1730\nEmily works shift 1200 - 2000\nCamila works shift 1400 - 2200\nAmelia works shift 1530 - 2330 (FT)\nAvery works shift 1600 - 2400\nSofia works shift 1800 - 0200\nIsabella works shift 2000 - 0400\nMila works shift 2200 - 0400\nElizabeth works shift 2359 - 0700\nHarper works shift On call (22:00)\n\nDay 9\nElla works shift 0700 - 1500\nSophia works shift 0730 - 1530 (FT)\nCharlotte works shift 0930 - 1730\nMila works shift 1200 - 2000\nGianna works shift 1400 - 2200\nOlivia works shift 1530 - 2330 (FT)\nEmily works shift 1600 - 2400\nAmelia works shift 1800 - 0200\nHarper works shift 2000 - 0400\nAvery works shift 2200 - 0400\nLuna works shift 2359 - 0700\nAva works shift On call (22:00)\n\nDay 10\nEmily works shift 0700 - 1500\nEvelyn works shift 0730 - 1530 (FT)\nAvery works shift 0930 - 1730\nCharlotte works shift 1200 - 2000\nOlivia works shift 1400 - 2200\nMila works shift 1530 - 2330 (FT)\nAva works shift 1600 - 2400\nSophia works shift 1800 - 0200\nAmelia works shift 2000 - 0400\nElizabeth works shift 2200 - 0400\nCamila works shift 2359 - 0700\nHarper works shift On call (22:00)\n\nDay 11\nEmily works shift 0700 - 1500\nCharlotte works shift 0730 - 1530 (FT)\nEvelyn works shift 0930 - 1730\nOlivia works shift 1200 - 2000\nAvery works shift 1400 - 2200\nAva works shift 1530 - 2330 (FT)\nMila works shift 1600 - 2400\nHarper works shift 1800 - 0200\nAmelia works shift 2000 - 0400\nSofia works shift 2200 - 0400\nCamila works shift 2359 - 0700\nSophia works shift On call (22:00)\n\nDay 12\nCamila works shift 0700 - 1500\nSophia works shift 0730 - 1530 (FT)\nAvery works shift 0930 - 1730\nHarper works shift 1200 - 2000\nAva works shift 1400 - 2200\nElizabeth works shift 1530 - 2330 (FT)\nCharlotte works shift 1600 - 2400\nEmily works shift 1800 - 0200\nAmelia works shift 2000 - 0400\nMila works shift 2200 - 0400\nOlivia works shift 2359 - 0700\nSofia works shift On call (22:00)\n\nDay 13\nCharlotte works shift 0700 - 1500\nEvelyn works shift 0730 - 1530 (FT)\nAmelia works shift 0930 - 1730\nHarper works shift 1200 - 2000\nSophia works shift 1400 - 2200\nCamila works shift 1530 - 2330 (FT)\nAva works shift 1600 - 2400\nSofia works shift 1800 - 0200\nAvery works shift 2000 - 0400\nElizabeth works shift 2200 - 0400\nOlivia works shift 2359 - 0700\nMila works shift On call (22:00)\n\nDay 14\nAvery works shift 0700 - 1500\nEmily works shift 0730 - 1530 (FT)\nElizabeth works shift 0930 - 1730\nMila works shift 1200 - 2000\nOlivia works shift 1400 - 2200\nEvelyn works shift 1530 - 2330 (FT)\nSofia works shift 1600 - 2400\nAmelia works shift 1800 - 0200\nCamila works shift 2000 - 0400\nSophia works shift 2200 - 0400\nMia works shift 2359 - 0700\nAva works shift On call (22:00)\n\nDay 15\nMia works shift 0700 - 1500\nAbigail works shift 0730 - 1530 (FT)\nAmelia works shift 0930 - 1730\nIsabella works shift 1200 - 2000\nCamila works shift 1400 - 2200\nEvelyn works shift 1530 - 2330 (FT)\nEmily works shift 1600 - 2400\nGianna works shift 1800 - 0200\nAva works shift 2000 - 0400\nOlivia works shift 2200 - 0400\nCharlotte works shift 2359 - 0700\nMila works shift On call (22:00)\n\nDay 16\nSofia works shift 0700 - 1500\nAmelia works shift 0730 - 1530 (FT)\nCharlotte works shift 0930 - 1730\nOlivia works shift 1200 - 2000\nAva works shift 1400 - 2200\nHarper works shift 1530 - 2330 (FT)\nSophia works shift 1600 - 2400\nAbigail works shift 1800 - 0200\nMila works shift 2000 - 0400\nAvery works shift 2200 - 0400\nCamila works shift 2359 - 0700\nEmily works shift On call (22:00)\n\nDay 17\nIsabella works shift 0700 - 1500\nHarper works shift 0730 - 1530 (FT)\nAvery works shift 0930 - 1730\nOlivia works shift 1200 - 2000\nMila works shift 1400 - 2200\nCamila works shift 1530 - 2330 (FT)\nEvelyn works shift 1600 - 2400\nSofia works shift 1800 - 0200\nAva works shift 2000 - 0400\nCharlotte works shift 2200 - 0400\nGianna works shift 2359 - 0700\nSophia works shift On call (22:00)\n\nDay 18\nOlivia works shift 0700 - 1500\nElizabeth works shift 0730 - 1530 (FT)\nAvery works shift 0930 - 1730\nSofia works shift 1200 - 2000\nAmelia works shift 1400 - 2200\nEvelyn works shift 1530 - 2330 (FT)\nCamila works shift 1600 - 2400\nHarper works shift 1800 - 0200\nSophia works shift 2000 - 0400\nEmily works shift 2200 - 0400\nMila works shift 2359 - 0700\nMia works shift On call (22:00)\n\nDay 19\nAva works shift 0700 - 1500\nHarper works shift 0730 - 1530 (FT)\nMila works shift 0930 - 1730\nAvery works shift 1200 - 2000\nCharlotte works shift 1400 - 2200\nAmelia works shift 1530 - 2330 (FT)\nGianna works shift 1600 - 2400\nEvelyn works shift 1800 - 0200\nSophia works shift 2000 - 0400\nEmily works shift 2200 - 0400\nSofia works shift 2359 - 0700\nOlivia works shift On call (22:00)\n\nDay 20\nEvelyn works shift 0700 - 1500\nCamila works shift 0730 - 1530 (FT)\nAvery works shift 0930 - 1730\nMila works shift 1200 - 2000\nSophia works shift 1400 - 2200\nSofia works shift 1530 - 2330 (FT)\nGianna works shift 1600 - 2400\nHarper works shift 1800 - 0200\nAmelia works shift 2000 - 0400\nEmily works shift 2200 - 0400\nElizabeth works shift 2359 - 0700\nOlivia works shift On call (22:00)\n\nDay 21\nCharlotte works shift 0700 - 1500\nAvery works shift 0730 - 1530 (FT)\nElizabeth works shift 0930 - 1730\nAmelia works shift 1200 - 2000\nEmily works shift 1400 - 2200\nMila works shift 1530 - 2330 (FT)\nSofia works shift 1600 - 2400\nOlivia works shift 1800 - 0200\nHarper works shift 2000 - 0400\nSophia works shift 2200 - 0400\nAva works shift 2359 - 0700\nCamila works shift On call (22:00)\n\nDay 22\nCamila works shift 0700 - 1500\nAvery works shift 0730 - 1530 (FT)\nSofia works shift 0930 - 1730\nEvelyn works shift 1200 - 2000\nEmily works shift 1400 - 2200\nElizabeth works shift 1530 - 2330 (FT)\nAva works shift 1600 - 2400\nAmelia works shift 1800 - 0200\nSophia works shift 2000 - 0400\nMila works shift 2200 - 0400\nHarper works shift 2359 - 0700\nOlivia works shift On call (22:00)\n\nDay 23\nCharlotte works shift 0700 - 1500\nIsabella works shift 0730 - 1530 (FT)\nCamila works shift 0930 - 1730\nElizabeth works shift 1200 - 2000\nOlivia works shift 1400 - 2200\nAva works shift 1530 - 2330 (FT)\nAvery works shift 1600 - 2400\nSophia works shift 1800 - 0200\nMila works shift 2000 - 0400\nHarper works shift 2200 - 0400\nElla works shift 2359 - 0700\nSofia works shift On call (22:00)\n\nDay 24\nCamila works shift 0700 - 1500\nEmily works shift 0730 - 1530 (FT)\nEvelyn works shift 0930 - 1730\nElizabeth works shift 1200 - 2000\nAva works shift 1400 - 2200\nHarper works shift 1530 - 2330 (FT)\nAmelia works shift 1600 - 2400\nSofia works shift 1800 - 0200\nAvery works shift 2000 - 0400\nMila works shift 2200 - 0400\nSophia works shift 2359 - 0700\nMia works shift On call (22:00)\n\nDay 25\nElizabeth works shift 0700 - 1500\nCharlotte works shift 0730 - 1530 (FT)\nCamila works shift 0930 - 1730\nAva works shift 1200 - 2000\nAmelia works shift 1400 - 2200\nAvery works shift 1530 - 2330 (FT)\nHarper works shift 1600 - 2400\nSofia works shift 1800 - 0200\nMila works shift 2000 - 0400\nEmily works shift 2200 - 0400\nEvelyn works shift 2359 - 0700\nSophia works shift On call (22:00)\n\nDay 26\nMila works shift 0700 - 1500\nEmily works shift 0730 - 1530 (FT)\nElizabeth works shift 0930 - 1730\nOlivia works shift 1200 - 2000\nAvery works shift 1400 - 2200\nEvelyn works shift 1530 - 2330 (FT)\nCamila works shift 1600 - 2400\nCharlotte works shift 1800 - 0200\nSofia works shift 2000 - 0400\nMia works shift 2200 - 0400\nSophia works shift 2359 - 0700\nHarper works shift On call (22:00)\n\nDay 27\nCharlotte works shift 0700 - 1500\nMia works shift 0730 - 1530 (FT)\nAvery works shift 0930 - 1730\nEvelyn works shift 1200 - 2000\nAva works shift 1400 - 2200\nEmily works shift 1530 - 2330 (FT)\nSofia works shift 1600 - 2400\nOlivia works shift 1800 - 0200\nCamila works shift 2000 - 0400\nHarper works shift 2200 - 0400\nElizabeth works shift 2359 - 0700\nSophia works shift On call (22:00)\n\nDay 28\nHarper works shift 0700 - 1500\nCamila works shift 0730 - 1530 (FT)\nElizabeth works shift 0930 - 1730\nCharlotte works shift 1200 - 2000\nSophia works shift 1400 - 2200\nEvelyn works shift 1530 - 2330 (FT)\nMila works shift 1600 - 2400\nAvery works shift 1800 - 0200\nOlivia works shift 2000 - 0400\nEmily works shift 2200 - 0400\nSofia works shift 2359 - 0700\nElla works shift On call (22:00)\n\nDay 29\nHarper works shift 0700 - 1500\nAvery works shift 0730 - 1530 (FT)\nCamila works shift 0930 - 1730\nOlivia works shift 1200 - 2000\nSofia works shift 1400 - 2200\nAva works shift 1530 - 2330 (FT)\nElizabeth works shift 1600 - 2400\nElla works shift 1800 - 0200\nMila works shift 2000 - 0400\nEmily works shift 2200 - 0400\nCharlotte works shift 2359 - 0700\nEvelyn works shift On call (22:00)\n\nDay 30\nAva works shift 0700 - 1500\nOlivia works shift 0730 - 1530 (FT)\nHarper works shift 0930 - 1730\nSophia works shift 1200 - 2000\nEvelyn works shift 1400 - 2200\nCamila works shift 1530 - 2330 (FT)\nEmily works shift 1600 - 2400\nAvery works shift 1800 - 0200\nMia works shift 2000 - 0400\nElizabeth works shift 2200 - 0400\nElla works shift 2359 - 0700\nAmelia works shift On call (22:00)\n\n"
     ]
    }
   ],
   "source": [
    "model.Minimize(\n",
    "        sum(obj_bool_vars[i] * obj_bool_coeffs[i]\n",
    "            for i in range(len(obj_bool_vars))) +\n",
    "            sum(obj_int_vars[i] * obj_int_coeffs[i]\n",
    "            for i in range(len(obj_int_vars))))\n",
    "\n",
    "solver = cp_model.CpSolver()\n",
    "solver.Solve(model)\n",
    "\n",
    "for d in days:\n",
    "    print('Day', d)\n",
    "    for s in shifts:\n",
    "        for m in staff:\n",
    "            if solver.Value(x[(m, d, s)]) == 1:\n",
    "              print(staff_list[m][0], 'works shift', shift_list[s])\n",
    "    print()"
   ]
  },
  {
   "cell_type": "code",
   "execution_count": null,
   "metadata": {},
   "outputs": [],
   "source": []
  }
 ]
}