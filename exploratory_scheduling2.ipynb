{
 "metadata": {
  "language_info": {
   "codemirror_mode": {
    "name": "ipython",
    "version": 3
   },
   "file_extension": ".py",
   "mimetype": "text/x-python",
   "name": "python",
   "nbconvert_exporter": "python",
   "pygments_lexer": "ipython3",
   "version": "3.8.8"
  },
  "orig_nbformat": 2,
  "kernelspec": {
   "name": "python388jvsc74a57bd0af367eaf69fbdf1eb30afcd013da6fe8c1bbee17759328f4b7aa5bcf4ed7dbc3",
   "display_name": "Python 3.8.8 64-bit ('new_env': conda)"
  }
 },
 "nbformat": 4,
 "nbformat_minor": 2,
 "cells": [
  {
   "source": [
    "# Imports"
   ],
   "cell_type": "markdown",
   "metadata": {}
  },
  {
   "cell_type": "code",
   "execution_count": 1,
   "metadata": {},
   "outputs": [],
   "source": [
    "from ortools.sat.python import cp_model\n",
    "from calendar import monthrange\n",
    "\n",
    "from scheduling_funtions import *\n",
    "from itertools import permutations"
   ]
  },
  {
   "source": [
    "# Creating Data"
   ],
   "cell_type": "markdown",
   "metadata": {}
  },
  {
   "cell_type": "code",
   "execution_count": 2,
   "metadata": {},
   "outputs": [],
   "source": [
    "staff_list = ['Olivia', 'Emma', 'Ava', 'Charlotte', 'Sophia', 'Amelia', 'Isabella', \n",
    "        'Mia', 'Evelyn', 'Harper', 'Camila', 'Gianna','Abigail', 'Luna', 'Ella',\n",
    "        'Elizabeth', 'Sofia', 'Emily', 'Avery', 'Mila']\n",
    "\n",
    "ft_only = [0,0,0,1,1,0,0,0,0,0,0,0,0,0,0,0,0,0,0,0]\n",
    "midnight_only = [0,0,0,0,0,0,0,0,0,0,0,0,0,0,0,1,0,0,0,0]\n",
    "first_six_month_only = [0,0,0,0,0,0,0,0,0,0,0,0,0,0,0,0,0,0,1,1]\n",
    "\n",
    "staff = range(len(staff_list))\n",
    "midnight_staff = list(filter(lambda x: midnight_only[x] == 1, staff))\n",
    "six_month_new_staff = list(filter(lambda x: first_six_month_only[x] == 1, staff))\n",
    "ft_staff = list(filter(lambda x: ft_only[x] == 1, staff))\n",
    "\n",
    "def not_staff(staff_list):\n",
    "    return staff if staff_list == [] else list(set(staff) - set(staff_list))"
   ]
  },
  {
   "cell_type": "code",
   "execution_count": 3,
   "metadata": {},
   "outputs": [],
   "source": [
    "shift_list = ['0700 - 1500',\n",
    "          '0730 - 1530 (FT)',\n",
    "          '0930 - 1730',\n",
    "          '1200 - 2000',\n",
    "          '1400 - 2200',\n",
    "          '1530 - 2330 (FT)',\n",
    "          '1600 - 2400',\n",
    "          '1800 - 0200',\n",
    "          '2000 - 0400',\n",
    "          '2200 - 0400',\n",
    "          '2359 - 0700']\n",
    "\n",
    "shifts = range(len(shift_list))\n",
    "midnight_shifts = [10]\n",
    "late_shifts = shifts[7:10]\n",
    "day_shifts = shifts[:3]\n",
    "afternoon_shifts = shifts[3:7]\n",
    "ft_shifts = [2, 5]\n",
    "\n",
    "def not_shifts(shift_list):\n",
    "    return shifts if shift_list == [] else list(set(shifts) - set(shift_list))"
   ]
  },
  {
   "cell_type": "code",
   "execution_count": 4,
   "metadata": {},
   "outputs": [],
   "source": [
    "planning_period = monthrange(2021, 5)\n",
    "days = range(planning_period[1])"
   ]
  },
  {
   "source": [
    "# Creating the model"
   ],
   "cell_type": "markdown",
   "metadata": {}
  },
  {
   "cell_type": "code",
   "execution_count": 5,
   "metadata": {},
   "outputs": [],
   "source": [
    "model = cp_model.CpModel()"
   ]
  },
  {
   "cell_type": "code",
   "execution_count": 6,
   "metadata": {},
   "outputs": [],
   "source": [
    "#decision variables\n",
    "#staff 'm' works shift 's' on day 'd'\n",
    "works = {(m, d, s) : \\\n",
    "    model.NewBoolVar('works_s%id%is%i' % (m, d, s)) \\\n",
    "    for m in staff \\\n",
    "    for d in days \\\n",
    "    for s in shifts}"
   ]
  },
  {
   "cell_type": "code",
   "execution_count": 7,
   "metadata": {},
   "outputs": [],
   "source": [
    "#intermediate variables\n",
    "#staff 'm' works on day 'd'\n",
    "\n",
    "#This enforces the constraint\n",
    "#No two shifts same day\n",
    "days_assigned = {(m, d) : \\\n",
    "    model.NewBoolVar('days_works_s%id%i' % (m, d)) \\\n",
    "    for m in staff \\\n",
    "    for d in days}\n",
    "\n",
    "for m in staff:\n",
    "  for d in days:\n",
    "    model.Add(days_assigned[(m,d)] == sum(works[(m,d,s)] for s in shifts))"
   ]
  },
  {
   "cell_type": "code",
   "execution_count": 8,
   "metadata": {},
   "outputs": [],
   "source": [
    "#intermediate variables\n",
    "#staff 'm' works on day 'd' on midnight shift 's'\n",
    "afternoon_shifts_assigned = {(m, d) : \\\n",
    "    model.NewBoolVar('afternoon_s%id%i' % (m, d)) \\\n",
    "    for m in staff \\\n",
    "    for d in days}\n",
    "\n",
    "for m in staff:\n",
    "  for d in days:\n",
    "    model.Add(afternoon_shifts_assigned[(m,d)] == sum(works[(m,d,s)] for s in afternoon_shifts))"
   ]
  },
  {
   "cell_type": "code",
   "execution_count": 9,
   "metadata": {},
   "outputs": [],
   "source": [
    "#intermediate variables\n",
    "#staff 'm' works on day 'd' on midnight shift 's'\n",
    "midnight_shifts_assigned = {(m, d) : \\\n",
    "    model.NewBoolVar('midnight_s%id%i' % (m, d)) \\\n",
    "    for m in staff \\\n",
    "    for d in days}\n",
    "\n",
    "for m in staff:\n",
    "  for d in days:\n",
    "    model.Add(midnight_shifts_assigned[(m,d)] == sum(works[(m,d,s)] for s in midnight_shifts))"
   ]
  },
  {
   "cell_type": "code",
   "execution_count": 10,
   "metadata": {},
   "outputs": [],
   "source": [
    "#intermediate variables\n",
    "#staff 'm' works on day 'd' on ft shift 's'\n",
    "ft_shifts_assigned = {(m, d) : \\\n",
    "    model.NewBoolVar('ft_s%id%i' % (m, d)) \\\n",
    "    for m in staff \\\n",
    "    for d in days}\n",
    "\n",
    "for m in staff:\n",
    "  for d in days:\n",
    "    model.Add(ft_shifts_assigned[(m,d)] == sum(works[(m,d,s)] for s in ft_shifts))"
   ]
  },
  {
   "cell_type": "code",
   "execution_count": 11,
   "metadata": {},
   "outputs": [],
   "source": [
    "#intermediate variables\n",
    "#staff 'm' works on day 'd' on late shift 's'\n",
    "late_shifts_assigned = {(m, d) : \\\n",
    "    model.NewBoolVar('late_s%id%i' % (m, d)) \\\n",
    "    for m in staff \\\n",
    "    for d in days}\n",
    "\n",
    "for m in staff:\n",
    "  for d in days:\n",
    "    model.Add(late_shifts_assigned[(m,d)] == sum(works[(m,d,s)] for s in late_shifts))"
   ]
  },
  {
   "cell_type": "code",
   "execution_count": 12,
   "metadata": {},
   "outputs": [],
   "source": [
    "#intermediate variables\n",
    "#staff 'm' works on day 'd' on late shift 's'\n",
    "day_shifts_assigned = {(m, d) : \\\n",
    "    model.NewBoolVar('day_s%id%i' % (m, d)) \\\n",
    "    for m in staff \\\n",
    "    for d in days}\n",
    "\n",
    "for m in staff:\n",
    "  for d in days:\n",
    "    model.Add(day_shifts_assigned[(m,d)] == sum(works[(m,d,s)] for s in day_shifts))"
   ]
  },
  {
   "cell_type": "code",
   "execution_count": 13,
   "metadata": {},
   "outputs": [],
   "source": [
    " obj_int_vars = []\n",
    " obj_int_coeffs = []\n",
    " obj_bool_vars = []\n",
    " obj_bool_coeffs = []"
   ]
  },
  {
   "source": [
    "# Constraints"
   ],
   "cell_type": "markdown",
   "metadata": {}
  },
  {
   "cell_type": "code",
   "execution_count": 14,
   "metadata": {},
   "outputs": [],
   "source": [
    "def all_shifts_taken():\n",
    "  # All shifts should be taken by doctors\n",
    "  # No two doctors in the same shift on the same day\n",
    "  for d in days:\n",
    "      for s in shifts:\n",
    "        constraint = [works[(m,d,s)] \\\n",
    "                      for m in staff]\n",
    "        model.Add(sum(constraint) == 1)\n",
    "\n",
    "def max_days_worked():\n",
    "    # Maximum work 7 consecutive days\n",
    "    # SOFT Work maximum of 5 days in a row\n",
    "    for m in staff:\n",
    "      variables, coeffs = add_soft_sequence_max_constraint(\n",
    "          model = model,\n",
    "          prefix = \"max_days_in_a_row\",\n",
    "          shifts = not_list([days_assigned[m, d] for d in days]),\n",
    "          soft_max = 5,\n",
    "          hard_max = 7,\n",
    "          max_cost = 4,\n",
    "      )\n",
    "      obj_bool_vars.extend(variables)\n",
    "      obj_bool_coeffs.extend(coeffs)\n",
    "\n",
    "def days_off_after_midnight():\n",
    "  # 2 days off after last midnight (except on call shift).\n",
    "  # SOFT 3 days off after midnight. 4 even better\n",
    "  for m in not_staff(midnight_staff): \n",
    "    variables, coeffs = add_soft_sequence_min_constraint(\n",
    "        model = model,\n",
    "        prefix = \"days_off_after_midnight_shift\",\n",
    "        shifts = [days_assigned[(m,d)] for d in days],\n",
    "        hard_min = 2,\n",
    "        soft_min = 4,\n",
    "        min_cost = 2,\n",
    "        prior = Prior([midnight_shifts_assigned[(m, d)] for d in days], [1], True)\n",
    "    )\n",
    "    obj_bool_vars.extend(variables)\n",
    "    obj_bool_coeffs.extend(coeffs)\n",
    "    \n",
    "\n",
    "def midnight_physicians():\n",
    "  # Certain physicians work only Midnight shifts\n",
    "  for m in midnight_staff:\n",
    "      constraint = [works[(m,d,s)] \\\n",
    "                  for d in days \\\n",
    "                  for s in not_shifts(midnight_shifts)]\n",
    "\n",
    "      model.Add(sum(constraint) == 0)\n",
    "\n",
    "def no_midnights_within_six_months():\n",
    "  # Physicians in their first 6 months cant work midnights\n",
    "  for m in six_month_new_staff:\n",
    "      constraint = [works[(m,d,s)] \\\n",
    "                  for d in days \\\n",
    "                  for s in midnight_shifts]\n",
    "\n",
    "      model.Add(sum(constraint) == 0)\n",
    "\n",
    "def max_midnights_in_a_row():\n",
    "  # Maximum 2 midnights in a row (except for several physicians who only work midnights)\n",
    "  # SOFT Max 1 midnight in a row\n",
    "  for m in not_staff(midnight_staff):\n",
    "      variables, coeffs = add_soft_sequence_max_constraint(\n",
    "          model = model,\n",
    "          prefix = \"max_midnight_shifts_in_a_row\",\n",
    "          shifts = not_list([midnight_shifts_assigned[m, d] for d in days]),\n",
    "          soft_max = 1,\n",
    "          hard_max = 2,\n",
    "          max_cost = 3,\n",
    "      )\n",
    "      obj_bool_vars.extend(variables)\n",
    "      obj_bool_coeffs.extend(coeffs)\n",
    "\n",
    "def on_call_shift_day_after():\n",
    "  # On call shift - day after rules\n",
    "  return\n",
    "\n",
    "def ft_physicians():\n",
    "  # Certain physicians work only FT shift (0730,1530 shift)\n",
    "  for m in ft_staff:\n",
    "    constraint = [works[(m,d,s)] \\\n",
    "                  for d in days \\\n",
    "                  for s in not_shifts(ft_shifts)]\n",
    "\n",
    "    model.Add(sum(constraint)== 0)\n",
    "\n",
    "def no_late_shift_before_time_off():\n",
    "  # No 2000, 2200, or midnight shift prior to day requested off\n",
    "  return\n",
    "\n",
    "def no_early_shifts_before_on_call():\n",
    "  # Physicians can work the 0930 shifts or earlier prior to working on call. They can work starting no earlier than 11 the day after on call.\n",
    "  return\n",
    "\n",
    "def days_off_after_consecutive_shifts():\n",
    "  # 2 days off after 3 to 7 days of work in a row\n",
    "  for m in staff:\n",
    "      variables, coeffs = add_soft_sequence_min_constraint(\n",
    "          model = model,\n",
    "          prefix = \"days_off_after_consecutive_shifts\",\n",
    "          shifts = [days_assigned[m, d] for d in days],\n",
    "          hard_min = 2,\n",
    "          soft_min = 2,\n",
    "          min_cost = 2,\n",
    "          prior = Prior([days_assigned[m, d] for d in days], [True, True, True]))\n",
    "      obj_bool_vars.extend(variables)\n",
    "      obj_bool_coeffs.extend(coeffs)"
   ]
  },
  {
   "source": [
    "# Soft Constraints"
   ],
   "cell_type": "markdown",
   "metadata": {}
  },
  {
   "cell_type": "code",
   "execution_count": 15,
   "metadata": {
    "tags": []
   },
   "outputs": [],
   "source": [
    "def transitions_constraints():\n",
    "    # General principle avoid shift times changing too much day to day\n",
    "    # Shifts should have same start time to 2.5 hours later compared to previous shift (the 2 hours later can be relaxed to 3,4 perhaps)\n",
    "    # No shifts that start more than 1.5 hours earlier than the shift on the previous day\n",
    "    penalized_transitions = []\n",
    "\n",
    "    for shift in list(permutations(shift_list, 2)):\n",
    "        t1 = float(shift[0][0:2] + '.' + shift[0][2:4])\n",
    "        t2 = float(shift[1][0:2] + '.' + shift[1][2:4])\n",
    "        if t2 - t1 > 2.5:\n",
    "            penalized_transitions.append(((shift_list.index(shift[0]), shift_list.index(shift[1])), 1))\n",
    "        elif t2 - t1 < -1.5:\n",
    "            penalized_transitions.append(((shift_list.index(shift[0]), shift_list.index(shift[1])), 3))\n",
    "\n",
    "    for (previous_shift, next_shift), cost in penalized_transitions:\n",
    "        for m in staff:\n",
    "            for d in days[:-1]:\n",
    "                transition = [\n",
    "                    works[m, d, previous_shift].Not(), works[m, d + 1, next_shift].Not()\n",
    "                ]\n",
    "                if cost != 0:\n",
    "                    trans_var = model.NewBoolVar(\n",
    "                        'transition (employee=%i, day=%i)' % (m, d))\n",
    "                    transition.append(trans_var)\n",
    "                    model.AddBoolOr(transition)\n",
    "                    obj_bool_vars.append(trans_var)\n",
    "                    obj_bool_coeffs.append(cost)\n",
    "\n",
    "def days_off_between_late_and_day_shifts():\n",
    "    # 3 days off when transitioning from late shift to day shift \n",
    "    for m in staff:\n",
    "        add_soft_sequence_min_constraint(\n",
    "            model = model,\n",
    "            prefix = \"days_off_between_late_and_day\",\n",
    "            shifts = [days_assigned[(m, d)] for d in days],\n",
    "            hard_min = 0,\n",
    "            soft_min = 3,\n",
    "            min_cost = 2,\n",
    "            prior = Prior([late_shifts_assigned[(m, d)] for d in days], [True]),\n",
    "            post = Post([day_shifts_assigned[(m, d)] for d in days], [True]),\n",
    "        )\n",
    "\n",
    "def days_off_between_late_and_afternoon_shifts():\n",
    "    # 2 days off when transitioning from late shift to afternoon shift (although this transition should be avoided) \n",
    "    for m in staff:\n",
    "        add_soft_sequence_min_constraint(\n",
    "            model = model,\n",
    "            prefix = \"days_off_between_late_and_day\",\n",
    "            shifts = [days_assigned[(m, d)] for d in days],\n",
    "            hard_min = 0,\n",
    "            soft_min = 2,\n",
    "            min_cost = 2,\n",
    "            prior = Prior([late_shifts_assigned[(m, d)] for d in days], [True]),\n",
    "            post = Post([afternoon_shifts_assigned[(m, d)] for d in days], [True]),\n",
    "        )\n",
    "\n",
    "def late_shifts_in_a_row():\n",
    "    # 3 late shifts in a row maximum - late shifts are 1800, 2000, 2200. The ability to set what a late shift is would be great. LIkely better to set them  \n",
    "    # as 2000 and 2200. Midnight shift should also be included.\t\t\t\t\t\t\t\t\n",
    "    for m in staff:\n",
    "        variables, coeffs = add_soft_sequence_max_constraint(\n",
    "            model = model,\n",
    "            prefix = \"max_late_shifts_in_a_row\",\n",
    "            shifts = not_list([late_shifts_assigned[m, d] for d in days]),\n",
    "            soft_max = 3,\n",
    "            hard_max = 7,\n",
    "            max_cost = 3,\n",
    "        )\n",
    "        obj_bool_vars.extend(variables)\n",
    "        obj_bool_coeffs.extend(coeffs)\n",
    "\n",
    "def late_shifts_in_weeks():\n",
    "    #  5 late shifts in two weeks maximum\n",
    "    for m in staff:\n",
    "        for w in range(days[-1] // 7):\n",
    "            variables, coeffs = add_soft_sum_constraint(\n",
    "                model = model,\n",
    "                prefix=\"max_late_shifts_in_two_weeks\",\n",
    "                shifts = [late_shifts_assigned[m, d + w * 7] for d in range(7)],\n",
    "                hard_min = 0,\n",
    "                soft_min = 0,\n",
    "                min_cost = 0,\n",
    "                soft_max = 5,\n",
    "                hard_max = 14,\n",
    "                max_cost = 3,\n",
    "                )\n",
    "            obj_int_vars.extend(variables)\n",
    "            obj_int_coeffs.extend(coeffs)\n",
    "\n",
    "def avoid_consecutive_ft_shifts():\n",
    "    # Avoid FT shifts (0730,1530) on consecutive days\n",
    "    for m in not_staff(ft_staff):\n",
    "        variables, coeffs = add_soft_sequence_max_constraint(\n",
    "            model = model,\n",
    "            prefix=\"avoid_consecutive_shifts\",\n",
    "            shifts = not_list([ft_shifts_assigned[(m, d)] for d in days]),\n",
    "            soft_max=1,\n",
    "            hard_max=2,\n",
    "            max_cost=1,)\n",
    "        obj_int_vars.extend(variables)\n",
    "        obj_int_coeffs.extend(coeffs)"
   ]
  },
  {
   "source": [
    "# Solving the Model"
   ],
   "cell_type": "markdown",
   "metadata": {}
  },
  {
   "cell_type": "code",
   "execution_count": 16,
   "metadata": {},
   "outputs": [],
   "source": [
    "all_shifts_taken()\n",
    "max_days_worked()\n",
    "days_off_after_midnight()\n",
    "midnight_physicians()\n",
    "no_midnights_within_six_months()\n",
    "max_midnights_in_a_row()\n",
    "on_call_shift_day_after()\n",
    "ft_physicians()\n",
    "no_late_shift_before_time_off()\n",
    "no_early_shifts_before_on_call()\n",
    "days_off_after_consecutive_shifts()\n",
    "\n",
    "transitions_constraints()\n",
    "days_off_between_late_and_day_shifts()\n",
    "days_off_between_late_and_afternoon_shifts()\n",
    "late_shifts_in_a_row()\n",
    "late_shifts_in_weeks()\n",
    "avoid_consecutive_ft_shifts()\n"
   ]
  },
  {
   "cell_type": "code",
   "execution_count": 17,
   "metadata": {},
   "outputs": [
    {
     "output_type": "stream",
     "name": "stdout",
     "text": [
      "FEASIBLE\nDay 0\nAbigail works shift 0700 - 1500\nIsabella works shift 0730 - 1530 (FT)\nSofia works shift 0930 - 1730\nMila works shift 1200 - 2000\nGianna works shift 1400 - 2200\nLuna works shift 1530 - 2330 (FT)\nEmma works shift 1600 - 2400\nCamila works shift 1800 - 0200\nAmelia works shift 2000 - 0400\nEvelyn works shift 2200 - 0400\nMia works shift 2359 - 0700\n\nDay 1\nHarper works shift 0700 - 1500\nOlivia works shift 0730 - 1530 (FT)\nSophia works shift 0930 - 1730\nElla works shift 1200 - 2000\nMila works shift 1400 - 2200\nCharlotte works shift 1530 - 2330 (FT)\nEmily works shift 1600 - 2400\nEmma works shift 1800 - 0200\nAmelia works shift 2000 - 0400\nAva works shift 2200 - 0400\nElizabeth works shift 2359 - 0700\n\nDay 2\nAvery works shift 0700 - 1500\nOlivia works shift 0730 - 1530 (FT)\nSophia works shift 0930 - 1730\nGianna works shift 1200 - 2000\nCamila works shift 1400 - 2200\nCharlotte works shift 1530 - 2330 (FT)\nLuna works shift 1600 - 2400\nIsabella works shift 1800 - 0200\nEvelyn works shift 2000 - 0400\nAva works shift 2200 - 0400\nElizabeth works shift 2359 - 0700\n\nDay 3\nOlivia works shift 0700 - 1500\nHarper works shift 0730 - 1530 (FT)\nAvery works shift 0930 - 1730\nEmily works shift 1200 - 2000\nElla works shift 1400 - 2200\nLuna works shift 1530 - 2330 (FT)\nAbigail works shift 1600 - 2400\nSofia works shift 1800 - 0200\nEmma works shift 2000 - 0400\nEvelyn works shift 2200 - 0400\nAva works shift 2359 - 0700\n\nDay 4\nAmelia works shift 0700 - 1500\nGianna works shift 0730 - 1530 (FT)\nSophia works shift 0930 - 1730\nEmily works shift 1200 - 2000\nElla works shift 1400 - 2200\nCharlotte works shift 1530 - 2330 (FT)\nMila works shift 1600 - 2400\nAbigail works shift 1800 - 0200\nEmma works shift 2000 - 0400\nIsabella works shift 2200 - 0400\nElizabeth works shift 2359 - 0700\n\nDay 5\nCamila works shift 0700 - 1500\nAvery works shift 0730 - 1530 (FT)\nSofia works shift 0930 - 1730\nEmily works shift 1200 - 2000\nEvelyn works shift 1400 - 2200\nCharlotte works shift 1530 - 2330 (FT)\nLuna works shift 1600 - 2400\nMila works shift 1800 - 0200\nHarper works shift 2000 - 0400\nIsabella works shift 2200 - 0400\nElizabeth works shift 2359 - 0700\n\nDay 6\nMia works shift 0700 - 1500\nCamila works shift 0730 - 1530 (FT)\nAvery works shift 0930 - 1730\nOlivia works shift 1200 - 2000\nElla works shift 1400 - 2200\nSophia works shift 1530 - 2330 (FT)\nGianna works shift 1600 - 2400\nAbigail works shift 1800 - 0200\nEmma works shift 2000 - 0400\nAmelia works shift 2200 - 0400\nIsabella works shift 2359 - 0700\n\nDay 7\nMia works shift 0700 - 1500\nMila works shift 0730 - 1530 (FT)\nCharlotte works shift 0930 - 1730\nLuna works shift 1200 - 2000\nSofia works shift 1400 - 2200\nSophia works shift 1530 - 2330 (FT)\nGianna works shift 1600 - 2400\nHarper works shift 1800 - 0200\nEvelyn works shift 2000 - 0400\nAmelia works shift 2200 - 0400\nElizabeth works shift 2359 - 0700\n\nDay 8\nAvery works shift 0700 - 1500\nElla works shift 0730 - 1530 (FT)\nAbigail works shift 0930 - 1730\nEmma works shift 1200 - 2000\nLuna works shift 1400 - 2200\nCamila works shift 1530 - 2330 (FT)\nOlivia works shift 1600 - 2400\nAva works shift 1800 - 0200\nHarper works shift 2000 - 0400\nEvelyn works shift 2200 - 0400\nEmily works shift 2359 - 0700\n\nDay 9\nMia works shift 0700 - 1500\nAvery works shift 0730 - 1530 (FT)\nElla works shift 0930 - 1730\nAmelia works shift 1200 - 2000\nEmma works shift 1400 - 2200\nSophia works shift 1530 - 2330 (FT)\nMila works shift 1600 - 2400\nGianna works shift 1800 - 0200\nAva works shift 2000 - 0400\nSofia works shift 2200 - 0400\nElizabeth works shift 2359 - 0700\n\nDay 10\nLuna works shift 0700 - 1500\nMia works shift 0730 - 1530 (FT)\nCharlotte works shift 0930 - 1730\nAmelia works shift 1200 - 2000\nHarper works shift 1400 - 2200\nSophia works shift 1530 - 2330 (FT)\nCamila works shift 1600 - 2400\nAbigail works shift 1800 - 0200\nGianna works shift 2000 - 0400\nEvelyn works shift 2200 - 0400\nOlivia works shift 2359 - 0700\n\nDay 11\nAvery works shift 0700 - 1500\nMia works shift 0730 - 1530 (FT)\nCharlotte works shift 0930 - 1730\nMila works shift 1200 - 2000\nAva works shift 1400 - 2200\nSofia works shift 1530 - 2330 (FT)\nIsabella works shift 1600 - 2400\nCamila works shift 1800 - 0200\nElla works shift 2000 - 0400\nEmma works shift 2200 - 0400\nElizabeth works shift 2359 - 0700\n\nDay 12\nAbigail works shift 0700 - 1500\nAvery works shift 0730 - 1530 (FT)\nSophia works shift 0930 - 1730\nMila works shift 1200 - 2000\nGianna works shift 1400 - 2200\nHarper works shift 1530 - 2330 (FT)\nElla works shift 1600 - 2400\nLuna works shift 1800 - 0200\nEvelyn works shift 2000 - 0400\nEmma works shift 2200 - 0400\nAmelia works shift 2359 - 0700\n\nDay 13\nAva works shift 0700 - 1500\nIsabella works shift 0730 - 1530 (FT)\nCharlotte works shift 0930 - 1730\nCamila works shift 1200 - 2000\nHarper works shift 1400 - 2200\nGianna works shift 1530 - 2330 (FT)\nEmily works shift 1600 - 2400\nLuna works shift 1800 - 0200\nEmma works shift 2000 - 0400\nSofia works shift 2200 - 0400\nElizabeth works shift 2359 - 0700\n\nDay 14\nAbigail works shift 0700 - 1500\nEvelyn works shift 0730 - 1530 (FT)\nIsabella works shift 0930 - 1730\nOlivia works shift 1200 - 2000\nCamila works shift 1400 - 2200\nSophia works shift 1530 - 2330 (FT)\nGianna works shift 1600 - 2400\nEmily works shift 1800 - 0200\nElla works shift 2000 - 0400\nMia works shift 2200 - 0400\nElizabeth works shift 2359 - 0700\n\nDay 15\nHarper works shift 0700 - 1500\nAbigail works shift 0730 - 1530 (FT)\nCharlotte works shift 0930 - 1730\nLuna works shift 1200 - 2000\nOlivia works shift 1400 - 2200\nSophia works shift 1530 - 2330 (FT)\nAvery works shift 1600 - 2400\nMila works shift 1800 - 0200\nSofia works shift 2000 - 0400\nMia works shift 2200 - 0400\nAva works shift 2359 - 0700\n\nDay 16\nIsabella works shift 0700 - 1500\nEmma works shift 0730 - 1530 (FT)\nEmily works shift 0930 - 1730\nCamila works shift 1200 - 2000\nEvelyn works shift 1400 - 2200\nAvery works shift 1530 - 2330 (FT)\nHarper works shift 1600 - 2400\nMila works shift 1800 - 0200\nSofia works shift 2000 - 0400\nElla works shift 2200 - 0400\nElizabeth works shift 2359 - 0700\n\nDay 17\nAbigail works shift 0700 - 1500\nEmma works shift 0730 - 1530 (FT)\nCharlotte works shift 0930 - 1730\nCamila works shift 1200 - 2000\nGianna works shift 1400 - 2200\nSophia works shift 1530 - 2330 (FT)\nAvery works shift 1600 - 2400\nOlivia works shift 1800 - 0200\nAmelia works shift 2000 - 0400\nMia works shift 2200 - 0400\nElizabeth works shift 2359 - 0700\n\nDay 18\nHarper works shift 0700 - 1500\nIsabella works shift 0730 - 1530 (FT)\nCharlotte works shift 0930 - 1730\nElla works shift 1200 - 2000\nLuna works shift 1400 - 2200\nSophia works shift 1530 - 2330 (FT)\nSofia works shift 1600 - 2400\nMila works shift 1800 - 0200\nEvelyn works shift 2000 - 0400\nAmelia works shift 2200 - 0400\nMia works shift 2359 - 0700\n\nDay 19\nIsabella works shift 0700 - 1500\nGianna works shift 0730 - 1530 (FT)\nEmma works shift 0930 - 1730\nElla works shift 1200 - 2000\nLuna works shift 1400 - 2200\nSophia works shift 1530 - 2330 (FT)\nSofia works shift 1600 - 2400\nOlivia works shift 1800 - 0200\nCamila works shift 2000 - 0400\nEmily works shift 2200 - 0400\nElizabeth works shift 2359 - 0700\n\nDay 20\nHarper works shift 0700 - 1500\nGianna works shift 0730 - 1530 (FT)\nAvery works shift 0930 - 1730\nAva works shift 1200 - 2000\nAmelia works shift 1400 - 2200\nSofia works shift 1530 - 2330 (FT)\nMila works shift 1600 - 2400\nAbigail works shift 1800 - 0200\nOlivia works shift 2000 - 0400\nEvelyn works shift 2200 - 0400\nElizabeth works shift 2359 - 0700\n\nDay 21\nHarper works shift 0700 - 1500\nLuna works shift 0730 - 1530 (FT)\nElla works shift 0930 - 1730\nCamila works shift 1200 - 2000\nAva works shift 1400 - 2200\nIsabella works shift 1530 - 2330 (FT)\nMila works shift 1600 - 2400\nAbigail works shift 1800 - 0200\nEmily works shift 2000 - 0400\nEvelyn works shift 2200 - 0400\nElizabeth works shift 2359 - 0700\n\nDay 22\nAvery works shift 0700 - 1500\nEmma works shift 0730 - 1530 (FT)\nSophia works shift 0930 - 1730\nLuna works shift 1200 - 2000\nOlivia works shift 1400 - 2200\nCharlotte works shift 1530 - 2330 (FT)\nGianna works shift 1600 - 2400\nIsabella works shift 1800 - 0200\nEmily works shift 2000 - 0400\nElla works shift 2200 - 0400\nAva works shift 2359 - 0700\n\nDay 23\nAmelia works shift 0700 - 1500\nEmma works shift 0730 - 1530 (FT)\nSophia works shift 0930 - 1730\nMia works shift 1200 - 2000\nMila works shift 1400 - 2200\nAbigail works shift 1530 - 2330 (FT)\nOlivia works shift 1600 - 2400\nCamila works shift 1800 - 0200\nSofia works shift 2000 - 0400\nEmily works shift 2200 - 0400\nEvelyn works shift 2359 - 0700\n\nDay 24\nEmma works shift 0700 - 1500\nAmelia works shift 0730 - 1530 (FT)\nCharlotte works shift 0930 - 1730\nIsabella works shift 1200 - 2000\nGianna works shift 1400 - 2200\nLuna works shift 1530 - 2330 (FT)\nMila works shift 1600 - 2400\nHarper works shift 1800 - 0200\nAvery works shift 2000 - 0400\nMia works shift 2200 - 0400\nElizabeth works shift 2359 - 0700\n\nDay 25\nAbigail works shift 0700 - 1500\nAmelia works shift 0730 - 1530 (FT)\nCharlotte works shift 0930 - 1730\nOlivia works shift 1200 - 2000\nSofia works shift 1400 - 2200\nGianna works shift 1530 - 2330 (FT)\nHarper works shift 1600 - 2400\nElla works shift 1800 - 0200\nAvery works shift 2000 - 0400\nCamila works shift 2200 - 0400\nElizabeth works shift 2359 - 0700\n\nDay 26\nElla works shift 0700 - 1500\nIsabella works shift 0730 - 1530 (FT)\nSophia works shift 0930 - 1730\nMia works shift 1200 - 2000\nGianna works shift 1400 - 2200\nCharlotte works shift 1530 - 2330 (FT)\nSofia works shift 1600 - 2400\nHarper works shift 1800 - 0200\nLuna works shift 2000 - 0400\nCamila works shift 2200 - 0400\nElizabeth works shift 2359 - 0700\n\nDay 27\nOlivia works shift 0700 - 1500\nEmily works shift 0730 - 1530 (FT)\nMila works shift 0930 - 1730\nEmma works shift 1200 - 2000\nMia works shift 1400 - 2200\nAvery works shift 1530 - 2330 (FT)\nAva works shift 1600 - 2400\nSofia works shift 1800 - 0200\nLuna works shift 2000 - 0400\nAbigail works shift 2200 - 0400\nCamila works shift 2359 - 0700\n\nDay 28\nOlivia works shift 0700 - 1500\nEmily works shift 0730 - 1530 (FT)\nSophia works shift 0930 - 1730\nEmma works shift 1200 - 2000\nMia works shift 1400 - 2200\nAva works shift 1530 - 2330 (FT)\nEvelyn works shift 1600 - 2400\nAmelia works shift 1800 - 0200\nElla works shift 2000 - 0400\nLuna works shift 2200 - 0400\nAbigail works shift 2359 - 0700\n\nDay 29\nGianna works shift 0700 - 1500\nOlivia works shift 0730 - 1530 (FT)\nSophia works shift 0930 - 1730\nMila works shift 1200 - 2000\nAva works shift 1400 - 2200\nCharlotte works shift 1530 - 2330 (FT)\nEvelyn works shift 1600 - 2400\nAvery works shift 1800 - 0200\nHarper works shift 2000 - 0400\nIsabella works shift 2200 - 0400\nElizabeth works shift 2359 - 0700\n\nDay 30\nElla works shift 0700 - 1500\nAmelia works shift 0730 - 1530 (FT)\nSophia works shift 0930 - 1730\nMila works shift 1200 - 2000\nAva works shift 1400 - 2200\nCharlotte works shift 1530 - 2330 (FT)\nEvelyn works shift 1600 - 2400\nAvery works shift 1800 - 0200\nSofia works shift 2000 - 0400\nIsabella works shift 2200 - 0400\nElizabeth works shift 2359 - 0700\n\ntime elapsed: 604.5268309116364\n"
     ]
    }
   ],
   "source": [
    "import time\n",
    "\n",
    "start = time.time()\n",
    "\n",
    "model.Minimize(\n",
    "        sum(obj_bool_vars[i] * obj_bool_coeffs[i]\n",
    "            for i in range(len(obj_bool_vars))) +\n",
    "            sum(obj_int_vars[i] * obj_int_coeffs[i]\n",
    "            for i in range(len(obj_int_vars))))\n",
    "\n",
    "solver = cp_model.CpSolver()\n",
    "solver.parameters.max_time_in_seconds = 600.0\n",
    "status = solver.Solve(model)\n",
    "\n",
    "print(solver.StatusName(status))\n",
    "\n",
    "for d in days:\n",
    "    print('Day', d)\n",
    "    for s in shifts:\n",
    "        for m in staff:\n",
    "            if solver.Value(works[(m, d, s)]) == 1:\n",
    "              print(staff_list[m], 'works shift', shift_list[s])\n",
    "    print()\n",
    "\n",
    "end = time.time()\n",
    "print(f\"time elapsed: {end - start}\")"
   ]
  },
  {
   "source": [
    "# Tests"
   ],
   "cell_type": "markdown",
   "metadata": {}
  },
  {
   "cell_type": "code",
   "execution_count": 18,
   "metadata": {},
   "outputs": [],
   "source": [
    "days_worked_results = {}\n",
    "midnights_worked_results = {}\n",
    "lates_worked_results = {}\n",
    "day_shifts_worked_results = {}\n",
    "shift_results = {}\n",
    "ft_worked_results = {}\n",
    "for m in staff:\n",
    "    days_worked_results[m] = [solver.Value(days_assigned[(m, d)]) for d in days]\n",
    "    midnights_worked_results[m] = [solver.Value(midnight_shifts_assigned[(m, d)]) for d in days]\n",
    "    lates_worked_results[m] = [solver.Value(late_shifts_assigned[(m, d)]) for d in days]\n",
    "    day_shifts_worked_results[m] = [solver.Value(day_shifts_assigned[(m, d)]) for d in days]\n",
    "    ft_worked_results[m] = [solver.Value(ft_shifts_assigned[(m, d)]) for d in days]\n",
    "    for d in days:\n",
    "        shift_results[(m, d)] = [solver.Value(works[(m, d, s)]) for s in shifts]"
   ]
  },
  {
   "source": [
    "## Hard Constraints"
   ],
   "cell_type": "markdown",
   "metadata": {}
  },
  {
   "cell_type": "code",
   "execution_count": 19,
   "metadata": {},
   "outputs": [
    {
     "output_type": "stream",
     "name": "stdout",
     "text": [
      "[0, 0, 0, 0, 0, 0, 0, 0, 0, 0, 0, 0, 0, 0, 0, 0, 0, 0, 0, 0, 0, 0, 0, 0, 0, 0, 0, 0, 0, 0, 0]\n[0, 0, 0, 0, 0, 0, 0, 0, 0, 0, 0, 0, 0, 0, 0, 0, 0, 0, 0, 0, 0, 0, 0, 0, 0, 0, 0, 0, 0, 0, 0]\nALL HARD CONSTRAINTS SATISFIED\n"
     ]
    }
   ],
   "source": [
    "# No two doctors in the same shift on the same day\n",
    "# All shifts should be taken by doctors\n",
    "for d in days:\n",
    "    num_staff_per_shift = zip(*[shift_results[(m, d)] for m in staff])\n",
    "    assert(list(sum(column) for column in num_staff_per_shift) == [1] * len(shifts))\n",
    "  \n",
    "#No two shifts same day\n",
    "for key, result in shift_results.items():\n",
    "    assert(sum(result) <= 1)\n",
    "\n",
    "# Maximum work 7 consecutive days\n",
    "for key, result in days_worked_results.items():\n",
    "    assert(not detect_pattern(result, \"11111111\"))\n",
    "\n",
    "# # 2 days off after last midnight (except on call shift).\n",
    "for key in midnights_worked_results.keys() and days_worked_results.keys():\n",
    "    if midnight_only[key]:\n",
    "         continue\n",
    "    for idx in days[:-3]:\n",
    "        if midnights_worked_results[key][idx] == 1 and midnights_worked_results[key][idx+1] == 0:\n",
    "            assert(sum(days_worked_results[key][idx+1:idx+3]) == 0)\n",
    "\n",
    "# Certain staff work midnights only\n",
    "for key, result in shift_results.items():\n",
    "    if (midnight_only[key[0]] == 1):\n",
    "        assert(result == [0,0,0,0,0,0,0,0,0,0,1] or result == [0] * len(shifts))\n",
    "\n",
    "# No midnights for staff in their first 6 months (need way to indicate when physician is in first 6 months of practice)\n",
    "for key, result in midnights_worked_results.items():\n",
    "    if (first_six_month_only[key]):\n",
    "        assert(sum(result) == 0)\n",
    "\n",
    "# Maximum 2 midnights in a row (except for several physicians who only work midnights)\n",
    "for key, result in midnights_worked_results.items():\n",
    "    if midnight_only[key]:\n",
    "         continue\n",
    "    if (midnight_only[key] == 0):\n",
    "        assert(not detect_pattern(result, \"111\"))\n",
    "\n",
    "# On call shift - day after rules\n",
    "\n",
    "# Certain physicians work only FT shift (0730,1530 shift)\n",
    "for key, result in shift_results.items():\n",
    "    if (staff_list[key[0]] == 1):\n",
    "        assert(result == [0,1,0,0,0,0,0,0,0,0,0] or result == [0,0,0,0,0,1,0,0,0,0,0] or result == [0] * len(shifts))\n",
    "\n",
    "# No 2000, 2200, or midnight shift prior to day requested off\n",
    "\n",
    "# Physicians can work the 0930 shifts or earlier prior to working on call. They can work starting no earlier than 11 the day after on call.\n",
    "\n",
    "# 2 days off after 3 to 7 days of work in a row\n",
    "for key, result in days_worked_results.items():\n",
    "    assert(not detect_pattern(result, \"11101\"))\n",
    "\n",
    "print(\"ALL HARD CONSTRAINTS SATISFIED\")"
   ]
  },
  {
   "source": [
    "## Soft Constraints"
   ],
   "cell_type": "markdown",
   "metadata": {}
  },
  {
   "cell_type": "code",
   "execution_count": 20,
   "metadata": {},
   "outputs": [
    {
     "output_type": "stream",
     "name": "stdout",
     "text": [
      "Number of times shifts jump forwards 2.5 hours: 5\nNumber of times shifts jump backwards 1.5 hours: 5\n\n"
     ]
    }
   ],
   "source": [
    "# General principle avoid shift times changing too much day to day\n",
    "# Shifts should have same start time to 2.5 hours later compared to previous shift (the 2 hours later can be relaxed to 3,4 perhaps)\n",
    "# No shifts that start more than 1.5 hours earlier than the shift on the previous day\n",
    "penalized_transitions = []\n",
    "\n",
    "for shift in list(permutations(shift_list, 2)):\n",
    "    t1 = float(shift[0][0:2] + '.' + shift[0][2:4])\n",
    "    t2 = float(shift[1][0:2] + '.' + shift[1][2:4])\n",
    "    if t2 - t1 > 2.5:\n",
    "        penalized_transitions.append(((shift_list.index(shift[0]), shift_list.index(shift[1])), 1))\n",
    "    elif t2 - t1 < -1.5:\n",
    "        penalized_transitions.append(((shift_list.index(shift[0]), shift_list.index(shift[1])), 3))\n",
    "\n",
    "\n",
    "transitions = {elem[0]: elem[1] for elem in penalized_transitions}\n",
    "jumps_forward_25 = 0\n",
    "jumps_backwards_15 = 0\n",
    "previous_shift = -1\n",
    "for key, result in shift_results.items():\n",
    "    if previous_shift == -1:\n",
    "        try:\n",
    "            previous_shift = result.index(1)\n",
    "        except:\n",
    "            previous_shift = -1\n",
    "    else:\n",
    "        try:\n",
    "            ans = transitions[(previous_shift, result.index(1))]\n",
    "            if ans == 1:\n",
    "                jumps_forward_25 += 1\n",
    "            elif ans == 3:\n",
    "                jumps_backwards_15 += 1\n",
    "            previous_shift = result.index(1)\n",
    "        except:\n",
    "            previous_shift = -1\n",
    "\n",
    "    if key[1] == len(days) - 1:\n",
    "        previous_shift = -1 \n",
    "\n",
    "print(f\"Number of times shifts jump forwards 2.5 hours: {jumps_forward_25}\")\n",
    "print(f\"Number of times shifts jump backwards 1.5 hours: {jumps_forward_25}\")\n",
    "print()"
   ]
  },
  {
   "cell_type": "code",
   "execution_count": 21,
   "metadata": {},
   "outputs": [
    {
     "output_type": "stream",
     "name": "stdout",
     "text": [
      "Number of times an employee gets 2 days off after midnights: 2\nNumber of times an employee gets 3 days off after midnights: 1\nNumber of times an employee gets 4 days off after midnights: 8\nNumber of times an employee gets 5 days off after midnights: 1\n\n"
     ]
    }
   ],
   "source": [
    "# 3 days off after midnight. 4 even better\n",
    "two_days_after_midnight = 0\n",
    "three_days_after_midnight = 0\n",
    "four_days_after_midnight = 0\n",
    "five_days_after_midnight = 0\n",
    "for key in midnights_worked_results.keys() and days_worked_results.keys():\n",
    "    for idx in days[:-4]:\n",
    "        if midnights_worked_results[key][idx] == 1 and midnights_worked_results[key][idx+1] == 0:\n",
    "            if sum(days_worked_results[key][idx+1:idx+3]) == 0 and sum(days_worked_results[key][idx+1:idx+4]) == 1:\n",
    "                two_days_after_midnight += 1\n",
    "    for idx in days[:-5]:\n",
    "        if midnights_worked_results[key][idx] == 1 and midnights_worked_results[key][idx+1] == 0:\n",
    "            if sum(days_worked_results[key][idx+1:idx+4]) == 0 and sum(days_worked_results[key][idx+1:idx+5]) == 1:\n",
    "                three_days_after_midnight += 1\n",
    "    for idx in days[:-6]:\n",
    "        if midnights_worked_results[key][idx] == 1 and midnights_worked_results[key][idx+1] == 0:\n",
    "            if sum(days_worked_results[key][idx+1:idx+5]) == 0 and sum(days_worked_results[key][idx+1:idx+6]) == 1:\n",
    "                four_days_after_midnight += 1\n",
    "    for idx in days[:-6]:\n",
    "        if midnights_worked_results[key][idx] == 1 and midnights_worked_results[key][idx+1] == 0:\n",
    "            if sum(days_worked_results[key][idx+1:idx+6]) == 0:\n",
    "                five_days_after_midnight += 1\n",
    "print(f\"Number of times an employee gets 2 days off after midnights: {two_days_after_midnight}\")\n",
    "print(f\"Number of times an employee gets 3 days off after midnights: {three_days_after_midnight}\")\n",
    "print(f\"Number of times an employee gets 4 days off after midnights: {four_days_after_midnight}\")\n",
    "print(f\"Number of times an employee gets 5 days off after midnights: {five_days_after_midnight}\")\n",
    "print()"
   ]
  },
  {
   "cell_type": "code",
   "execution_count": 22,
   "metadata": {},
   "outputs": [
    {
     "output_type": "stream",
     "name": "stdout",
     "text": [
      "Number of times an employee works 2 midnights in a row: 2\n\n"
     ]
    }
   ],
   "source": [
    "#Max 1 midnight in a row\n",
    "two_midnights_in_a_row = 0\n",
    "for key, result in midnights_worked_results.items():\n",
    "    two_midnights_in_a_row += detect_pattern_soft(result, '11')\n",
    "print(f\"Number of times an employee works 2 midnights in a row: {two_days_after_midnight}\")\n",
    "print()"
   ]
  },
  {
   "cell_type": "code",
   "execution_count": 23,
   "metadata": {},
   "outputs": [
    {
     "output_type": "stream",
     "name": "stdout",
     "text": [
      "Number of times there is a day shift within 1 days of a late shift: 8\nNumber of times there is a day shift within 2 days of a late shift: 2\nNumber of times there is a day shift within 3 days of a late shift: 1\n\n"
     ]
    }
   ],
   "source": [
    "# 3 days off when transitioning from late shift to day shift \n",
    "one_days_off_from_late_to_day = 0\n",
    "two_days_off_from_late_to_day = 0\n",
    "three_days_off_from_late_to_day = 0\n",
    "for key in day_shifts_worked_results.keys() and lates_worked_results.keys():\n",
    "    for idx, elem in enumerate(lates_worked_results[key][:-2]):\n",
    "        if elem == 1 and day_shifts_worked_results[key][idx + 2]:\n",
    "            if sum(days_worked_results[key][idx+1:idx+2]) == 0:\n",
    "                one_days_off_from_late_to_day += 1\n",
    "    for idx, elem in enumerate(lates_worked_results[key][:-3]):\n",
    "        if elem == 1 and day_shifts_worked_results[key][idx + 3]:\n",
    "            if sum(days_worked_results[key][idx+1:idx+3]) == 0:\n",
    "                two_days_off_from_late_to_day += 1\n",
    "    for idx, elem in enumerate(lates_worked_results[key][:-4]):\n",
    "        if elem == 1 and day_shifts_worked_results[key][idx + 4]:\n",
    "            if sum(days_worked_results[key][idx+1:idx+4]) == 0:\n",
    "                three_days_off_from_late_to_day += 1\n",
    "print(f\"Number of times there is a day shift within 1 days of a late shift: {one_days_off_from_late_to_day}\")\n",
    "print(f\"Number of times there is a day shift within 2 days of a late shift: {two_days_off_from_late_to_day}\")\n",
    "print(f\"Number of times there is a day shift within 3 days of a late shift: {three_days_off_from_late_to_day}\")\n",
    "print()\n"
   ]
  },
  {
   "cell_type": "code",
   "execution_count": 24,
   "metadata": {},
   "outputs": [
    {
     "output_type": "stream",
     "name": "stdout",
     "text": [
      "Number of times there is a afternoon shift within 1 days of a late shift: 8\nNumber of times there is a afternoon shift within 2 days of a late shift: 2\n\n"
     ]
    }
   ],
   "source": [
    "# 2 days off when transitioning from late shift to afternoon shift (although this transition should be avoided) \n",
    "one_days_off_from_late_to_afternoon = 0\n",
    "two_days_off_from_late_to_afternoon = 0\n",
    "for key in day_shifts_worked_results.keys() and lates_worked_results.keys():\n",
    "    for idx, elem in enumerate(lates_worked_results[key][:-2]):\n",
    "        if elem == 1 and day_shifts_worked_results[key][idx + 2]:\n",
    "            if sum(days_worked_results[key][idx+1:idx+2]) == 0:\n",
    "                one_days_off_from_late_to_afternoon += 1\n",
    "    for idx, elem in enumerate(lates_worked_results[key][:-3]):\n",
    "        if elem == 1 and day_shifts_worked_results[key][idx + 3]:\n",
    "            if sum(days_worked_results[key][idx+1:idx+3]) == 0:\n",
    "                two_days_off_from_late_to_afternoon += 1\n",
    "print(f\"Number of times there is a afternoon shift within 1 days of a late shift: {one_days_off_from_late_to_afternoon}\")\n",
    "print(f\"Number of times there is a afternoon shift within 2 days of a late shift: {two_days_off_from_late_to_afternoon}\")\n",
    "print()"
   ]
  },
  {
   "cell_type": "code",
   "execution_count": 25,
   "metadata": {},
   "outputs": [
    {
     "output_type": "stream",
     "name": "stdout",
     "text": [
      "Number of times an employee works 3 late days in a row: 3\nNumber of times an employee works 4 late days in a row: 0\nNumber of times an employee works 5 late days in a row: 0\n\n"
     ]
    }
   ],
   "source": [
    "# 3 late shifts in a row maximum - late shifts are 1800, 2000, 2200. The ability to set what a late shift is would be great\n",
    "three_days_in_a_row_late = 0\n",
    "four_days_in_a_row_late = 0\n",
    "five_days_in_a_row_late = 0\n",
    "for key, result in lates_worked_results.items():\n",
    "    three_days_in_a_row_late += detect_pattern_soft(result, '111')\n",
    "    four_days_in_a_row_late += detect_pattern_soft(result, '1111')\n",
    "    five_days_in_a_row_late += detect_pattern_soft(result, '11111')\n",
    "print(f\"Number of times an employee works 3 late days in a row: {three_days_in_a_row_late}\")\n",
    "print(f\"Number of times an employee works 4 late days in a row: {four_days_in_a_row_late}\")\n",
    "print(f\"Number of times an employee works 5 late days in a row: {five_days_in_a_row_late}\")\n",
    "print()"
   ]
  },
  {
   "cell_type": "code",
   "execution_count": 26,
   "metadata": {},
   "outputs": [],
   "source": [
    "# 5 late shifts in two weeks maximum\n"
   ]
  },
  {
   "cell_type": "code",
   "execution_count": 27,
   "metadata": {},
   "outputs": [
    {
     "output_type": "stream",
     "name": "stdout",
     "text": [
      "Number of times an employee works 5 days in a row: 0\nNumber of times an employee works 6 days in a row: 0\nNumber of times an employee works 7 days in a row: 0\n\n"
     ]
    }
   ],
   "source": [
    "# Work maximum of 5 days in a row\n",
    "#Max 1 midnight in a row\n",
    "five_days_in_a_row = 0\n",
    "six_days_in_a_row = 0\n",
    "seven_days_in_a_row = 0\n",
    "for key, result in days_worked_results.items():\n",
    "    five_days_in_a_row += detect_pattern_soft(result, '11111')\n",
    "    six_days_in_a_row += detect_pattern_soft(result, '111111')\n",
    "    seven_days_in_a_row += detect_pattern_soft(result, '1111111')\n",
    "print(f\"Number of times an employee works 5 days in a row: {five_days_in_a_row}\")\n",
    "print(f\"Number of times an employee works 6 days in a row: {six_days_in_a_row}\")\n",
    "print(f\"Number of times an employee works 7 days in a row: {seven_days_in_a_row}\")\n",
    "print()"
   ]
  },
  {
   "cell_type": "code",
   "execution_count": 28,
   "metadata": {},
   "outputs": [
    {
     "output_type": "stream",
     "name": "stdout",
     "text": [
      "Number of times an employee works 2 ft shifts in a row: 0\n\n"
     ]
    }
   ],
   "source": [
    "# Avoid FT shifts (0730,1530) on consecutive days\n",
    "two_ft_days_in_a_row = 0\n",
    "for key, result in ft_worked_results.items():\n",
    "    if ft_only[key]:\n",
    "        continue\n",
    "    two_ft_days_in_a_row += detect_pattern_soft(result, '11')\n",
    "print(f\"Number of times an employee works 2 ft shifts in a row: {two_ft_days_in_a_row}\")\n",
    "print()"
   ]
  },
  {
   "cell_type": "code",
   "execution_count": 29,
   "metadata": {},
   "outputs": [
    {
     "output_type": "stream",
     "name": "stdout",
     "text": [
      "SUMMARY\n\nNumber of times shifts jump forwards 2.5 hours: 5\nNumber of times shifts jump backwards 1.5 hours: 5\n\nNumber of times an employee gets 2 days off after midnights: 2\nNumber of times an employee gets 3 days off after midnights: 1\nNumber of times an employee gets 4 days off after midnights: 8\nNumber of times an employee gets 5 days off after midnights: 1\n\nNumber of times an employee works 2 midnights in a row: 2\n\nNumber of times there is a day shift within 1 days of a late shift: 8\nNumber of times there is a day shift within 2 days of a late shift: 2\nNumber of times there is a day shift within 3 days of a late shift: 1\n\nNumber of times there is a afternoon shift within 1 days of a late shift: 8\nNumber of times there is a afternoon shift within 2 days of a late shift: 2\n\nNumber of times an employee works 3 late days in a row: 3\nNumber of times an employee works 4 late days in a row: 0\nNumber of times an employee works 5 late days in a row: 0\n\nNumber of times an employee works 5 days in a row: 0\nNumber of times an employee works 6 days in a row: 0\nNumber of times an employee works 7 days in a row: 0\n\nNumber of times an employee works 2 ft shifts in a row: 0\n\n"
     ]
    }
   ],
   "source": [
    "print(\"SUMMARY\")\n",
    "print()\n",
    "print(f\"Number of times shifts jump forwards 2.5 hours: {jumps_forward_25}\")\n",
    "print(f\"Number of times shifts jump backwards 1.5 hours: {jumps_forward_25}\")\n",
    "print()\n",
    "print(f\"Number of times an employee gets 2 days off after midnights: {two_days_after_midnight}\")\n",
    "print(f\"Number of times an employee gets 3 days off after midnights: {three_days_after_midnight}\")\n",
    "print(f\"Number of times an employee gets 4 days off after midnights: {four_days_after_midnight}\")\n",
    "print(f\"Number of times an employee gets 5 days off after midnights: {five_days_after_midnight}\")\n",
    "print()\n",
    "print(f\"Number of times an employee works 2 midnights in a row: {two_days_after_midnight}\")\n",
    "print()\n",
    "print(f\"Number of times there is a day shift within 1 days of a late shift: {one_days_off_from_late_to_day}\")\n",
    "print(f\"Number of times there is a day shift within 2 days of a late shift: {two_days_off_from_late_to_day}\")\n",
    "print(f\"Number of times there is a day shift within 3 days of a late shift: {three_days_off_from_late_to_day}\")\n",
    "print()\n",
    "print(f\"Number of times there is a afternoon shift within 1 days of a late shift: {one_days_off_from_late_to_afternoon}\")\n",
    "print(f\"Number of times there is a afternoon shift within 2 days of a late shift: {two_days_off_from_late_to_afternoon}\")\n",
    "print()\n",
    "print(f\"Number of times an employee works 3 late days in a row: {three_days_in_a_row_late}\")\n",
    "print(f\"Number of times an employee works 4 late days in a row: {four_days_in_a_row_late}\")\n",
    "print(f\"Number of times an employee works 5 late days in a row: {five_days_in_a_row_late}\")\n",
    "print()\n",
    "print(f\"Number of times an employee works 5 days in a row: {five_days_in_a_row}\")\n",
    "print(f\"Number of times an employee works 6 days in a row: {six_days_in_a_row}\")\n",
    "print(f\"Number of times an employee works 7 days in a row: {seven_days_in_a_row}\")\n",
    "print()\n",
    "print(f\"Number of times an employee works 2 ft shifts in a row: {two_ft_days_in_a_row}\")\n",
    "print()"
   ]
  },
  {
   "cell_type": "code",
   "execution_count": null,
   "metadata": {},
   "outputs": [],
   "source": []
  }
 ]
}