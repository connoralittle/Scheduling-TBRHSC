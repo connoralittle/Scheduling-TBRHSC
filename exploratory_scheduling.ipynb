{
 "metadata": {
  "language_info": {
   "codemirror_mode": {
    "name": "ipython",
    "version": 3
   },
   "file_extension": ".py",
   "mimetype": "text/x-python",
   "name": "python",
   "nbconvert_exporter": "python",
   "pygments_lexer": "ipython3",
   "version": "3.8.8"
  },
  "orig_nbformat": 2,
  "kernelspec": {
   "name": "python3",
   "display_name": "Python 3.8.8 64-bit ('new_env': conda)"
  },
  "interpreter": {
   "hash": "af367eaf69fbdf1eb30afcd013da6fe8c1bbee17759328f4b7aa5bcf4ed7dbc3"
  }
 },
 "nbformat": 4,
 "nbformat_minor": 2,
 "cells": [
  {
   "source": [
    "# Imports"
   ],
   "cell_type": "markdown",
   "metadata": {}
  },
  {
   "cell_type": "code",
   "execution_count": 1,
   "metadata": {},
   "outputs": [],
   "source": [
    "from scheduling_funtions import *\n",
    "from constraints import *\n",
    "from data import *\n",
    "from model import *\n"
   ]
  },
  {
   "source": [
    "# Creating Data"
   ],
   "cell_type": "markdown",
   "metadata": {}
  },
  {
   "cell_type": "code",
   "execution_count": 2,
   "metadata": {},
   "outputs": [],
   "source": [
    "model = create_model()"
   ]
  },
  {
   "cell_type": "code",
   "execution_count": 3,
   "metadata": {},
   "outputs": [],
   "source": [
    "#Decomp line\n",
    "# prev_days, prev_staff_works_shift_on_day = read_shifts_from_file(model, \"prev_shifts.txt\")"
   ]
  },
  {
   "cell_type": "code",
   "execution_count": 4,
   "metadata": {},
   "outputs": [],
   "source": [
    "staff = staff_list\n",
    "ft_staff = filter_data(staff, ft_only_staff_mask)\n",
    "midnight_staff = filter_data(staff, midnight_staff_mask)\n",
    "six_month_new_staff = filter_data(staff, staff_in_first_6_months_mask)\n",
    "not_ft_staff = list_difference(staff, ft_staff)\n",
    "not_midnight_staff = list_difference(staff, midnight_staff)\n",
    "\n",
    "shifts = create_data(shift_list)\n",
    "midnight_shifts = filter_data(shifts, midnight_shifts_mask)\n",
    "not_midnight_shifts = list_difference(shifts, midnight_shifts)\n",
    "late_shifts = filter_data(shifts, late_shifts_mask)\n",
    "day_shifts = filter_data(shifts, day_shifts_mask)\n",
    "afternoon_shifts = filter_data(shifts, afternoon_shifts_mask)\n",
    "ft_shifts = filter_data(shifts, ft_shifts_mask)\n",
    "not_ft_shifts = list_difference(shifts, ft_shifts)\n",
    "on_call_shifts = filter_data(shifts, on_call_shifts_mask)\n",
    "not_on_call_shifts = list_difference(shifts, on_call_shifts)\n",
    "after_5_shifts = late_shifts + midnight_shifts\n",
    "after_930_shifts = list_difference(shifts, day_shifts)\n",
    "\n",
    "days, first_day = create_date_range(1, 1, 2021)\n",
    "#Decomp line\n",
    "orig_days = days\n",
    "# days = prev_days + days\n",
    "fris = fridays(days, first_day)\n",
    "weekdays = mondays(days, first_day) + tuesdays(days, first_day) + wednesdays(days, first_day) + thursdays(days, first_day) + fris\n",
    "sats = saturdays(days, first_day)\n",
    "suns = sundays(days, first_day)\n",
    "weekends = sats + suns"
   ]
  },
  {
   "cell_type": "code",
   "execution_count": 5,
   "metadata": {},
   "outputs": [
    {
     "output_type": "stream",
     "name": "stdout",
     "text": [
      "[('Olivia', 12, 7, 40), ('Emma', 29, 4, 24), ('Emma', 29, 0, 12), ('Emma', 12, 1, 40), ('Emma', 6, 3, 12), ('Emma', 18, 4, 24), ('Ava', 21, 2, 24), ('Ava', 0, 4, 60), ('Ava', 8, 5, 60), ('Ava', 22, 6, 40), ('Charlotte', 8, 4, 12), ('Charlotte', 26, 9, 24), ('Charlotte', 1, 10, 12), ('Sophia', 21, 10, 12), ('Sophia', 16, 7, 12), ('Sophia', 28, 5, 60), ('Amelia', 11, 7, 12), ('Isabella', 2, 4, 12), ('Isabella', 14, 3, 12), ('Mia', 11, 2, 24), ('Mia', 25, 4, 24), ('Evelyn', 19, 0, 24), ('Evelyn', 23, 2, 12), ('Harper', 0, -1, 40), ('Harper', 2, 3, 12), ('Harper', 28, 5, 12), ('Harper', 3, 2, 12), ('Harper', 20, 5, 40), ('Harper', 26, 0, 60), ('Camila', 16, 2, 40), ('Camila', 1, 9, 60), ('Gianna', 18, 9, 12), ('Abigail', 6, 10, 24), ('Abigail', 11, 4, 60), ('Abigail', 17, 3, 12), ('Luna', 27, 2, 24), ('Luna', 11, 0, 24), ('Luna', 19, 11, 24), ('Ella', 30, 0, 24), ('Ella', 19, 0, 24), ('Elizabeth', 11, 6, 40), ('Elizabeth', 22, 7, 24), ('Elizabeth', 23, -1, 40), ('Elizabeth', 5, 2, 60), ('Elizabeth', 4, 1, 12), ('Sofia', 12, 2, 12), ('Sofia', 30, 3, 40), ('Sofia', 11, 9, 24), ('Sofia', 25, 7, 40), ('Emily', 20, -1, 24), ('Emily', 15, 4, 40), ('Emily', 24, 11, 12), ('Emily', 22, 7, 12), ('Emily', 22, 6, 24), ('Emily', 21, 5, 12), ('Avery', 23, 5, 12), ('Avery', 11, 8, 12), ('Avery', 21, 2, 24), ('Avery', 16, 3, 40), ('Avery', 29, 2, 24), ('Mila', 21, 5, 24), ('Mila', 26, 1, 12), ('Mila', 18, 10, 40), ('Aria', 21, 8, 40), ('Aria', 29, 0, 24), ('Aria', 10, 9, 40), ('Aria', 14, 7, 24), ('Aria', 1, 1, 40), ('Scarlett', 15, 1, 60), ('Penelope', 9, 2, 40), ('Penelope', 18, -1, 40), ('Penelope', 11, 2, 60), ('Penelope', 3, 0, 12), ('Layla', 21, 11, 60), ('Layla', 10, 2, 24), ('Chloe', 23, 10, 12), ('Chloe', 23, 5, 12), ('Chloe', 22, -1, 40), ('Chloe', 19, 4, 40), ('Victoria', 24, 9, 24), ('Victoria', 27, 11, 60), ('Victoria', 23, 9, 12), ('Victoria', 18, 10, 12), ('Victoria', 15, 8, 60), ('Victoria', 4, 6, 24), ('Madison', 19, 7, 24), ('Madison', 15, 0, 60), ('Eleanor', 14, 4, 12), ('Eleanor', 15, 7, 40), ('Eleanor', 1, 8, 40), ('Grace', 9, 2, 24), ('Grace', 30, 3, 40), ('Nora', 22, 9, 24), ('Nora', 24, 8, 60), ('Nora', 5, -1, 24), ('Nora', 13, 10, 60), ('Nora', 0, 7, 40)]\n"
     ]
    }
   ],
   "source": [
    "import random\n",
    "requests = [\n",
    "    # # staff, day, shift, weight\n",
    "    # # if shift is -1 make it all shifts\n",
    "]\n",
    "for m in staff:\n",
    "    for i in range(random.randint(1,6)):\n",
    "        d = random.choice([random.choice(days)])\n",
    "        s = random.choice([random.choice(shifts)] * 10 + [-1])\n",
    "        w = random.choice([LOW, MID, HIGH, MAX])\n",
    "        requests.append((m, d, s, w))\n",
    "\n",
    "print(requests)"
   ]
  },
  {
   "source": [
    "# Creating the Model"
   ],
   "cell_type": "markdown",
   "metadata": {}
  },
  {
   "cell_type": "code",
   "execution_count": 6,
   "metadata": {},
   "outputs": [],
   "source": [
    "staff_works_shift_on_day = create_model_variables_long(model, \"staff_works_shift_on_day\", staff, orig_days, shifts)\n",
    "\n",
    "#Decomp line\n",
    "# staff_works_shift_on_day = {**prev_staff_works_shift_on_day, **staff_works_shift_on_day}\n",
    "\n",
    "staff_works_day = create_model_variables_with_sum(model, \"staff_works_day\", staff_works_shift_on_day, staff, days, shifts)\n",
    "staff_doesnt_work_day = not_dict(staff_works_day)\n",
    "staff_works_afternoon_shift = create_model_variables_with_sum(model, \"staff_works_afternoon_shift\", staff_works_shift_on_day, staff, days, afternoon_shifts)\n",
    "staff_doesnt_work_afternoon_shift = not_dict(staff_works_afternoon_shift)\n",
    "staff_works_midnight_shift = create_model_variables_with_sum(model, \"staff_works_midnight_shift\", staff_works_shift_on_day, staff, days, midnight_shifts)\n",
    "staff_works_on_call_shift = create_model_variables_with_sum(model, \"staff_works_on_call_shift\", staff_works_shift_on_day, staff, days, on_call_shifts)\n",
    "staff_works_ft_shift = create_model_variables_with_sum(model, \"staff_works_ft_shift\", staff_works_shift_on_day, staff, days, ft_shifts)\n",
    "staff_works_late_shift = create_model_variables_with_sum(model, \"staff_works_late_shift\", staff_works_shift_on_day, staff, days, late_shifts)\n",
    "staff_doesnt_work_late_shift = not_dict(staff_works_late_shift)\n",
    "staff_works_after_5_shift = create_model_variables_with_sum(model, \"staff_works_after_5_shift\", staff_works_shift_on_day, staff, days, after_5_shifts)\n",
    "staff_doesnt_work_after_5_shift = not_dict(staff_works_after_5_shift)\n",
    "staff_works_after_930_shift = create_model_variables_with_sum(model, \"staff_works_after_930_shift\", staff_works_shift_on_day, staff, days, after_930_shifts)\n",
    "staff_doesnt_work_after_930_shift = not_dict(staff_works_after_930_shift)\n",
    "staff_works_day_shift = create_model_variables_with_sum(model, \"staff_works_day_shift\", staff_works_shift_on_day, staff, days, day_shifts)\n",
    "staff_doesnt_work_day_shift = not_dict(staff_works_day_shift)\n",
    "staff_productivities = create_staff_variables(model, \"staff_productivity\", staff_productivity_mask, 0, 6, staff_works_shift_on_day, staff, days, shifts)\n",
    "\n",
    "obj_int_vars, obj_int_coeffs = empty_minimize_constraints()\n",
    "obj_bool_vars, obj_bool_coeffs = empty_minimize_constraints()"
   ]
  },
  {
   "source": [
    "# Adding Constraints to the Model"
   ],
   "cell_type": "markdown",
   "metadata": {}
  },
  {
   "cell_type": "code",
   "execution_count": 7,
   "metadata": {},
   "outputs": [],
   "source": [
    "max_days_worked_hard_max = 7\n",
    "max_days_worked_soft_max = 3\n",
    "max_days_worked_max_cost = MAX\n",
    "\n",
    "min_days_off_after_midnight_hard_min = 2\n",
    "min_days_off_after_midnight_soft_min = 4\n",
    "min_days_off_after_midnight_min_cost = HIGH\n",
    "\n",
    "max_midnights_in_a_row_hard_max = 2\n",
    "max_midnights_in_a_row_soft_max = 1\n",
    "max_midnights_in_a_row_max_cost = MAX\n",
    "\n",
    "no_late_shift_before_time_off_hard_min = 1\n",
    "no_late_shift_before_time_off_soft_min = 0\n",
    "no_late_shift_before_time_off_min_cost = NONE\n",
    "\n",
    "on_call_rules_before_hard_min = 1\n",
    "on_call_rules_before_soft_min = 0\n",
    "on_call_rules_before_min_cost = NONE\n",
    "\n",
    "on_call_rules_after_hard_min = 1\n",
    "on_call_rules_after_soft_min = 0\n",
    "on_call_rules_after_min_cost = NONE\n",
    "\n",
    "days_off_after_consecutive_shifts_hard_min = 2\n",
    "days_off_after_consecutive_shifts_soft_min = 3\n",
    "days_off_after_consecutive_shifts_min_cost = HIGH\n",
    "\n",
    "days_off_between_late_and_day_shifts_hard_min = 2\n",
    "days_off_between_late_and_day_shifts_soft_min = 3\n",
    "days_off_between_late_and_day_shifts_min_cost = HIGH\n",
    "\n",
    "days_off_between_late_and_afternoon_shifts_hard_min = 2\n",
    "days_off_between_late_and_afternoon_shifts_soft_min = 3\n",
    "days_off_between_late_and_afternoon_shifts_min_cost = HIGH\n",
    "\n",
    "late_shifts_in_a_row_hard_max = 7\n",
    "late_shifts_in_a_row_soft_max = 3\n",
    "late_shifts_in_a_row_max_cost = MAX\n",
    "\n",
    "late_shifts_in_weeks_hard_min = 0\n",
    "late_shifts_in_weeks_soft_min = 0\n",
    "late_shifts_in_weeks_min_cost = NONE\n",
    "late_shifts_in_weeks_hard_max = 14\n",
    "late_shifts_in_weeks_soft_max = 5\n",
    "late_shifts_in_weeks_max_cost = MAX\n",
    "\n",
    "avoid_consecutive_ft_shifts_hard_max = 2\n",
    "avoid_consecutive_ft_shifts_soft_max = 1\n",
    "avoid_consecutive_ft_shifts_max_cost = MID\n",
    "\n",
    "no_nightshifts_before_weekend_off_hard_min = 0\n",
    "no_nightshifts_before_weekend_off_soft_min = 1\n",
    "no_nightshifts_before_weekend_off_min_cost = HIGH\n",
    "\n",
    "minimize_split_weekends_cost = MAX\n",
    "\n",
    "equalize_weekends_cost = 4\n",
    "equalize_night_shifts_cost = 4\n",
    "equalize_late_shifts_cost = 4\n",
    "equalize_day_shifts_cost = 2\n",
    "equalize_afternoon_shifts_cost = 2\n",
    "equalize_weekdays_cost = 1\n"
   ]
  },
  {
   "cell_type": "code",
   "execution_count": 8,
   "metadata": {},
   "outputs": [],
   "source": [
    "all_shifts_taken(model,\n",
    "                staff_works_shift_on_day,\n",
    "                staff,\n",
    "                days,\n",
    "                shifts)\n",
    "\n",
    "max_days_worked_obj = max_days_worked(model,\n",
    "                staff_works_day,\n",
    "                staff,\n",
    "                days,\n",
    "                max_days_worked_hard_max,\n",
    "                max_days_worked_soft_max,\n",
    "                max_days_worked_max_cost)\n",
    "\n",
    "obj_bool_vars.extend(max_days_worked_obj[0])\n",
    "obj_bool_coeffs.extend(max_days_worked_obj[1])\n",
    "\n",
    "min_days_off_after_midnight_obj = min_days_off_after_midnight(model,\n",
    "                            staff_doesnt_work_day,\n",
    "                            staff_works_midnight_shift, \n",
    "                            staff, \n",
    "                            days, \n",
    "                            min_days_off_after_midnight_hard_min, \n",
    "                            min_days_off_after_midnight_soft_min, \n",
    "                            min_days_off_after_midnight_min_cost)\n",
    "\n",
    "obj_bool_vars.extend(min_days_off_after_midnight_obj[0])\n",
    "obj_bool_coeffs.extend(min_days_off_after_midnight_obj[1])\n",
    "\n",
    "midnight_physicians(model,\n",
    "                    staff_works_shift_on_day,\n",
    "                    midnight_staff,\n",
    "                    days,\n",
    "                    not_midnight_shifts)\n",
    "\n",
    "no_midnights_within_six_months(model,\n",
    "                                staff_works_shift_on_day,\n",
    "                                six_month_new_staff,\n",
    "                                days,\n",
    "                                midnight_shifts)\n",
    "\n",
    "max_midnights_in_a_row_obj = max_midnights_in_a_row(model,\n",
    "                        staff_works_midnight_shift,\n",
    "                        not_midnight_staff,\n",
    "                        days,\n",
    "                        max_midnights_in_a_row_hard_max,\n",
    "                        max_midnights_in_a_row_soft_max,\n",
    "                        max_midnights_in_a_row_max_cost)\n",
    "\n",
    "obj_bool_vars.extend(max_midnights_in_a_row_obj[0])\n",
    "obj_bool_coeffs.extend(max_midnights_in_a_row_obj[1])\n",
    "\n",
    "ft_physicians(model,\n",
    "            staff_works_shift_on_day,\n",
    "            ft_staff,\n",
    "            days,\n",
    "            not_ft_shifts)\n",
    "\n",
    "no_late_shift_before_time_off_obj = no_late_shift_before_time_off(model,\n",
    "                            staff_works_day,\n",
    "                            staff_doesnt_work_after_5_shift,\n",
    "                            staff,\n",
    "                            requests,\n",
    "                            no_late_shift_before_time_off_hard_min,\n",
    "                            no_late_shift_before_time_off_soft_min,\n",
    "                            no_late_shift_before_time_off_min_cost)\n",
    "\n",
    "obj_bool_vars.extend(no_late_shift_before_time_off_obj[0])\n",
    "obj_bool_coeffs.extend(no_late_shift_before_time_off_obj[1])\n",
    "                            \n",
    "on_call_rules_before_obj = on_call_rules_before(model,\n",
    "                    staff_works_on_call_shift,\n",
    "                    staff_doesnt_work_after_930_shift,\n",
    "                    staff,\n",
    "                    days,\n",
    "                    on_call_rules_before_hard_min,\n",
    "                    on_call_rules_before_soft_min,\n",
    "                    on_call_rules_before_min_cost)\n",
    "\n",
    "obj_bool_vars.extend(on_call_rules_before_obj[0])\n",
    "obj_bool_coeffs.extend(on_call_rules_before_obj[1])\n",
    "\n",
    "on_call_rules_after_obj = on_call_rules_after(model,\n",
    "                    staff_works_on_call_shift,\n",
    "                    staff_doesnt_work_day_shift,\n",
    "                    staff,\n",
    "                    days,\n",
    "                    on_call_rules_after_hard_min,\n",
    "                    on_call_rules_after_soft_min,\n",
    "                    on_call_rules_after_min_cost)\n",
    "\n",
    "obj_bool_vars.extend(on_call_rules_after_obj[0])\n",
    "obj_bool_coeffs.extend(on_call_rules_after_obj[1])\n",
    "\n",
    "days_off_after_consecutive_shifts_obj = days_off_after_consecutive_shifts(model,\n",
    "                                staff_works_day,\n",
    "                                staff_works_day,\n",
    "                                staff,\n",
    "                                days,\n",
    "                                days_off_after_consecutive_shifts_hard_min,\n",
    "                                days_off_after_consecutive_shifts_soft_min,\n",
    "                                days_off_after_consecutive_shifts_min_cost)\n",
    "\n",
    "obj_bool_vars.extend(days_off_after_consecutive_shifts_obj[0])\n",
    "obj_bool_coeffs.extend(days_off_after_consecutive_shifts_obj[1])"
   ]
  },
  {
   "cell_type": "code",
   "execution_count": 9,
   "metadata": {},
   "outputs": [],
   "source": [
    "transitions_constraints_obj = transitions_constraints(model,\n",
    "                        staff_works_shift_on_day,\n",
    "                        staff,\n",
    "                        days)\n",
    "\n",
    "obj_bool_vars.extend(transitions_constraints_obj[0])\n",
    "obj_bool_coeffs.extend(transitions_constraints_obj[1])\n",
    "\n",
    "days_off_between_late_and_day_shifts_obj = days_off_between_late_and_day_shifts(model,\n",
    "                                    staff_doesnt_work_day,\n",
    "                                    staff_works_day_shift,\n",
    "                                    staff_works_late_shift,\n",
    "                                    staff,\n",
    "                                    days,\n",
    "                                    days_off_between_late_and_day_shifts_hard_min,\n",
    "                                    days_off_between_late_and_day_shifts_soft_min,\n",
    "                                    days_off_between_late_and_day_shifts_min_cost)\n",
    "\n",
    "obj_bool_vars.extend(days_off_between_late_and_day_shifts_obj[0])\n",
    "obj_bool_coeffs.extend(days_off_between_late_and_day_shifts_obj[1])\n",
    "\n",
    "days_off_between_late_and_afternoon_shifts_obj = days_off_between_late_and_afternoon_shifts(model,\n",
    "                                    staff_doesnt_work_day,\n",
    "                                    staff_works_afternoon_shift,\n",
    "                                    staff_works_late_shift,\n",
    "                                    staff,\n",
    "                                    days,\n",
    "                                    days_off_between_late_and_afternoon_shifts_hard_min,\n",
    "                                    days_off_between_late_and_afternoon_shifts_soft_min,\n",
    "                                    days_off_between_late_and_afternoon_shifts_min_cost)\n",
    "\n",
    "obj_bool_vars.extend(days_off_between_late_and_afternoon_shifts_obj[0])\n",
    "obj_bool_coeffs.extend(days_off_between_late_and_afternoon_shifts_obj[1])\n",
    "\n",
    "late_shifts_in_a_row_obj = late_shifts_in_a_row(model,\n",
    "                    staff_works_late_shift,\n",
    "                    staff,\n",
    "                    days,\n",
    "                    late_shifts_in_a_row_hard_max,\n",
    "                    late_shifts_in_a_row_soft_max,\n",
    "                    late_shifts_in_a_row_max_cost)\n",
    "\n",
    "obj_bool_vars.extend(late_shifts_in_a_row_obj[0])\n",
    "obj_bool_coeffs.extend(late_shifts_in_a_row_obj[1])\n",
    "\n",
    "late_shifts_in_weeks_obj = late_shifts_in_weeks(model,\n",
    "                        staff_works_late_shift,\n",
    "                        staff,\n",
    "                        days,\n",
    "                        late_shifts_in_weeks_hard_min,\n",
    "                        late_shifts_in_weeks_soft_min,\n",
    "                        late_shifts_in_weeks_min_cost,\n",
    "                        late_shifts_in_weeks_hard_max,\n",
    "                        late_shifts_in_weeks_soft_max,\n",
    "                        late_shifts_in_weeks_max_cost)\n",
    "\n",
    "obj_int_vars.extend(late_shifts_in_weeks_obj[0])\n",
    "obj_int_coeffs.extend(late_shifts_in_weeks_obj[1])\n",
    "\n",
    "avoid_consecutive_ft_shifts_obj = avoid_consecutive_ft_shifts(model,\n",
    "                        staff_works_ft_shift,\n",
    "                        not_midnight_staff,\n",
    "                        days,\n",
    "                        avoid_consecutive_ft_shifts_hard_max,\n",
    "                        avoid_consecutive_ft_shifts_soft_max,\n",
    "                        avoid_consecutive_ft_shifts_max_cost)\n",
    "\n",
    "obj_int_vars.extend(avoid_consecutive_ft_shifts_obj[0])\n",
    "obj_int_coeffs.extend(avoid_consecutive_ft_shifts_obj[1])"
   ]
  },
  {
   "cell_type": "code",
   "execution_count": 10,
   "metadata": {},
   "outputs": [],
   "source": [
    "equalize_weekends_obj = equalize_weekends(model,\n",
    "                    staff_works_day,\n",
    "                    staff,\n",
    "                    weekends,\n",
    "                    equalize_weekends_cost,\n",
    "                    triangle_costs(len(shifts), len(weekends), len(staff)))\n",
    "\n",
    "obj_int_vars.extend(equalize_weekends_obj[0])\n",
    "obj_int_coeffs.extend(equalize_weekends_obj[1])\n",
    "\n",
    "minimize_split_weekends_obj = minimize_split_weekends(model,\n",
    "                        staff_works_day,\n",
    "                        staff,\n",
    "                        sats,\n",
    "                        suns,\n",
    "                        minimize_split_weekends_cost)\n",
    "\n",
    "obj_int_vars.extend(minimize_split_weekends_obj[0])\n",
    "obj_int_coeffs.extend(minimize_split_weekends_obj[1])\n",
    "\n",
    "equalize_night_shifts_obj = equalize_night_shifts(model,\n",
    "                        staff_works_midnight_shift,\n",
    "                        staff,\n",
    "                        days,\n",
    "                        equalize_night_shifts_cost,\n",
    "                        triangle_costs(len(midnight_shifts), len(days), len(staff)))\n",
    "\n",
    "obj_int_vars.extend(equalize_night_shifts_obj[0])\n",
    "obj_int_coeffs.extend(equalize_night_shifts_obj[1])\n",
    "\n",
    "no_nightshifts_before_weekend_off_obj = no_nightshifts_before_weekend_off(model,\n",
    "                                staff_works_day,\n",
    "                                staff_doesnt_work_after_5_shift,\n",
    "                                staff,\n",
    "                                fris,\n",
    "                                sats,\n",
    "                                no_nightshifts_before_weekend_off_hard_min,\n",
    "                                no_nightshifts_before_weekend_off_soft_min,\n",
    "                                no_nightshifts_before_weekend_off_min_cost)\n",
    "\n",
    "obj_bool_vars.extend(no_nightshifts_before_weekend_off_obj[0])\n",
    "obj_bool_coeffs.extend(no_nightshifts_before_weekend_off_obj[1])\n",
    "\n",
    "equalize_late_shifts_obj = equalize_late_shifts(model,\n",
    "                    staff_works_late_shift,\n",
    "                    staff,\n",
    "                    days,\n",
    "                    equalize_late_shifts_cost,\n",
    "                    triangle_costs(len(late_shifts), len(days), len(staff)))\n",
    "\n",
    "obj_int_vars.extend(equalize_late_shifts_obj[0])\n",
    "obj_int_coeffs.extend(equalize_late_shifts_obj[1])\n",
    "\n",
    "equalize_day_shifts_obj = equalize_day_shifts(model,\n",
    "                    staff_works_day_shift,\n",
    "                    staff,\n",
    "                    days,\n",
    "                    equalize_day_shifts_cost,\n",
    "                    triangle_costs(len(day_shifts), len(days), len(staff)))\n",
    "\n",
    "obj_int_vars.extend(equalize_day_shifts_obj[0])\n",
    "obj_int_coeffs.extend(equalize_day_shifts_obj[1])\n",
    "\n",
    "equalize_afternoon_shifts_obj = equalize_afternoon_shifts(model,\n",
    "                            staff_works_afternoon_shift,\n",
    "                            staff,\n",
    "                            days,\n",
    "                            equalize_afternoon_shifts_cost,\n",
    "                            triangle_costs(len(afternoon_shifts), len(days), len(staff)))\n",
    "\n",
    "obj_int_vars.extend(equalize_afternoon_shifts_obj[0])\n",
    "obj_int_coeffs.extend(equalize_afternoon_shifts_obj[1])\n",
    "\n",
    "equalize_weekdays_obj = equalize_weekdays(model,\n",
    "                    staff_works_day,\n",
    "                    staff,\n",
    "                    weekdays,\n",
    "                    equalize_weekdays_cost,\n",
    "                    triangle_costs(len(shifts), len(weekdays), len(staff)))\n",
    "\n",
    "obj_int_vars.extend(equalize_weekdays_obj[0])\n",
    "obj_int_coeffs.extend(equalize_weekdays_obj[1])"
   ]
  },
  {
   "cell_type": "code",
   "execution_count": 11,
   "metadata": {},
   "outputs": [],
   "source": [
    "apply_requests_obj = apply_requests(staff_works_shift_on_day,\n",
    "                staff_works_day,\n",
    "                days,\n",
    "                requests)\n",
    "\n",
    "obj_int_vars.extend(apply_requests_obj[0])\n",
    "obj_int_coeffs.extend(apply_requests_obj[1])\n",
    "\n",
    "apply_productivity_obj = apply_productivity(model,\n",
    "                    staff_productivities,\n",
    "                    staff,\n",
    "                    days,\n",
    "                    shifts,\n",
    "                    3)\n",
    "\n",
    "obj_int_vars.extend(apply_productivity_obj[0])\n",
    "obj_int_coeffs.extend(apply_productivity_obj[1])"
   ]
  },
  {
   "source": [
    "# Solving the Model"
   ],
   "cell_type": "markdown",
   "metadata": {}
  },
  {
   "cell_type": "code",
   "execution_count": 12,
   "metadata": {},
   "outputs": [
    {
     "output_type": "stream",
     "name": "stdout",
     "text": [
      "FEASIBLE\nMaximum of objective function: 9736\n\nDay 0\nAvery works shift 0700 - 1500\nEleanor works shift 0730 - 1530 (FT)\nSofia works shift 0930 - 1730\nVictoria works shift 1200 - 2000\nCamila works shift 1400 - 2200\nMia works shift 1530 - 2330 (FT)\nIsabella works shift 1600 - 2400\nAva works shift 1800 - 0200\nElizabeth works shift 2000 - 0400\nOlivia works shift 2200 - 0400\nMadison works shift 2359 - 0700\nLayla works shift On Call\n\nDay 1\nNora works shift 0700 - 1500\nChloe works shift 0730 - 1530 (FT)\nAbigail works shift 0930 - 1730\nGrace works shift 1200 - 2000\nPenelope works shift 1400 - 2200\nCharlotte works shift 1530 - 2330 (FT)\nEleanor works shift 1600 - 2400\nAria works shift 1800 - 0200\nEmma works shift 2000 - 0400\nOlivia works shift 2200 - 0400\nSofia works shift 2359 - 0700\nScarlett works shift On Call\n\nDay 2\nGianna works shift 0700 - 1500\nLuna works shift 0730 - 1530 (FT)\nVictoria works shift 0930 - 1730\nHarper works shift 1200 - 2000\nScarlett works shift 1400 - 2200\nMia works shift 1530 - 2330 (FT)\nAbigail works shift 1600 - 2400\nCamila works shift 1800 - 0200\nElla works shift 2000 - 0400\nIsabella works shift 2200 - 0400\nAvery works shift 2359 - 0700\nEvelyn works shift On Call\n\nDay 3\nLuna works shift 0700 - 1500\nCharlotte works shift 0730 - 1530 (FT)\nGianna works shift 0930 - 1730\nEleanor works shift 1200 - 2000\nNora works shift 1400 - 2200\nVictoria works shift 1530 - 2330 (FT)\nMila works shift 1600 - 2400\nAva works shift 1800 - 0200\nAria works shift 2000 - 0400\nElizabeth works shift 2200 - 0400\nEmily works shift 2359 - 0700\nLayla works shift On Call\n\nDay 4\nPenelope works shift 0700 - 1500\nEleanor works shift 0730 - 1530 (FT)\nNora works shift 0930 - 1730\nChloe works shift 1200 - 2000\nScarlett works shift 1400 - 2200\nAmelia works shift 1530 - 2330 (FT)\nLayla works shift 1600 - 2400\nAbigail works shift 1800 - 0200\nGrace works shift 2000 - 0400\nIsabella works shift 2200 - 0400\nEmma works shift 2359 - 0700\nMia works shift On Call\n\nDay 5\nPenelope works shift 0700 - 1500\nAmelia works shift 0730 - 1530 (FT)\nCharlotte works shift 0930 - 1730\nGianna works shift 1200 - 2000\nSophia works shift 1400 - 2200\nMadison works shift 1530 - 2330 (FT)\nMila works shift 1600 - 2400\nElizabeth works shift 1800 - 0200\nLuna works shift 2000 - 0400\nEvelyn works shift 2200 - 0400\nGrace works shift 2359 - 0700\nAria works shift On Call\n\nDay 6\nCharlotte works shift 0700 - 1500\nMila works shift 0730 - 1530 (FT)\nElla works shift 0930 - 1730\nAvery works shift 1200 - 2000\nLayla works shift 1400 - 2200\nEleanor works shift 1530 - 2330 (FT)\nCamila works shift 1600 - 2400\nElizabeth works shift 1800 - 0200\nNora works shift 2000 - 0400\nVictoria works shift 2200 - 0400\nHarper works shift 2359 - 0700\nOlivia works shift On Call\n\nDay 7\nEmily works shift 0700 - 1500\nChloe works shift 0730 - 1530 (FT)\nEleanor works shift 0930 - 1730\nSofia works shift 1200 - 2000\nElla works shift 1400 - 2200\nCamila works shift 1530 - 2330 (FT)\nMadison works shift 1600 - 2400\nScarlett works shift 1800 - 0200\nOlivia works shift 2000 - 0400\nNora works shift 2200 - 0400\nVictoria works shift 2359 - 0700\nMia works shift On Call\n\nDay 8\nEmma works shift 0700 - 1500\nAva works shift 0730 - 1530 (FT)\nSophia works shift 0930 - 1730\nAmelia works shift 1200 - 2000\nAbigail works shift 1400 - 2200\nMia works shift 1530 - 2330 (FT)\nMila works shift 1600 - 2400\nAria works shift 1800 - 0200\nSofia works shift 2000 - 0400\nPenelope works shift 2200 - 0400\nGianna works shift 2359 - 0700\nLuna works shift On Call\n\nDay 9\nEvelyn works shift 0700 - 1500\nAvery works shift 0730 - 1530 (FT)\nLayla works shift 0930 - 1730\nAmelia works shift 1200 - 2000\nIsabella works shift 1400 - 2200\nEleanor works shift 1530 - 2330 (FT)\nEmily works shift 1600 - 2400\nPenelope works shift 1800 - 0200\nMadison works shift 2000 - 0400\nAria works shift 2200 - 0400\nGianna works shift 2359 - 0700\nOlivia works shift On Call\n\nDay 10\nAbigail works shift 0700 - 1500\nAvery works shift 0730 - 1530 (FT)\nCamila works shift 0930 - 1730\nGrace works shift 1200 - 2000\nEvelyn works shift 1400 - 2200\nMia works shift 1530 - 2330 (FT)\nAva works shift 1600 - 2400\nSofia works shift 1800 - 0200\nLayla works shift 2000 - 0400\nChloe works shift 2200 - 0400\nMadison works shift 2359 - 0700\nHarper works shift On Call\n\nDay 11\nGrace works shift 0700 - 1500\nEmily works shift 0730 - 1530 (FT)\nCamila works shift 0930 - 1730\nAmelia works shift 1200 - 2000\nScarlett works shift 1400 - 2200\nNora works shift 1530 - 2330 (FT)\nMila works shift 1600 - 2400\nLuna works shift 1800 - 0200\nSofia works shift 2000 - 0400\nAbigail works shift 2200 - 0400\nPenelope works shift 2359 - 0700\nElla works shift On Call\n\nDay 12\nEmily works shift 0700 - 1500\nCharlotte works shift 0730 - 1530 (FT)\nIsabella works shift 0930 - 1730\nElla works shift 1200 - 2000\nOlivia works shift 1400 - 2200\nElizabeth works shift 1530 - 2330 (FT)\nVictoria works shift 1600 - 2400\nMia works shift 1800 - 0200\nAvery works shift 2000 - 0400\nMila works shift 2200 - 0400\nNora works shift 2359 - 0700\nEvelyn works shift On Call\n\nDay 13\nHarper works shift 0700 - 1500\nElizabeth works shift 0730 - 1530 (FT)\nAria works shift 0930 - 1730\nIsabella works shift 1200 - 2000\nGrace works shift 1400 - 2200\nAva works shift 1530 - 2330 (FT)\nGianna works shift 1600 - 2400\nSofia works shift 1800 - 0200\nAvery works shift 2000 - 0400\nSophia works shift 2200 - 0400\nCamila works shift 2359 - 0700\nEmma works shift On Call\n\nDay 14\nAva works shift 0700 - 1500\nChloe works shift 0730 - 1530 (FT)\nHarper works shift 0930 - 1730\nEvelyn works shift 1200 - 2000\nEmma works shift 1400 - 2200\nEmily works shift 1530 - 2330 (FT)\nAria works shift 1600 - 2400\nCharlotte works shift 1800 - 0200\nSophia works shift 2000 - 0400\nEleanor works shift 2200 - 0400\nSofia works shift 2359 - 0700\nAmelia works shift On Call\n\nDay 15\nLayla works shift 0700 - 1500\nEvelyn works shift 0730 - 1530 (FT)\nVictoria works shift 0930 - 1730\nAmelia works shift 1200 - 2000\nIsabella works shift 1400 - 2200\nAbigail works shift 1530 - 2330 (FT)\nGrace works shift 1600 - 2400\nElla works shift 1800 - 0200\nEmily works shift 2000 - 0400\nChloe works shift 2200 - 0400\nMila works shift 2359 - 0700\nLuna works shift On Call\n\nDay 16\nMia works shift 0700 - 1500\nGrace works shift 0730 - 1530 (FT)\nAva works shift 0930 - 1730\nLuna works shift 1200 - 2000\nHarper works shift 1400 - 2200\nScarlett works shift 1530 - 2330 (FT)\nPenelope works shift 1600 - 2400\nCharlotte works shift 1800 - 0200\nEleanor works shift 2000 - 0400\nVictoria works shift 2200 - 0400\nElla works shift 2359 - 0700\nAvery works shift On Call\n\nDay 17\nEvelyn works shift 0700 - 1500\nAria works shift 0730 - 1530 (FT)\nGianna works shift 0930 - 1730\nEmma works shift 1200 - 2000\nOlivia works shift 1400 - 2200\nMadison works shift 1530 - 2330 (FT)\nPenelope works shift 1600 - 2400\nEleanor works shift 1800 - 0200\nAmelia works shift 2000 - 0400\nCharlotte works shift 2200 - 0400\nChloe works shift 2359 - 0700\nEmily works shift On Call\n\nDay 18\nEmma works shift 0700 - 1500\nGrace works shift 0730 - 1530 (FT)\nIsabella works shift 0930 - 1730\nAria works shift 1200 - 2000\nAbigail works shift 1400 - 2200\nElizabeth works shift 1530 - 2330 (FT)\nMadison works shift 1600 - 2400\nVictoria works shift 1800 - 0200\nNora works shift 2000 - 0400\nMia works shift 2200 - 0400\nChloe works shift 2359 - 0700\nEvelyn works shift On Call\n\nDay 19\nAvery works shift 0700 - 1500\nGianna works shift 0730 - 1530 (FT)\nIsabella works shift 0930 - 1730\nSofia works shift 1200 - 2000\nLuna works shift 1400 - 2200\nCamila works shift 1530 - 2330 (FT)\nAva works shift 1600 - 2400\nLayla works shift 1800 - 0200\nHarper works shift 2000 - 0400\nEmily works shift 2200 - 0400\nScarlett works shift 2359 - 0700\nSophia works shift On Call\n\nDay 20\nAbigail works shift 0700 - 1500\nPenelope works shift 0730 - 1530 (FT)\nMadison works shift 0930 - 1730\nEvelyn works shift 1200 - 2000\nAria works shift 1400 - 2200\nAvery works shift 1530 - 2330 (FT)\nCamila works shift 1600 - 2400\nVictoria works shift 1800 - 0200\nGianna works shift 2000 - 0400\nLayla works shift 2200 - 0400\nScarlett works shift 2359 - 0700\nCharlotte works shift On Call\n\nDay 21\nPenelope works shift 0700 - 1500\nElla works shift 0730 - 1530 (FT)\nAbigail works shift 0930 - 1730\nEvelyn works shift 1200 - 2000\nGrace works shift 1400 - 2200\nCharlotte works shift 1530 - 2330 (FT)\nEleanor works shift 1600 - 2400\nMila works shift 1800 - 0200\nMia works shift 2000 - 0400\nIsabella works shift 2200 - 0400\nAria works shift 2359 - 0700\nHarper works shift On Call\n\nDay 22\nNora works shift 0700 - 1500\nGrace works shift 0730 - 1530 (FT)\nElizabeth works shift 0930 - 1730\nSophia works shift 1200 - 2000\nSofia works shift 1400 - 2200\nEmma works shift 1530 - 2330 (FT)\nMadison works shift 1600 - 2400\nEmily works shift 1800 - 0200\nChloe works shift 2000 - 0400\nCamila works shift 2200 - 0400\nAvery works shift 2359 - 0700\nAva works shift On Call\n\nDay 23\nOlivia works shift 0700 - 1500\nMadison works shift 0730 - 1530 (FT)\nEmma works shift 0930 - 1730\nAva works shift 1200 - 2000\nHarper works shift 1400 - 2200\nElizabeth works shift 1530 - 2330 (FT)\nCharlotte works shift 1600 - 2400\nIsabella works shift 1800 - 0200\nEvelyn works shift 2000 - 0400\nCamila works shift 2200 - 0400\nMila works shift 2359 - 0700\nElla works shift On Call\n\nDay 24\nScarlett works shift 0700 - 1500\nSophia works shift 0730 - 1530 (FT)\nAmelia works shift 0930 - 1730\nPenelope works shift 1200 - 2000\nSofia works shift 1400 - 2200\nLuna works shift 1530 - 2330 (FT)\nNora works shift 1600 - 2400\nChloe works shift 1800 - 0200\nAbigail works shift 2000 - 0400\nElla works shift 2200 - 0400\nCharlotte works shift 2359 - 0700\nEmily works shift On Call\n\nDay 25\nEmma works shift 0700 - 1500\nLuna works shift 0730 - 1530 (FT)\nOlivia works shift 0930 - 1730\nGianna works shift 1200 - 2000\nScarlett works shift 1400 - 2200\nPenelope works shift 1530 - 2330 (FT)\nAva works shift 1600 - 2400\nHarper works shift 1800 - 0200\nGrace works shift 2000 - 0400\nEleanor works shift 2200 - 0400\nVictoria works shift 2359 - 0700\nElizabeth works shift On Call\n\nDay 26\nAmelia works shift 0700 - 1500\nOlivia works shift 0730 - 1530 (FT)\nSophia works shift 0930 - 1730\nLayla works shift 1200 - 2000\nElizabeth works shift 1400 - 2200\nGianna works shift 1530 - 2330 (FT)\nNora works shift 1600 - 2400\nEvelyn works shift 1800 - 0200\nMadison works shift 2000 - 0400\nCamila works shift 2200 - 0400\nIsabella works shift 2359 - 0700\nEmma works shift On Call\n\nDay 27\nMia works shift 0700 - 1500\nScarlett works shift 0730 - 1530 (FT)\nOlivia works shift 0930 - 1730\nLuna works shift 1200 - 2000\nSophia works shift 1400 - 2200\nEmma works shift 1530 - 2330 (FT)\nAria works shift 1600 - 2400\nPenelope works shift 1800 - 0200\nMadison works shift 2000 - 0400\nGrace works shift 2200 - 0400\nIsabella works shift 2359 - 0700\nHarper works shift On Call\n\nDay 28\nMila works shift 0700 - 1500\nElla works shift 0730 - 1530 (FT)\nSophia works shift 0930 - 1730\nAvery works shift 1200 - 2000\nAbigail works shift 1400 - 2200\nEmily works shift 1530 - 2330 (FT)\nOlivia works shift 1600 - 2400\nLuna works shift 1800 - 0200\nHarper works shift 2000 - 0400\nGianna works shift 2200 - 0400\nEmma works shift 2359 - 0700\nAmelia works shift On Call\n\nDay 29\nSofia works shift 0700 - 1500\nLayla works shift 0730 - 1530 (FT)\nNora works shift 0930 - 1730\nAria works shift 1200 - 2000\nMia works shift 1400 - 2200\nMila works shift 1530 - 2330 (FT)\nElizabeth works shift 1600 - 2400\nEmily works shift 1800 - 0200\nCharlotte works shift 2000 - 0400\nAmelia works shift 2200 - 0400\nCamila works shift 2359 - 0700\nSophia works shift On Call\n\nDay 30\nLayla works shift 0700 - 1500\nElizabeth works shift 0730 - 1530 (FT)\nEleanor works shift 0930 - 1730\nVictoria works shift 1200 - 2000\nSophia works shift 1400 - 2200\nNora works shift 1530 - 2330 (FT)\nChloe works shift 1600 - 2400\nGianna works shift 1800 - 0200\nScarlett works shift 2000 - 0400\nHarper works shift 2200 - 0400\nOlivia works shift 2359 - 0700\nMadison works shift On Call\n\ntime elapsed: 369.6670460700989\n"
     ]
    }
   ],
   "source": [
    "# All constraints together takes 1.5 hours to find a feasible solution\n",
    "import time\n",
    "\n",
    "start = time.time()\n",
    "\n",
    "model.Minimize(\n",
    "        sum(obj_bool_vars[i] * obj_bool_coeffs[i]\n",
    "            for i in range(len(obj_bool_vars))) +\n",
    "            sum(obj_int_vars[i] * obj_int_coeffs[i]\n",
    "            for i in range(len(obj_int_vars))))\n",
    "\n",
    "solver = create_solver(600)\n",
    "status = solver.Solve(model)\n",
    "\n",
    "print(solver.StatusName(status))\n",
    "import collections\n",
    "results = collections.defaultdict(list)\n",
    "\n",
    "if status == FEASIBLE or status == OPTIMAL:\n",
    "\n",
    "    print('Maximum of objective function: %i' % solver.ObjectiveValue())\n",
    "    print()\n",
    "    for d in days:\n",
    "        print('Day', d)\n",
    "        for s in shifts:\n",
    "            for m in staff:\n",
    "                if solver.Value(staff_works_shift_on_day[(m, d, s)]) == 1:\n",
    "                    results[d].append(staff_list[staff.index(m)])\n",
    "                    print(m, 'works shift', shift_list[s])\n",
    "        print()\n",
    "\n",
    "end = time.time()\n",
    "print(f\"time elapsed: {end - start}\")\n",
    "\n",
    "results = [v for k, v in results.items()]"
   ]
  },
  {
   "cell_type": "code",
   "execution_count": 13,
   "metadata": {},
   "outputs": [
    {
     "output_type": "stream",
     "name": "stdout",
     "text": [
      "CpSolverResponse summary:\nstatus: FEASIBLE\nobjective: 9736\nbest_bound: 218\nbooleans: 112231\nconflicts: 68\nbranches: 413367\npropagations: 901858\ninteger_propagations: 2029583\nrestarts: 222355\nlp_iterations: 335932\nwalltime: 360.646\nusertime: 360.646\ndeterministic_time: 771.792\nprimal_integral: 9360.98\n\n"
     ]
    }
   ],
   "source": [
    "print(solver.ResponseStats())"
   ]
  },
  {
   "cell_type": "code",
   "execution_count": 14,
   "metadata": {},
   "outputs": [],
   "source": [
    "# Saving to Excel\n",
    "import pandas as pd\n",
    "\n",
    "df = pd.DataFrame(results,\n",
    "index = days,\n",
    "columns = shift_list)\n",
    "\n",
    "df.head()\n",
    "\n",
    "df.to_csv(\"output.csv\")"
   ]
  },
  {
   "source": [
    "# Tests"
   ],
   "cell_type": "markdown",
   "metadata": {}
  },
  {
   "cell_type": "code",
   "execution_count": 15,
   "metadata": {},
   "outputs": [],
   "source": [
    "staff_works_day_results = {}\n",
    "staff_works_midnight_shift_results = {}\n",
    "staff_works_late_shift_results = {}\n",
    "staff_works_day_shift_results = {}\n",
    "staff_works_shift_on_day_results = {}\n",
    "staff_works_ft_shift_results = {}\n",
    "staff_works_after_5_shift_results = {}\n",
    "staff_works_on_call_shift_results = {}\n",
    "staff_works_after_930_shift_results = {}\n",
    "staff_works_afternoon_shift_results = {}\n",
    "staff_doesnt_work_day_results = {}\n",
    "staff_doesnt_work_after_930_shift_results = {}\n",
    "staff_doesnt_work_day_shift_results = {}\n",
    "staff_doesnt_work_after_5_shift_results = {}\n",
    "for m in staff:\n",
    "    staff_works_day_results[m] = [solver.Value(staff_works_day[m, d]) for d in days]\n",
    "    staff_doesnt_work_day_results[m] = [solver.Value(staff_doesnt_work_day[m, d]) for d in days]\n",
    "    staff_works_midnight_shift_results[m] = [solver.Value(staff_works_midnight_shift[m, d]) for d in days]\n",
    "    staff_works_late_shift_results[m] = [solver.Value(staff_works_late_shift[m, d]) for d in days]\n",
    "    staff_works_day_shift_results[m] = [solver.Value(staff_works_day_shift[m, d]) for d in days]\n",
    "    staff_works_ft_shift_results[m] = [solver.Value(staff_works_ft_shift[m, d]) for d in days]\n",
    "    staff_works_after_5_shift_results[m] = [solver.Value(staff_works_after_5_shift[m,d]) for d in days]\n",
    "    staff_works_on_call_shift_results[m] = [solver.Value(staff_works_on_call_shift[m,d]) for d in days]\n",
    "    staff_works_after_930_shift_results[m] = [solver.Value(staff_works_after_930_shift[m,d]) for d in days]\n",
    "    staff_works_afternoon_shift_results[m] = [solver.Value(staff_works_afternoon_shift[m,d]) for d in days]\n",
    "    staff_doesnt_work_after_930_shift_results[m] = [solver.Value(staff_doesnt_work_after_930_shift[m,d]) for d in days]\n",
    "    staff_doesnt_work_day_shift_results[m] = [solver.Value(staff_doesnt_work_day_shift[m,d]) for d in days]\n",
    "    staff_doesnt_work_after_5_shift_results[m] = [solver.Value(staff_doesnt_work_after_5_shift[m,d]) for d in days]\n",
    "    for d in days:\n",
    "        staff_works_shift_on_day_results[m, d] = [solver.Value(staff_works_shift_on_day[(m, d, s)]) for s in shifts]"
   ]
  },
  {
   "source": [
    "## Hard Constraints"
   ],
   "cell_type": "markdown",
   "metadata": {}
  },
  {
   "cell_type": "code",
   "execution_count": 16,
   "metadata": {},
   "outputs": [
    {
     "output_type": "stream",
     "name": "stdout",
     "text": [
      "60\nMax days worked consecutively\nObjective function: 300\n\t3 from range 3 to 7: 0\n\n\t4 from range 3 to 7: 2\n\n\t5 from range 3 to 7: 1\n\n\t6 from range 3 to 7: 0\n\n\t7 from range 3 to 7: 0\n\n\n40\nMin days off after midnight shift\nObjective function: 280\n\t2 from range 2 to 4: 0\n\n\t3 from range 2 to 4: 7\n\n\t4 from range 2 to 4: 9\n\n\n60\nMax midnights worked consecutively\nObjective function: 240\n\t1 from range 1 to 2: 23\n\n\t2 from range 1 to 2: 4\n\n\n0\n0\nNo shifts after 930 before on call\nObjective function: 0\n\n0\nNo early morning shifts post on call\nObjective function: 0\n\n40\ndays_off_after_consecutive_shifts\nObjective function: 0\n\t2 from range 2 to 3: 0\n\n\t3 from range 2 to 3: 0\n\n\nALL HARD CONSTRAINTS SATISFIED\n"
     ]
    }
   ],
   "source": [
    "from test import *\n",
    "\n",
    "all_shifts_taken_test(staff_works_shift_on_day_results, staff, days, shifts)\n",
    "  \n",
    "no_two_shifts_on_same_day_test(staff_works_shift_on_day_results)\n",
    "\n",
    "print(max_days_worked_max_cost)\n",
    "max_days_worked_test(staff_works_day_results,\n",
    "                    max_days_worked_hard_max,\n",
    "                    max_days_worked_soft_max, \n",
    "                    obj_result(solver, max_days_worked_obj))\n",
    "\n",
    "print(min_days_off_after_midnight_min_cost)\n",
    "min_days_off_after_midnight_test(staff_doesnt_work_day_results,\n",
    "                                 staff_works_midnight_shift_results,\n",
    "                                 min_days_off_after_midnight_hard_min, \n",
    "                                 min_days_off_after_midnight_soft_min,\n",
    "                                 obj_result(solver, min_days_off_after_midnight_obj))\n",
    "\n",
    "midnight_physicians_test(staff_works_shift_on_day_results, staff, shifts)\n",
    "\n",
    "no_midnights_within_six_months_test(staff_works_midnight_shift_results, staff, shifts)\n",
    "\n",
    "print(max_midnights_in_a_row_max_cost)\n",
    "max_midnights_in_a_row_test(staff_works_midnight_shift_results, \n",
    "                            max_midnights_in_a_row_hard_max,\n",
    "                            max_midnights_in_a_row_soft_max,\n",
    "                            obj_result(solver, max_midnights_in_a_row_obj))\n",
    "\n",
    "ft_physicians_test(staff_works_shift_on_day_results, staff, shifts)\n",
    "\n",
    "print(no_late_shift_before_time_off_min_cost)\n",
    "no_late_shift_before_time_off_test(staff_works_day_results, staff_works_after_5_shift_results, requests)\n",
    "\n",
    "print(on_call_rules_before_min_cost)\n",
    "on_call_rules_before_test(staff_doesnt_work_after_930_shift_results,\n",
    "                            staff_works_on_call_shift_results,\n",
    "                            on_call_rules_before_hard_min,\n",
    "                            on_call_rules_before_soft_min, \n",
    "                            obj_result(solver, on_call_rules_before_obj))\n",
    "\n",
    "print(on_call_rules_after_min_cost)\n",
    "on_call_rules_after_test(staff_doesnt_work_day_shift_results, \n",
    "                        staff_works_on_call_shift_results, \n",
    "                        on_call_rules_after_hard_min, \n",
    "                        on_call_rules_after_soft_min, \n",
    "                        obj_result(solver, on_call_rules_after_obj))\n",
    "\n",
    "print(days_off_after_consecutive_shifts_min_cost)\n",
    "days_off_after_consecutive_shifts_test(staff_doesnt_work_day_results, \n",
    "                                        staff_works_day_results, \n",
    "                                        days_off_after_consecutive_shifts_hard_min, \n",
    "                                        days_off_after_consecutive_shifts_soft_min, \n",
    "                                        obj_result(solver, days_off_after_consecutive_shifts_obj))\n",
    "\n",
    "print(\"ALL HARD CONSTRAINTS SATISFIED\")"
   ]
  },
  {
   "source": [
    "## Pie in the sky"
   ],
   "cell_type": "markdown",
   "metadata": {}
  },
  {
   "cell_type": "code",
   "execution_count": 17,
   "metadata": {},
   "outputs": [
    {
     "output_type": "stream",
     "name": "stdout",
     "text": [
      "12\n60\n12\n60\nnumber of requests respected: 104\nnumber of requests disrespected: 4\n"
     ]
    }
   ],
   "source": [
    "#Ensure requests work as intended\n",
    "number_of_requests_respected = 0\n",
    "number_of_requests_disrespected = 0\n",
    "\n",
    "for staff2, day2, shift2, coef in requests:\n",
    "    if shift2 == -1 and coef > 0:\n",
    "        if staff_works_day_results[staff2][day2]:\n",
    "            print(coef)\n",
    "            number_of_requests_disrespected += 1\n",
    "        else:\n",
    "            number_of_requests_respected += 1\n",
    "    elif shift2 == -1 and coef < 0:\n",
    "        if staff_works_day_results[staff2][day2]:\n",
    "            number_of_requests_respected += 1\n",
    "        else:\n",
    "            print(coef)\n",
    "            number_of_requests_disrespected += 1\n",
    "    elif coef > 0:\n",
    "        if staff_works_shift_on_day_results[staff2, day2][shift2]:\n",
    "            print(coef)\n",
    "            number_of_requests_disrespected += 1\n",
    "        else:\n",
    "            number_of_requests_respected += 1\n",
    "    elif coef < 0:\n",
    "        if staff_works_shift_on_day_results[staff2, day2][shift2]:\n",
    "            number_of_requests_respected += 1\n",
    "        else:\n",
    "            number_of_requests_disrespected += 1\n",
    "\n",
    "print(f\"number of requests respected: {number_of_requests_respected}\")\n",
    "print(f\"number of requests disrespected: {number_of_requests_disrespected}\")"
   ]
  },
  {
   "cell_type": "code",
   "execution_count": 18,
   "metadata": {},
   "outputs": [
    {
     "output_type": "stream",
     "name": "stdout",
     "text": [
      "36\n12\n12\n12\n12\n12\nnumber of times theres too little productivity: 6\nnumber of times theres too much productivity: 0\n"
     ]
    }
   ],
   "source": [
    "# Check productivity\n",
    "productivity_under = 0\n",
    "productivity_over = 0\n",
    "\n",
    "for d in days:\n",
    "    for wind in window(shifts[:-1], 3):\n",
    "        prod = [solver.Value(staff_productivities[m,d,s])\n",
    "        for m in staff \n",
    "        for s in wind]\n",
    "        sums = sum(prod)\n",
    "        if sums < 6:\n",
    "            productivity_under += 1\n",
    "            print((6 - sums) * LOW)\n",
    "        if sums > 15:\n",
    "            productivity_over += 1\n",
    "\n",
    "print(f\"number of times theres too little productivity: {productivity_under}\")\n",
    "print(f\"number of times theres too much productivity: {productivity_over}\")"
   ]
  },
  {
   "source": [
    "## Soft Constraints"
   ],
   "cell_type": "markdown",
   "metadata": {}
  },
  {
   "cell_type": "code",
   "execution_count": 19,
   "metadata": {},
   "outputs": [
    {
     "output_type": "stream",
     "name": "stdout",
     "text": [
      "Number of times shifts jump forwards 2.5 hours: 39\nNumber of times shifts jump backwards 1.5 hours: 39\n\n40\ndays_off_between_late_and_day_shifts\nObjective function: 0\n\t2 from range 2 to 3: 0\n\n\t3 from range 2 to 3: 0\n\n\n40\ndays_off_between_late_and_afternoon_shifts\nObjective function: 0\n\t2 from range 2 to 3: 0\n\n\t3 from range 2 to 3: 0\n\n\n60\ndays_off_between_late_and_afternoon_shifts\nObjective function: 0\n\t3 from range 3 to 7: 0\n\n\t4 from range 3 to 7: 0\n\n\t5 from range 3 to 7: 0\n\n\t6 from range 3 to 7: 0\n\n\t7 from range 3 to 7: 0\n\n\n0\n60\nlate_shifts_in_two_weeks_test\nObjective function: 0\n\t5 from range 5 to 14: 0\n\n\t6 from range 5 to 14: 0\n\n\t7 from range 5 to 14: 0\n\n\t8 from range 5 to 14: 0\n\n\t9 from range 5 to 14: 0\n\n\t10 from range 5 to 14: 0\n\n\t11 from range 5 to 14: 0\n\n\t12 from range 5 to 14: 0\n\n\t13 from range 5 to 14: 0\n\n\t14 from range 5 to 14: 3\n\n24\ndays_off_between_late_and_afternoon_shifts\nObjective function: 96\n\t1 from range 1 to 2: 50\n\n\t2 from range 1 to 2: 4\n\n\n"
     ]
    }
   ],
   "source": [
    "transition_constraint_test(staff_works_shift_on_day_results, days)\n",
    "\n",
    "print(days_off_between_late_and_day_shifts_min_cost)\n",
    "days_off_between_late_and_day_shifts_test(staff_doesnt_work_day_results,\n",
    "                                            staff_works_late_shift_results,\n",
    "                                            staff_works_day_shift_results, \n",
    "                                            days_off_between_late_and_day_shifts_hard_min, \n",
    "                                            days_off_between_late_and_day_shifts_soft_min,\n",
    "                                            obj_result(solver, days_off_between_late_and_day_shifts_obj))\n",
    "\n",
    "print(days_off_between_late_and_afternoon_shifts_min_cost)\n",
    "days_off_between_late_and_afternoon_shifts_test(staff_doesnt_work_day_results,\n",
    "                                                staff_works_late_shift_results, \n",
    "                                                staff_works_afternoon_shift_results, \n",
    "                                                days_off_between_late_and_afternoon_shifts_hard_min, \n",
    "                                                days_off_between_late_and_afternoon_shifts_soft_min, \n",
    "                                                obj_result(solver, days_off_between_late_and_afternoon_shifts_obj))\n",
    "\n",
    "print(late_shifts_in_a_row_max_cost)\n",
    "late_shifts_in_a_row_test(staff_works_late_shift_results,\n",
    "                         late_shifts_in_a_row_hard_max, \n",
    "                         late_shifts_in_a_row_soft_max, \n",
    "                         obj_result(solver, late_shifts_in_a_row_obj))\n",
    "\n",
    "print(late_shifts_in_weeks_min_cost)\n",
    "print(late_shifts_in_weeks_max_cost)\n",
    "late_shifts_in_two_weeks_test(staff_works_late_shift_results,\n",
    "                                late_shifts_in_weeks_hard_max,\n",
    "                                late_shifts_in_weeks_soft_max,\n",
    "                                obj_result(solver, late_shifts_in_weeks_obj))\n",
    "\n",
    "print(avoid_consecutive_ft_shifts_max_cost)\n",
    "avoid_consecutive_ft_shifts_test(staff_works_ft_shift_results,\n",
    "                                 avoid_consecutive_ft_shifts_hard_max, \n",
    "                                 avoid_consecutive_ft_shifts_soft_max,\n",
    "                                 obj_result(solver, avoid_consecutive_ft_shifts_obj))"
   ]
  },
  {
   "source": [
    "## Goals"
   ],
   "cell_type": "markdown",
   "metadata": {}
  },
  {
   "cell_type": "code",
   "execution_count": 20,
   "metadata": {},
   "outputs": [],
   "source": [
    "weekends_worked = {}\n",
    "weekdays_worked = {}\n",
    "first = {}\n",
    "second = {}\n",
    "for m in staff:\n",
    "    weekends_worked[m] = [solver.Value(staff_works_day[m, d]) for d in weekends]\n",
    "    weekdays_worked[m] = [solver.Value(staff_works_day[m, d]) for d in weekdays]\n",
    "    first[m] = [solver.Value(staff_doesnt_work_after_5_shift[m, d])\n",
    "                    for d in fris] + [model.NewConstant(1)] * no_nightshifts_before_weekend_off_hard_min\n",
    "    second[m] = [model.NewConstant(1)] * no_nightshifts_before_weekend_off_hard_min + [solver.Value(staff_works_day[m, d]) for d in sats]"
   ]
  },
  {
   "cell_type": "code",
   "execution_count": 21,
   "metadata": {},
   "outputs": [
    {
     "output_type": "stream",
     "name": "stdout",
     "text": [
      "Weekend Equalization\nObjective function: 0\nDifference from target of 4: 0\n\nnight shift Equalization\nObjective function: 156\nDifference from target of 2: 29\n\nnight shift Equalization\nObjective function: 144\nDifference from target of 4: 27\n\nnight shift Equalization\nObjective function: 144\nDifference from target of 4: 27\n\nnight shift Equalization\nObjective function: 152\nDifference from target of 5: 26\n\nWeekend Equalization\nObjective function: 88\nDifference from target of 9: 18\n\n60\nminimize_split_weekends_test\nObjective function: 4920\nNumber of split weekends: 82\n\n40\nno_nightshifts_before_weekend_off\nObjective function: 0\n\t0 from range 0 to 1: 0\n\n\t1 from range 0 to 1: 0\n\n\n"
     ]
    }
   ],
   "source": [
    "equalize_weekends_test(weekends_worked, triangle_costs(len(shifts), len(weekends), len(staff)), obj_result(solver, equalize_weekends_obj))\n",
    "equalize_night_shifts_test(staff_works_midnight_shift_results, triangle_costs(len(midnight_shifts), len(days), len(staff)), obj_result(solver, equalize_night_shifts_obj))\n",
    "equalize_late_shifts_test(staff_works_late_shift_results, triangle_costs(len(late_shifts), len(days), len(staff)), obj_result(solver, equalize_late_shifts_obj))\n",
    "equalize_day_shifts_test(staff_works_day_shift_results, triangle_costs(len(day_shifts), len(days), len(staff)), obj_result(solver, equalize_day_shifts_obj))\n",
    "equalize_afternoon_shifts_test(staff_works_afternoon_shift_results, triangle_costs(len(afternoon_shifts), len(days), len(staff)), obj_result(solver, equalize_afternoon_shifts_obj))\n",
    "equalize_weekdays_test(weekdays_worked, triangle_costs(len(shifts), len(weekdays), len(staff)), obj_result(solver, equalize_weekdays_obj))\n",
    "\n",
    "print(minimize_split_weekends_cost)\n",
    "minimize_split_weekends_test(solver, staff_works_day, staff, sats, suns, obj_result(solver, minimize_split_weekends_obj))\n",
    "print()\n",
    "\n",
    "print(no_nightshifts_before_weekend_off_min_cost)\n",
    "no_nightshifts_before_weekend_off_test(first, \n",
    "                                        second, \n",
    "                                        no_nightshifts_before_weekend_off_hard_min, \n",
    "                                        no_nightshifts_before_weekend_off_soft_min, \n",
    "                                        obj_result(solver, no_nightshifts_before_weekend_off_obj))"
   ]
  },
  {
   "cell_type": "code",
   "execution_count": 22,
   "metadata": {},
   "outputs": [],
   "source": [
    "new_works = {k:v for (k,v) in staff_works_shift_on_day.items() if k[1] >= 0}\n",
    "save_shifts_to_file(\"prev_shifts.txt2\", new_works, staff, len(days), len(shift_list), solver)"
   ]
  },
  {
   "source": [
    "Employee Satisfaction"
   ],
   "cell_type": "markdown",
   "metadata": {}
  },
  {
   "cell_type": "code",
   "execution_count": 23,
   "metadata": {},
   "outputs": [
    {
     "output_type": "stream",
     "name": "stdout",
     "text": [
      "{'Olivia': 404, 'Emma': 356, 'Ava': 184, 'Charlotte': 400, 'Sophia': 380, 'Amelia': 200, 'Isabella': 368, 'Mia': 272, 'Evelyn': 360, 'Harper': 368, 'Camila': 144, 'Gianna': 492, 'Abigail': 260, 'Luna': 280, 'Ella': 288, 'Elizabeth': 148, 'Sofia': 440, 'Emily': 420, 'Avery': 392, 'Mila': 420, 'Aria': 376, 'Scarlett': 308, 'Penelope': 212, 'Layla': 272, 'Chloe': 440, 'Victoria': 320, 'Madison': 220, 'Eleanor': 384, 'Grace': 260, 'Nora': 272}\n9640\n"
     ]
    }
   ],
   "source": [
    "staff_obj = {}\n",
    "for m in staff:\n",
    "    ints = sum(list(map(lambda x: solver.Value(x[0]) * x[1], (list(filter(lambda x: m in str(x), zip(obj_int_vars, obj_int_coeffs)))))))\n",
    "    bools = sum(list(map(lambda x: solver.Value(x[0]) * x[1], (list(filter(lambda x: m in str(x), zip(obj_bool_vars, obj_bool_coeffs)))))))\n",
    "    staff_obj[m] = ints + bools\n",
    "print(staff_obj)\n",
    "print(sum(staff_obj.values()))"
   ]
  },
  {
   "cell_type": "code",
   "execution_count": 24,
   "metadata": {},
   "outputs": [],
   "source": [
    "import matplotlib.pyplot as plt"
   ]
  },
  {
   "cell_type": "code",
   "execution_count": 25,
   "metadata": {},
   "outputs": [
    {
     "output_type": "stream",
     "name": "stdout",
     "text": [
      "dict_keys(['Olivia', 'Emma', 'Ava', 'Charlotte', 'Sophia', 'Amelia', 'Isabella', 'Mia', 'Evelyn', 'Harper', 'Camila', 'Gianna', 'Abigail', 'Luna', 'Ella', 'Elizabeth', 'Sofia', 'Emily', 'Avery', 'Mila', 'Aria', 'Scarlett', 'Penelope', 'Layla', 'Chloe', 'Victoria', 'Madison', 'Eleanor', 'Grace', 'Nora'])\n"
     ]
    },
    {
     "output_type": "execute_result",
     "data": {
      "text/plain": [
       "<BarContainer object of 30 artists>"
      ]
     },
     "metadata": {},
     "execution_count": 25
    },
    {
     "output_type": "display_data",
     "data": {
      "text/plain": "<Figure size 2000x480 with 1 Axes>",
      "image/svg+xml": "<?xml version=\"1.0\" encoding=\"utf-8\" standalone=\"no\"?>\r\n<!DOCTYPE svg PUBLIC \"-//W3C//DTD SVG 1.1//EN\"\r\n  \"http://www.w3.org/Graphics/SVG/1.1/DTD/svg11.dtd\">\r\n<svg height=\"357.238125pt\" version=\"1.1\" viewBox=\"0 0 1435.4875 357.238125\" width=\"1435.4875pt\" xmlns=\"http://www.w3.org/2000/svg\" xmlns:xlink=\"http://www.w3.org/1999/xlink\">\r\n <metadata>\r\n  <rdf:RDF xmlns:cc=\"http://creativecommons.org/ns#\" xmlns:dc=\"http://purl.org/dc/elements/1.1/\" xmlns:rdf=\"http://www.w3.org/1999/02/22-rdf-syntax-ns#\">\r\n   <cc:Work>\r\n    <dc:type rdf:resource=\"http://purl.org/dc/dcmitype/StillImage\"/>\r\n    <dc:date>2021-07-14T19:43:23.899961</dc:date>\r\n    <dc:format>image/svg+xml</dc:format>\r\n    <dc:creator>\r\n     <cc:Agent>\r\n      <dc:title>Matplotlib v3.4.2, https://matplotlib.org/</dc:title>\r\n     </cc:Agent>\r\n    </dc:creator>\r\n   </cc:Work>\r\n  </rdf:RDF>\r\n </metadata>\r\n <defs>\r\n  <style type=\"text/css\">*{stroke-linecap:butt;stroke-linejoin:round;}</style>\r\n </defs>\r\n <g id=\"figure_1\">\r\n  <g id=\"patch_1\">\r\n   <path d=\"M 0 357.238125 \r\nL 1435.4875 357.238125 \r\nL 1435.4875 0 \r\nL 0 0 \r\nz\r\n\" style=\"fill:none;\"/>\r\n  </g>\r\n  <g id=\"axes_1\">\r\n   <g id=\"patch_2\">\r\n    <path d=\"M 33.2875 333.36 \r\nL 1428.2875 333.36 \r\nL 1428.2875 7.2 \r\nL 33.2875 7.2 \r\nz\r\n\" style=\"fill:#ffffff;\"/>\r\n   </g>\r\n   <g id=\"patch_3\">\r\n    <path clip-path=\"url(#p79b7e9e001)\" d=\"M 96.696591 333.36 \r\nL 130.74174 333.36 \r\nL 130.74174 78.29101 \r\nL 96.696591 78.29101 \r\nz\r\n\" style=\"fill:#1f77b4;\"/>\r\n   </g>\r\n   <g id=\"patch_4\">\r\n    <path clip-path=\"url(#p79b7e9e001)\" d=\"M 139.253028 333.36 \r\nL 173.298177 333.36 \r\nL 173.298177 108.596237 \r\nL 139.253028 108.596237 \r\nz\r\n\" style=\"fill:#1f77b4;\"/>\r\n   </g>\r\n   <g id=\"patch_5\">\r\n    <path clip-path=\"url(#p79b7e9e001)\" d=\"M 181.809465 333.36 \r\nL 215.854614 333.36 \r\nL 215.854614 217.189965 \r\nL 181.809465 217.189965 \r\nz\r\n\" style=\"fill:#1f77b4;\"/>\r\n   </g>\r\n   <g id=\"patch_6\">\r\n    <path clip-path=\"url(#p79b7e9e001)\" d=\"M 224.365901 333.36 \r\nL 258.411051 333.36 \r\nL 258.411051 80.816446 \r\nL 224.365901 80.816446 \r\nz\r\n\" style=\"fill:#1f77b4;\"/>\r\n   </g>\r\n   <g id=\"patch_7\">\r\n    <path clip-path=\"url(#p79b7e9e001)\" d=\"M 266.922338 333.36 \r\nL 300.967488 333.36 \r\nL 300.967488 93.443624 \r\nL 266.922338 93.443624 \r\nz\r\n\" style=\"fill:#1f77b4;\"/>\r\n   </g>\r\n   <g id=\"patch_8\">\r\n    <path clip-path=\"url(#p79b7e9e001)\" d=\"M 309.478775 333.36 \r\nL 343.523925 333.36 \r\nL 343.523925 207.088223 \r\nL 309.478775 207.088223 \r\nz\r\n\" style=\"fill:#1f77b4;\"/>\r\n   </g>\r\n   <g id=\"patch_9\">\r\n    <path clip-path=\"url(#p79b7e9e001)\" d=\"M 352.035212 333.36 \r\nL 386.080362 333.36 \r\nL 386.080362 101.01993 \r\nL 352.035212 101.01993 \r\nz\r\n\" style=\"fill:#1f77b4;\"/>\r\n   </g>\r\n   <g id=\"patch_10\">\r\n    <path clip-path=\"url(#p79b7e9e001)\" d=\"M 394.591649 333.36 \r\nL 428.636798 333.36 \r\nL 428.636798 161.630383 \r\nL 394.591649 161.630383 \r\nz\r\n\" style=\"fill:#1f77b4;\"/>\r\n   </g>\r\n   <g id=\"patch_11\">\r\n    <path clip-path=\"url(#p79b7e9e001)\" d=\"M 437.148086 333.36 \r\nL 471.193235 333.36 \r\nL 471.193235 106.070801 \r\nL 437.148086 106.070801 \r\nz\r\n\" style=\"fill:#1f77b4;\"/>\r\n   </g>\r\n   <g id=\"patch_12\">\r\n    <path clip-path=\"url(#p79b7e9e001)\" d=\"M 479.704523 333.36 \r\nL 513.749672 333.36 \r\nL 513.749672 101.01993 \r\nL 479.704523 101.01993 \r\nz\r\n\" style=\"fill:#1f77b4;\"/>\r\n   </g>\r\n   <g id=\"patch_13\">\r\n    <path clip-path=\"url(#p79b7e9e001)\" d=\"M 522.260959 333.36 \r\nL 556.306109 333.36 \r\nL 556.306109 242.444321 \r\nL 522.260959 242.444321 \r\nz\r\n\" style=\"fill:#1f77b4;\"/>\r\n   </g>\r\n   <g id=\"patch_14\">\r\n    <path clip-path=\"url(#p79b7e9e001)\" d=\"M 564.817396 333.36 \r\nL 598.862546 333.36 \r\nL 598.862546 22.731429 \r\nL 564.817396 22.731429 \r\nz\r\n\" style=\"fill:#1f77b4;\"/>\r\n   </g>\r\n   <g id=\"patch_15\">\r\n    <path clip-path=\"url(#p79b7e9e001)\" d=\"M 607.373833 333.36 \r\nL 641.418983 333.36 \r\nL 641.418983 169.20669 \r\nL 607.373833 169.20669 \r\nz\r\n\" style=\"fill:#1f77b4;\"/>\r\n   </g>\r\n   <g id=\"patch_16\">\r\n    <path clip-path=\"url(#p79b7e9e001)\" d=\"M 649.93027 333.36 \r\nL 683.975419 333.36 \r\nL 683.975419 156.579512 \r\nL 649.93027 156.579512 \r\nz\r\n\" style=\"fill:#1f77b4;\"/>\r\n   </g>\r\n   <g id=\"patch_17\">\r\n    <path clip-path=\"url(#p79b7e9e001)\" d=\"M 692.486707 333.36 \r\nL 726.531856 333.36 \r\nL 726.531856 151.528641 \r\nL 692.486707 151.528641 \r\nz\r\n\" style=\"fill:#1f77b4;\"/>\r\n   </g>\r\n   <g id=\"patch_18\">\r\n    <path clip-path=\"url(#p79b7e9e001)\" d=\"M 735.043144 333.36 \r\nL 769.088293 333.36 \r\nL 769.088293 239.918885 \r\nL 735.043144 239.918885 \r\nz\r\n\" style=\"fill:#1f77b4;\"/>\r\n   </g>\r\n   <g id=\"patch_19\">\r\n    <path clip-path=\"url(#p79b7e9e001)\" d=\"M 777.599581 333.36 \r\nL 811.64473 333.36 \r\nL 811.64473 55.562091 \r\nL 777.599581 55.562091 \r\nz\r\n\" style=\"fill:#1f77b4;\"/>\r\n   </g>\r\n   <g id=\"patch_20\">\r\n    <path clip-path=\"url(#p79b7e9e001)\" d=\"M 820.156017 333.36 \r\nL 854.201167 333.36 \r\nL 854.201167 68.189268 \r\nL 820.156017 68.189268 \r\nz\r\n\" style=\"fill:#1f77b4;\"/>\r\n   </g>\r\n   <g id=\"patch_21\">\r\n    <path clip-path=\"url(#p79b7e9e001)\" d=\"M 862.712454 333.36 \r\nL 896.757604 333.36 \r\nL 896.757604 85.867317 \r\nL 862.712454 85.867317 \r\nz\r\n\" style=\"fill:#1f77b4;\"/>\r\n   </g>\r\n   <g id=\"patch_22\">\r\n    <path clip-path=\"url(#p79b7e9e001)\" d=\"M 905.268891 333.36 \r\nL 939.314041 333.36 \r\nL 939.314041 68.189268 \r\nL 905.268891 68.189268 \r\nz\r\n\" style=\"fill:#1f77b4;\"/>\r\n   </g>\r\n   <g id=\"patch_23\">\r\n    <path clip-path=\"url(#p79b7e9e001)\" d=\"M 947.825328 333.36 \r\nL 981.870477 333.36 \r\nL 981.870477 95.969059 \r\nL 947.825328 95.969059 \r\nz\r\n\" style=\"fill:#1f77b4;\"/>\r\n   </g>\r\n   <g id=\"patch_24\">\r\n    <path clip-path=\"url(#p79b7e9e001)\" d=\"M 990.381765 333.36 \r\nL 1024.426914 333.36 \r\nL 1024.426914 138.901463 \r\nL 990.381765 138.901463 \r\nz\r\n\" style=\"fill:#1f77b4;\"/>\r\n   </g>\r\n   <g id=\"patch_25\">\r\n    <path clip-path=\"url(#p79b7e9e001)\" d=\"M 1032.938202 333.36 \r\nL 1066.983351 333.36 \r\nL 1066.983351 199.511916 \r\nL 1032.938202 199.511916 \r\nz\r\n\" style=\"fill:#1f77b4;\"/>\r\n   </g>\r\n   <g id=\"patch_26\">\r\n    <path clip-path=\"url(#p79b7e9e001)\" d=\"M 1075.494638 333.36 \r\nL 1109.539788 333.36 \r\nL 1109.539788 161.630383 \r\nL 1075.494638 161.630383 \r\nz\r\n\" style=\"fill:#1f77b4;\"/>\r\n   </g>\r\n   <g id=\"patch_27\">\r\n    <path clip-path=\"url(#p79b7e9e001)\" d=\"M 1118.051075 333.36 \r\nL 1152.096225 333.36 \r\nL 1152.096225 55.562091 \r\nL 1118.051075 55.562091 \r\nz\r\n\" style=\"fill:#1f77b4;\"/>\r\n   </g>\r\n   <g id=\"patch_28\">\r\n    <path clip-path=\"url(#p79b7e9e001)\" d=\"M 1160.607512 333.36 \r\nL 1194.652662 333.36 \r\nL 1194.652662 131.325157 \r\nL 1160.607512 131.325157 \r\nz\r\n\" style=\"fill:#1f77b4;\"/>\r\n   </g>\r\n   <g id=\"patch_29\">\r\n    <path clip-path=\"url(#p79b7e9e001)\" d=\"M 1203.163949 333.36 \r\nL 1237.209099 333.36 \r\nL 1237.209099 194.461045 \r\nL 1203.163949 194.461045 \r\nz\r\n\" style=\"fill:#1f77b4;\"/>\r\n   </g>\r\n   <g id=\"patch_30\">\r\n    <path clip-path=\"url(#p79b7e9e001)\" d=\"M 1245.720386 333.36 \r\nL 1279.765535 333.36 \r\nL 1279.765535 90.918188 \r\nL 1245.720386 90.918188 \r\nz\r\n\" style=\"fill:#1f77b4;\"/>\r\n   </g>\r\n   <g id=\"patch_31\">\r\n    <path clip-path=\"url(#p79b7e9e001)\" d=\"M 1288.276823 333.36 \r\nL 1322.321972 333.36 \r\nL 1322.321972 169.20669 \r\nL 1288.276823 169.20669 \r\nz\r\n\" style=\"fill:#1f77b4;\"/>\r\n   </g>\r\n   <g id=\"patch_32\">\r\n    <path clip-path=\"url(#p79b7e9e001)\" d=\"M 1330.83326 333.36 \r\nL 1364.878409 333.36 \r\nL 1364.878409 161.630383 \r\nL 1330.83326 161.630383 \r\nz\r\n\" style=\"fill:#1f77b4;\"/>\r\n   </g>\r\n   <g id=\"matplotlib.axis_1\">\r\n    <g id=\"xtick_1\">\r\n     <g id=\"line2d_1\">\r\n      <defs>\r\n       <path d=\"M 0 0 \r\nL 0 3.5 \r\n\" id=\"mf8c50274b0\" style=\"stroke:#000000;stroke-width:0.8;\"/>\r\n      </defs>\r\n      <g>\r\n       <use style=\"stroke:#000000;stroke-width:0.8;\" x=\"113.719166\" xlink:href=\"#mf8c50274b0\" y=\"333.36\"/>\r\n      </g>\r\n     </g>\r\n     <g id=\"text_1\">\r\n      <!-- Olivia -->\r\n      <g transform=\"translate(99.592603 347.958438)scale(0.1 -0.1)\">\r\n       <defs>\r\n        <path d=\"M 2522 4238 \r\nQ 1834 4238 1429 3725 \r\nQ 1025 3213 1025 2328 \r\nQ 1025 1447 1429 934 \r\nQ 1834 422 2522 422 \r\nQ 3209 422 3611 934 \r\nQ 4013 1447 4013 2328 \r\nQ 4013 3213 3611 3725 \r\nQ 3209 4238 2522 4238 \r\nz\r\nM 2522 4750 \r\nQ 3503 4750 4090 4092 \r\nQ 4678 3434 4678 2328 \r\nQ 4678 1225 4090 567 \r\nQ 3503 -91 2522 -91 \r\nQ 1538 -91 948 565 \r\nQ 359 1222 359 2328 \r\nQ 359 3434 948 4092 \r\nQ 1538 4750 2522 4750 \r\nz\r\n\" id=\"DejaVuSans-4f\" transform=\"scale(0.015625)\"/>\r\n        <path d=\"M 603 4863 \r\nL 1178 4863 \r\nL 1178 0 \r\nL 603 0 \r\nL 603 4863 \r\nz\r\n\" id=\"DejaVuSans-6c\" transform=\"scale(0.015625)\"/>\r\n        <path d=\"M 603 3500 \r\nL 1178 3500 \r\nL 1178 0 \r\nL 603 0 \r\nL 603 3500 \r\nz\r\nM 603 4863 \r\nL 1178 4863 \r\nL 1178 4134 \r\nL 603 4134 \r\nL 603 4863 \r\nz\r\n\" id=\"DejaVuSans-69\" transform=\"scale(0.015625)\"/>\r\n        <path d=\"M 191 3500 \r\nL 800 3500 \r\nL 1894 563 \r\nL 2988 3500 \r\nL 3597 3500 \r\nL 2284 0 \r\nL 1503 0 \r\nL 191 3500 \r\nz\r\n\" id=\"DejaVuSans-76\" transform=\"scale(0.015625)\"/>\r\n        <path d=\"M 2194 1759 \r\nQ 1497 1759 1228 1600 \r\nQ 959 1441 959 1056 \r\nQ 959 750 1161 570 \r\nQ 1363 391 1709 391 \r\nQ 2188 391 2477 730 \r\nQ 2766 1069 2766 1631 \r\nL 2766 1759 \r\nL 2194 1759 \r\nz\r\nM 3341 1997 \r\nL 3341 0 \r\nL 2766 0 \r\nL 2766 531 \r\nQ 2569 213 2275 61 \r\nQ 1981 -91 1556 -91 \r\nQ 1019 -91 701 211 \r\nQ 384 513 384 1019 \r\nQ 384 1609 779 1909 \r\nQ 1175 2209 1959 2209 \r\nL 2766 2209 \r\nL 2766 2266 \r\nQ 2766 2663 2505 2880 \r\nQ 2244 3097 1772 3097 \r\nQ 1472 3097 1187 3025 \r\nQ 903 2953 641 2809 \r\nL 641 3341 \r\nQ 956 3463 1253 3523 \r\nQ 1550 3584 1831 3584 \r\nQ 2591 3584 2966 3190 \r\nQ 3341 2797 3341 1997 \r\nz\r\n\" id=\"DejaVuSans-61\" transform=\"scale(0.015625)\"/>\r\n       </defs>\r\n       <use xlink:href=\"#DejaVuSans-4f\"/>\r\n       <use x=\"78.710938\" xlink:href=\"#DejaVuSans-6c\"/>\r\n       <use x=\"106.494141\" xlink:href=\"#DejaVuSans-69\"/>\r\n       <use x=\"134.277344\" xlink:href=\"#DejaVuSans-76\"/>\r\n       <use x=\"193.457031\" xlink:href=\"#DejaVuSans-69\"/>\r\n       <use x=\"221.240234\" xlink:href=\"#DejaVuSans-61\"/>\r\n      </g>\r\n     </g>\r\n    </g>\r\n    <g id=\"xtick_2\">\r\n     <g id=\"line2d_2\">\r\n      <g>\r\n       <use style=\"stroke:#000000;stroke-width:0.8;\" x=\"156.275603\" xlink:href=\"#mf8c50274b0\" y=\"333.36\"/>\r\n      </g>\r\n     </g>\r\n     <g id=\"text_2\">\r\n      <!-- Emma -->\r\n      <g transform=\"translate(140.31154 347.958438)scale(0.1 -0.1)\">\r\n       <defs>\r\n        <path d=\"M 628 4666 \r\nL 3578 4666 \r\nL 3578 4134 \r\nL 1259 4134 \r\nL 1259 2753 \r\nL 3481 2753 \r\nL 3481 2222 \r\nL 1259 2222 \r\nL 1259 531 \r\nL 3634 531 \r\nL 3634 0 \r\nL 628 0 \r\nL 628 4666 \r\nz\r\n\" id=\"DejaVuSans-45\" transform=\"scale(0.015625)\"/>\r\n        <path d=\"M 3328 2828 \r\nQ 3544 3216 3844 3400 \r\nQ 4144 3584 4550 3584 \r\nQ 5097 3584 5394 3201 \r\nQ 5691 2819 5691 2113 \r\nL 5691 0 \r\nL 5113 0 \r\nL 5113 2094 \r\nQ 5113 2597 4934 2840 \r\nQ 4756 3084 4391 3084 \r\nQ 3944 3084 3684 2787 \r\nQ 3425 2491 3425 1978 \r\nL 3425 0 \r\nL 2847 0 \r\nL 2847 2094 \r\nQ 2847 2600 2669 2842 \r\nQ 2491 3084 2119 3084 \r\nQ 1678 3084 1418 2786 \r\nQ 1159 2488 1159 1978 \r\nL 1159 0 \r\nL 581 0 \r\nL 581 3500 \r\nL 1159 3500 \r\nL 1159 2956 \r\nQ 1356 3278 1631 3431 \r\nQ 1906 3584 2284 3584 \r\nQ 2666 3584 2933 3390 \r\nQ 3200 3197 3328 2828 \r\nz\r\n\" id=\"DejaVuSans-6d\" transform=\"scale(0.015625)\"/>\r\n       </defs>\r\n       <use xlink:href=\"#DejaVuSans-45\"/>\r\n       <use x=\"63.183594\" xlink:href=\"#DejaVuSans-6d\"/>\r\n       <use x=\"160.595703\" xlink:href=\"#DejaVuSans-6d\"/>\r\n       <use x=\"258.007812\" xlink:href=\"#DejaVuSans-61\"/>\r\n      </g>\r\n     </g>\r\n    </g>\r\n    <g id=\"xtick_3\">\r\n     <g id=\"line2d_3\">\r\n      <g>\r\n       <use style=\"stroke:#000000;stroke-width:0.8;\" x=\"198.832039\" xlink:href=\"#mf8c50274b0\" y=\"333.36\"/>\r\n      </g>\r\n     </g>\r\n     <g id=\"text_3\">\r\n      <!-- Ava -->\r\n      <g transform=\"translate(189.682039 347.958438)scale(0.1 -0.1)\">\r\n       <defs>\r\n        <path d=\"M 2188 4044 \r\nL 1331 1722 \r\nL 3047 1722 \r\nL 2188 4044 \r\nz\r\nM 1831 4666 \r\nL 2547 4666 \r\nL 4325 0 \r\nL 3669 0 \r\nL 3244 1197 \r\nL 1141 1197 \r\nL 716 0 \r\nL 50 0 \r\nL 1831 4666 \r\nz\r\n\" id=\"DejaVuSans-41\" transform=\"scale(0.015625)\"/>\r\n       </defs>\r\n       <use xlink:href=\"#DejaVuSans-41\"/>\r\n       <use x=\"62.533203\" xlink:href=\"#DejaVuSans-76\"/>\r\n       <use x=\"121.712891\" xlink:href=\"#DejaVuSans-61\"/>\r\n      </g>\r\n     </g>\r\n    </g>\r\n    <g id=\"xtick_4\">\r\n     <g id=\"line2d_4\">\r\n      <g>\r\n       <use style=\"stroke:#000000;stroke-width:0.8;\" x=\"241.388476\" xlink:href=\"#mf8c50274b0\" y=\"333.36\"/>\r\n      </g>\r\n     </g>\r\n     <g id=\"text_4\">\r\n      <!-- Charlotte -->\r\n      <g transform=\"translate(218.163476 347.958438)scale(0.1 -0.1)\">\r\n       <defs>\r\n        <path d=\"M 4122 4306 \r\nL 4122 3641 \r\nQ 3803 3938 3442 4084 \r\nQ 3081 4231 2675 4231 \r\nQ 1875 4231 1450 3742 \r\nQ 1025 3253 1025 2328 \r\nQ 1025 1406 1450 917 \r\nQ 1875 428 2675 428 \r\nQ 3081 428 3442 575 \r\nQ 3803 722 4122 1019 \r\nL 4122 359 \r\nQ 3791 134 3420 21 \r\nQ 3050 -91 2638 -91 \r\nQ 1578 -91 968 557 \r\nQ 359 1206 359 2328 \r\nQ 359 3453 968 4101 \r\nQ 1578 4750 2638 4750 \r\nQ 3056 4750 3426 4639 \r\nQ 3797 4528 4122 4306 \r\nz\r\n\" id=\"DejaVuSans-43\" transform=\"scale(0.015625)\"/>\r\n        <path d=\"M 3513 2113 \r\nL 3513 0 \r\nL 2938 0 \r\nL 2938 2094 \r\nQ 2938 2591 2744 2837 \r\nQ 2550 3084 2163 3084 \r\nQ 1697 3084 1428 2787 \r\nQ 1159 2491 1159 1978 \r\nL 1159 0 \r\nL 581 0 \r\nL 581 4863 \r\nL 1159 4863 \r\nL 1159 2956 \r\nQ 1366 3272 1645 3428 \r\nQ 1925 3584 2291 3584 \r\nQ 2894 3584 3203 3211 \r\nQ 3513 2838 3513 2113 \r\nz\r\n\" id=\"DejaVuSans-68\" transform=\"scale(0.015625)\"/>\r\n        <path d=\"M 2631 2963 \r\nQ 2534 3019 2420 3045 \r\nQ 2306 3072 2169 3072 \r\nQ 1681 3072 1420 2755 \r\nQ 1159 2438 1159 1844 \r\nL 1159 0 \r\nL 581 0 \r\nL 581 3500 \r\nL 1159 3500 \r\nL 1159 2956 \r\nQ 1341 3275 1631 3429 \r\nQ 1922 3584 2338 3584 \r\nQ 2397 3584 2469 3576 \r\nQ 2541 3569 2628 3553 \r\nL 2631 2963 \r\nz\r\n\" id=\"DejaVuSans-72\" transform=\"scale(0.015625)\"/>\r\n        <path d=\"M 1959 3097 \r\nQ 1497 3097 1228 2736 \r\nQ 959 2375 959 1747 \r\nQ 959 1119 1226 758 \r\nQ 1494 397 1959 397 \r\nQ 2419 397 2687 759 \r\nQ 2956 1122 2956 1747 \r\nQ 2956 2369 2687 2733 \r\nQ 2419 3097 1959 3097 \r\nz\r\nM 1959 3584 \r\nQ 2709 3584 3137 3096 \r\nQ 3566 2609 3566 1747 \r\nQ 3566 888 3137 398 \r\nQ 2709 -91 1959 -91 \r\nQ 1206 -91 779 398 \r\nQ 353 888 353 1747 \r\nQ 353 2609 779 3096 \r\nQ 1206 3584 1959 3584 \r\nz\r\n\" id=\"DejaVuSans-6f\" transform=\"scale(0.015625)\"/>\r\n        <path d=\"M 1172 4494 \r\nL 1172 3500 \r\nL 2356 3500 \r\nL 2356 3053 \r\nL 1172 3053 \r\nL 1172 1153 \r\nQ 1172 725 1289 603 \r\nQ 1406 481 1766 481 \r\nL 2356 481 \r\nL 2356 0 \r\nL 1766 0 \r\nQ 1100 0 847 248 \r\nQ 594 497 594 1153 \r\nL 594 3053 \r\nL 172 3053 \r\nL 172 3500 \r\nL 594 3500 \r\nL 594 4494 \r\nL 1172 4494 \r\nz\r\n\" id=\"DejaVuSans-74\" transform=\"scale(0.015625)\"/>\r\n        <path d=\"M 3597 1894 \r\nL 3597 1613 \r\nL 953 1613 \r\nQ 991 1019 1311 708 \r\nQ 1631 397 2203 397 \r\nQ 2534 397 2845 478 \r\nQ 3156 559 3463 722 \r\nL 3463 178 \r\nQ 3153 47 2828 -22 \r\nQ 2503 -91 2169 -91 \r\nQ 1331 -91 842 396 \r\nQ 353 884 353 1716 \r\nQ 353 2575 817 3079 \r\nQ 1281 3584 2069 3584 \r\nQ 2775 3584 3186 3129 \r\nQ 3597 2675 3597 1894 \r\nz\r\nM 3022 2063 \r\nQ 3016 2534 2758 2815 \r\nQ 2500 3097 2075 3097 \r\nQ 1594 3097 1305 2825 \r\nQ 1016 2553 972 2059 \r\nL 3022 2063 \r\nz\r\n\" id=\"DejaVuSans-65\" transform=\"scale(0.015625)\"/>\r\n       </defs>\r\n       <use xlink:href=\"#DejaVuSans-43\"/>\r\n       <use x=\"69.824219\" xlink:href=\"#DejaVuSans-68\"/>\r\n       <use x=\"133.203125\" xlink:href=\"#DejaVuSans-61\"/>\r\n       <use x=\"194.482422\" xlink:href=\"#DejaVuSans-72\"/>\r\n       <use x=\"235.595703\" xlink:href=\"#DejaVuSans-6c\"/>\r\n       <use x=\"263.378906\" xlink:href=\"#DejaVuSans-6f\"/>\r\n       <use x=\"324.560547\" xlink:href=\"#DejaVuSans-74\"/>\r\n       <use x=\"363.769531\" xlink:href=\"#DejaVuSans-74\"/>\r\n       <use x=\"402.978516\" xlink:href=\"#DejaVuSans-65\"/>\r\n      </g>\r\n     </g>\r\n    </g>\r\n    <g id=\"xtick_5\">\r\n     <g id=\"line2d_5\">\r\n      <g>\r\n       <use style=\"stroke:#000000;stroke-width:0.8;\" x=\"283.944913\" xlink:href=\"#mf8c50274b0\" y=\"333.36\"/>\r\n      </g>\r\n     </g>\r\n     <g id=\"text_5\">\r\n      <!-- Sophia -->\r\n      <g transform=\"translate(266.915226 347.958438)scale(0.1 -0.1)\">\r\n       <defs>\r\n        <path d=\"M 3425 4513 \r\nL 3425 3897 \r\nQ 3066 4069 2747 4153 \r\nQ 2428 4238 2131 4238 \r\nQ 1616 4238 1336 4038 \r\nQ 1056 3838 1056 3469 \r\nQ 1056 3159 1242 3001 \r\nQ 1428 2844 1947 2747 \r\nL 2328 2669 \r\nQ 3034 2534 3370 2195 \r\nQ 3706 1856 3706 1288 \r\nQ 3706 609 3251 259 \r\nQ 2797 -91 1919 -91 \r\nQ 1588 -91 1214 -16 \r\nQ 841 59 441 206 \r\nL 441 856 \r\nQ 825 641 1194 531 \r\nQ 1563 422 1919 422 \r\nQ 2459 422 2753 634 \r\nQ 3047 847 3047 1241 \r\nQ 3047 1584 2836 1778 \r\nQ 2625 1972 2144 2069 \r\nL 1759 2144 \r\nQ 1053 2284 737 2584 \r\nQ 422 2884 422 3419 \r\nQ 422 4038 858 4394 \r\nQ 1294 4750 2059 4750 \r\nQ 2388 4750 2728 4690 \r\nQ 3069 4631 3425 4513 \r\nz\r\n\" id=\"DejaVuSans-53\" transform=\"scale(0.015625)\"/>\r\n        <path d=\"M 1159 525 \r\nL 1159 -1331 \r\nL 581 -1331 \r\nL 581 3500 \r\nL 1159 3500 \r\nL 1159 2969 \r\nQ 1341 3281 1617 3432 \r\nQ 1894 3584 2278 3584 \r\nQ 2916 3584 3314 3078 \r\nQ 3713 2572 3713 1747 \r\nQ 3713 922 3314 415 \r\nQ 2916 -91 2278 -91 \r\nQ 1894 -91 1617 61 \r\nQ 1341 213 1159 525 \r\nz\r\nM 3116 1747 \r\nQ 3116 2381 2855 2742 \r\nQ 2594 3103 2138 3103 \r\nQ 1681 3103 1420 2742 \r\nQ 1159 2381 1159 1747 \r\nQ 1159 1113 1420 752 \r\nQ 1681 391 2138 391 \r\nQ 2594 391 2855 752 \r\nQ 3116 1113 3116 1747 \r\nz\r\n\" id=\"DejaVuSans-70\" transform=\"scale(0.015625)\"/>\r\n       </defs>\r\n       <use xlink:href=\"#DejaVuSans-53\"/>\r\n       <use x=\"63.476562\" xlink:href=\"#DejaVuSans-6f\"/>\r\n       <use x=\"124.658203\" xlink:href=\"#DejaVuSans-70\"/>\r\n       <use x=\"188.134766\" xlink:href=\"#DejaVuSans-68\"/>\r\n       <use x=\"251.513672\" xlink:href=\"#DejaVuSans-69\"/>\r\n       <use x=\"279.296875\" xlink:href=\"#DejaVuSans-61\"/>\r\n      </g>\r\n     </g>\r\n    </g>\r\n    <g id=\"xtick_6\">\r\n     <g id=\"line2d_6\">\r\n      <g>\r\n       <use style=\"stroke:#000000;stroke-width:0.8;\" x=\"326.50135\" xlink:href=\"#mf8c50274b0\" y=\"333.36\"/>\r\n      </g>\r\n     </g>\r\n     <g id=\"text_6\">\r\n      <!-- Amelia -->\r\n      <g transform=\"translate(309.291975 347.958438)scale(0.1 -0.1)\">\r\n       <use xlink:href=\"#DejaVuSans-41\"/>\r\n       <use x=\"68.408203\" xlink:href=\"#DejaVuSans-6d\"/>\r\n       <use x=\"165.820312\" xlink:href=\"#DejaVuSans-65\"/>\r\n       <use x=\"227.34375\" xlink:href=\"#DejaVuSans-6c\"/>\r\n       <use x=\"255.126953\" xlink:href=\"#DejaVuSans-69\"/>\r\n       <use x=\"282.910156\" xlink:href=\"#DejaVuSans-61\"/>\r\n      </g>\r\n     </g>\r\n    </g>\r\n    <g id=\"xtick_7\">\r\n     <g id=\"line2d_7\">\r\n      <g>\r\n       <use style=\"stroke:#000000;stroke-width:0.8;\" x=\"369.057787\" xlink:href=\"#mf8c50274b0\" y=\"333.36\"/>\r\n      </g>\r\n     </g>\r\n     <g id=\"text_7\">\r\n      <!-- Isabella -->\r\n      <g transform=\"translate(349.821068 347.958438)scale(0.1 -0.1)\">\r\n       <defs>\r\n        <path d=\"M 628 4666 \r\nL 1259 4666 \r\nL 1259 0 \r\nL 628 0 \r\nL 628 4666 \r\nz\r\n\" id=\"DejaVuSans-49\" transform=\"scale(0.015625)\"/>\r\n        <path d=\"M 2834 3397 \r\nL 2834 2853 \r\nQ 2591 2978 2328 3040 \r\nQ 2066 3103 1784 3103 \r\nQ 1356 3103 1142 2972 \r\nQ 928 2841 928 2578 \r\nQ 928 2378 1081 2264 \r\nQ 1234 2150 1697 2047 \r\nL 1894 2003 \r\nQ 2506 1872 2764 1633 \r\nQ 3022 1394 3022 966 \r\nQ 3022 478 2636 193 \r\nQ 2250 -91 1575 -91 \r\nQ 1294 -91 989 -36 \r\nQ 684 19 347 128 \r\nL 347 722 \r\nQ 666 556 975 473 \r\nQ 1284 391 1588 391 \r\nQ 1994 391 2212 530 \r\nQ 2431 669 2431 922 \r\nQ 2431 1156 2273 1281 \r\nQ 2116 1406 1581 1522 \r\nL 1381 1569 \r\nQ 847 1681 609 1914 \r\nQ 372 2147 372 2553 \r\nQ 372 3047 722 3315 \r\nQ 1072 3584 1716 3584 \r\nQ 2034 3584 2315 3537 \r\nQ 2597 3491 2834 3397 \r\nz\r\n\" id=\"DejaVuSans-73\" transform=\"scale(0.015625)\"/>\r\n        <path d=\"M 3116 1747 \r\nQ 3116 2381 2855 2742 \r\nQ 2594 3103 2138 3103 \r\nQ 1681 3103 1420 2742 \r\nQ 1159 2381 1159 1747 \r\nQ 1159 1113 1420 752 \r\nQ 1681 391 2138 391 \r\nQ 2594 391 2855 752 \r\nQ 3116 1113 3116 1747 \r\nz\r\nM 1159 2969 \r\nQ 1341 3281 1617 3432 \r\nQ 1894 3584 2278 3584 \r\nQ 2916 3584 3314 3078 \r\nQ 3713 2572 3713 1747 \r\nQ 3713 922 3314 415 \r\nQ 2916 -91 2278 -91 \r\nQ 1894 -91 1617 61 \r\nQ 1341 213 1159 525 \r\nL 1159 0 \r\nL 581 0 \r\nL 581 4863 \r\nL 1159 4863 \r\nL 1159 2969 \r\nz\r\n\" id=\"DejaVuSans-62\" transform=\"scale(0.015625)\"/>\r\n       </defs>\r\n       <use xlink:href=\"#DejaVuSans-49\"/>\r\n       <use x=\"29.492188\" xlink:href=\"#DejaVuSans-73\"/>\r\n       <use x=\"81.591797\" xlink:href=\"#DejaVuSans-61\"/>\r\n       <use x=\"142.871094\" xlink:href=\"#DejaVuSans-62\"/>\r\n       <use x=\"206.347656\" xlink:href=\"#DejaVuSans-65\"/>\r\n       <use x=\"267.871094\" xlink:href=\"#DejaVuSans-6c\"/>\r\n       <use x=\"295.654297\" xlink:href=\"#DejaVuSans-6c\"/>\r\n       <use x=\"323.4375\" xlink:href=\"#DejaVuSans-61\"/>\r\n      </g>\r\n     </g>\r\n    </g>\r\n    <g id=\"xtick_8\">\r\n     <g id=\"line2d_8\">\r\n      <g>\r\n       <use style=\"stroke:#000000;stroke-width:0.8;\" x=\"411.614224\" xlink:href=\"#mf8c50274b0\" y=\"333.36\"/>\r\n      </g>\r\n     </g>\r\n     <g id=\"text_8\">\r\n      <!-- Mia -->\r\n      <g transform=\"translate(402.847036 347.958438)scale(0.1 -0.1)\">\r\n       <defs>\r\n        <path d=\"M 628 4666 \r\nL 1569 4666 \r\nL 2759 1491 \r\nL 3956 4666 \r\nL 4897 4666 \r\nL 4897 0 \r\nL 4281 0 \r\nL 4281 4097 \r\nL 3078 897 \r\nL 2444 897 \r\nL 1241 4097 \r\nL 1241 0 \r\nL 628 0 \r\nL 628 4666 \r\nz\r\n\" id=\"DejaVuSans-4d\" transform=\"scale(0.015625)\"/>\r\n       </defs>\r\n       <use xlink:href=\"#DejaVuSans-4d\"/>\r\n       <use x=\"86.279297\" xlink:href=\"#DejaVuSans-69\"/>\r\n       <use x=\"114.0625\" xlink:href=\"#DejaVuSans-61\"/>\r\n      </g>\r\n     </g>\r\n    </g>\r\n    <g id=\"xtick_9\">\r\n     <g id=\"line2d_9\">\r\n      <g>\r\n       <use style=\"stroke:#000000;stroke-width:0.8;\" x=\"454.17066\" xlink:href=\"#mf8c50274b0\" y=\"333.36\"/>\r\n      </g>\r\n     </g>\r\n     <g id=\"text_9\">\r\n      <!-- Evelyn -->\r\n      <g transform=\"translate(437.45816 347.958438)scale(0.1 -0.1)\">\r\n       <defs>\r\n        <path d=\"M 2059 -325 \r\nQ 1816 -950 1584 -1140 \r\nQ 1353 -1331 966 -1331 \r\nL 506 -1331 \r\nL 506 -850 \r\nL 844 -850 \r\nQ 1081 -850 1212 -737 \r\nQ 1344 -625 1503 -206 \r\nL 1606 56 \r\nL 191 3500 \r\nL 800 3500 \r\nL 1894 763 \r\nL 2988 3500 \r\nL 3597 3500 \r\nL 2059 -325 \r\nz\r\n\" id=\"DejaVuSans-79\" transform=\"scale(0.015625)\"/>\r\n        <path d=\"M 3513 2113 \r\nL 3513 0 \r\nL 2938 0 \r\nL 2938 2094 \r\nQ 2938 2591 2744 2837 \r\nQ 2550 3084 2163 3084 \r\nQ 1697 3084 1428 2787 \r\nQ 1159 2491 1159 1978 \r\nL 1159 0 \r\nL 581 0 \r\nL 581 3500 \r\nL 1159 3500 \r\nL 1159 2956 \r\nQ 1366 3272 1645 3428 \r\nQ 1925 3584 2291 3584 \r\nQ 2894 3584 3203 3211 \r\nQ 3513 2838 3513 2113 \r\nz\r\n\" id=\"DejaVuSans-6e\" transform=\"scale(0.015625)\"/>\r\n       </defs>\r\n       <use xlink:href=\"#DejaVuSans-45\"/>\r\n       <use x=\"63.183594\" xlink:href=\"#DejaVuSans-76\"/>\r\n       <use x=\"122.363281\" xlink:href=\"#DejaVuSans-65\"/>\r\n       <use x=\"183.886719\" xlink:href=\"#DejaVuSans-6c\"/>\r\n       <use x=\"211.669922\" xlink:href=\"#DejaVuSans-79\"/>\r\n       <use x=\"270.849609\" xlink:href=\"#DejaVuSans-6e\"/>\r\n      </g>\r\n     </g>\r\n    </g>\r\n    <g id=\"xtick_10\">\r\n     <g id=\"line2d_10\">\r\n      <g>\r\n       <use style=\"stroke:#000000;stroke-width:0.8;\" x=\"496.727097\" xlink:href=\"#mf8c50274b0\" y=\"333.36\"/>\r\n      </g>\r\n     </g>\r\n     <g id=\"text_10\">\r\n      <!-- Harper -->\r\n      <g transform=\"translate(479.54116 347.958438)scale(0.1 -0.1)\">\r\n       <defs>\r\n        <path d=\"M 628 4666 \r\nL 1259 4666 \r\nL 1259 2753 \r\nL 3553 2753 \r\nL 3553 4666 \r\nL 4184 4666 \r\nL 4184 0 \r\nL 3553 0 \r\nL 3553 2222 \r\nL 1259 2222 \r\nL 1259 0 \r\nL 628 0 \r\nL 628 4666 \r\nz\r\n\" id=\"DejaVuSans-48\" transform=\"scale(0.015625)\"/>\r\n       </defs>\r\n       <use xlink:href=\"#DejaVuSans-48\"/>\r\n       <use x=\"75.195312\" xlink:href=\"#DejaVuSans-61\"/>\r\n       <use x=\"136.474609\" xlink:href=\"#DejaVuSans-72\"/>\r\n       <use x=\"177.587891\" xlink:href=\"#DejaVuSans-70\"/>\r\n       <use x=\"241.064453\" xlink:href=\"#DejaVuSans-65\"/>\r\n       <use x=\"302.587891\" xlink:href=\"#DejaVuSans-72\"/>\r\n      </g>\r\n     </g>\r\n    </g>\r\n    <g id=\"xtick_11\">\r\n     <g id=\"line2d_11\">\r\n      <g>\r\n       <use style=\"stroke:#000000;stroke-width:0.8;\" x=\"539.283534\" xlink:href=\"#mf8c50274b0\" y=\"333.36\"/>\r\n      </g>\r\n     </g>\r\n     <g id=\"text_11\">\r\n      <!-- Camila -->\r\n      <g transform=\"translate(522.015565 347.958438)scale(0.1 -0.1)\">\r\n       <use xlink:href=\"#DejaVuSans-43\"/>\r\n       <use x=\"69.824219\" xlink:href=\"#DejaVuSans-61\"/>\r\n       <use x=\"131.103516\" xlink:href=\"#DejaVuSans-6d\"/>\r\n       <use x=\"228.515625\" xlink:href=\"#DejaVuSans-69\"/>\r\n       <use x=\"256.298828\" xlink:href=\"#DejaVuSans-6c\"/>\r\n       <use x=\"284.082031\" xlink:href=\"#DejaVuSans-61\"/>\r\n      </g>\r\n     </g>\r\n    </g>\r\n    <g id=\"xtick_12\">\r\n     <g id=\"line2d_12\">\r\n      <g>\r\n       <use style=\"stroke:#000000;stroke-width:0.8;\" x=\"581.839971\" xlink:href=\"#mf8c50274b0\" y=\"333.36\"/>\r\n      </g>\r\n     </g>\r\n     <g id=\"text_12\">\r\n      <!-- Gianna -->\r\n      <g transform=\"translate(564.111065 347.958438)scale(0.1 -0.1)\">\r\n       <defs>\r\n        <path d=\"M 3809 666 \r\nL 3809 1919 \r\nL 2778 1919 \r\nL 2778 2438 \r\nL 4434 2438 \r\nL 4434 434 \r\nQ 4069 175 3628 42 \r\nQ 3188 -91 2688 -91 \r\nQ 1594 -91 976 548 \r\nQ 359 1188 359 2328 \r\nQ 359 3472 976 4111 \r\nQ 1594 4750 2688 4750 \r\nQ 3144 4750 3555 4637 \r\nQ 3966 4525 4313 4306 \r\nL 4313 3634 \r\nQ 3963 3931 3569 4081 \r\nQ 3175 4231 2741 4231 \r\nQ 1884 4231 1454 3753 \r\nQ 1025 3275 1025 2328 \r\nQ 1025 1384 1454 906 \r\nQ 1884 428 2741 428 \r\nQ 3075 428 3337 486 \r\nQ 3600 544 3809 666 \r\nz\r\n\" id=\"DejaVuSans-47\" transform=\"scale(0.015625)\"/>\r\n       </defs>\r\n       <use xlink:href=\"#DejaVuSans-47\"/>\r\n       <use x=\"77.490234\" xlink:href=\"#DejaVuSans-69\"/>\r\n       <use x=\"105.273438\" xlink:href=\"#DejaVuSans-61\"/>\r\n       <use x=\"166.552734\" xlink:href=\"#DejaVuSans-6e\"/>\r\n       <use x=\"229.931641\" xlink:href=\"#DejaVuSans-6e\"/>\r\n       <use x=\"293.310547\" xlink:href=\"#DejaVuSans-61\"/>\r\n      </g>\r\n     </g>\r\n    </g>\r\n    <g id=\"xtick_13\">\r\n     <g id=\"line2d_13\">\r\n      <g>\r\n       <use style=\"stroke:#000000;stroke-width:0.8;\" x=\"624.396408\" xlink:href=\"#mf8c50274b0\" y=\"333.36\"/>\r\n      </g>\r\n     </g>\r\n     <g id=\"text_13\">\r\n      <!-- Abigail -->\r\n      <g transform=\"translate(607.396408 347.958438)scale(0.1 -0.1)\">\r\n       <defs>\r\n        <path d=\"M 2906 1791 \r\nQ 2906 2416 2648 2759 \r\nQ 2391 3103 1925 3103 \r\nQ 1463 3103 1205 2759 \r\nQ 947 2416 947 1791 \r\nQ 947 1169 1205 825 \r\nQ 1463 481 1925 481 \r\nQ 2391 481 2648 825 \r\nQ 2906 1169 2906 1791 \r\nz\r\nM 3481 434 \r\nQ 3481 -459 3084 -895 \r\nQ 2688 -1331 1869 -1331 \r\nQ 1566 -1331 1297 -1286 \r\nQ 1028 -1241 775 -1147 \r\nL 775 -588 \r\nQ 1028 -725 1275 -790 \r\nQ 1522 -856 1778 -856 \r\nQ 2344 -856 2625 -561 \r\nQ 2906 -266 2906 331 \r\nL 2906 616 \r\nQ 2728 306 2450 153 \r\nQ 2172 0 1784 0 \r\nQ 1141 0 747 490 \r\nQ 353 981 353 1791 \r\nQ 353 2603 747 3093 \r\nQ 1141 3584 1784 3584 \r\nQ 2172 3584 2450 3431 \r\nQ 2728 3278 2906 2969 \r\nL 2906 3500 \r\nL 3481 3500 \r\nL 3481 434 \r\nz\r\n\" id=\"DejaVuSans-67\" transform=\"scale(0.015625)\"/>\r\n       </defs>\r\n       <use xlink:href=\"#DejaVuSans-41\"/>\r\n       <use x=\"68.408203\" xlink:href=\"#DejaVuSans-62\"/>\r\n       <use x=\"131.884766\" xlink:href=\"#DejaVuSans-69\"/>\r\n       <use x=\"159.667969\" xlink:href=\"#DejaVuSans-67\"/>\r\n       <use x=\"223.144531\" xlink:href=\"#DejaVuSans-61\"/>\r\n       <use x=\"284.423828\" xlink:href=\"#DejaVuSans-69\"/>\r\n       <use x=\"312.207031\" xlink:href=\"#DejaVuSans-6c\"/>\r\n      </g>\r\n     </g>\r\n    </g>\r\n    <g id=\"xtick_14\">\r\n     <g id=\"line2d_14\">\r\n      <g>\r\n       <use style=\"stroke:#000000;stroke-width:0.8;\" x=\"666.952845\" xlink:href=\"#mf8c50274b0\" y=\"333.36\"/>\r\n      </g>\r\n     </g>\r\n     <g id=\"text_14\">\r\n      <!-- Luna -->\r\n      <g transform=\"translate(654.852845 347.958438)scale(0.1 -0.1)\">\r\n       <defs>\r\n        <path d=\"M 628 4666 \r\nL 1259 4666 \r\nL 1259 531 \r\nL 3531 531 \r\nL 3531 0 \r\nL 628 0 \r\nL 628 4666 \r\nz\r\n\" id=\"DejaVuSans-4c\" transform=\"scale(0.015625)\"/>\r\n        <path d=\"M 544 1381 \r\nL 544 3500 \r\nL 1119 3500 \r\nL 1119 1403 \r\nQ 1119 906 1312 657 \r\nQ 1506 409 1894 409 \r\nQ 2359 409 2629 706 \r\nQ 2900 1003 2900 1516 \r\nL 2900 3500 \r\nL 3475 3500 \r\nL 3475 0 \r\nL 2900 0 \r\nL 2900 538 \r\nQ 2691 219 2414 64 \r\nQ 2138 -91 1772 -91 \r\nQ 1169 -91 856 284 \r\nQ 544 659 544 1381 \r\nz\r\nM 1991 3584 \r\nL 1991 3584 \r\nz\r\n\" id=\"DejaVuSans-75\" transform=\"scale(0.015625)\"/>\r\n       </defs>\r\n       <use xlink:href=\"#DejaVuSans-4c\"/>\r\n       <use x=\"53.962891\" xlink:href=\"#DejaVuSans-75\"/>\r\n       <use x=\"117.341797\" xlink:href=\"#DejaVuSans-6e\"/>\r\n       <use x=\"180.720703\" xlink:href=\"#DejaVuSans-61\"/>\r\n      </g>\r\n     </g>\r\n    </g>\r\n    <g id=\"xtick_15\">\r\n     <g id=\"line2d_15\">\r\n      <g>\r\n       <use style=\"stroke:#000000;stroke-width:0.8;\" x=\"709.509282\" xlink:href=\"#mf8c50274b0\" y=\"333.36\"/>\r\n      </g>\r\n     </g>\r\n     <g id=\"text_15\">\r\n      <!-- Ella -->\r\n      <g transform=\"translate(700.507719 347.958438)scale(0.1 -0.1)\">\r\n       <use xlink:href=\"#DejaVuSans-45\"/>\r\n       <use x=\"63.183594\" xlink:href=\"#DejaVuSans-6c\"/>\r\n       <use x=\"90.966797\" xlink:href=\"#DejaVuSans-6c\"/>\r\n       <use x=\"118.75\" xlink:href=\"#DejaVuSans-61\"/>\r\n      </g>\r\n     </g>\r\n    </g>\r\n    <g id=\"xtick_16\">\r\n     <g id=\"line2d_16\">\r\n      <g>\r\n       <use style=\"stroke:#000000;stroke-width:0.8;\" x=\"752.065718\" xlink:href=\"#mf8c50274b0\" y=\"333.36\"/>\r\n      </g>\r\n     </g>\r\n     <g id=\"text_16\">\r\n      <!-- Elizabeth -->\r\n      <g transform=\"translate(729.06025 347.958438)scale(0.1 -0.1)\">\r\n       <defs>\r\n        <path d=\"M 353 3500 \r\nL 3084 3500 \r\nL 3084 2975 \r\nL 922 459 \r\nL 3084 459 \r\nL 3084 0 \r\nL 275 0 \r\nL 275 525 \r\nL 2438 3041 \r\nL 353 3041 \r\nL 353 3500 \r\nz\r\n\" id=\"DejaVuSans-7a\" transform=\"scale(0.015625)\"/>\r\n       </defs>\r\n       <use xlink:href=\"#DejaVuSans-45\"/>\r\n       <use x=\"63.183594\" xlink:href=\"#DejaVuSans-6c\"/>\r\n       <use x=\"90.966797\" xlink:href=\"#DejaVuSans-69\"/>\r\n       <use x=\"118.75\" xlink:href=\"#DejaVuSans-7a\"/>\r\n       <use x=\"171.240234\" xlink:href=\"#DejaVuSans-61\"/>\r\n       <use x=\"232.519531\" xlink:href=\"#DejaVuSans-62\"/>\r\n       <use x=\"295.996094\" xlink:href=\"#DejaVuSans-65\"/>\r\n       <use x=\"357.519531\" xlink:href=\"#DejaVuSans-74\"/>\r\n       <use x=\"396.728516\" xlink:href=\"#DejaVuSans-68\"/>\r\n      </g>\r\n     </g>\r\n    </g>\r\n    <g id=\"xtick_17\">\r\n     <g id=\"line2d_17\">\r\n      <g>\r\n       <use style=\"stroke:#000000;stroke-width:0.8;\" x=\"794.622155\" xlink:href=\"#mf8c50274b0\" y=\"333.36\"/>\r\n      </g>\r\n     </g>\r\n     <g id=\"text_17\">\r\n      <!-- Sofia -->\r\n      <g transform=\"translate(782.17528 347.958438)scale(0.1 -0.1)\">\r\n       <defs>\r\n        <path d=\"M 2375 4863 \r\nL 2375 4384 \r\nL 1825 4384 \r\nQ 1516 4384 1395 4259 \r\nQ 1275 4134 1275 3809 \r\nL 1275 3500 \r\nL 2222 3500 \r\nL 2222 3053 \r\nL 1275 3053 \r\nL 1275 0 \r\nL 697 0 \r\nL 697 3053 \r\nL 147 3053 \r\nL 147 3500 \r\nL 697 3500 \r\nL 697 3744 \r\nQ 697 4328 969 4595 \r\nQ 1241 4863 1831 4863 \r\nL 2375 4863 \r\nz\r\n\" id=\"DejaVuSans-66\" transform=\"scale(0.015625)\"/>\r\n       </defs>\r\n       <use xlink:href=\"#DejaVuSans-53\"/>\r\n       <use x=\"63.476562\" xlink:href=\"#DejaVuSans-6f\"/>\r\n       <use x=\"124.658203\" xlink:href=\"#DejaVuSans-66\"/>\r\n       <use x=\"159.863281\" xlink:href=\"#DejaVuSans-69\"/>\r\n       <use x=\"187.646484\" xlink:href=\"#DejaVuSans-61\"/>\r\n      </g>\r\n     </g>\r\n    </g>\r\n    <g id=\"xtick_18\">\r\n     <g id=\"line2d_18\">\r\n      <g>\r\n       <use style=\"stroke:#000000;stroke-width:0.8;\" x=\"837.178592\" xlink:href=\"#mf8c50274b0\" y=\"333.36\"/>\r\n      </g>\r\n     </g>\r\n     <g id=\"text_18\">\r\n      <!-- Emily -->\r\n      <g transform=\"translate(823.411405 347.958438)scale(0.1 -0.1)\">\r\n       <use xlink:href=\"#DejaVuSans-45\"/>\r\n       <use x=\"63.183594\" xlink:href=\"#DejaVuSans-6d\"/>\r\n       <use x=\"160.595703\" xlink:href=\"#DejaVuSans-69\"/>\r\n       <use x=\"188.378906\" xlink:href=\"#DejaVuSans-6c\"/>\r\n       <use x=\"216.162109\" xlink:href=\"#DejaVuSans-79\"/>\r\n      </g>\r\n     </g>\r\n    </g>\r\n    <g id=\"xtick_19\">\r\n     <g id=\"line2d_19\">\r\n      <g>\r\n       <use style=\"stroke:#000000;stroke-width:0.8;\" x=\"879.735029\" xlink:href=\"#mf8c50274b0\" y=\"333.36\"/>\r\n      </g>\r\n     </g>\r\n     <g id=\"text_19\">\r\n      <!-- Avery -->\r\n      <g transform=\"translate(865.557685 347.958438)scale(0.1 -0.1)\">\r\n       <use xlink:href=\"#DejaVuSans-41\"/>\r\n       <use x=\"62.533203\" xlink:href=\"#DejaVuSans-76\"/>\r\n       <use x=\"121.712891\" xlink:href=\"#DejaVuSans-65\"/>\r\n       <use x=\"183.236328\" xlink:href=\"#DejaVuSans-72\"/>\r\n       <use x=\"224.349609\" xlink:href=\"#DejaVuSans-79\"/>\r\n      </g>\r\n     </g>\r\n    </g>\r\n    <g id=\"xtick_20\">\r\n     <g id=\"line2d_20\">\r\n      <g>\r\n       <use style=\"stroke:#000000;stroke-width:0.8;\" x=\"922.291466\" xlink:href=\"#mf8c50274b0\" y=\"333.36\"/>\r\n      </g>\r\n     </g>\r\n     <g id=\"text_20\">\r\n      <!-- Mila -->\r\n      <g transform=\"translate(912.135216 347.958438)scale(0.1 -0.1)\">\r\n       <use xlink:href=\"#DejaVuSans-4d\"/>\r\n       <use x=\"86.279297\" xlink:href=\"#DejaVuSans-69\"/>\r\n       <use x=\"114.0625\" xlink:href=\"#DejaVuSans-6c\"/>\r\n       <use x=\"141.845703\" xlink:href=\"#DejaVuSans-61\"/>\r\n      </g>\r\n     </g>\r\n    </g>\r\n    <g id=\"xtick_21\">\r\n     <g id=\"line2d_21\">\r\n      <g>\r\n       <use style=\"stroke:#000000;stroke-width:0.8;\" x=\"964.847903\" xlink:href=\"#mf8c50274b0\" y=\"333.36\"/>\r\n      </g>\r\n     </g>\r\n     <g id=\"text_21\">\r\n      <!-- Aria -->\r\n      <g transform=\"translate(954.918996 347.958438)scale(0.1 -0.1)\">\r\n       <use xlink:href=\"#DejaVuSans-41\"/>\r\n       <use x=\"68.408203\" xlink:href=\"#DejaVuSans-72\"/>\r\n       <use x=\"109.521484\" xlink:href=\"#DejaVuSans-69\"/>\r\n       <use x=\"137.304688\" xlink:href=\"#DejaVuSans-61\"/>\r\n      </g>\r\n     </g>\r\n    </g>\r\n    <g id=\"xtick_22\">\r\n     <g id=\"line2d_22\">\r\n      <g>\r\n       <use style=\"stroke:#000000;stroke-width:0.8;\" x=\"1007.40434\" xlink:href=\"#mf8c50274b0\" y=\"333.36\"/>\r\n      </g>\r\n     </g>\r\n     <g id=\"text_22\">\r\n      <!-- Scarlett -->\r\n      <g transform=\"translate(987.975433 347.958438)scale(0.1 -0.1)\">\r\n       <defs>\r\n        <path d=\"M 3122 3366 \r\nL 3122 2828 \r\nQ 2878 2963 2633 3030 \r\nQ 2388 3097 2138 3097 \r\nQ 1578 3097 1268 2742 \r\nQ 959 2388 959 1747 \r\nQ 959 1106 1268 751 \r\nQ 1578 397 2138 397 \r\nQ 2388 397 2633 464 \r\nQ 2878 531 3122 666 \r\nL 3122 134 \r\nQ 2881 22 2623 -34 \r\nQ 2366 -91 2075 -91 \r\nQ 1284 -91 818 406 \r\nQ 353 903 353 1747 \r\nQ 353 2603 823 3093 \r\nQ 1294 3584 2113 3584 \r\nQ 2378 3584 2631 3529 \r\nQ 2884 3475 3122 3366 \r\nz\r\n\" id=\"DejaVuSans-63\" transform=\"scale(0.015625)\"/>\r\n       </defs>\r\n       <use xlink:href=\"#DejaVuSans-53\"/>\r\n       <use x=\"63.476562\" xlink:href=\"#DejaVuSans-63\"/>\r\n       <use x=\"118.457031\" xlink:href=\"#DejaVuSans-61\"/>\r\n       <use x=\"179.736328\" xlink:href=\"#DejaVuSans-72\"/>\r\n       <use x=\"220.849609\" xlink:href=\"#DejaVuSans-6c\"/>\r\n       <use x=\"248.632812\" xlink:href=\"#DejaVuSans-65\"/>\r\n       <use x=\"310.15625\" xlink:href=\"#DejaVuSans-74\"/>\r\n       <use x=\"349.365234\" xlink:href=\"#DejaVuSans-74\"/>\r\n      </g>\r\n     </g>\r\n    </g>\r\n    <g id=\"xtick_23\">\r\n     <g id=\"line2d_23\">\r\n      <g>\r\n       <use style=\"stroke:#000000;stroke-width:0.8;\" x=\"1049.960776\" xlink:href=\"#mf8c50274b0\" y=\"333.36\"/>\r\n      </g>\r\n     </g>\r\n     <g id=\"text_23\">\r\n      <!-- Penelope -->\r\n      <g transform=\"translate(1027.106089 347.958438)scale(0.1 -0.1)\">\r\n       <defs>\r\n        <path d=\"M 1259 4147 \r\nL 1259 2394 \r\nL 2053 2394 \r\nQ 2494 2394 2734 2622 \r\nQ 2975 2850 2975 3272 \r\nQ 2975 3691 2734 3919 \r\nQ 2494 4147 2053 4147 \r\nL 1259 4147 \r\nz\r\nM 628 4666 \r\nL 2053 4666 \r\nQ 2838 4666 3239 4311 \r\nQ 3641 3956 3641 3272 \r\nQ 3641 2581 3239 2228 \r\nQ 2838 1875 2053 1875 \r\nL 1259 1875 \r\nL 1259 0 \r\nL 628 0 \r\nL 628 4666 \r\nz\r\n\" id=\"DejaVuSans-50\" transform=\"scale(0.015625)\"/>\r\n       </defs>\r\n       <use xlink:href=\"#DejaVuSans-50\"/>\r\n       <use x=\"56.677734\" xlink:href=\"#DejaVuSans-65\"/>\r\n       <use x=\"118.201172\" xlink:href=\"#DejaVuSans-6e\"/>\r\n       <use x=\"181.580078\" xlink:href=\"#DejaVuSans-65\"/>\r\n       <use x=\"243.103516\" xlink:href=\"#DejaVuSans-6c\"/>\r\n       <use x=\"270.886719\" xlink:href=\"#DejaVuSans-6f\"/>\r\n       <use x=\"332.068359\" xlink:href=\"#DejaVuSans-70\"/>\r\n       <use x=\"395.544922\" xlink:href=\"#DejaVuSans-65\"/>\r\n      </g>\r\n     </g>\r\n    </g>\r\n    <g id=\"xtick_24\">\r\n     <g id=\"line2d_24\">\r\n      <g>\r\n       <use style=\"stroke:#000000;stroke-width:0.8;\" x=\"1092.517213\" xlink:href=\"#mf8c50274b0\" y=\"333.36\"/>\r\n      </g>\r\n     </g>\r\n     <g id=\"text_24\">\r\n      <!-- Layla -->\r\n      <g transform=\"translate(1079.254713 347.958438)scale(0.1 -0.1)\">\r\n       <use xlink:href=\"#DejaVuSans-4c\"/>\r\n       <use x=\"55.712891\" xlink:href=\"#DejaVuSans-61\"/>\r\n       <use x=\"116.992188\" xlink:href=\"#DejaVuSans-79\"/>\r\n       <use x=\"176.171875\" xlink:href=\"#DejaVuSans-6c\"/>\r\n       <use x=\"203.955078\" xlink:href=\"#DejaVuSans-61\"/>\r\n      </g>\r\n     </g>\r\n    </g>\r\n    <g id=\"xtick_25\">\r\n     <g id=\"line2d_25\">\r\n      <g>\r\n       <use style=\"stroke:#000000;stroke-width:0.8;\" x=\"1135.07365\" xlink:href=\"#mf8c50274b0\" y=\"333.36\"/>\r\n      </g>\r\n     </g>\r\n     <g id=\"text_25\">\r\n      <!-- Chloe -->\r\n      <g transform=\"translate(1120.888494 347.958438)scale(0.1 -0.1)\">\r\n       <use xlink:href=\"#DejaVuSans-43\"/>\r\n       <use x=\"69.824219\" xlink:href=\"#DejaVuSans-68\"/>\r\n       <use x=\"133.203125\" xlink:href=\"#DejaVuSans-6c\"/>\r\n       <use x=\"160.986328\" xlink:href=\"#DejaVuSans-6f\"/>\r\n       <use x=\"222.167969\" xlink:href=\"#DejaVuSans-65\"/>\r\n      </g>\r\n     </g>\r\n    </g>\r\n    <g id=\"xtick_26\">\r\n     <g id=\"line2d_26\">\r\n      <g>\r\n       <use style=\"stroke:#000000;stroke-width:0.8;\" x=\"1177.630087\" xlink:href=\"#mf8c50274b0\" y=\"333.36\"/>\r\n      </g>\r\n     </g>\r\n     <g id=\"text_26\">\r\n      <!-- Victoria -->\r\n      <g transform=\"translate(1158.655868 347.958438)scale(0.1 -0.1)\">\r\n       <defs>\r\n        <path d=\"M 1831 0 \r\nL 50 4666 \r\nL 709 4666 \r\nL 2188 738 \r\nL 3669 4666 \r\nL 4325 4666 \r\nL 2547 0 \r\nL 1831 0 \r\nz\r\n\" id=\"DejaVuSans-56\" transform=\"scale(0.015625)\"/>\r\n       </defs>\r\n       <use xlink:href=\"#DejaVuSans-56\"/>\r\n       <use x=\"66.158203\" xlink:href=\"#DejaVuSans-69\"/>\r\n       <use x=\"93.941406\" xlink:href=\"#DejaVuSans-63\"/>\r\n       <use x=\"148.921875\" xlink:href=\"#DejaVuSans-74\"/>\r\n       <use x=\"188.130859\" xlink:href=\"#DejaVuSans-6f\"/>\r\n       <use x=\"249.3125\" xlink:href=\"#DejaVuSans-72\"/>\r\n       <use x=\"290.425781\" xlink:href=\"#DejaVuSans-69\"/>\r\n       <use x=\"318.208984\" xlink:href=\"#DejaVuSans-61\"/>\r\n      </g>\r\n     </g>\r\n    </g>\r\n    <g id=\"xtick_27\">\r\n     <g id=\"line2d_27\">\r\n      <g>\r\n       <use style=\"stroke:#000000;stroke-width:0.8;\" x=\"1220.186524\" xlink:href=\"#mf8c50274b0\" y=\"333.36\"/>\r\n      </g>\r\n     </g>\r\n     <g id=\"text_27\">\r\n      <!-- Madison -->\r\n      <g transform=\"translate(1199.412305 347.958438)scale(0.1 -0.1)\">\r\n       <defs>\r\n        <path d=\"M 2906 2969 \r\nL 2906 4863 \r\nL 3481 4863 \r\nL 3481 0 \r\nL 2906 0 \r\nL 2906 525 \r\nQ 2725 213 2448 61 \r\nQ 2172 -91 1784 -91 \r\nQ 1150 -91 751 415 \r\nQ 353 922 353 1747 \r\nQ 353 2572 751 3078 \r\nQ 1150 3584 1784 3584 \r\nQ 2172 3584 2448 3432 \r\nQ 2725 3281 2906 2969 \r\nz\r\nM 947 1747 \r\nQ 947 1113 1208 752 \r\nQ 1469 391 1925 391 \r\nQ 2381 391 2643 752 \r\nQ 2906 1113 2906 1747 \r\nQ 2906 2381 2643 2742 \r\nQ 2381 3103 1925 3103 \r\nQ 1469 3103 1208 2742 \r\nQ 947 2381 947 1747 \r\nz\r\n\" id=\"DejaVuSans-64\" transform=\"scale(0.015625)\"/>\r\n       </defs>\r\n       <use xlink:href=\"#DejaVuSans-4d\"/>\r\n       <use x=\"86.279297\" xlink:href=\"#DejaVuSans-61\"/>\r\n       <use x=\"147.558594\" xlink:href=\"#DejaVuSans-64\"/>\r\n       <use x=\"211.035156\" xlink:href=\"#DejaVuSans-69\"/>\r\n       <use x=\"238.818359\" xlink:href=\"#DejaVuSans-73\"/>\r\n       <use x=\"290.917969\" xlink:href=\"#DejaVuSans-6f\"/>\r\n       <use x=\"352.099609\" xlink:href=\"#DejaVuSans-6e\"/>\r\n      </g>\r\n     </g>\r\n    </g>\r\n    <g id=\"xtick_28\">\r\n     <g id=\"line2d_28\">\r\n      <g>\r\n       <use style=\"stroke:#000000;stroke-width:0.8;\" x=\"1262.742961\" xlink:href=\"#mf8c50274b0\" y=\"333.36\"/>\r\n      </g>\r\n     </g>\r\n     <g id=\"text_28\">\r\n      <!-- Eleanor -->\r\n      <g transform=\"translate(1243.770304 347.958438)scale(0.1 -0.1)\">\r\n       <use xlink:href=\"#DejaVuSans-45\"/>\r\n       <use x=\"63.183594\" xlink:href=\"#DejaVuSans-6c\"/>\r\n       <use x=\"90.966797\" xlink:href=\"#DejaVuSans-65\"/>\r\n       <use x=\"152.490234\" xlink:href=\"#DejaVuSans-61\"/>\r\n       <use x=\"213.769531\" xlink:href=\"#DejaVuSans-6e\"/>\r\n       <use x=\"277.148438\" xlink:href=\"#DejaVuSans-6f\"/>\r\n       <use x=\"338.330078\" xlink:href=\"#DejaVuSans-72\"/>\r\n      </g>\r\n     </g>\r\n    </g>\r\n    <g id=\"xtick_29\">\r\n     <g id=\"line2d_29\">\r\n      <g>\r\n       <use style=\"stroke:#000000;stroke-width:0.8;\" x=\"1305.299397\" xlink:href=\"#mf8c50274b0\" y=\"333.36\"/>\r\n      </g>\r\n     </g>\r\n     <g id=\"text_29\">\r\n      <!-- Grace -->\r\n      <g transform=\"translate(1290.479866 347.958438)scale(0.1 -0.1)\">\r\n       <use xlink:href=\"#DejaVuSans-47\"/>\r\n       <use x=\"77.490234\" xlink:href=\"#DejaVuSans-72\"/>\r\n       <use x=\"118.603516\" xlink:href=\"#DejaVuSans-61\"/>\r\n       <use x=\"179.882812\" xlink:href=\"#DejaVuSans-63\"/>\r\n       <use x=\"234.863281\" xlink:href=\"#DejaVuSans-65\"/>\r\n      </g>\r\n     </g>\r\n    </g>\r\n    <g id=\"xtick_30\">\r\n     <g id=\"line2d_30\">\r\n      <g>\r\n       <use style=\"stroke:#000000;stroke-width:0.8;\" x=\"1347.855834\" xlink:href=\"#mf8c50274b0\" y=\"333.36\"/>\r\n      </g>\r\n     </g>\r\n     <g id=\"text_30\">\r\n      <!-- Nora -->\r\n      <g transform=\"translate(1335.936303 347.958438)scale(0.1 -0.1)\">\r\n       <defs>\r\n        <path d=\"M 628 4666 \r\nL 1478 4666 \r\nL 3547 763 \r\nL 3547 4666 \r\nL 4159 4666 \r\nL 4159 0 \r\nL 3309 0 \r\nL 1241 3903 \r\nL 1241 0 \r\nL 628 0 \r\nL 628 4666 \r\nz\r\n\" id=\"DejaVuSans-4e\" transform=\"scale(0.015625)\"/>\r\n       </defs>\r\n       <use xlink:href=\"#DejaVuSans-4e\"/>\r\n       <use x=\"74.804688\" xlink:href=\"#DejaVuSans-6f\"/>\r\n       <use x=\"135.986328\" xlink:href=\"#DejaVuSans-72\"/>\r\n       <use x=\"177.099609\" xlink:href=\"#DejaVuSans-61\"/>\r\n      </g>\r\n     </g>\r\n    </g>\r\n   </g>\r\n   <g id=\"matplotlib.axis_2\">\r\n    <g id=\"ytick_1\">\r\n     <g id=\"line2d_31\">\r\n      <defs>\r\n       <path d=\"M 0 0 \r\nL -3.5 0 \r\n\" id=\"m2ea9e230e1\" style=\"stroke:#000000;stroke-width:0.8;\"/>\r\n      </defs>\r\n      <g>\r\n       <use style=\"stroke:#000000;stroke-width:0.8;\" x=\"33.2875\" xlink:href=\"#m2ea9e230e1\" y=\"333.36\"/>\r\n      </g>\r\n     </g>\r\n     <g id=\"text_31\">\r\n      <!-- 0 -->\r\n      <g transform=\"translate(19.925 337.159219)scale(0.1 -0.1)\">\r\n       <defs>\r\n        <path d=\"M 2034 4250 \r\nQ 1547 4250 1301 3770 \r\nQ 1056 3291 1056 2328 \r\nQ 1056 1369 1301 889 \r\nQ 1547 409 2034 409 \r\nQ 2525 409 2770 889 \r\nQ 3016 1369 3016 2328 \r\nQ 3016 3291 2770 3770 \r\nQ 2525 4250 2034 4250 \r\nz\r\nM 2034 4750 \r\nQ 2819 4750 3233 4129 \r\nQ 3647 3509 3647 2328 \r\nQ 3647 1150 3233 529 \r\nQ 2819 -91 2034 -91 \r\nQ 1250 -91 836 529 \r\nQ 422 1150 422 2328 \r\nQ 422 3509 836 4129 \r\nQ 1250 4750 2034 4750 \r\nz\r\n\" id=\"DejaVuSans-30\" transform=\"scale(0.015625)\"/>\r\n       </defs>\r\n       <use xlink:href=\"#DejaVuSans-30\"/>\r\n      </g>\r\n     </g>\r\n    </g>\r\n    <g id=\"ytick_2\">\r\n     <g id=\"line2d_32\">\r\n      <g>\r\n       <use style=\"stroke:#000000;stroke-width:0.8;\" x=\"33.2875\" xlink:href=\"#m2ea9e230e1\" y=\"270.224111\"/>\r\n      </g>\r\n     </g>\r\n     <g id=\"text_32\">\r\n      <!-- 100 -->\r\n      <g transform=\"translate(7.2 274.02333)scale(0.1 -0.1)\">\r\n       <defs>\r\n        <path d=\"M 794 531 \r\nL 1825 531 \r\nL 1825 4091 \r\nL 703 3866 \r\nL 703 4441 \r\nL 1819 4666 \r\nL 2450 4666 \r\nL 2450 531 \r\nL 3481 531 \r\nL 3481 0 \r\nL 794 0 \r\nL 794 531 \r\nz\r\n\" id=\"DejaVuSans-31\" transform=\"scale(0.015625)\"/>\r\n       </defs>\r\n       <use xlink:href=\"#DejaVuSans-31\"/>\r\n       <use x=\"63.623047\" xlink:href=\"#DejaVuSans-30\"/>\r\n       <use x=\"127.246094\" xlink:href=\"#DejaVuSans-30\"/>\r\n      </g>\r\n     </g>\r\n    </g>\r\n    <g id=\"ytick_3\">\r\n     <g id=\"line2d_33\">\r\n      <g>\r\n       <use style=\"stroke:#000000;stroke-width:0.8;\" x=\"33.2875\" xlink:href=\"#m2ea9e230e1\" y=\"207.088223\"/>\r\n      </g>\r\n     </g>\r\n     <g id=\"text_33\">\r\n      <!-- 200 -->\r\n      <g transform=\"translate(7.2 210.887442)scale(0.1 -0.1)\">\r\n       <defs>\r\n        <path d=\"M 1228 531 \r\nL 3431 531 \r\nL 3431 0 \r\nL 469 0 \r\nL 469 531 \r\nQ 828 903 1448 1529 \r\nQ 2069 2156 2228 2338 \r\nQ 2531 2678 2651 2914 \r\nQ 2772 3150 2772 3378 \r\nQ 2772 3750 2511 3984 \r\nQ 2250 4219 1831 4219 \r\nQ 1534 4219 1204 4116 \r\nQ 875 4013 500 3803 \r\nL 500 4441 \r\nQ 881 4594 1212 4672 \r\nQ 1544 4750 1819 4750 \r\nQ 2544 4750 2975 4387 \r\nQ 3406 4025 3406 3419 \r\nQ 3406 3131 3298 2873 \r\nQ 3191 2616 2906 2266 \r\nQ 2828 2175 2409 1742 \r\nQ 1991 1309 1228 531 \r\nz\r\n\" id=\"DejaVuSans-32\" transform=\"scale(0.015625)\"/>\r\n       </defs>\r\n       <use xlink:href=\"#DejaVuSans-32\"/>\r\n       <use x=\"63.623047\" xlink:href=\"#DejaVuSans-30\"/>\r\n       <use x=\"127.246094\" xlink:href=\"#DejaVuSans-30\"/>\r\n      </g>\r\n     </g>\r\n    </g>\r\n    <g id=\"ytick_4\">\r\n     <g id=\"line2d_34\">\r\n      <g>\r\n       <use style=\"stroke:#000000;stroke-width:0.8;\" x=\"33.2875\" xlink:href=\"#m2ea9e230e1\" y=\"143.952334\"/>\r\n      </g>\r\n     </g>\r\n     <g id=\"text_34\">\r\n      <!-- 300 -->\r\n      <g transform=\"translate(7.2 147.751553)scale(0.1 -0.1)\">\r\n       <defs>\r\n        <path d=\"M 2597 2516 \r\nQ 3050 2419 3304 2112 \r\nQ 3559 1806 3559 1356 \r\nQ 3559 666 3084 287 \r\nQ 2609 -91 1734 -91 \r\nQ 1441 -91 1130 -33 \r\nQ 819 25 488 141 \r\nL 488 750 \r\nQ 750 597 1062 519 \r\nQ 1375 441 1716 441 \r\nQ 2309 441 2620 675 \r\nQ 2931 909 2931 1356 \r\nQ 2931 1769 2642 2001 \r\nQ 2353 2234 1838 2234 \r\nL 1294 2234 \r\nL 1294 2753 \r\nL 1863 2753 \r\nQ 2328 2753 2575 2939 \r\nQ 2822 3125 2822 3475 \r\nQ 2822 3834 2567 4026 \r\nQ 2313 4219 1838 4219 \r\nQ 1578 4219 1281 4162 \r\nQ 984 4106 628 3988 \r\nL 628 4550 \r\nQ 988 4650 1302 4700 \r\nQ 1616 4750 1894 4750 \r\nQ 2613 4750 3031 4423 \r\nQ 3450 4097 3450 3541 \r\nQ 3450 3153 3228 2886 \r\nQ 3006 2619 2597 2516 \r\nz\r\n\" id=\"DejaVuSans-33\" transform=\"scale(0.015625)\"/>\r\n       </defs>\r\n       <use xlink:href=\"#DejaVuSans-33\"/>\r\n       <use x=\"63.623047\" xlink:href=\"#DejaVuSans-30\"/>\r\n       <use x=\"127.246094\" xlink:href=\"#DejaVuSans-30\"/>\r\n      </g>\r\n     </g>\r\n    </g>\r\n    <g id=\"ytick_5\">\r\n     <g id=\"line2d_35\">\r\n      <g>\r\n       <use style=\"stroke:#000000;stroke-width:0.8;\" x=\"33.2875\" xlink:href=\"#m2ea9e230e1\" y=\"80.816446\"/>\r\n      </g>\r\n     </g>\r\n     <g id=\"text_35\">\r\n      <!-- 400 -->\r\n      <g transform=\"translate(7.2 84.615665)scale(0.1 -0.1)\">\r\n       <defs>\r\n        <path d=\"M 2419 4116 \r\nL 825 1625 \r\nL 2419 1625 \r\nL 2419 4116 \r\nz\r\nM 2253 4666 \r\nL 3047 4666 \r\nL 3047 1625 \r\nL 3713 1625 \r\nL 3713 1100 \r\nL 3047 1100 \r\nL 3047 0 \r\nL 2419 0 \r\nL 2419 1100 \r\nL 313 1100 \r\nL 313 1709 \r\nL 2253 4666 \r\nz\r\n\" id=\"DejaVuSans-34\" transform=\"scale(0.015625)\"/>\r\n       </defs>\r\n       <use xlink:href=\"#DejaVuSans-34\"/>\r\n       <use x=\"63.623047\" xlink:href=\"#DejaVuSans-30\"/>\r\n       <use x=\"127.246094\" xlink:href=\"#DejaVuSans-30\"/>\r\n      </g>\r\n     </g>\r\n    </g>\r\n    <g id=\"ytick_6\">\r\n     <g id=\"line2d_36\">\r\n      <g>\r\n       <use style=\"stroke:#000000;stroke-width:0.8;\" x=\"33.2875\" xlink:href=\"#m2ea9e230e1\" y=\"17.680557\"/>\r\n      </g>\r\n     </g>\r\n     <g id=\"text_36\">\r\n      <!-- 500 -->\r\n      <g transform=\"translate(7.2 21.479776)scale(0.1 -0.1)\">\r\n       <defs>\r\n        <path d=\"M 691 4666 \r\nL 3169 4666 \r\nL 3169 4134 \r\nL 1269 4134 \r\nL 1269 2991 \r\nQ 1406 3038 1543 3061 \r\nQ 1681 3084 1819 3084 \r\nQ 2600 3084 3056 2656 \r\nQ 3513 2228 3513 1497 \r\nQ 3513 744 3044 326 \r\nQ 2575 -91 1722 -91 \r\nQ 1428 -91 1123 -41 \r\nQ 819 9 494 109 \r\nL 494 744 \r\nQ 775 591 1075 516 \r\nQ 1375 441 1709 441 \r\nQ 2250 441 2565 725 \r\nQ 2881 1009 2881 1497 \r\nQ 2881 1984 2565 2268 \r\nQ 2250 2553 1709 2553 \r\nQ 1456 2553 1204 2497 \r\nQ 953 2441 691 2322 \r\nL 691 4666 \r\nz\r\n\" id=\"DejaVuSans-35\" transform=\"scale(0.015625)\"/>\r\n       </defs>\r\n       <use xlink:href=\"#DejaVuSans-35\"/>\r\n       <use x=\"63.623047\" xlink:href=\"#DejaVuSans-30\"/>\r\n       <use x=\"127.246094\" xlink:href=\"#DejaVuSans-30\"/>\r\n      </g>\r\n     </g>\r\n    </g>\r\n   </g>\r\n   <g id=\"patch_33\">\r\n    <path d=\"M 33.2875 333.36 \r\nL 33.2875 7.2 \r\n\" style=\"fill:none;stroke:#000000;stroke-linecap:square;stroke-linejoin:miter;stroke-width:0.8;\"/>\r\n   </g>\r\n   <g id=\"patch_34\">\r\n    <path d=\"M 1428.2875 333.36 \r\nL 1428.2875 7.2 \r\n\" style=\"fill:none;stroke:#000000;stroke-linecap:square;stroke-linejoin:miter;stroke-width:0.8;\"/>\r\n   </g>\r\n   <g id=\"patch_35\">\r\n    <path d=\"M 33.2875 333.36 \r\nL 1428.2875 333.36 \r\n\" style=\"fill:none;stroke:#000000;stroke-linecap:square;stroke-linejoin:miter;stroke-width:0.8;\"/>\r\n   </g>\r\n   <g id=\"patch_36\">\r\n    <path d=\"M 33.2875 7.2 \r\nL 1428.2875 7.2 \r\n\" style=\"fill:none;stroke:#000000;stroke-linecap:square;stroke-linejoin:miter;stroke-width:0.8;\"/>\r\n   </g>\r\n  </g>\r\n </g>\r\n <defs>\r\n  <clipPath id=\"p79b7e9e001\">\r\n   <rect height=\"326.16\" width=\"1395\" x=\"33.2875\" y=\"7.2\"/>\r\n  </clipPath>\r\n </defs>\r\n</svg>\r\n",
      "image/png": "[encoded data removed]"
     },
     "metadata": {
      "needs_background": "light"
     }
    }
   ],
   "source": [
    "X, Y = staff_obj.keys(), staff_obj.values()\n",
    "print(X)\n",
    "plt.figure(figsize=(25, 6), dpi=80)\n",
    "plt.bar(X, Y)"
   ]
  },
  {
   "cell_type": "code",
   "execution_count": 26,
   "metadata": {},
   "outputs": [
    {
     "output_type": "execute_result",
     "data": {
      "text/plain": [
       "{'whiskers': [<matplotlib.lines.Line2D at 0x229aafbce20>,\n",
       "  <matplotlib.lines.Line2D at 0x229aafcf160>],\n",
       " 'caps': [<matplotlib.lines.Line2D at 0x229aafcf4f0>,\n",
       "  <matplotlib.lines.Line2D at 0x229aafcf880>],\n",
       " 'boxes': [<matplotlib.lines.Line2D at 0x229aafbc9d0>],\n",
       " 'medians': [<matplotlib.lines.Line2D at 0x229aafcfc10>],\n",
       " 'fliers': [<matplotlib.lines.Line2D at 0x229aafcffa0>],\n",
       " 'means': []}"
      ]
     },
     "metadata": {},
     "execution_count": 26
    },
    {
     "output_type": "display_data",
     "data": {
      "text/plain": "<Figure size 432x288 with 1 Axes>",
      "image/svg+xml": "<?xml version=\"1.0\" encoding=\"utf-8\" standalone=\"no\"?>\r\n<!DOCTYPE svg PUBLIC \"-//W3C//DTD SVG 1.1//EN\"\r\n  \"http://www.w3.org/Graphics/SVG/1.1/DTD/svg11.dtd\">\r\n<svg height=\"248.518125pt\" version=\"1.1\" viewBox=\"0 0 375.2875 248.518125\" width=\"375.2875pt\" xmlns=\"http://www.w3.org/2000/svg\" xmlns:xlink=\"http://www.w3.org/1999/xlink\">\r\n <metadata>\r\n  <rdf:RDF xmlns:cc=\"http://creativecommons.org/ns#\" xmlns:dc=\"http://purl.org/dc/elements/1.1/\" xmlns:rdf=\"http://www.w3.org/1999/02/22-rdf-syntax-ns#\">\r\n   <cc:Work>\r\n    <dc:type rdf:resource=\"http://purl.org/dc/dcmitype/StillImage\"/>\r\n    <dc:date>2021-07-14T19:43:24.205184</dc:date>\r\n    <dc:format>image/svg+xml</dc:format>\r\n    <dc:creator>\r\n     <cc:Agent>\r\n      <dc:title>Matplotlib v3.4.2, https://matplotlib.org/</dc:title>\r\n     </cc:Agent>\r\n    </dc:creator>\r\n   </cc:Work>\r\n  </rdf:RDF>\r\n </metadata>\r\n <defs>\r\n  <style type=\"text/css\">*{stroke-linecap:butt;stroke-linejoin:round;}</style>\r\n </defs>\r\n <g id=\"figure_1\">\r\n  <g id=\"patch_1\">\r\n   <path d=\"M 0 248.518125 \r\nL 375.2875 248.518125 \r\nL 375.2875 0 \r\nL 0 0 \r\nz\r\n\" style=\"fill:none;\"/>\r\n  </g>\r\n  <g id=\"axes_1\">\r\n   <g id=\"patch_2\">\r\n    <path d=\"M 33.2875 224.64 \r\nL 368.0875 224.64 \r\nL 368.0875 7.2 \r\nL 33.2875 7.2 \r\nz\r\n\" style=\"fill:#ffffff;\"/>\r\n   </g>\r\n   <g id=\"matplotlib.axis_1\">\r\n    <g id=\"xtick_1\">\r\n     <g id=\"line2d_1\">\r\n      <defs>\r\n       <path d=\"M 0 0 \r\nL 0 3.5 \r\n\" id=\"m5106c761a1\" style=\"stroke:#000000;stroke-width:0.8;\"/>\r\n      </defs>\r\n      <g>\r\n       <use style=\"stroke:#000000;stroke-width:0.8;\" x=\"200.6875\" xlink:href=\"#m5106c761a1\" y=\"224.64\"/>\r\n      </g>\r\n     </g>\r\n     <g id=\"text_1\">\r\n      <!-- 1 -->\r\n      <g transform=\"translate(197.50625 239.238438)scale(0.1 -0.1)\">\r\n       <defs>\r\n        <path d=\"M 794 531 \r\nL 1825 531 \r\nL 1825 4091 \r\nL 703 3866 \r\nL 703 4441 \r\nL 1819 4666 \r\nL 2450 4666 \r\nL 2450 531 \r\nL 3481 531 \r\nL 3481 0 \r\nL 794 0 \r\nL 794 531 \r\nz\r\n\" id=\"DejaVuSans-31\" transform=\"scale(0.015625)\"/>\r\n       </defs>\r\n       <use xlink:href=\"#DejaVuSans-31\"/>\r\n      </g>\r\n     </g>\r\n    </g>\r\n   </g>\r\n   <g id=\"matplotlib.axis_2\">\r\n    <g id=\"ytick_1\">\r\n     <g id=\"line2d_2\">\r\n      <defs>\r\n       <path d=\"M 0 0 \r\nL -3.5 0 \r\n\" id=\"m1cf698b5bd\" style=\"stroke:#000000;stroke-width:0.8;\"/>\r\n      </defs>\r\n      <g>\r\n       <use style=\"stroke:#000000;stroke-width:0.8;\" x=\"33.2875\" xlink:href=\"#m1cf698b5bd\" y=\"211.348213\"/>\r\n      </g>\r\n     </g>\r\n     <g id=\"text_2\">\r\n      <!-- 150 -->\r\n      <g transform=\"translate(7.2 215.147432)scale(0.1 -0.1)\">\r\n       <defs>\r\n        <path d=\"M 691 4666 \r\nL 3169 4666 \r\nL 3169 4134 \r\nL 1269 4134 \r\nL 1269 2991 \r\nQ 1406 3038 1543 3061 \r\nQ 1681 3084 1819 3084 \r\nQ 2600 3084 3056 2656 \r\nQ 3513 2228 3513 1497 \r\nQ 3513 744 3044 326 \r\nQ 2575 -91 1722 -91 \r\nQ 1428 -91 1123 -41 \r\nQ 819 9 494 109 \r\nL 494 744 \r\nQ 775 591 1075 516 \r\nQ 1375 441 1709 441 \r\nQ 2250 441 2565 725 \r\nQ 2881 1009 2881 1497 \r\nQ 2881 1984 2565 2268 \r\nQ 2250 2553 1709 2553 \r\nQ 1456 2553 1204 2497 \r\nQ 953 2441 691 2322 \r\nL 691 4666 \r\nz\r\n\" id=\"DejaVuSans-35\" transform=\"scale(0.015625)\"/>\r\n        <path d=\"M 2034 4250 \r\nQ 1547 4250 1301 3770 \r\nQ 1056 3291 1056 2328 \r\nQ 1056 1369 1301 889 \r\nQ 1547 409 2034 409 \r\nQ 2525 409 2770 889 \r\nQ 3016 1369 3016 2328 \r\nQ 3016 3291 2770 3770 \r\nQ 2525 4250 2034 4250 \r\nz\r\nM 2034 4750 \r\nQ 2819 4750 3233 4129 \r\nQ 3647 3509 3647 2328 \r\nQ 3647 1150 3233 529 \r\nQ 2819 -91 2034 -91 \r\nQ 1250 -91 836 529 \r\nQ 422 1150 422 2328 \r\nQ 422 3509 836 4129 \r\nQ 1250 4750 2034 4750 \r\nz\r\n\" id=\"DejaVuSans-30\" transform=\"scale(0.015625)\"/>\r\n       </defs>\r\n       <use xlink:href=\"#DejaVuSans-31\"/>\r\n       <use x=\"63.623047\" xlink:href=\"#DejaVuSans-35\"/>\r\n       <use x=\"127.246094\" xlink:href=\"#DejaVuSans-30\"/>\r\n      </g>\r\n     </g>\r\n    </g>\r\n    <g id=\"ytick_2\">\r\n     <g id=\"line2d_3\">\r\n      <g>\r\n       <use style=\"stroke:#000000;stroke-width:0.8;\" x=\"33.2875\" xlink:href=\"#m1cf698b5bd\" y=\"182.946959\"/>\r\n      </g>\r\n     </g>\r\n     <g id=\"text_3\">\r\n      <!-- 200 -->\r\n      <g transform=\"translate(7.2 186.746178)scale(0.1 -0.1)\">\r\n       <defs>\r\n        <path d=\"M 1228 531 \r\nL 3431 531 \r\nL 3431 0 \r\nL 469 0 \r\nL 469 531 \r\nQ 828 903 1448 1529 \r\nQ 2069 2156 2228 2338 \r\nQ 2531 2678 2651 2914 \r\nQ 2772 3150 2772 3378 \r\nQ 2772 3750 2511 3984 \r\nQ 2250 4219 1831 4219 \r\nQ 1534 4219 1204 4116 \r\nQ 875 4013 500 3803 \r\nL 500 4441 \r\nQ 881 4594 1212 4672 \r\nQ 1544 4750 1819 4750 \r\nQ 2544 4750 2975 4387 \r\nQ 3406 4025 3406 3419 \r\nQ 3406 3131 3298 2873 \r\nQ 3191 2616 2906 2266 \r\nQ 2828 2175 2409 1742 \r\nQ 1991 1309 1228 531 \r\nz\r\n\" id=\"DejaVuSans-32\" transform=\"scale(0.015625)\"/>\r\n       </defs>\r\n       <use xlink:href=\"#DejaVuSans-32\"/>\r\n       <use x=\"63.623047\" xlink:href=\"#DejaVuSans-30\"/>\r\n       <use x=\"127.246094\" xlink:href=\"#DejaVuSans-30\"/>\r\n      </g>\r\n     </g>\r\n    </g>\r\n    <g id=\"ytick_3\">\r\n     <g id=\"line2d_4\">\r\n      <g>\r\n       <use style=\"stroke:#000000;stroke-width:0.8;\" x=\"33.2875\" xlink:href=\"#m1cf698b5bd\" y=\"154.545705\"/>\r\n      </g>\r\n     </g>\r\n     <g id=\"text_4\">\r\n      <!-- 250 -->\r\n      <g transform=\"translate(7.2 158.344924)scale(0.1 -0.1)\">\r\n       <use xlink:href=\"#DejaVuSans-32\"/>\r\n       <use x=\"63.623047\" xlink:href=\"#DejaVuSans-35\"/>\r\n       <use x=\"127.246094\" xlink:href=\"#DejaVuSans-30\"/>\r\n      </g>\r\n     </g>\r\n    </g>\r\n    <g id=\"ytick_4\">\r\n     <g id=\"line2d_5\">\r\n      <g>\r\n       <use style=\"stroke:#000000;stroke-width:0.8;\" x=\"33.2875\" xlink:href=\"#m1cf698b5bd\" y=\"126.144451\"/>\r\n      </g>\r\n     </g>\r\n     <g id=\"text_5\">\r\n      <!-- 300 -->\r\n      <g transform=\"translate(7.2 129.94367)scale(0.1 -0.1)\">\r\n       <defs>\r\n        <path d=\"M 2597 2516 \r\nQ 3050 2419 3304 2112 \r\nQ 3559 1806 3559 1356 \r\nQ 3559 666 3084 287 \r\nQ 2609 -91 1734 -91 \r\nQ 1441 -91 1130 -33 \r\nQ 819 25 488 141 \r\nL 488 750 \r\nQ 750 597 1062 519 \r\nQ 1375 441 1716 441 \r\nQ 2309 441 2620 675 \r\nQ 2931 909 2931 1356 \r\nQ 2931 1769 2642 2001 \r\nQ 2353 2234 1838 2234 \r\nL 1294 2234 \r\nL 1294 2753 \r\nL 1863 2753 \r\nQ 2328 2753 2575 2939 \r\nQ 2822 3125 2822 3475 \r\nQ 2822 3834 2567 4026 \r\nQ 2313 4219 1838 4219 \r\nQ 1578 4219 1281 4162 \r\nQ 984 4106 628 3988 \r\nL 628 4550 \r\nQ 988 4650 1302 4700 \r\nQ 1616 4750 1894 4750 \r\nQ 2613 4750 3031 4423 \r\nQ 3450 4097 3450 3541 \r\nQ 3450 3153 3228 2886 \r\nQ 3006 2619 2597 2516 \r\nz\r\n\" id=\"DejaVuSans-33\" transform=\"scale(0.015625)\"/>\r\n       </defs>\r\n       <use xlink:href=\"#DejaVuSans-33\"/>\r\n       <use x=\"63.623047\" xlink:href=\"#DejaVuSans-30\"/>\r\n       <use x=\"127.246094\" xlink:href=\"#DejaVuSans-30\"/>\r\n      </g>\r\n     </g>\r\n    </g>\r\n    <g id=\"ytick_5\">\r\n     <g id=\"line2d_6\">\r\n      <g>\r\n       <use style=\"stroke:#000000;stroke-width:0.8;\" x=\"33.2875\" xlink:href=\"#m1cf698b5bd\" y=\"97.743197\"/>\r\n      </g>\r\n     </g>\r\n     <g id=\"text_6\">\r\n      <!-- 350 -->\r\n      <g transform=\"translate(7.2 101.542416)scale(0.1 -0.1)\">\r\n       <use xlink:href=\"#DejaVuSans-33\"/>\r\n       <use x=\"63.623047\" xlink:href=\"#DejaVuSans-35\"/>\r\n       <use x=\"127.246094\" xlink:href=\"#DejaVuSans-30\"/>\r\n      </g>\r\n     </g>\r\n    </g>\r\n    <g id=\"ytick_6\">\r\n     <g id=\"line2d_7\">\r\n      <g>\r\n       <use style=\"stroke:#000000;stroke-width:0.8;\" x=\"33.2875\" xlink:href=\"#m1cf698b5bd\" y=\"69.341944\"/>\r\n      </g>\r\n     </g>\r\n     <g id=\"text_7\">\r\n      <!-- 400 -->\r\n      <g transform=\"translate(7.2 73.141162)scale(0.1 -0.1)\">\r\n       <defs>\r\n        <path d=\"M 2419 4116 \r\nL 825 1625 \r\nL 2419 1625 \r\nL 2419 4116 \r\nz\r\nM 2253 4666 \r\nL 3047 4666 \r\nL 3047 1625 \r\nL 3713 1625 \r\nL 3713 1100 \r\nL 3047 1100 \r\nL 3047 0 \r\nL 2419 0 \r\nL 2419 1100 \r\nL 313 1100 \r\nL 313 1709 \r\nL 2253 4666 \r\nz\r\n\" id=\"DejaVuSans-34\" transform=\"scale(0.015625)\"/>\r\n       </defs>\r\n       <use xlink:href=\"#DejaVuSans-34\"/>\r\n       <use x=\"63.623047\" xlink:href=\"#DejaVuSans-30\"/>\r\n       <use x=\"127.246094\" xlink:href=\"#DejaVuSans-30\"/>\r\n      </g>\r\n     </g>\r\n    </g>\r\n    <g id=\"ytick_7\">\r\n     <g id=\"line2d_8\">\r\n      <g>\r\n       <use style=\"stroke:#000000;stroke-width:0.8;\" x=\"33.2875\" xlink:href=\"#m1cf698b5bd\" y=\"40.94069\"/>\r\n      </g>\r\n     </g>\r\n     <g id=\"text_8\">\r\n      <!-- 450 -->\r\n      <g transform=\"translate(7.2 44.739908)scale(0.1 -0.1)\">\r\n       <use xlink:href=\"#DejaVuSans-34\"/>\r\n       <use x=\"63.623047\" xlink:href=\"#DejaVuSans-35\"/>\r\n       <use x=\"127.246094\" xlink:href=\"#DejaVuSans-30\"/>\r\n      </g>\r\n     </g>\r\n    </g>\r\n    <g id=\"ytick_8\">\r\n     <g id=\"line2d_9\">\r\n      <g>\r\n       <use style=\"stroke:#000000;stroke-width:0.8;\" x=\"33.2875\" xlink:href=\"#m1cf698b5bd\" y=\"12.539436\"/>\r\n      </g>\r\n     </g>\r\n     <g id=\"text_9\">\r\n      <!-- 500 -->\r\n      <g transform=\"translate(7.2 16.338654)scale(0.1 -0.1)\">\r\n       <use xlink:href=\"#DejaVuSans-35\"/>\r\n       <use x=\"63.623047\" xlink:href=\"#DejaVuSans-30\"/>\r\n       <use x=\"127.246094\" xlink:href=\"#DejaVuSans-30\"/>\r\n      </g>\r\n     </g>\r\n    </g>\r\n   </g>\r\n   <g id=\"line2d_10\">\r\n    <path clip-path=\"url(#p6e8a6f7a20)\" d=\"M 175.5775 147.161379 \r\nL 225.7975 147.161379 \r\nL 225.7975 75.022194 \r\nL 175.5775 75.022194 \r\nL 175.5775 147.161379 \r\n\" style=\"fill:none;stroke:#000000;stroke-linecap:square;\"/>\r\n   </g>\r\n   <g id=\"line2d_11\">\r\n    <path clip-path=\"url(#p6e8a6f7a20)\" d=\"M 200.6875 147.161379 \r\nL 200.6875 214.756364 \r\n\" style=\"fill:none;stroke:#000000;stroke-linecap:square;\"/>\r\n   </g>\r\n   <g id=\"line2d_12\">\r\n    <path clip-path=\"url(#p6e8a6f7a20)\" d=\"M 200.6875 75.022194 \r\nL 200.6875 17.083636 \r\n\" style=\"fill:none;stroke:#000000;stroke-linecap:square;\"/>\r\n   </g>\r\n   <g id=\"line2d_13\">\r\n    <path clip-path=\"url(#p6e8a6f7a20)\" d=\"M 188.1325 214.756364 \r\nL 213.2425 214.756364 \r\n\" style=\"fill:none;stroke:#000000;stroke-linecap:square;\"/>\r\n   </g>\r\n   <g id=\"line2d_14\">\r\n    <path clip-path=\"url(#p6e8a6f7a20)\" d=\"M 188.1325 17.083636 \r\nL 213.2425 17.083636 \r\n\" style=\"fill:none;stroke:#000000;stroke-linecap:square;\"/>\r\n   </g>\r\n   <g id=\"line2d_15\"/>\r\n   <g id=\"line2d_16\">\r\n    <path clip-path=\"url(#p6e8a6f7a20)\" d=\"M 175.5775 104.559498 \r\nL 225.7975 104.559498 \r\n\" style=\"fill:none;stroke:#ff7f0e;stroke-linecap:square;\"/>\r\n   </g>\r\n   <g id=\"patch_3\">\r\n    <path d=\"M 33.2875 224.64 \r\nL 33.2875 7.2 \r\n\" style=\"fill:none;stroke:#000000;stroke-linecap:square;stroke-linejoin:miter;stroke-width:0.8;\"/>\r\n   </g>\r\n   <g id=\"patch_4\">\r\n    <path d=\"M 368.0875 224.64 \r\nL 368.0875 7.2 \r\n\" style=\"fill:none;stroke:#000000;stroke-linecap:square;stroke-linejoin:miter;stroke-width:0.8;\"/>\r\n   </g>\r\n   <g id=\"patch_5\">\r\n    <path d=\"M 33.2875 224.64 \r\nL 368.0875 224.64 \r\n\" style=\"fill:none;stroke:#000000;stroke-linecap:square;stroke-linejoin:miter;stroke-width:0.8;\"/>\r\n   </g>\r\n   <g id=\"patch_6\">\r\n    <path d=\"M 33.2875 7.2 \r\nL 368.0875 7.2 \r\n\" style=\"fill:none;stroke:#000000;stroke-linecap:square;stroke-linejoin:miter;stroke-width:0.8;\"/>\r\n   </g>\r\n  </g>\r\n </g>\r\n <defs>\r\n  <clipPath id=\"p6e8a6f7a20\">\r\n   <rect height=\"217.44\" width=\"334.8\" x=\"33.2875\" y=\"7.2\"/>\r\n  </clipPath>\r\n </defs>\r\n</svg>\r\n",
      "image/png": "[encoded data removed]"
     },
     "metadata": {
      "needs_background": "light"
     }
    }
   ],
   "source": [
    "plt.boxplot(Y)"
   ]
  },
  {
   "cell_type": "code",
   "execution_count": null,
   "metadata": {},
   "outputs": [],
   "source": []
  }
 ]
}