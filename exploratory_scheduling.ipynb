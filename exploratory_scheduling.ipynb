{
 "metadata": {
  "language_info": {
   "codemirror_mode": {
    "name": "ipython",
    "version": 3
   },
   "file_extension": ".py",
   "mimetype": "text/x-python",
   "name": "python",
   "nbconvert_exporter": "python",
   "pygments_lexer": "ipython3",
   "version": "3.8.8"
  },
  "orig_nbformat": 2,
  "kernelspec": {
   "name": "python388jvsc74a57bd0af367eaf69fbdf1eb30afcd013da6fe8c1bbee17759328f4b7aa5bcf4ed7dbc3",
   "display_name": "Python 3.8.8 64-bit ('new_env': conda)"
  }
 },
 "nbformat": 4,
 "nbformat_minor": 2,
 "cells": [
  {
   "source": [
    "# Imports"
   ],
   "cell_type": "markdown",
   "metadata": {}
  },
  {
   "cell_type": "code",
   "execution_count": 1,
   "metadata": {},
   "outputs": [],
   "source": [
    "from ortools.sat.python import cp_model\n",
    "from calendar import monthrange\n",
    "\n",
    "from scheduling_funtions import *"
   ]
  },
  {
   "source": [
    "# Creating Data"
   ],
   "cell_type": "markdown",
   "metadata": {}
  },
  {
   "cell_type": "code",
   "execution_count": 2,
   "metadata": {},
   "outputs": [],
   "source": [
    "staff_list = [['Olivia', 0],\n",
    "              ['Emma', 1], \n",
    "              ['Ava', 1],\n",
    "              ['Charlotte', 1], \n",
    "              ['Sophia', 0],\n",
    "              ['Amelia', 0],\n",
    "              ['Isabella', 1],\n",
    "              ['Mia', 1],\n",
    "              ['Evelyn', 1],\n",
    "              ['Harper', 0],\n",
    "              ['Camila', 0],\n",
    "              ['Gianna', 0],\n",
    "              ['Abigail', 0], \n",
    "              ['Luna', 0],\n",
    "              ['Ella', 0],\n",
    "              ['Elizabeth', 0], \n",
    "              ['Sofia', 1],\n",
    "              ['Emily', 1],\n",
    "              ['Avery', 0],\n",
    "              ['Mila', 1]]\n",
    "\n",
    "staff = range(len(staff_list))"
   ]
  },
  {
   "cell_type": "code",
   "execution_count": 3,
   "metadata": {},
   "outputs": [],
   "source": [
    "shift_list = ['0700 - 1500',\n",
    "          '0730 - 1530 (FT)',\n",
    "          '0930 - 1730',\n",
    "          '1200 - 2000',\n",
    "          '1400 - 2200',\n",
    "          '1530 - 2330 (FT)',\n",
    "          '1600 - 2400',\n",
    "          '1800 - 0200',\n",
    "          '2000 - 0400',\n",
    "          '2200 - 0400',\n",
    "          '2359 - 0700',\n",
    "          'On call (22:00)']\n",
    "\n",
    "shifts = range(len(shift_list))\n",
    "midnight_shifts = shifts[6:]"
   ]
  },
  {
   "cell_type": "code",
   "execution_count": 4,
   "metadata": {},
   "outputs": [],
   "source": [
    "planning_period = monthrange(2021, 5)\n",
    "days = range(planning_period[1])"
   ]
  },
  {
   "source": [
    "# Creating the model"
   ],
   "cell_type": "markdown",
   "metadata": {}
  },
  {
   "cell_type": "code",
   "execution_count": 5,
   "metadata": {},
   "outputs": [],
   "source": [
    "model = cp_model.CpModel()"
   ]
  },
  {
   "cell_type": "code",
   "execution_count": 6,
   "metadata": {},
   "outputs": [],
   "source": [
    "#decision variables\n",
    "#staff 'm' works shift 's' on day 'd'\n",
    "x = {(m, d, s) : \\\n",
    "    model.NewBoolVar('s%id%is%i' % (m, d, s)) \\\n",
    "    for m in staff \\\n",
    "    for d in days \\\n",
    "    for s in shifts}"
   ]
  },
  {
   "cell_type": "code",
   "execution_count": 7,
   "metadata": {},
   "outputs": [],
   "source": [
    "#intermediate variables\n",
    "#staff 'm' works on day 'd'\n",
    "days_assigned = {(m, d) : \\\n",
    "    model.NewBoolVar('s%id%i' % (m, d)) \\\n",
    "    for m in staff \\\n",
    "    for d in days}\n",
    "\n",
    "for m in staff:\n",
    "  for d in days:\n",
    "    model.Add(days_assigned[(m,d)] == sum(x[(m,d,s)] for s in shifts))"
   ]
  },
  {
   "source": [
    "# Constraints"
   ],
   "cell_type": "markdown",
   "metadata": {}
  },
  {
   "cell_type": "code",
   "execution_count": 9,
   "metadata": {},
   "outputs": [],
   "source": [
    "# Maximum work 7 consecutive days\n",
    "num_con_days = 7\n",
    "for m in staff:\n",
    "  for wind in window(days, num_con_days+1):\n",
    "    constraint = [x[(m,d,s)] \\\n",
    "                  for d in wind \\\n",
    "                  for s in shifts]\n",
    "\n",
    "    model.Add(sum(constraint) <= num_con_days)  "
   ]
  },
  {
   "cell_type": "code",
   "execution_count": 8,
   "metadata": {},
   "outputs": [],
   "source": [
    "# All shifts should be taken by doctors\n",
    "# No two doctors in the same shift on the same day\n",
    "for d in days:\n",
    "    for s in shifts:\n",
    "      constraint = [x[(m,d,s)] \\\n",
    "                    for m in staff]\n",
    "      model.Add(sum(constraint) == 1)"
   ]
  },
  {
   "cell_type": "code",
   "execution_count": 10,
   "metadata": {},
   "outputs": [],
   "source": [
    "# 2 days off after 3 to 7 days of work in a row\n",
    "# Defines an illegal pattern constraint\n",
    "# 11101\n",
    "for m in staff:\n",
    "  for wind in window(days, 5):\n",
    "    constraint = [days_assigned[(m,d)] \\\n",
    "                  for d in wind]\n",
    "\n",
    "    model.AddForbiddenAssignments(constraint, [(1,1,1,0,1)])"
   ]
  },
  {
   "cell_type": "code",
   "execution_count": 11,
   "metadata": {},
   "outputs": [],
   "source": [
    "# No two shifts same day\n",
    "for m in staff:\n",
    "  for d in days:\n",
    "    constraint = [x[(m,d,s)] \\\n",
    "                  for s in shifts]\n",
    "    model.Add(sum(constraint) <= 1)"
   ]
  },
  {
   "cell_type": "code",
   "execution_count": 12,
   "metadata": {},
   "outputs": [],
   "source": [
    "# # 2 days off after last midnight (except on call shift). (Modified)\n",
    "# for m in staff:\n",
    "#   for wind in window(days, 3):\n",
    "#     constraint = [x[(m,d,s)] \\\n",
    "#                 for d in wind \\\n",
    "#                 for s in midnight_shifts]\n",
    "\n",
    "#     model.Add(sum(constraint) < )"
   ]
  },
  {
   "cell_type": "code",
   "execution_count": 13,
   "metadata": {},
   "outputs": [],
   "source": [
    "# No midnights for staff in their first 6 months (need way to indicate when physician is in first 6 months of practice)"
   ]
  },
  {
   "cell_type": "code",
   "execution_count": 14,
   "metadata": {},
   "outputs": [],
   "source": [
    "# # Maximum 2 midnights in a row (except for several physicians who only work midnights)\n",
    "# for m in staff:\n",
    "#   for wind in window(days, 3):\n",
    "#     day1 = [x[(m,wind[0],s + midnight_offset)] \\\n",
    "#             for s in midnight_shifts]\n",
    "#     day2 = [x[(m,wind[1],s + midnight_offset)] \\\n",
    "#             for s in midnight_shifts]\n",
    "#     day3 = [x[(m,wind[2],s)].Not() \\\n",
    "#             for s in shifts]\n",
    "\n",
    "#     model.Add(sum(day1 + day2 + day3) < 2 + len(day3))"
   ]
  },
  {
   "cell_type": "code",
   "execution_count": 15,
   "metadata": {},
   "outputs": [],
   "source": [
    "# On call shift - day after rules"
   ]
  },
  {
   "cell_type": "code",
   "execution_count": 16,
   "metadata": {},
   "outputs": [],
   "source": [
    "# # Certain physicians work only FT shift (0730,1530 shift)\n",
    "# for m in staff:\n",
    "#   constraint1 = [x[(m,d,shifts[0])] \\\n",
    "#                 for d in days]\n",
    "#   constraint2 = [x[(m,d,s)] \\\n",
    "#                 for d in days \\\n",
    "#                 for s in shifts[2:4]]\n",
    "#   constraint3 = [x[(m,d,s)] \\\n",
    "#                 for d in days \\\n",
    "#                 for s in shifts[6:]]\n",
    "\n",
    "#   model.Add(sum(constraint1 + constraint2 + constraint3) * staff_list[m][1] < 1)"
   ]
  },
  {
   "cell_type": "code",
   "execution_count": 17,
   "metadata": {},
   "outputs": [],
   "source": [
    "# No 2000, 2200, or midnight shift prior to day requested off"
   ]
  },
  {
   "cell_type": "code",
   "execution_count": 18,
   "metadata": {},
   "outputs": [],
   "source": [
    "# Physicians can work the 0930 shifts or earlier prior to working on call. They can work starting no earlier than 11 the day after on call."
   ]
  },
  {
   "source": [
    "# Solving the Model"
   ],
   "cell_type": "markdown",
   "metadata": {}
  },
  {
   "cell_type": "code",
   "execution_count": 19,
   "metadata": {},
   "outputs": [
    {
     "output_type": "stream",
     "name": "stdout",
     "text": [
      "Day 0\n['Olivia', 0] works shift 0700 - 1500\n['Emma', 1] works shift 1800 - 0200\n['Charlotte', 1] works shift 0730 - 1530 (FT)\n['Sophia', 0] works shift 1400 - 2200\n['Amelia', 0] works shift 1530 - 2330 (FT)\n['Mia', 1] works shift 1200 - 2000\n['Evelyn', 1] works shift 2200 - 0400\n['Gianna', 0] works shift On call (22:00)\n['Luna', 0] works shift 1600 - 2400\n['Sofia', 1] works shift 2359 - 0700\n['Avery', 0] works shift 2000 - 0400\n['Mila', 1] works shift 0930 - 1730\n\nDay 1\n['Olivia', 0] works shift 1800 - 0200\n['Emma', 1] works shift 2000 - 0400\n['Ava', 1] works shift 0930 - 1730\n['Isabella', 1] works shift 0700 - 1500\n['Mia', 1] works shift 1530 - 2330 (FT)\n['Evelyn', 1] works shift 2200 - 0400\n['Harper', 0] works shift On call (22:00)\n['Gianna', 0] works shift 1600 - 2400\n['Abigail', 0] works shift 0730 - 1530 (FT)\n['Luna', 0] works shift 1400 - 2200\n['Ella', 0] works shift 2359 - 0700\n['Avery', 0] works shift 1200 - 2000\n\nDay 2\n['Olivia', 0] works shift On call (22:00)\n['Ava', 1] works shift 2200 - 0400\n['Charlotte', 1] works shift 1400 - 2200\n['Sophia', 0] works shift 1800 - 0200\n['Amelia', 0] works shift 2359 - 0700\n['Mia', 1] works shift 0730 - 1530 (FT)\n['Harper', 0] works shift 1200 - 2000\n['Camila', 0] works shift 2000 - 0400\n['Ella', 0] works shift 1530 - 2330 (FT)\n['Elizabeth', 0] works shift 0700 - 1500\n['Sofia', 1] works shift 1600 - 2400\n['Emily', 1] works shift 0930 - 1730\n\nDay 3\n['Olivia', 0] works shift 1400 - 2200\n['Emma', 1] works shift 2359 - 0700\n['Charlotte', 1] works shift On call (22:00)\n['Sophia', 0] works shift 2200 - 0400\n['Mia', 1] works shift 0930 - 1730\n['Harper', 0] works shift 1530 - 2330 (FT)\n['Camila', 0] works shift 0700 - 1500\n['Gianna', 0] works shift 1200 - 2000\n['Abigail', 0] works shift 1800 - 0200\n['Elizabeth', 0] works shift 2000 - 0400\n['Avery', 0] works shift 1600 - 2400\n['Mila', 1] works shift 0730 - 1530 (FT)\n\nDay 4\n['Olivia', 0] works shift 1600 - 2400\n['Ava', 1] works shift 1400 - 2200\n['Charlotte', 1] works shift 0700 - 1500\n['Amelia', 0] works shift 2359 - 0700\n['Isabella', 1] works shift 1530 - 2330 (FT)\n['Mia', 1] works shift 1800 - 0200\n['Camila', 0] works shift On call (22:00)\n['Gianna', 0] works shift 2000 - 0400\n['Luna', 0] works shift 0930 - 1730\n['Ella', 0] works shift 0730 - 1530 (FT)\n['Emily', 1] works shift 2200 - 0400\n['Mila', 1] works shift 1200 - 2000\n\nDay 5\n['Olivia', 0] works shift On call (22:00)\n['Emma', 1] works shift 1800 - 0200\n['Charlotte', 1] works shift 1400 - 2200\n['Amelia', 0] works shift 1200 - 2000\n['Isabella', 1] works shift 2000 - 0400\n['Camila', 0] works shift 0700 - 1500\n['Gianna', 0] works shift 1530 - 2330 (FT)\n['Abigail', 0] works shift 2200 - 0400\n['Elizabeth', 0] works shift 1600 - 2400\n['Sofia', 1] works shift 2359 - 0700\n['Emily', 1] works shift 0730 - 1530 (FT)\n['Avery', 0] works shift 0930 - 1730\n\nDay 6\n['Emma', 1] works shift 0930 - 1730\n['Ava', 1] works shift 2000 - 0400\n['Charlotte', 1] works shift 2200 - 0400\n['Sophia', 0] works shift On call (22:00)\n['Amelia', 0] works shift 1530 - 2330 (FT)\n['Isabella', 1] works shift 1400 - 2200\n['Harper', 0] works shift 2359 - 0700\n['Camila', 0] works shift 0700 - 1500\n['Gianna', 0] works shift 1600 - 2400\n['Elizabeth', 0] works shift 0730 - 1530 (FT)\n['Avery', 0] works shift 1800 - 0200\n['Mila', 1] works shift 1200 - 2000\n\nDay 7\n['Ava', 1] works shift 2200 - 0400\n['Charlotte', 1] works shift 0930 - 1730\n['Sophia', 0] works shift 1600 - 2400\n['Amelia', 0] works shift 0730 - 1530 (FT)\n['Evelyn', 1] works shift 2359 - 0700\n['Camila', 0] works shift On call (22:00)\n['Abigail', 0] works shift 1530 - 2330 (FT)\n['Luna', 0] works shift 0700 - 1500\n['Ella', 0] works shift 1200 - 2000\n['Emily', 1] works shift 2000 - 0400\n['Avery', 0] works shift 1800 - 0200\n['Mila', 1] works shift 1400 - 2200\n\nDay 8\n['Olivia', 0] works shift 2000 - 0400\n['Emma', 1] works shift 0930 - 1730\n['Ava', 1] works shift On call (22:00)\n['Charlotte', 1] works shift 1800 - 0200\n['Amelia', 0] works shift 0730 - 1530 (FT)\n['Mia', 1] works shift 2359 - 0700\n['Evelyn', 1] works shift 1200 - 2000\n['Harper', 0] works shift 1600 - 2400\n['Camila', 0] works shift 0700 - 1500\n['Ella', 0] works shift 1400 - 2200\n['Elizabeth', 0] works shift 2200 - 0400\n['Emily', 1] works shift 1530 - 2330 (FT)\n\nDay 9\n['Olivia', 0] works shift 1400 - 2200\n['Ava', 1] works shift 0730 - 1530 (FT)\n['Sophia', 0] works shift 0700 - 1500\n['Amelia', 0] works shift On call (22:00)\n['Isabella', 1] works shift 1600 - 2400\n['Harper', 0] works shift 0930 - 1730\n['Gianna', 0] works shift 2359 - 0700\n['Abigail', 0] works shift 2000 - 0400\n['Luna', 0] works shift 1800 - 0200\n['Elizabeth', 0] works shift 2200 - 0400\n['Emily', 1] works shift 1200 - 2000\n['Mila', 1] works shift 1530 - 2330 (FT)\n\nDay 10\n['Emma', 1] works shift On call (22:00)\n['Ava', 1] works shift 2200 - 0400\n['Isabella', 1] works shift 1800 - 0200\n['Mia', 1] works shift 1600 - 2400\n['Evelyn', 1] works shift 1400 - 2200\n['Luna', 0] works shift 2000 - 0400\n['Ella', 0] works shift 0730 - 1530 (FT)\n['Elizabeth', 0] works shift 0930 - 1730\n['Sofia', 1] works shift 0700 - 1500\n['Emily', 1] works shift 2359 - 0700\n['Avery', 0] works shift 1530 - 2330 (FT)\n['Mila', 1] works shift 1200 - 2000\n\nDay 11\n['Olivia', 0] works shift On call (22:00)\n['Ava', 1] works shift 2000 - 0400\n['Charlotte', 1] works shift 1400 - 2200\n['Sophia', 0] works shift 1530 - 2330 (FT)\n['Mia', 1] works shift 0730 - 1530 (FT)\n['Evelyn', 1] works shift 2359 - 0700\n['Harper', 0] works shift 2200 - 0400\n['Camila', 0] works shift 1200 - 2000\n['Gianna', 0] works shift 1800 - 0200\n['Elizabeth', 0] works shift 0700 - 1500\n['Sofia', 1] works shift 1600 - 2400\n['Avery', 0] works shift 0930 - 1730\n\nDay 12\n['Olivia', 0] works shift 1800 - 0200\n['Emma', 1] works shift 1400 - 2200\n['Ava', 1] works shift 0730 - 1530 (FT)\n['Sophia', 0] works shift On call (22:00)\n['Amelia', 0] works shift 0700 - 1500\n['Isabella', 1] works shift 1200 - 2000\n['Gianna', 0] works shift 1530 - 2330 (FT)\n['Abigail', 0] works shift 2359 - 0700\n['Ella', 0] works shift 0930 - 1730\n['Elizabeth', 0] works shift 2000 - 0400\n['Sofia', 1] works shift 1600 - 2400\n['Mila', 1] works shift 2200 - 0400\n\nDay 13\n['Charlotte', 1] works shift On call (22:00)\n['Isabella', 1] works shift 2200 - 0400\n['Mia', 1] works shift 0700 - 1500\n['Evelyn', 1] works shift 1530 - 2330 (FT)\n['Harper', 0] works shift 2359 - 0700\n['Camila', 0] works shift 1400 - 2200\n['Luna', 0] works shift 0930 - 1730\n['Ella', 0] works shift 0730 - 1530 (FT)\n['Elizabeth', 0] works shift 2000 - 0400\n['Sofia', 1] works shift 1800 - 0200\n['Avery', 0] works shift 1600 - 2400\n['Mila', 1] works shift 1200 - 2000\n\nDay 14\n['Olivia', 0] works shift 1600 - 2400\n['Emma', 1] works shift 2359 - 0700\n['Sophia', 0] works shift 2200 - 0400\n['Amelia', 0] works shift 2000 - 0400\n['Isabella', 1] works shift 1800 - 0200\n['Mia', 1] works shift 1530 - 2330 (FT)\n['Harper', 0] works shift 0930 - 1730\n['Camila', 0] works shift 1400 - 2200\n['Gianna', 0] works shift 0700 - 1500\n['Luna', 0] works shift 0730 - 1530 (FT)\n['Sofia', 1] works shift On call (22:00)\n['Avery', 0] works shift 1200 - 2000\n\nDay 15\n['Olivia', 0] works shift 1600 - 2400\n['Emma', 1] works shift 2200 - 0400\n['Ava', 1] works shift 0700 - 1500\n['Charlotte', 1] works shift On call (22:00)\n['Sophia', 0] works shift 1400 - 2200\n['Amelia', 0] works shift 1800 - 0200\n['Isabella', 1] works shift 0730 - 1530 (FT)\n['Evelyn', 1] works shift 2000 - 0400\n['Abigail', 0] works shift 1200 - 2000\n['Ella', 0] works shift 0930 - 1730\n['Emily', 1] works shift 2359 - 0700\n['Mila', 1] works shift 1530 - 2330 (FT)\n\nDay 16\n['Ava', 1] works shift 0930 - 1730\n['Charlotte', 1] works shift 1200 - 2000\n['Sophia', 0] works shift 2200 - 0400\n['Harper', 0] works shift 1530 - 2330 (FT)\n['Gianna', 0] works shift 1400 - 2200\n['Abigail', 0] works shift 1600 - 2400\n['Luna', 0] works shift 0730 - 1530 (FT)\n['Ella', 0] works shift On call (22:00)\n['Elizabeth', 0] works shift 1800 - 0200\n['Emily', 1] works shift 0700 - 1500\n['Avery', 0] works shift 2359 - 0700\n['Mila', 1] works shift 2000 - 0400\n\nDay 17\n['Olivia', 0] works shift 1800 - 0200\n['Emma', 1] works shift 2359 - 0700\n['Ava', 1] works shift 2200 - 0400\n['Evelyn', 1] works shift On call (22:00)\n['Harper', 0] works shift 1530 - 2330 (FT)\n['Camila', 0] works shift 0930 - 1730\n['Gianna', 0] works shift 1400 - 2200\n['Elizabeth', 0] works shift 1200 - 2000\n['Sofia', 1] works shift 1600 - 2400\n['Emily', 1] works shift 0700 - 1500\n['Avery', 0] works shift 2000 - 0400\n['Mila', 1] works shift 0730 - 1530 (FT)\n\nDay 18\n['Olivia', 0] works shift 2359 - 0700\n['Emma', 1] works shift 1530 - 2330 (FT)\n['Ava', 1] works shift 2200 - 0400\n['Charlotte', 1] works shift 1800 - 0200\n['Isabella', 1] works shift On call (22:00)\n['Harper', 0] works shift 1400 - 2200\n['Abigail', 0] works shift 2000 - 0400\n['Luna', 0] works shift 1200 - 2000\n['Ella', 0] works shift 0730 - 1530 (FT)\n['Elizabeth', 0] works shift 0700 - 1500\n['Sofia', 1] works shift 1600 - 2400\n['Mila', 1] works shift 0930 - 1730\n\nDay 19\n['Olivia', 0] works shift 0730 - 1530 (FT)\n['Emma', 1] works shift 0700 - 1500\n['Sophia', 0] works shift 0930 - 1730\n['Amelia', 0] works shift 1530 - 2330 (FT)\n['Isabella', 1] works shift 2359 - 0700\n['Evelyn', 1] works shift 1200 - 2000\n['Camila', 0] works shift 1600 - 2400\n['Gianna', 0] works shift 1400 - 2200\n['Ella', 0] works shift 2200 - 0400\n['Elizabeth', 0] works shift On call (22:00)\n['Sofia', 1] works shift 1800 - 0200\n['Avery', 0] works shift 2000 - 0400\n\nDay 20\n['Olivia', 0] works shift On call (22:00)\n['Charlotte', 1] works shift 2359 - 0700\n['Sophia', 0] works shift 2200 - 0400\n['Amelia', 0] works shift 1530 - 2330 (FT)\n['Mia', 1] works shift 1400 - 2200\n['Evelyn', 1] works shift 1800 - 0200\n['Gianna', 0] works shift 0700 - 1500\n['Abigail', 0] works shift 2000 - 0400\n['Ella', 0] works shift 1600 - 2400\n['Sofia', 1] works shift 1200 - 2000\n['Emily', 1] works shift 0730 - 1530 (FT)\n['Avery', 0] works shift 0930 - 1730\n\nDay 21\n['Olivia', 0] works shift 0730 - 1530 (FT)\n['Ava', 1] works shift 2359 - 0700\n['Charlotte', 1] works shift 1600 - 2400\n['Amelia', 0] works shift 1200 - 2000\n['Isabella', 1] works shift 0700 - 1500\n['Evelyn', 1] works shift 1800 - 0200\n['Harper', 0] works shift 2200 - 0400\n['Camila', 0] works shift On call (22:00)\n['Gianna', 0] works shift 2000 - 0400\n['Luna', 0] works shift 0930 - 1730\n['Avery', 0] works shift 1530 - 2330 (FT)\n['Mila', 1] works shift 1400 - 2200\n\nDay 22\n['Emma', 1] works shift 0730 - 1530 (FT)\n['Ava', 1] works shift On call (22:00)\n['Sophia', 0] works shift 1530 - 2330 (FT)\n['Amelia', 0] works shift 2359 - 0700\n['Mia', 1] works shift 2200 - 0400\n['Evelyn', 1] works shift 1200 - 2000\n['Harper', 0] works shift 2000 - 0400\n['Camila', 0] works shift 0700 - 1500\n['Abigail', 0] works shift 1600 - 2400\n['Elizabeth', 0] works shift 1800 - 0200\n['Avery', 0] works shift 1400 - 2200\n['Mila', 1] works shift 0930 - 1730\n\nDay 23\n['Charlotte', 1] works shift 2200 - 0400\n['Amelia', 0] works shift 1400 - 2200\n['Isabella', 1] works shift 0930 - 1730\n['Evelyn', 1] works shift 0730 - 1530 (FT)\n['Harper', 0] works shift 1200 - 2000\n['Camila', 0] works shift 2000 - 0400\n['Luna', 0] works shift On call (22:00)\n['Ella', 0] works shift 1800 - 0200\n['Elizabeth', 0] works shift 1530 - 2330 (FT)\n['Sofia', 1] works shift 0700 - 1500\n['Emily', 1] works shift 2359 - 0700\n['Avery', 0] works shift 1600 - 2400\n\nDay 24\n['Olivia', 0] works shift 1400 - 2200\n['Charlotte', 1] works shift 2200 - 0400\n['Sophia', 0] works shift 2359 - 0700\n['Amelia', 0] works shift 0730 - 1530 (FT)\n['Isabella', 1] works shift 1800 - 0200\n['Mia', 1] works shift 1200 - 2000\n['Harper', 0] works shift 1600 - 2400\n['Camila', 0] works shift On call (22:00)\n['Gianna', 0] works shift 0700 - 1500\n['Abigail', 0] works shift 2000 - 0400\n['Ella', 0] works shift 1530 - 2330 (FT)\n['Emily', 1] works shift 0930 - 1730\n\nDay 25\n['Olivia', 0] works shift 0730 - 1530 (FT)\n['Ava', 1] works shift 0930 - 1730\n['Charlotte', 1] works shift 1200 - 2000\n['Isabella', 1] works shift 2359 - 0700\n['Mia', 1] works shift 1800 - 0200\n['Harper', 0] works shift 1530 - 2330 (FT)\n['Camila', 0] works shift On call (22:00)\n['Abigail', 0] works shift 1400 - 2200\n['Luna', 0] works shift 0700 - 1500\n['Elizabeth', 0] works shift 2000 - 0400\n['Sofia', 1] works shift 2200 - 0400\n['Emily', 1] works shift 1600 - 2400\n\nDay 26\n['Emma', 1] works shift 2000 - 0400\n['Ava', 1] works shift 0930 - 1730\n['Charlotte', 1] works shift 2200 - 0400\n['Sophia', 0] works shift 1600 - 2400\n['Mia', 1] works shift 1200 - 2000\n['Camila', 0] works shift 1530 - 2330 (FT)\n['Gianna', 0] works shift 0730 - 1530 (FT)\n['Luna', 0] works shift 0700 - 1500\n['Ella', 0] works shift 2359 - 0700\n['Elizabeth', 0] works shift On call (22:00)\n['Sofia', 1] works shift 1400 - 2200\n['Avery', 0] works shift 1800 - 0200\n\nDay 27\n['Emma', 1] works shift 0700 - 1500\n['Ava', 1] works shift 1200 - 2000\n['Sophia', 0] works shift 0730 - 1530 (FT)\n['Amelia', 0] works shift 1600 - 2400\n['Evelyn', 1] works shift 2000 - 0400\n['Gianna', 0] works shift 2200 - 0400\n['Abigail', 0] works shift 0930 - 1730\n['Luna', 0] works shift 1530 - 2330 (FT)\n['Elizabeth', 0] works shift 1400 - 2200\n['Sofia', 1] works shift On call (22:00)\n['Avery', 0] works shift 1800 - 0200\n['Mila', 1] works shift 2359 - 0700\n\nDay 28\n['Emma', 1] works shift 0730 - 1530 (FT)\n['Ava', 1] works shift 0930 - 1730\n['Harper', 0] works shift 1530 - 2330 (FT)\n['Gianna', 0] works shift 1800 - 0200\n['Abigail', 0] works shift 2000 - 0400\n['Luna', 0] works shift 1600 - 2400\n['Ella', 0] works shift On call (22:00)\n['Elizabeth', 0] works shift 0700 - 1500\n['Sofia', 1] works shift 1400 - 2200\n['Emily', 1] works shift 1200 - 2000\n['Avery', 0] works shift 2359 - 0700\n['Mila', 1] works shift 2200 - 0400\n\nDay 29\n['Ava', 1] works shift On call (22:00)\n['Charlotte', 1] works shift 2359 - 0700\n['Amelia', 0] works shift 1530 - 2330 (FT)\n['Isabella', 1] works shift 1800 - 0200\n['Mia', 1] works shift 2000 - 0400\n['Camila', 0] works shift 0730 - 1530 (FT)\n['Gianna', 0] works shift 1600 - 2400\n['Abigail', 0] works shift 1200 - 2000\n['Ella', 0] works shift 0700 - 1500\n['Elizabeth', 0] works shift 2200 - 0400\n['Sofia', 1] works shift 0930 - 1730\n['Mila', 1] works shift 1400 - 2200\n\nDay 30\n['Olivia', 0] works shift 1530 - 2330 (FT)\n['Ava', 1] works shift 0930 - 1730\n['Charlotte', 1] works shift 1600 - 2400\n['Sophia', 0] works shift 1400 - 2200\n['Amelia', 0] works shift 1800 - 0200\n['Isabella', 1] works shift 0700 - 1500\n['Evelyn', 1] works shift 2359 - 0700\n['Gianna', 0] works shift On call (22:00)\n['Abigail', 0] works shift 2000 - 0400\n['Ella', 0] works shift 1200 - 2000\n['Elizabeth', 0] works shift 2200 - 0400\n['Mila', 1] works shift 0730 - 1530 (FT)\n\n"
     ]
    }
   ],
   "source": [
    "# model.Maximize(0)\n",
    "\n",
    "solver = cp_model.CpSolver()\n",
    "solver.Solve(model)\n",
    "\n",
    "for d in days:\n",
    "    print('Day', d)\n",
    "    for m in staff:\n",
    "        for s in shifts:\n",
    "            if solver.Value(x[(m, d, s)]) == 1:\n",
    "              print(staff_list[m], 'works shift', shift_list[s])\n",
    "    print()"
   ]
  }
 ]
}